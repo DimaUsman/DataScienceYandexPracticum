{
 "cells": [
  {
   "cell_type": "markdown",
   "metadata": {},
   "source": [
    "<font color='blue' size=5><b>Комментарий ревьюера</b></font>\n",
    "\n",
    "<font color='blue'>Привет, Дмитрий! Меня зовут Павел Григорьев, и я буду проверять этот проект.<br>Моя основная цель - не указать на совершённые тобой ошибки, а поделиться своим опытом и помочь тебе совершенствоваться как профессионалу.<br>Спасибо за проделанную работу! Предлагаю общаться на «ты».</font>\n",
    "<details>\n",
    "\t<summary><u>Инструкция по организационным моментам (кликабельно)</u></summary>\n",
    "<font color='blue'>Я буду использовать различные цвета, чтобы было удобнее воспринимать мои комментарии:</font>\n",
    "\n",
    "\n",
    "---\n",
    "\n",
    "\n",
    "<font color='blue'>синий текст - просто текст комментария</font>\n",
    "\n",
    "<font color='green'>✔️ и зеленый текст - все отлично</font>\n",
    "\n",
    "<font color='orange'>⚠️ и оранжевый текст - сделано все правильно, однако есть рекомендации, на что стоит обратить внимание</font>\n",
    "\n",
    "<font color='red'>❌ и красный текст - есть недочеты</font>\n",
    "\n",
    "\n",
    "</details>    \n",
    "    </br>\n",
    "<font color='blue'>Пожалуйста, не удаляй мои комментарии в случае возврата работы, так будет проще разобраться, какие были недочеты, а также сразу увидеть исправленное. </font>\n",
    "\n",
    "Ответы на мои комментарии лучше тоже помечать.\n",
    "Например: <font color='purple'><b>Комментарий студента</b></font>\n",
    "\n",
    "<font color='blue'><b>Давай смотреть, что получилось!</b></font>"
   ]
  },
  {
   "cell_type": "markdown",
   "metadata": {},
   "source": [
    "<font color='purple'><b> Комментарий студента     </b></font>\n",
    "    \n",
    "<font color='purple'> Спасибо большое за ревью, Ваши замечанию были очень полезны </font>\n",
    "    \n"
   ]
  },
  {
   "cell_type": "markdown",
   "metadata": {},
   "source": [
    "<font color='blue' size=3><b>Комментарий ревьюера 2</b></font>\n",
    "\n",
    "<font color='blue'>Привет еще раз. Спасибо, за исправления. Оформление комментариев по работе сохраняется. Только обозначим, что это вторая итерация.</font>"
   ]
  },
  {
   "cell_type": "markdown",
   "metadata": {
    "toc": true
   },
   "source": [
    "<h1>Содержание<span class=\"tocSkip\"></span></h1>\n",
    "<div class=\"toc\"><ul class=\"toc-item\"><li><span><a href=\"#Импрортируем-необходимые-библиотеки\" data-toc-modified-id=\"Импрортируем-необходимые-библиотеки-1\"><span class=\"toc-item-num\">1&nbsp;&nbsp;</span>Импрортируем необходимые библиотеки</a></span></li><li><span><a href=\"#Подготовка\" data-toc-modified-id=\"Подготовка-2\"><span class=\"toc-item-num\">2&nbsp;&nbsp;</span>Подготовка</a></span><ul class=\"toc-item\"><li><span><a href=\"#Открываем-файл\" data-toc-modified-id=\"Открываем-файл-2.1\"><span class=\"toc-item-num\">2.1&nbsp;&nbsp;</span>Открываем файл</a></span></li><li><span><a href=\"#Предварительное-изучение-данных\" data-toc-modified-id=\"Предварительное-изучение-данных-2.2\"><span class=\"toc-item-num\">2.2&nbsp;&nbsp;</span>Предварительное изучение данных</a></span></li><li><span><a href=\"#Обработка-данных\" data-toc-modified-id=\"Обработка-данных-2.3\"><span class=\"toc-item-num\">2.3&nbsp;&nbsp;</span>Обработка данных</a></span></li><li><span><a href=\"#Длина-сообщения\" data-toc-modified-id=\"Длина-сообщения-2.4\"><span class=\"toc-item-num\">2.4&nbsp;&nbsp;</span>Длина сообщения</a></span></li><li><span><a href=\"#Эмоциональность-сообщения\" data-toc-modified-id=\"Эмоциональность-сообщения-2.5\"><span class=\"toc-item-num\">2.5&nbsp;&nbsp;</span>Эмоциональность сообщения</a></span></li><li><span><a href=\"#Подготовка-к-обучению\" data-toc-modified-id=\"Подготовка-к-обучению-2.6\"><span class=\"toc-item-num\">2.6&nbsp;&nbsp;</span>Подготовка к обучению</a></span><ul class=\"toc-item\"><li><span><a href=\"#Метод-downsample\" data-toc-modified-id=\"Метод-downsample-2.6.1\"><span class=\"toc-item-num\">2.6.1&nbsp;&nbsp;</span>Метод downsample</a></span></li><li><span><a href=\"#Метод-remove_special_chars\" data-toc-modified-id=\"Метод-remove_special_chars-2.6.2\"><span class=\"toc-item-num\">2.6.2&nbsp;&nbsp;</span>Метод remove_special_chars</a></span></li><li><span><a href=\"#Метод-lemmatize\" data-toc-modified-id=\"Метод-lemmatize-2.6.3\"><span class=\"toc-item-num\">2.6.3&nbsp;&nbsp;</span>Метод lemmatize</a></span></li></ul></li><li><span><a href=\"#Векторизация\" data-toc-modified-id=\"Векторизация-2.7\"><span class=\"toc-item-num\">2.7&nbsp;&nbsp;</span>Векторизация</a></span><ul class=\"toc-item\"><li><span><a href=\"#Метод-tokenize\" data-toc-modified-id=\"Метод-tokenize-2.7.1\"><span class=\"toc-item-num\">2.7.1&nbsp;&nbsp;</span>Метод tokenize</a></span></li></ul></li></ul></li><li><span><a href=\"#Обучения-моделей\" data-toc-modified-id=\"Обучения-моделей-3\"><span class=\"toc-item-num\">3&nbsp;&nbsp;</span>Обучения моделей</a></span><ul class=\"toc-item\"><li><span><a href=\"#LGBM-Classifier\" data-toc-modified-id=\"LGBM-Classifier-3.1\"><span class=\"toc-item-num\">3.1&nbsp;&nbsp;</span>LGBM Classifier</a></span></li><li><span><a href=\"#CatBoostClassifier\" data-toc-modified-id=\"CatBoostClassifier-3.2\"><span class=\"toc-item-num\">3.2&nbsp;&nbsp;</span>CatBoostClassifier</a></span><ul class=\"toc-item\"><li><span><a href=\"#Метод-find_thr\" data-toc-modified-id=\"Метод-find_thr-3.2.1\"><span class=\"toc-item-num\">3.2.1&nbsp;&nbsp;</span>Метод find_thr</a></span></li></ul></li></ul></li><li><span><a href=\"#Заключение\" data-toc-modified-id=\"Заключение-4\"><span class=\"toc-item-num\">4&nbsp;&nbsp;</span>Заключение</a></span></li><li><span><a href=\"#Чек-лист-проверки\" data-toc-modified-id=\"Чек-лист-проверки-5\"><span class=\"toc-item-num\">5&nbsp;&nbsp;</span>Чек-лист проверки</a></span></li></ul></div>"
   ]
  },
  {
   "cell_type": "markdown",
   "metadata": {},
   "source": [
    "# Проект для «Викишоп»"
   ]
  },
  {
   "cell_type": "markdown",
   "metadata": {},
   "source": [
    "Интернет-магазин «Викишоп» запускает новый сервис. Теперь пользователи могут редактировать и дополнять описания товаров, как в вики-сообществах. То есть клиенты предлагают свои правки и комментируют изменения других. Магазину нужен инструмент, который будет искать токсичные комментарии и отправлять их на модерацию. \n",
    "\n",
    "Надо обучить модель классифицировать комментарии на позитивные и негативные. В нашем распоряжении набор данных с разметкой о токсичности правок.\n",
    "\n",
    "Нам требуется построить модель со значением метрики качества *F1* не меньше 0.75. \n",
    "\n",
    "**Инструкция по выполнению проекта**\n",
    "\n",
    "1. Загрузить и подготовь данные.\n",
    "2. Обучить разные модели. \n",
    "3. Сделайть выводы.\n",
    "\n",
    "\n",
    "**Описание данных**\n",
    "\n",
    "Данные находятся в файле `toxic_comments.csv`. Столбец *text* в нём содержит текст комментария, а *toxic* — целевой признак."
   ]
  },
  {
   "cell_type": "markdown",
   "metadata": {},
   "source": [
    "## Импрортируем необходимые библиотеки"
   ]
  },
  {
   "cell_type": "code",
   "execution_count": 1,
   "metadata": {},
   "outputs": [
    {
     "name": "stdout",
     "output_type": "stream",
     "text": [
      "Requirement already satisfied: catboost in /opt/conda/lib/python3.9/site-packages (1.0.3)\n",
      "Requirement already satisfied: scipy in /opt/conda/lib/python3.9/site-packages (from catboost) (1.9.1)\n",
      "Requirement already satisfied: pandas>=0.24.0 in /opt/conda/lib/python3.9/site-packages (from catboost) (1.2.4)\n",
      "Requirement already satisfied: matplotlib in /opt/conda/lib/python3.9/site-packages (from catboost) (3.3.4)\n",
      "Requirement already satisfied: six in /opt/conda/lib/python3.9/site-packages (from catboost) (1.16.0)\n",
      "Requirement already satisfied: numpy>=1.16.0 in /opt/conda/lib/python3.9/site-packages (from catboost) (1.21.1)\n",
      "Requirement already satisfied: plotly in /opt/conda/lib/python3.9/site-packages (from catboost) (5.4.0)\n",
      "Requirement already satisfied: graphviz in /opt/conda/lib/python3.9/site-packages (from catboost) (0.20.1)\n",
      "Requirement already satisfied: python-dateutil>=2.7.3 in /opt/conda/lib/python3.9/site-packages (from pandas>=0.24.0->catboost) (2.8.1)\n",
      "Requirement already satisfied: pytz>=2017.3 in /opt/conda/lib/python3.9/site-packages (from pandas>=0.24.0->catboost) (2021.1)\n",
      "Requirement already satisfied: cycler>=0.10 in /opt/conda/lib/python3.9/site-packages (from matplotlib->catboost) (0.11.0)\n",
      "Requirement already satisfied: pillow>=6.2.0 in /opt/conda/lib/python3.9/site-packages (from matplotlib->catboost) (8.4.0)\n",
      "Requirement already satisfied: pyparsing!=2.0.4,!=2.1.2,!=2.1.6,>=2.0.3 in /opt/conda/lib/python3.9/site-packages (from matplotlib->catboost) (2.4.7)\n",
      "Requirement already satisfied: kiwisolver>=1.0.1 in /opt/conda/lib/python3.9/site-packages (from matplotlib->catboost) (1.4.4)\n",
      "Requirement already satisfied: tenacity>=6.2.0 in /opt/conda/lib/python3.9/site-packages (from plotly->catboost) (8.0.1)\n",
      "Requirement already satisfied: imblearn in /opt/conda/lib/python3.9/site-packages (0.0)\n",
      "Requirement already satisfied: imbalanced-learn in /opt/conda/lib/python3.9/site-packages (from imblearn) (0.10.1)\n",
      "Requirement already satisfied: threadpoolctl>=2.0.0 in /opt/conda/lib/python3.9/site-packages (from imbalanced-learn->imblearn) (3.1.0)\n",
      "Requirement already satisfied: joblib>=1.1.1 in /opt/conda/lib/python3.9/site-packages (from imbalanced-learn->imblearn) (1.2.0)\n",
      "Requirement already satisfied: numpy>=1.17.3 in /opt/conda/lib/python3.9/site-packages (from imbalanced-learn->imblearn) (1.21.1)\n",
      "Requirement already satisfied: scikit-learn>=1.0.2 in /opt/conda/lib/python3.9/site-packages (from imbalanced-learn->imblearn) (1.2.2)\n",
      "Requirement already satisfied: scipy>=1.3.2 in /opt/conda/lib/python3.9/site-packages (from imbalanced-learn->imblearn) (1.9.1)\n",
      "Requirement already satisfied: lightgbm in /opt/conda/lib/python3.9/site-packages (3.3.1)\n",
      "Requirement already satisfied: numpy in /opt/conda/lib/python3.9/site-packages (from lightgbm) (1.21.1)\n",
      "Requirement already satisfied: wheel in /opt/conda/lib/python3.9/site-packages (from lightgbm) (0.36.2)\n",
      "Requirement already satisfied: scikit-learn!=0.22.0 in /opt/conda/lib/python3.9/site-packages (from lightgbm) (1.2.2)\n",
      "Requirement already satisfied: scipy in /opt/conda/lib/python3.9/site-packages (from lightgbm) (1.9.1)\n",
      "Requirement already satisfied: joblib>=1.1.1 in /opt/conda/lib/python3.9/site-packages (from scikit-learn!=0.22.0->lightgbm) (1.2.0)\n",
      "Requirement already satisfied: threadpoolctl>=2.0.0 in /opt/conda/lib/python3.9/site-packages (from scikit-learn!=0.22.0->lightgbm) (3.1.0)\n",
      "Requirement already satisfied: pymystem3 in /opt/conda/lib/python3.9/site-packages (0.2.0)\n",
      "Requirement already satisfied: requests in /opt/conda/lib/python3.9/site-packages (from pymystem3) (2.25.1)\n",
      "Requirement already satisfied: chardet<5,>=3.0.2 in /opt/conda/lib/python3.9/site-packages (from requests->pymystem3) (4.0.0)\n",
      "Requirement already satisfied: idna<3,>=2.5 in /opt/conda/lib/python3.9/site-packages (from requests->pymystem3) (2.10)\n",
      "Requirement already satisfied: urllib3<1.27,>=1.21.1 in /opt/conda/lib/python3.9/site-packages (from requests->pymystem3) (1.26.6)\n",
      "Requirement already satisfied: certifi>=2017.4.17 in /opt/conda/lib/python3.9/site-packages (from requests->pymystem3) (2022.6.15)\n",
      "Requirement already satisfied: spacy in /opt/conda/lib/python3.9/site-packages (3.2.0)\n",
      "Requirement already satisfied: setuptools in /opt/conda/lib/python3.9/site-packages (from spacy) (49.6.0.post20210108)\n",
      "Requirement already satisfied: pathy>=0.3.5 in /opt/conda/lib/python3.9/site-packages (from spacy) (0.6.2)\n",
      "Requirement already satisfied: tqdm<5.0.0,>=4.38.0 in /opt/conda/lib/python3.9/site-packages (from spacy) (4.61.2)\n",
      "Requirement already satisfied: spacy-legacy<3.1.0,>=3.0.8 in /opt/conda/lib/python3.9/site-packages (from spacy) (3.0.10)\n",
      "Requirement already satisfied: typer<0.5.0,>=0.3.0 in /opt/conda/lib/python3.9/site-packages (from spacy) (0.4.2)\n",
      "Requirement already satisfied: cymem<2.1.0,>=2.0.2 in /opt/conda/lib/python3.9/site-packages (from spacy) (2.0.6)\n",
      "Requirement already satisfied: preshed<3.1.0,>=3.0.2 in /opt/conda/lib/python3.9/site-packages (from spacy) (3.0.7)\n",
      "Requirement already satisfied: catalogue<2.1.0,>=2.0.6 in /opt/conda/lib/python3.9/site-packages (from spacy) (2.0.8)\n",
      "Requirement already satisfied: spacy-loggers<2.0.0,>=1.0.0 in /opt/conda/lib/python3.9/site-packages (from spacy) (1.0.3)\n",
      "Requirement already satisfied: thinc<8.1.0,>=8.0.12 in /opt/conda/lib/python3.9/site-packages (from spacy) (8.0.17)\n",
      "Requirement already satisfied: blis<0.8.0,>=0.4.0 in /opt/conda/lib/python3.9/site-packages (from spacy) (0.7.8)\n",
      "Requirement already satisfied: pydantic!=1.8,!=1.8.1,<1.9.0,>=1.7.4 in /opt/conda/lib/python3.9/site-packages (from spacy) (1.8.2)\n",
      "Requirement already satisfied: murmurhash<1.1.0,>=0.28.0 in /opt/conda/lib/python3.9/site-packages (from spacy) (1.0.8)\n",
      "Requirement already satisfied: numpy>=1.15.0 in /opt/conda/lib/python3.9/site-packages (from spacy) (1.21.1)\n",
      "Requirement already satisfied: packaging>=20.0 in /opt/conda/lib/python3.9/site-packages (from spacy) (21.3)\n",
      "Requirement already satisfied: wasabi<1.1.0,>=0.8.1 in /opt/conda/lib/python3.9/site-packages (from spacy) (0.10.1)\n",
      "Requirement already satisfied: langcodes<4.0.0,>=3.2.0 in /opt/conda/lib/python3.9/site-packages (from spacy) (3.3.0)\n",
      "Requirement already satisfied: srsly<3.0.0,>=2.4.1 in /opt/conda/lib/python3.9/site-packages (from spacy) (2.4.4)\n",
      "Requirement already satisfied: requests<3.0.0,>=2.13.0 in /opt/conda/lib/python3.9/site-packages (from spacy) (2.25.1)\n",
      "Requirement already satisfied: jinja2 in /opt/conda/lib/python3.9/site-packages (from spacy) (3.0.1)\n",
      "Requirement already satisfied: pyparsing!=3.0.5,>=2.0.2 in /opt/conda/lib/python3.9/site-packages (from packaging>=20.0->spacy) (2.4.7)\n",
      "Requirement already satisfied: smart-open<6.0.0,>=5.2.1 in /opt/conda/lib/python3.9/site-packages (from pathy>=0.3.5->spacy) (5.2.1)\n",
      "Requirement already satisfied: typing-extensions>=3.7.4.3 in /opt/conda/lib/python3.9/site-packages (from pydantic!=1.8,!=1.8.1,<1.9.0,>=1.7.4->spacy) (4.3.0)\n",
      "Requirement already satisfied: chardet<5,>=3.0.2 in /opt/conda/lib/python3.9/site-packages (from requests<3.0.0,>=2.13.0->spacy) (4.0.0)\n",
      "Requirement already satisfied: idna<3,>=2.5 in /opt/conda/lib/python3.9/site-packages (from requests<3.0.0,>=2.13.0->spacy) (2.10)\n",
      "Requirement already satisfied: urllib3<1.27,>=1.21.1 in /opt/conda/lib/python3.9/site-packages (from requests<3.0.0,>=2.13.0->spacy) (1.26.6)\n",
      "Requirement already satisfied: certifi>=2017.4.17 in /opt/conda/lib/python3.9/site-packages (from requests<3.0.0,>=2.13.0->spacy) (2022.6.15)\n",
      "Requirement already satisfied: click<9.0.0,>=7.1.1 in /opt/conda/lib/python3.9/site-packages (from typer<0.5.0,>=0.3.0->spacy) (8.1.3)\n",
      "Requirement already satisfied: MarkupSafe>=2.0 in /opt/conda/lib/python3.9/site-packages (from jinja2->spacy) (2.1.1)\n",
      "\u001b[38;5;3m⚠ As of spaCy v3.0, shortcuts like 'en' are deprecated. Please use the\n",
      "full pipeline package name 'en_core_web_sm' instead.\u001b[0m\n",
      "Collecting en-core-web-sm==3.2.0\n",
      "  Downloading https://github.com/explosion/spacy-models/releases/download/en_core_web_sm-3.2.0/en_core_web_sm-3.2.0-py3-none-any.whl (13.9 MB)\n",
      "\u001b[K     |████████████████████████████████| 13.9 MB 1.0 MB/s eta 0:00:01\n",
      "\u001b[?25hRequirement already satisfied: spacy<3.3.0,>=3.2.0 in /opt/conda/lib/python3.9/site-packages (from en-core-web-sm==3.2.0) (3.2.0)\n",
      "Requirement already satisfied: catalogue<2.1.0,>=2.0.6 in /opt/conda/lib/python3.9/site-packages (from spacy<3.3.0,>=3.2.0->en-core-web-sm==3.2.0) (2.0.8)\n",
      "Requirement already satisfied: setuptools in /opt/conda/lib/python3.9/site-packages (from spacy<3.3.0,>=3.2.0->en-core-web-sm==3.2.0) (49.6.0.post20210108)\n",
      "Requirement already satisfied: spacy-legacy<3.1.0,>=3.0.8 in /opt/conda/lib/python3.9/site-packages (from spacy<3.3.0,>=3.2.0->en-core-web-sm==3.2.0) (3.0.10)\n",
      "Requirement already satisfied: wasabi<1.1.0,>=0.8.1 in /opt/conda/lib/python3.9/site-packages (from spacy<3.3.0,>=3.2.0->en-core-web-sm==3.2.0) (0.10.1)\n",
      "Requirement already satisfied: murmurhash<1.1.0,>=0.28.0 in /opt/conda/lib/python3.9/site-packages (from spacy<3.3.0,>=3.2.0->en-core-web-sm==3.2.0) (1.0.8)\n",
      "Requirement already satisfied: blis<0.8.0,>=0.4.0 in /opt/conda/lib/python3.9/site-packages (from spacy<3.3.0,>=3.2.0->en-core-web-sm==3.2.0) (0.7.8)\n",
      "Requirement already satisfied: thinc<8.1.0,>=8.0.12 in /opt/conda/lib/python3.9/site-packages (from spacy<3.3.0,>=3.2.0->en-core-web-sm==3.2.0) (8.0.17)\n",
      "Requirement already satisfied: cymem<2.1.0,>=2.0.2 in /opt/conda/lib/python3.9/site-packages (from spacy<3.3.0,>=3.2.0->en-core-web-sm==3.2.0) (2.0.6)\n",
      "Requirement already satisfied: langcodes<4.0.0,>=3.2.0 in /opt/conda/lib/python3.9/site-packages (from spacy<3.3.0,>=3.2.0->en-core-web-sm==3.2.0) (3.3.0)\n",
      "Requirement already satisfied: jinja2 in /opt/conda/lib/python3.9/site-packages (from spacy<3.3.0,>=3.2.0->en-core-web-sm==3.2.0) (3.0.1)\n",
      "Requirement already satisfied: numpy>=1.15.0 in /opt/conda/lib/python3.9/site-packages (from spacy<3.3.0,>=3.2.0->en-core-web-sm==3.2.0) (1.21.1)\n",
      "Requirement already satisfied: pathy>=0.3.5 in /opt/conda/lib/python3.9/site-packages (from spacy<3.3.0,>=3.2.0->en-core-web-sm==3.2.0) (0.6.2)\n",
      "Requirement already satisfied: packaging>=20.0 in /opt/conda/lib/python3.9/site-packages (from spacy<3.3.0,>=3.2.0->en-core-web-sm==3.2.0) (21.3)\n",
      "Requirement already satisfied: spacy-loggers<2.0.0,>=1.0.0 in /opt/conda/lib/python3.9/site-packages (from spacy<3.3.0,>=3.2.0->en-core-web-sm==3.2.0) (1.0.3)\n",
      "Requirement already satisfied: tqdm<5.0.0,>=4.38.0 in /opt/conda/lib/python3.9/site-packages (from spacy<3.3.0,>=3.2.0->en-core-web-sm==3.2.0) (4.61.2)\n",
      "Requirement already satisfied: pydantic!=1.8,!=1.8.1,<1.9.0,>=1.7.4 in /opt/conda/lib/python3.9/site-packages (from spacy<3.3.0,>=3.2.0->en-core-web-sm==3.2.0) (1.8.2)\n",
      "Requirement already satisfied: requests<3.0.0,>=2.13.0 in /opt/conda/lib/python3.9/site-packages (from spacy<3.3.0,>=3.2.0->en-core-web-sm==3.2.0) (2.25.1)\n",
      "Requirement already satisfied: preshed<3.1.0,>=3.0.2 in /opt/conda/lib/python3.9/site-packages (from spacy<3.3.0,>=3.2.0->en-core-web-sm==3.2.0) (3.0.7)\n",
      "Requirement already satisfied: srsly<3.0.0,>=2.4.1 in /opt/conda/lib/python3.9/site-packages (from spacy<3.3.0,>=3.2.0->en-core-web-sm==3.2.0) (2.4.4)\n",
      "Requirement already satisfied: typer<0.5.0,>=0.3.0 in /opt/conda/lib/python3.9/site-packages (from spacy<3.3.0,>=3.2.0->en-core-web-sm==3.2.0) (0.4.2)\n",
      "Requirement already satisfied: pyparsing!=3.0.5,>=2.0.2 in /opt/conda/lib/python3.9/site-packages (from packaging>=20.0->spacy<3.3.0,>=3.2.0->en-core-web-sm==3.2.0) (2.4.7)\n",
      "Requirement already satisfied: smart-open<6.0.0,>=5.2.1 in /opt/conda/lib/python3.9/site-packages (from pathy>=0.3.5->spacy<3.3.0,>=3.2.0->en-core-web-sm==3.2.0) (5.2.1)\n",
      "Requirement already satisfied: typing-extensions>=3.7.4.3 in /opt/conda/lib/python3.9/site-packages (from pydantic!=1.8,!=1.8.1,<1.9.0,>=1.7.4->spacy<3.3.0,>=3.2.0->en-core-web-sm==3.2.0) (4.3.0)\n",
      "Requirement already satisfied: chardet<5,>=3.0.2 in /opt/conda/lib/python3.9/site-packages (from requests<3.0.0,>=2.13.0->spacy<3.3.0,>=3.2.0->en-core-web-sm==3.2.0) (4.0.0)\n",
      "Requirement already satisfied: idna<3,>=2.5 in /opt/conda/lib/python3.9/site-packages (from requests<3.0.0,>=2.13.0->spacy<3.3.0,>=3.2.0->en-core-web-sm==3.2.0) (2.10)\n",
      "Requirement already satisfied: urllib3<1.27,>=1.21.1 in /opt/conda/lib/python3.9/site-packages (from requests<3.0.0,>=2.13.0->spacy<3.3.0,>=3.2.0->en-core-web-sm==3.2.0) (1.26.6)\n",
      "Requirement already satisfied: certifi>=2017.4.17 in /opt/conda/lib/python3.9/site-packages (from requests<3.0.0,>=2.13.0->spacy<3.3.0,>=3.2.0->en-core-web-sm==3.2.0) (2022.6.15)\n",
      "Requirement already satisfied: click<9.0.0,>=7.1.1 in /opt/conda/lib/python3.9/site-packages (from typer<0.5.0,>=0.3.0->spacy<3.3.0,>=3.2.0->en-core-web-sm==3.2.0) (8.1.3)\n",
      "Requirement already satisfied: MarkupSafe>=2.0 in /opt/conda/lib/python3.9/site-packages (from jinja2->spacy<3.3.0,>=3.2.0->en-core-web-sm==3.2.0) (2.1.1)\n",
      "\u001b[38;5;2m✔ Download and installation successful\u001b[0m\n",
      "You can now load the package via spacy.load('en_core_web_sm')\n"
     ]
    }
   ],
   "source": [
    "import sys\n",
    "\n",
    "!{sys.executable} -m pip install catboost\n",
    "!{sys.executable} -m pip install imblearn\n",
    "!{sys.executable} -m pip install lightgbm\n",
    "!{sys.executable} -m pip install pymystem3\n",
    "!{sys.executable} -m pip install spacy\n",
    "\n",
    "!{sys.executable} -m spacy download en\n",
    "\n",
    "import lightgbm as lgb\n",
    "\n",
    "import en_core_web_sm\n",
    "import nltk\n",
    "from nltk.corpus import stopwords as nltk_stopwords\n",
    "import re\n",
    "import spacy\n",
    "import string\n",
    "from pymystem3 import Mystem\n",
    "import html\n",
    "import unicodedata\n",
    "\n",
    "from catboost import CatBoostClassifier\n",
    "from imblearn.under_sampling import EditedNearestNeighbours\n",
    "import matplotlib.pyplot as plt\n",
    "import numpy as np\n",
    "import pandas as pd\n",
    "import seaborn as sns\n",
    "from scipy.sparse import hstack\n",
    "from sklearn.utils.class_weight import compute_class_weight\n",
    "from sklearn.feature_extraction.text import TfidfVectorizer \n",
    "from sklearn.linear_model import  LogisticRegression\n",
    "from sklearn.metrics import f1_score\n",
    "from sklearn.model_selection import (\n",
    "    GridSearchCV,\n",
    "    train_test_split\n",
    ")\n",
    "from sklearn.pipeline import Pipeline, make_pipeline\n",
    "from sklearn.utils import resample, shuffle\n"
   ]
  },
  {
   "cell_type": "markdown",
   "metadata": {},
   "source": [
    "<font color='blue'><b>Комментарий ревьюера: </b></font> ✔️\\\n",
    "<font color='green'> Хорошее оформление импортов! </font>"
   ]
  },
  {
   "cell_type": "markdown",
   "metadata": {},
   "source": [
    "<font color='blue'><b>Комментарий ревьюера: </b></font> ⚠️\\\n",
    "<font color='darkorange'> Неужели всё это понадобится в проекте? Лишние импорты лучше удалить, ведь это ненужные зависимости.</font>"
   ]
  },
  {
   "cell_type": "markdown",
   "metadata": {},
   "source": [
    "<font color='purple'><b> Комментарий студента     </b></font>\n",
    "    \n",
    "<font color='purple'> Удалил ненужные</font>\n",
    "    \n"
   ]
  },
  {
   "cell_type": "markdown",
   "metadata": {},
   "source": [
    "ПС: Я попробовал BERT, но к сожалению его работа бы заняла бы пол недели как минимум в самом удачном случае, при условии ни единой ошибки."
   ]
  },
  {
   "cell_type": "code",
   "execution_count": 2,
   "metadata": {},
   "outputs": [
    {
     "name": "stderr",
     "output_type": "stream",
     "text": [
      "[nltk_data] Downloading package omw-1.4 to /home/jovyan/nltk_data...\n",
      "[nltk_data]   Package omw-1.4 is already up-to-date!\n",
      "[nltk_data] Downloading package wordnet to /home/jovyan/nltk_data...\n",
      "[nltk_data]   Package wordnet is already up-to-date!\n"
     ]
    }
   ],
   "source": [
    "nltk.download('omw-1.4')\n",
    "#nltk.download('stopwords')\n",
    "nltk.download('wordnet')\n",
    "nlp = spacy.load('en_core_web_sm')"
   ]
  },
  {
   "cell_type": "markdown",
   "metadata": {},
   "source": [
    "## Подготовка"
   ]
  },
  {
   "cell_type": "markdown",
   "metadata": {},
   "source": [
    "### Открываем файл"
   ]
  },
  {
   "cell_type": "code",
   "execution_count": 3,
   "metadata": {},
   "outputs": [],
   "source": [
    "try:\n",
    "    data = pd.read_csv('/datasets/toxic_comments.csv')\n",
    "except:\n",
    "    data = pd.read_csv('https://code.s3.yandex.net/datasets/toxic_comments.csv')"
   ]
  },
  {
   "cell_type": "markdown",
   "metadata": {},
   "source": [
    "### Предварительное изучение данных"
   ]
  },
  {
   "cell_type": "code",
   "execution_count": 4,
   "metadata": {},
   "outputs": [],
   "source": [
    "RANDOM_STATE = 12345"
   ]
  },
  {
   "cell_type": "code",
   "execution_count": 5,
   "metadata": {},
   "outputs": [
    {
     "data": {
      "text/html": [
       "<div>\n",
       "<style scoped>\n",
       "    .dataframe tbody tr th:only-of-type {\n",
       "        vertical-align: middle;\n",
       "    }\n",
       "\n",
       "    .dataframe tbody tr th {\n",
       "        vertical-align: top;\n",
       "    }\n",
       "\n",
       "    .dataframe thead th {\n",
       "        text-align: right;\n",
       "    }\n",
       "</style>\n",
       "<table border=\"1\" class=\"dataframe\">\n",
       "  <thead>\n",
       "    <tr style=\"text-align: right;\">\n",
       "      <th></th>\n",
       "      <th>Unnamed: 0</th>\n",
       "      <th>text</th>\n",
       "      <th>toxic</th>\n",
       "    </tr>\n",
       "  </thead>\n",
       "  <tbody>\n",
       "    <tr>\n",
       "      <th>109486</th>\n",
       "      <td>109583</td>\n",
       "      <td>Expert Categorizers  \\n\\nWhy is there no menti...</td>\n",
       "      <td>0</td>\n",
       "    </tr>\n",
       "    <tr>\n",
       "      <th>104980</th>\n",
       "      <td>105077</td>\n",
       "      <td>\"\\n\\n Noise \\n\\nfart*  talk. \"</td>\n",
       "      <td>1</td>\n",
       "    </tr>\n",
       "    <tr>\n",
       "      <th>82166</th>\n",
       "      <td>82244</td>\n",
       "      <td>An indefinite block is appropriate, even for a...</td>\n",
       "      <td>0</td>\n",
       "    </tr>\n",
       "    <tr>\n",
       "      <th>18721</th>\n",
       "      <td>18740</td>\n",
       "      <td>I don't understand why we have a screenshot of...</td>\n",
       "      <td>0</td>\n",
       "    </tr>\n",
       "    <tr>\n",
       "      <th>128178</th>\n",
       "      <td>128310</td>\n",
       "      <td>Hello! Some of the people, places or things yo...</td>\n",
       "      <td>0</td>\n",
       "    </tr>\n",
       "    <tr>\n",
       "      <th>108309</th>\n",
       "      <td>108406</td>\n",
       "      <td>\"::::::::::::::If you read carefully, my comme...</td>\n",
       "      <td>1</td>\n",
       "    </tr>\n",
       "    <tr>\n",
       "      <th>25259</th>\n",
       "      <td>25283</td>\n",
       "      <td>\"\\nDid you make it at WP:AE? ofShalott \"</td>\n",
       "      <td>0</td>\n",
       "    </tr>\n",
       "    <tr>\n",
       "      <th>32655</th>\n",
       "      <td>32695</td>\n",
       "      <td>know as much as he thinks.</td>\n",
       "      <td>0</td>\n",
       "    </tr>\n",
       "    <tr>\n",
       "      <th>31896</th>\n",
       "      <td>31936</td>\n",
       "      <td>Thank you for your comment and willingness to ...</td>\n",
       "      <td>0</td>\n",
       "    </tr>\n",
       "    <tr>\n",
       "      <th>20224</th>\n",
       "      <td>20244</td>\n",
       "      <td>UPDATE 3-12-06\\n\\nHEY YALL IM GOING TO BE GONE...</td>\n",
       "      <td>0</td>\n",
       "    </tr>\n",
       "  </tbody>\n",
       "</table>\n",
       "</div>"
      ],
      "text/plain": [
       "        Unnamed: 0                                               text  toxic\n",
       "109486      109583  Expert Categorizers  \\n\\nWhy is there no menti...      0\n",
       "104980      105077                     \"\\n\\n Noise \\n\\nfart*  talk. \"      1\n",
       "82166        82244  An indefinite block is appropriate, even for a...      0\n",
       "18721        18740  I don't understand why we have a screenshot of...      0\n",
       "128178      128310  Hello! Some of the people, places or things yo...      0\n",
       "108309      108406  \"::::::::::::::If you read carefully, my comme...      1\n",
       "25259        25283           \"\\nDid you make it at WP:AE? ofShalott \"      0\n",
       "32655        32695                         know as much as he thinks.      0\n",
       "31896        31936  Thank you for your comment and willingness to ...      0\n",
       "20224        20244  UPDATE 3-12-06\\n\\nHEY YALL IM GOING TO BE GONE...      0"
      ]
     },
     "execution_count": 5,
     "metadata": {},
     "output_type": "execute_result"
    }
   ],
   "source": [
    "data.sample(10 ,random_state=RANDOM_STATE)"
   ]
  },
  {
   "cell_type": "code",
   "execution_count": 6,
   "metadata": {},
   "outputs": [
    {
     "data": {
      "text/plain": [
       "0    0.898388\n",
       "1    0.101612\n",
       "Name: toxic, dtype: float64"
      ]
     },
     "execution_count": 6,
     "metadata": {},
     "output_type": "execute_result"
    }
   ],
   "source": [
    "data.toxic.value_counts(normalize=True)"
   ]
  },
  {
   "cell_type": "markdown",
   "metadata": {},
   "source": [
    "<font color='blue'><b>Комментарий ревьюера: </b></font> ✔️\\\n",
    "<font color='green'> Мы обнаружили серьёзный дисбаланс при исследовании данных. Как дополнительные материалы, рекомендую статью <a href='https://dyakonov.org/2021/05/27/imbalance/'>Дисбаланс классов</a>, очень классная, как и весь блог Дьяконова. Ещё такой <a href='https://github.com/Dyakonov/ml_hacks/blob/master/book_disbalance_public_v1.ipynb'>ноутбук</a> есть.</font>"
   ]
  },
  {
   "cell_type": "code",
   "execution_count": 7,
   "metadata": {},
   "outputs": [
    {
     "name": "stdout",
     "output_type": "stream",
     "text": [
      "<class 'pandas.core.frame.DataFrame'>\n",
      "RangeIndex: 159292 entries, 0 to 159291\n",
      "Data columns (total 3 columns):\n",
      " #   Column      Non-Null Count   Dtype \n",
      "---  ------      --------------   ----- \n",
      " 0   Unnamed: 0  159292 non-null  int64 \n",
      " 1   text        159292 non-null  object\n",
      " 2   toxic       159292 non-null  int64 \n",
      "dtypes: int64(2), object(1)\n",
      "memory usage: 3.6+ MB\n"
     ]
    }
   ],
   "source": [
    "data.info()"
   ]
  },
  {
   "cell_type": "code",
   "execution_count": 8,
   "metadata": {},
   "outputs": [
    {
     "data": {
      "text/plain": [
       "Unnamed: 0    0\n",
       "text          0\n",
       "toxic         0\n",
       "dtype: int64"
      ]
     },
     "execution_count": 8,
     "metadata": {},
     "output_type": "execute_result"
    }
   ],
   "source": [
    "data.isna().sum()"
   ]
  },
  {
   "cell_type": "code",
   "execution_count": 9,
   "metadata": {},
   "outputs": [
    {
     "data": {
      "text/html": [
       "<div>\n",
       "<style scoped>\n",
       "    .dataframe tbody tr th:only-of-type {\n",
       "        vertical-align: middle;\n",
       "    }\n",
       "\n",
       "    .dataframe tbody tr th {\n",
       "        vertical-align: top;\n",
       "    }\n",
       "\n",
       "    .dataframe thead th {\n",
       "        text-align: right;\n",
       "    }\n",
       "</style>\n",
       "<table border=\"1\" class=\"dataframe\">\n",
       "  <thead>\n",
       "    <tr style=\"text-align: right;\">\n",
       "      <th></th>\n",
       "      <th>Unnamed: 0</th>\n",
       "      <th>text</th>\n",
       "      <th>toxic</th>\n",
       "    </tr>\n",
       "  </thead>\n",
       "  <tbody>\n",
       "    <tr>\n",
       "      <th>152489</th>\n",
       "      <td>152646</td>\n",
       "      <td>I forgot to log on with my username, I correct...</td>\n",
       "      <td>1</td>\n",
       "    </tr>\n",
       "    <tr>\n",
       "      <th>122942</th>\n",
       "      <td>123048</td>\n",
       "      <td>Richard is a gay dancing HOBO&gt;HOBO&gt;HOBO!</td>\n",
       "      <td>1</td>\n",
       "    </tr>\n",
       "    <tr>\n",
       "      <th>26731</th>\n",
       "      <td>26766</td>\n",
       "      <td>Stop removing my edits! \\nWhy do you insist on...</td>\n",
       "      <td>1</td>\n",
       "    </tr>\n",
       "    <tr>\n",
       "      <th>121501</th>\n",
       "      <td>121606</td>\n",
       "      <td>Stop your bullshit. I'll remove that nonsense ...</td>\n",
       "      <td>1</td>\n",
       "    </tr>\n",
       "    <tr>\n",
       "      <th>92382</th>\n",
       "      <td>92474</td>\n",
       "      <td>this is a pile of bull i didnt do any of this!...</td>\n",
       "      <td>1</td>\n",
       "    </tr>\n",
       "    <tr>\n",
       "      <th>86412</th>\n",
       "      <td>86493</td>\n",
       "      <td>I knew you were a dick but a fag too?\\n\\nnice ...</td>\n",
       "      <td>1</td>\n",
       "    </tr>\n",
       "    <tr>\n",
       "      <th>156330</th>\n",
       "      <td>156489</td>\n",
       "      <td>now that he's blocked me so that I can't respo...</td>\n",
       "      <td>1</td>\n",
       "    </tr>\n",
       "    <tr>\n",
       "      <th>136229</th>\n",
       "      <td>136367</td>\n",
       "      <td>Before I accuse you of cringeworthy acts with ...</td>\n",
       "      <td>1</td>\n",
       "    </tr>\n",
       "    <tr>\n",
       "      <th>107627</th>\n",
       "      <td>107724</td>\n",
       "      <td>User:PCHS-NJROTC is a cum gargling d-bag. )</td>\n",
       "      <td>1</td>\n",
       "    </tr>\n",
       "    <tr>\n",
       "      <th>113176</th>\n",
       "      <td>113274</td>\n",
       "      <td>What the Fuck!! People need to know about GOS ...</td>\n",
       "      <td>1</td>\n",
       "    </tr>\n",
       "  </tbody>\n",
       "</table>\n",
       "</div>"
      ],
      "text/plain": [
       "        Unnamed: 0                                               text  toxic\n",
       "152489      152646  I forgot to log on with my username, I correct...      1\n",
       "122942      123048           Richard is a gay dancing HOBO>HOBO>HOBO!      1\n",
       "26731        26766  Stop removing my edits! \\nWhy do you insist on...      1\n",
       "121501      121606  Stop your bullshit. I'll remove that nonsense ...      1\n",
       "92382        92474  this is a pile of bull i didnt do any of this!...      1\n",
       "86412        86493  I knew you were a dick but a fag too?\\n\\nnice ...      1\n",
       "156330      156489  now that he's blocked me so that I can't respo...      1\n",
       "136229      136367  Before I accuse you of cringeworthy acts with ...      1\n",
       "107627      107724        User:PCHS-NJROTC is a cum gargling d-bag. )      1\n",
       "113176      113274  What the Fuck!! People need to know about GOS ...      1"
      ]
     },
     "execution_count": 9,
     "metadata": {},
     "output_type": "execute_result"
    }
   ],
   "source": [
    "data[data['toxic']==1].sample(10, random_state = RANDOM_STATE)"
   ]
  },
  {
   "cell_type": "markdown",
   "metadata": {},
   "source": [
    "**Заключение по предварительному анализу**\n",
    "\n",
    "- Нет пропусков\n",
    "- Относительный большая выборка, что надо будет учитывать при выборе модели. Поскольку медленные могут занять слишком много времени\n",
    "- Неинформативный признак `Unnamed: 0`, который дублирует индекс\n",
    "- Количество токсичных комментариев составляет 10%\n",
    "- Некоторые комментарии написаны полностью капсом, что придает большей эмоциональности сообщению, что может свидетельствовать о их токсичности\n",
    "- Также о эмоциональности сообщения свидетельствует наличия восклицательных знаков\n",
    "- Текст содержит `\\n` символ перехода строки"
   ]
  },
  {
   "cell_type": "markdown",
   "metadata": {},
   "source": [
    "<font color='blue'><b>Комментарий ревьюера: </b></font> ✔️\\\n",
    "<font color='green'>Данные загружены корректно, первичный осмотр проведен.</font>"
   ]
  },
  {
   "cell_type": "markdown",
   "metadata": {},
   "source": [
    "### Обработка данных"
   ]
  },
  {
   "cell_type": "markdown",
   "metadata": {},
   "source": [
    "Убираем ненужный признак"
   ]
  },
  {
   "cell_type": "code",
   "execution_count": 10,
   "metadata": {},
   "outputs": [],
   "source": [
    "data.drop(columns='Unnamed: 0', inplace=True)"
   ]
  },
  {
   "cell_type": "markdown",
   "metadata": {},
   "source": [
    "### Длина сообщения"
   ]
  },
  {
   "cell_type": "markdown",
   "metadata": {},
   "source": [
    "Из знаний предметной области можно предположить, что более короткие сообщения обычно являются токсичными"
   ]
  },
  {
   "cell_type": "code",
   "execution_count": 11,
   "metadata": {},
   "outputs": [],
   "source": [
    "data['text_len'] = data.text.str.len()"
   ]
  },
  {
   "cell_type": "code",
   "execution_count": 12,
   "metadata": {},
   "outputs": [],
   "source": [
    "sns.set(rc={'figure.figsize':(11.7,5.27)})"
   ]
  },
  {
   "cell_type": "code",
   "execution_count": 13,
   "metadata": {},
   "outputs": [
    {
     "data": {
      "image/png": "[encoded data removed]",
      "text/plain": [
       "<Figure size 842.4x379.44 with 1 Axes>"
      ]
     },
     "metadata": {},
     "output_type": "display_data"
    }
   ],
   "source": [
    "ax = sns.histplot(data, x='text_len', hue='toxic', stat='density',  common_norm=False).set(title='Histograms for text length')"
   ]
  },
  {
   "cell_type": "code",
   "execution_count": 14,
   "metadata": {},
   "outputs": [
    {
     "data": {
      "text/html": [
       "<div>\n",
       "<style scoped>\n",
       "    .dataframe tbody tr th:only-of-type {\n",
       "        vertical-align: middle;\n",
       "    }\n",
       "\n",
       "    .dataframe tbody tr th {\n",
       "        vertical-align: top;\n",
       "    }\n",
       "\n",
       "    .dataframe thead th {\n",
       "        text-align: right;\n",
       "    }\n",
       "</style>\n",
       "<table border=\"1\" class=\"dataframe\">\n",
       "  <thead>\n",
       "    <tr style=\"text-align: right;\">\n",
       "      <th></th>\n",
       "      <th>count</th>\n",
       "      <th>mean</th>\n",
       "      <th>std</th>\n",
       "      <th>min</th>\n",
       "      <th>25%</th>\n",
       "      <th>50%</th>\n",
       "      <th>75%</th>\n",
       "      <th>max</th>\n",
       "    </tr>\n",
       "    <tr>\n",
       "      <th>toxic</th>\n",
       "      <th></th>\n",
       "      <th></th>\n",
       "      <th></th>\n",
       "      <th></th>\n",
       "      <th></th>\n",
       "      <th></th>\n",
       "      <th></th>\n",
       "      <th></th>\n",
       "    </tr>\n",
       "  </thead>\n",
       "  <tbody>\n",
       "    <tr>\n",
       "      <th>0</th>\n",
       "      <td>143106.0</td>\n",
       "      <td>403.956585</td>\n",
       "      <td>585.914845</td>\n",
       "      <td>6.0</td>\n",
       "      <td>102.0</td>\n",
       "      <td>216.0</td>\n",
       "      <td>452.00</td>\n",
       "      <td>5000.0</td>\n",
       "    </tr>\n",
       "    <tr>\n",
       "      <th>1</th>\n",
       "      <td>16186.0</td>\n",
       "      <td>302.932411</td>\n",
       "      <td>618.647890</td>\n",
       "      <td>5.0</td>\n",
       "      <td>61.0</td>\n",
       "      <td>128.0</td>\n",
       "      <td>282.75</td>\n",
       "      <td>5000.0</td>\n",
       "    </tr>\n",
       "  </tbody>\n",
       "</table>\n",
       "</div>"
      ],
      "text/plain": [
       "          count        mean         std  min    25%    50%     75%     max\n",
       "toxic                                                                     \n",
       "0      143106.0  403.956585  585.914845  6.0  102.0  216.0  452.00  5000.0\n",
       "1       16186.0  302.932411  618.647890  5.0   61.0  128.0  282.75  5000.0"
      ]
     },
     "execution_count": 14,
     "metadata": {},
     "output_type": "execute_result"
    }
   ],
   "source": [
    "data.groupby('toxic')['text_len'].describe()"
   ]
  },
  {
   "cell_type": "markdown",
   "metadata": {},
   "source": [
    "Да. Как можно заметить, более короткие сообщения чаще оказываются токсчиными. Но также можно заметить небольшой скачёк на 5000 символов (что скорее всего является лимитом для количество символов)"
   ]
  },
  {
   "cell_type": "markdown",
   "metadata": {},
   "source": [
    "<font color='blue'><b>Комментарий ревьюера : </b></font> ✔️\\\n",
    "<font color='green'> 👍</font>"
   ]
  },
  {
   "cell_type": "markdown",
   "metadata": {},
   "source": [
    "### Эмоциональность сообщения"
   ]
  },
  {
   "cell_type": "markdown",
   "metadata": {},
   "source": [
    "Что может отвечать за эмоциональность сообщения:\n",
    "\n",
    "- Частота использования заглавных букв\n",
    "- Количество восклицательных знаков"
   ]
  },
  {
   "cell_type": "code",
   "execution_count": 15,
   "metadata": {},
   "outputs": [],
   "source": [
    "data['capitals_freq'] = data['text'].str.count(r'[A-Z]') / data['text_len']"
   ]
  },
  {
   "cell_type": "code",
   "execution_count": 16,
   "metadata": {},
   "outputs": [
    {
     "data": {
      "image/png": "[encoded data removed]",
      "text/plain": [
       "<Figure size 842.4x379.44 with 1 Axes>"
      ]
     },
     "metadata": {},
     "output_type": "display_data"
    }
   ],
   "source": [
    "ax = sns.histplot(data, x='capitals_freq', hue='toxic', stat='density',  common_norm=False)\\\n",
    ".set(title='Histograms for frequency of capital letters', ylim=(0,25))"
   ]
  },
  {
   "cell_type": "markdown",
   "metadata": {},
   "source": [
    "Как можно заметить, что сообщения с высокой частатой заглавных букв чаще оказываются токсичными"
   ]
  },
  {
   "cell_type": "code",
   "execution_count": 17,
   "metadata": {},
   "outputs": [],
   "source": [
    "data['exclamation_point_count'] = data['text'].str.count('!')"
   ]
  },
  {
   "cell_type": "code",
   "execution_count": 18,
   "metadata": {},
   "outputs": [
    {
     "data": {
      "image/png": "[encoded data removed]",
      "text/plain": [
       "<Figure size 842.4x379.44 with 1 Axes>"
      ]
     },
     "metadata": {},
     "output_type": "display_data"
    }
   ],
   "source": [
    "ax = sns.histplot(data.query('exclamation_point_count < 7'), x='exclamation_point_count', hue='toxic', stat='density',  common_norm=False)\\\n",
    ".set(title='Histograms for amount of exclamations marks')"
   ]
  },
  {
   "cell_type": "markdown",
   "metadata": {},
   "source": [
    "Похоже тут тоже прослеживается связь"
   ]
  },
  {
   "cell_type": "markdown",
   "metadata": {},
   "source": [
    "<font color='blue'><b>Комментарий ревьюера : </b></font> ✔️\\\n",
    "<font color='green'> 👍</font>"
   ]
  },
  {
   "cell_type": "markdown",
   "metadata": {},
   "source": [
    "### Подготовка к обучению"
   ]
  },
  {
   "cell_type": "markdown",
   "metadata": {},
   "source": [
    "#### Метод downsample"
   ]
  },
  {
   "cell_type": "markdown",
   "metadata": {},
   "source": [
    "Хотелось бы устранить неоднородность классов, для это этого воспользуемся принцепам уменьшение выборки"
   ]
  },
  {
   "cell_type": "code",
   "execution_count": 19,
   "metadata": {},
   "outputs": [],
   "source": [
    "def downsample(features, target):\n",
    "    features_exited = features[target == 1]\n",
    "    features_members = features[target == 0]\n",
    "    target_exited = target[target == 1]\n",
    "    target_members = target[target == 0]\n",
    "    features_members = resample(\n",
    "        features_members,\n",
    "        replace=True,\n",
    "        n_samples=len(features_exited),\n",
    "        random_state=RANDOM_STATE,\n",
    "        stratify=target_members\n",
    "    )\n",
    "    target_members = resample(\n",
    "        target_members,\n",
    "        replace=True,\n",
    "        n_samples=len(target_exited),\n",
    "        random_state=RANDOM_STATE,\n",
    "        stratify=target_members\n",
    "    )    \n",
    "    return shuffle(\n",
    "        pd.concat([features_members, features_exited]),\n",
    "        pd.concat([target_members, target_exited]),\n",
    "        random_state=RANDOM_STATE\n",
    "    )"
   ]
  },
  {
   "cell_type": "markdown",
   "metadata": {},
   "source": [
    "<font color='blue'><b>Комментарий ревьюера: </b></font> ⚠️\\\n",
    "<font color='darkorange'> Закомментированный код лучше удалять из проекта.</font>"
   ]
  },
  {
   "cell_type": "markdown",
   "metadata": {},
   "source": [
    "<font color='purple'><b> Комментарий студента     </b></font>\n",
    "    \n",
    "<font color='purple'> Удалил </font>\n",
    "    \n"
   ]
  },
  {
   "cell_type": "markdown",
   "metadata": {},
   "source": [
    "<font color='blue'><b>Комментарий ревьюера 2: </b></font> ✔️\\\n",
    "<font color='green'>👍</font>"
   ]
  },
  {
   "cell_type": "markdown",
   "metadata": {},
   "source": [
    "<font color='blue'><b>Комментарий ревьюера: </b></font> ✔️\\\n",
    "<font color='green'> Очистка сделана верно! Мы оставили только символы Латинского алфавита нижнего регистра.</font> \\\n",
    "<font color='darkorange'>Можно ещё привести символы к одному регистру. Это уменьшит словарь уникальных слов.</font>"
   ]
  },
  {
   "cell_type": "code",
   "execution_count": 20,
   "metadata": {},
   "outputs": [],
   "source": [
    "# data['text'] = data['text'].str.replace('\\n', '. ')\n",
    "#data.text = data.text.str.lower()\n",
    "data.loc[:,'text_len'] = data.loc[:,'text_len'].astype(np.uint16)\n",
    "data.loc[:,'exclamation_point_count'] = data.loc[:,'exclamation_point_count'].astype(np.uint8)\n",
    "data.loc[:,'capitals_freq'] = data.loc[:,'capitals_freq'].astype(np.float16)"
   ]
  },
  {
   "cell_type": "markdown",
   "metadata": {},
   "source": [
    "<font color='purple'><b> Комментарий студента     </b></font>\n",
    "    \n",
    "<font color='purple'> Сделал</font>\n",
    "    \n"
   ]
  },
  {
   "cell_type": "markdown",
   "metadata": {},
   "source": [
    "<font color='blue'><b>Комментарий ревьюера: </b></font> ❌\\\n",
    "<font color='red'><s>Обрати внимание, не все слова приведены к начальным формам. Чтобы корректно обработались все части речи, для WordNetLemmatizer() нужно использовать POS-теги (Part of Speech, части речи). Примеры работы с WordNetLemmatizer(), а также с другими инструментами для лемматизации, можно найти в [этой статье](https://webdevblog.ru/podhody-lemmatizacii-s-primerami-v-python/)</s></font>"
   ]
  },
  {
   "cell_type": "markdown",
   "metadata": {},
   "source": [
    "<font color='blue'><b>Комментарий ревьюера: </b></font>\\\n",
    "<font color='blue'>Присмотрись к spaCy - работает быстрее и кода меньше.</font>"
   ]
  },
  {
   "cell_type": "markdown",
   "metadata": {},
   "source": [
    "<font color='purple'><b> Комментарий студента     </b></font>\n",
    "    \n",
    "<font color='purple'> Изменил </font>\n",
    "    "
   ]
  },
  {
   "cell_type": "markdown",
   "metadata": {},
   "source": [
    "<font color='blue'><b>Комментарий ревьюера 2: </b></font> ✔️\\\n",
    "<font color='green'>👍</font>"
   ]
  },
  {
   "cell_type": "markdown",
   "metadata": {},
   "source": [
    "Далее разделим данные на обучающую и тестовую выборку"
   ]
  },
  {
   "cell_type": "code",
   "execution_count": 21,
   "metadata": {},
   "outputs": [],
   "source": [
    "stopwords = nlp.Defaults.stop_words"
   ]
  },
  {
   "cell_type": "markdown",
   "metadata": {},
   "source": [
    "#### Метод remove_special_chars"
   ]
  },
  {
   "cell_type": "code",
   "execution_count": 22,
   "metadata": {},
   "outputs": [],
   "source": [
    "def remove_special_chars(text):\n",
    "    re1 = re.compile(r'  +')\n",
    "    x1 = text.lower().replace('#39;', \"'\").replace('amp;', '&').replace('#146;', \"'\").replace(\n",
    "        'nbsp;', ' ').replace('#36;', '$').replace('\\\\n', \"\\n\").replace('quot;', \"'\").replace(\n",
    "        '<br />', \"\\n\").replace('\\\\\"', '\"').replace('<unk>', 'u_n').replace(' @.@ ', '.').replace(\n",
    "        ' @-@ ', '-').replace('\\\\', ' \\\\ ')\n",
    "    return re1.sub(' ', html.unescape(x1))\n"
   ]
  },
  {
   "cell_type": "markdown",
   "metadata": {},
   "source": [
    "#### Метод lemmatize"
   ]
  },
  {
   "cell_type": "code",
   "execution_count": 23,
   "metadata": {},
   "outputs": [],
   "source": [
    "def lemmatize(text):\n",
    "    # replace special characters with regular like \"[', . , \\n]\"\n",
    "    text = remove_special_chars(text)\n",
    "    # to lower case\n",
    "    doc = nlp(text)\n",
    "    # Turn it into tokens, ignoring the punctuation\n",
    "    lemmas = [token.lemma_ for token in doc if not token.is_punct]\n",
    "    return ' '.join(lemmas)\n"
   ]
  },
  {
   "cell_type": "code",
   "execution_count": 24,
   "metadata": {},
   "outputs": [],
   "source": [
    "features = data.loc[:,~data.columns.isin(['toxic'])]\n",
    "target = data['toxic']"
   ]
  },
  {
   "cell_type": "code",
   "execution_count": 25,
   "metadata": {},
   "outputs": [
    {
     "data": {
      "text/html": [
       "<div>\n",
       "<style scoped>\n",
       "    .dataframe tbody tr th:only-of-type {\n",
       "        vertical-align: middle;\n",
       "    }\n",
       "\n",
       "    .dataframe tbody tr th {\n",
       "        vertical-align: top;\n",
       "    }\n",
       "\n",
       "    .dataframe thead th {\n",
       "        text-align: right;\n",
       "    }\n",
       "</style>\n",
       "<table border=\"1\" class=\"dataframe\">\n",
       "  <thead>\n",
       "    <tr style=\"text-align: right;\">\n",
       "      <th></th>\n",
       "      <th>text</th>\n",
       "      <th>text_len</th>\n",
       "      <th>capitals_freq</th>\n",
       "      <th>exclamation_point_count</th>\n",
       "    </tr>\n",
       "  </thead>\n",
       "  <tbody>\n",
       "    <tr>\n",
       "      <th>0</th>\n",
       "      <td>explanation \\n why the edit make under my user...</td>\n",
       "      <td>264</td>\n",
       "      <td>0.064392</td>\n",
       "      <td>0</td>\n",
       "    </tr>\n",
       "    <tr>\n",
       "      <th>1</th>\n",
       "      <td>d'aww he match this background colour I be see...</td>\n",
       "      <td>112</td>\n",
       "      <td>0.071411</td>\n",
       "      <td>1</td>\n",
       "    </tr>\n",
       "    <tr>\n",
       "      <th>2</th>\n",
       "      <td>hey man I be really not try to edit war it be ...</td>\n",
       "      <td>233</td>\n",
       "      <td>0.017166</td>\n",
       "      <td>0</td>\n",
       "    </tr>\n",
       "    <tr>\n",
       "      <th>3</th>\n",
       "      <td>\\n more \\n I can not make any real suggestion ...</td>\n",
       "      <td>622</td>\n",
       "      <td>0.017685</td>\n",
       "      <td>0</td>\n",
       "    </tr>\n",
       "    <tr>\n",
       "      <th>4</th>\n",
       "      <td>you sir be my hero any chance you remember wha...</td>\n",
       "      <td>67</td>\n",
       "      <td>0.029846</td>\n",
       "      <td>0</td>\n",
       "    </tr>\n",
       "  </tbody>\n",
       "</table>\n",
       "</div>"
      ],
      "text/plain": [
       "                                                text  text_len  capitals_freq  \\\n",
       "0  explanation \\n why the edit make under my user...       264       0.064392   \n",
       "1  d'aww he match this background colour I be see...       112       0.071411   \n",
       "2  hey man I be really not try to edit war it be ...       233       0.017166   \n",
       "3  \\n more \\n I can not make any real suggestion ...       622       0.017685   \n",
       "4  you sir be my hero any chance you remember wha...        67       0.029846   \n",
       "\n",
       "   exclamation_point_count  \n",
       "0                        0  \n",
       "1                        1  \n",
       "2                        0  \n",
       "3                        0  \n",
       "4                        0  "
      ]
     },
     "execution_count": 25,
     "metadata": {},
     "output_type": "execute_result"
    }
   ],
   "source": [
    "features['text'] = features['text'].apply(lemmatize)\n",
    "features.head()"
   ]
  },
  {
   "cell_type": "markdown",
   "metadata": {},
   "source": [
    "<font color='blue'><b>Комментарий ревьюера 2: </b></font> ✔️\\\n",
    "<font color='green'> Отлично! Теперь видно, что слова в начальных формах.</font>"
   ]
  },
  {
   "cell_type": "code",
   "execution_count": 26,
   "metadata": {},
   "outputs": [],
   "source": [
    "features_train, features_test_valid, target_train, target_test_valid =\\\n",
    "    train_test_split(\n",
    "            features,\n",
    "            target,\n",
    "            train_size=0.6,\n",
    "            stratify=target,\n",
    "            random_state=RANDOM_STATE\n",
    "    )\n",
    "features_valid, features_test, target_valid, target_test = train_test_split(\n",
    "    features_test_valid, target_test_valid, test_size=0.5, random_state=RANDOM_STATE, stratify=target_test_valid)\n"
   ]
  },
  {
   "cell_type": "markdown",
   "metadata": {},
   "source": [
    "<font color='blue'><b>Комментарий ревьюера: </b></font> ❌\\\n",
    "<font color='red'><s> Мы не можем балансировать весь датасет, поскольку в этом случае мы балансируем также тестовую выборку. С такой тестовой выборкой метрика не сможет адекватно оценить работу модели на входящих данных с реальным распределением таргетов.</s> </font>"
   ]
  },
  {
   "cell_type": "markdown",
   "metadata": {},
   "source": [
    "<font color='purple'><b> Комментарий студента     </b></font>\n",
    "    \n",
    "<font color='purple'> Изменил </font>\n",
    "    "
   ]
  },
  {
   "cell_type": "markdown",
   "metadata": {},
   "source": [
    "<font color='blue'><b>Комментарий ревьюера 2: </b></font> ✔️\\\n",
    "<font color='green'>👍</font>"
   ]
  },
  {
   "cell_type": "markdown",
   "metadata": {},
   "source": [
    "<font color='blue'><b>Комментарий ревьюера: </b></font> ✔️\\\n",
    "<font color='green'> Здорово , что у нас есть выборка для тестов!</font>"
   ]
  },
  {
   "cell_type": "markdown",
   "metadata": {},
   "source": [
    "Дальше подготовимся к векторизации нашего текста"
   ]
  },
  {
   "cell_type": "markdown",
   "metadata": {},
   "source": [
    "<font color='blue'><b>Комментарий ревьюера: </b></font> ✔️\\\n",
    "<font color='green'> Классно, что векторизатор был обучен только на тренировочной части данных!</font>"
   ]
  },
  {
   "cell_type": "markdown",
   "metadata": {},
   "source": [
    "<font color='blue'><b>Комментарий ревьюера: </b></font> ⚠️\\\n",
    "<font color='darkorange'> Можно объединить Векторизатор с моделью через Pipeline. Так можно избежать утечек даже при кроссвалидации моделей.<br> Материалы по Pipeline:<br> [О Пайплайн](https://www.helenkapatsa.ru/paiplain/)<br>\n",
    "\n",
    "[Примеры работы с текстами](https://scikit-learn.org/stable/auto_examples/model_selection/plot_grid_search_text_feature_extraction.html)</font>"
   ]
  },
  {
   "cell_type": "markdown",
   "metadata": {},
   "source": [
    "### Векторизация"
   ]
  },
  {
   "cell_type": "markdown",
   "metadata": {},
   "source": [
    "#### Метод tokenize"
   ]
  },
  {
   "cell_type": "code",
   "execution_count": 27,
   "metadata": {},
   "outputs": [],
   "source": [
    "re_tok = re.compile(f'([{string.punctuation}“”¨«»®´·º½¾¿¡§£₤‘’])')\n",
    "def tokenize(s): return re_tok.sub(r' \\1 ', s).split()"
   ]
  },
  {
   "cell_type": "code",
   "execution_count": 28,
   "metadata": {},
   "outputs": [],
   "source": [
    "vec = TfidfVectorizer(\n",
    "    ngram_range=(1,2),\n",
    "    min_df=3,\n",
    "    max_df=0.9,\n",
    "    strip_accents='unicode',\n",
    "    use_idf=1,\n",
    "    tokenizer=tokenize,\n",
    "    smooth_idf=1,\n",
    "    sublinear_tf=1,\n",
    "    max_features=60000,\n",
    "    stop_words=stopwords\n",
    ")"
   ]
  },
  {
   "cell_type": "code",
   "execution_count": 29,
   "metadata": {},
   "outputs": [
    {
     "name": "stderr",
     "output_type": "stream",
     "text": [
      "/opt/conda/lib/python3.9/site-packages/sklearn/utils/_param_validation.py:558: FutureWarning: Passing an int for a boolean parameter is deprecated in version 1.2 and won't be supported anymore in version 1.4.\n",
      "  warnings.warn(\n"
     ]
    },
    {
     "ename": "InvalidParameterError",
     "evalue": "The 'stop_words' parameter of TfidfVectorizer must be a str among {'english'}, an instance of 'list' or None. Got {'beyond', 'a', 'becomes', 'up', 'even', 'when', 'were', 'cannot', 'so', 'sometimes', 'ours', '‘s', 'both', 'anything', 'thus', 'unless', 'ever', 'therein', 'yourself', \"'ll\", 'nevertheless', 'nothing', 'beside', 'latter', 'whole', 'everywhere', 'myself', 'at', 'back', 'give', 'enough', 'its', 'among', 'get', 'move', 'are', 'because', 'therefore', 'upon', 'often', 'beforehand', 'third', 'thereafter', 'most', 'whether', 'by', 'hereupon', 'whereafter', 'eight', 'eleven', 'no', 'thereupon', 'above', 'due', 'elsewhere', 'serious', 'six', 'might', 'various', 'others', 'one', \"'d\", 'seeming', 'rather', 'nine', 'about', 'where', 'almost', '‘d', 'which', 'there', 'now', 'thereby', 'nor', 'quite', 'three', 'since', 'something', 'through', 'noone', 'as', 'bottom', 'each', 'per', '’ll', 'around', 'except', 'these', 'empty', 'afterwards', 'hence', 'part', 'should', 'nobody', 'indeed', 'is', \"n't\", 'ten', 'us', 'done', 'may', 'she', '’d', \"'ve\", 'himself', 'or', 'hereafter', 'seem', 'next', 'an', 'side', 'me', 'twenty', 'first', 'but', 'my', 'otherwise', 'down', 'few', 'several', 'doing', 'seemed', 'hereby', 'does', 'though', 'already', 'meanwhile', 'off', 'see', 'not', 'none', 'whom', 'being', 'less', 'go', 'every', '‘ll', 'however', 'throughout', 'anyway', 'sixty', 'whereupon', 'front', 'four', '’m', 'within', 'n‘t', 'have', 'who', 'whereas', 'very', 'everyone', 'across', 'whenever', '‘m', 'two', 'becoming', 'thence', 'another', 'over', 'show', 'then', 'that', 'many', \"'s\", 'all', 'wherever', 'ourselves', 'into', 'whose', 'either', '’s', 'sometime', 'why', 'what', 'am', 'him', 'whereby', 'mostly', 'behind', 'was', 'his', 'keep', 'can', 'itself', 'whence', 'i', 'further', 'last', 'must', '‘ve', 'whoever', 'under', 'via', 'for', 'he', 'make', 'herein', 'yours', 'formerly', 'really', 'somewhere', 'neither', 'below', 'someone', 'forty', 'only', 'yourselves', 'whither', 'onto', 'just', 'be', 'before', 'her', 'well', 'wherein', 'latterly', 'hers', 'perhaps', 'regarding', 'without', 'with', 'nowhere', 'those', 'toward', 'more', 'could', 'some', 'themselves', 'you', 'will', 'own', 'everything', 'after', 'ca', 'had', 'been', 'same', 'they', 'five', 'please', 'else', 'take', \"'m\", 'always', 'during', 'amongst', 'other', 'mine', 'thru', 'on', 'too', 'besides', 'still', 'although', 'top', 'become', 'together', 'anywhere', 'fifty', 'did', 'herself', 'made', 'moreover', '’re', 'anyone', '’ve', 'from', 'n’t', 'once', 'this', 'fifteen', 'along', 'any', 'we', 'your', 'has', 'became', 'put', 'call', 'somehow', 'used', 'amount', 'would', 'their', 'while', 're', 'between', 'out', 'our', 'name', \"'re\", 'them', 'former', 'to', 'of', 'anyhow', 'the', 'it', 'twelve', 'towards', 'hundred', 'and', 'using', 'alone', 'namely', 'say', 'until', 'also', 'if', 'never', 'how', 'least', 'such', 'seems', 'against', 'much', 'here', 'than', 'do', 'whatever', 'in', 'yet', '‘re', 'full', 'again'} instead.",
     "output_type": "error",
     "traceback": [
      "\u001b[0;31m---------------------------------------------------------------------------\u001b[0m",
      "\u001b[0;31mInvalidParameterError\u001b[0m                     Traceback (most recent call last)",
      "\u001b[0;32m/tmp/ipykernel_170/458578937.py\u001b[0m in \u001b[0;36m<module>\u001b[0;34m\u001b[0m\n\u001b[0;32m----> 1\u001b[0;31m \u001b[0mtrain_word_features\u001b[0m \u001b[0;34m=\u001b[0m \u001b[0mvec\u001b[0m\u001b[0;34m.\u001b[0m\u001b[0mfit_transform\u001b[0m\u001b[0;34m(\u001b[0m\u001b[0mfeatures_train\u001b[0m\u001b[0;34m.\u001b[0m\u001b[0mtext\u001b[0m\u001b[0;34m)\u001b[0m\u001b[0;34m\u001b[0m\u001b[0;34m\u001b[0m\u001b[0m\n\u001b[0m\u001b[1;32m      2\u001b[0m \u001b[0mtest_word_features\u001b[0m \u001b[0;34m=\u001b[0m \u001b[0mvec\u001b[0m\u001b[0;34m.\u001b[0m\u001b[0mtransform\u001b[0m\u001b[0;34m(\u001b[0m\u001b[0mfeatures_test\u001b[0m\u001b[0;34m.\u001b[0m\u001b[0mtext\u001b[0m\u001b[0;34m)\u001b[0m\u001b[0;34m\u001b[0m\u001b[0;34m\u001b[0m\u001b[0m\n\u001b[1;32m      3\u001b[0m \u001b[0mvalid_word_features\u001b[0m \u001b[0;34m=\u001b[0m \u001b[0mvec\u001b[0m\u001b[0;34m.\u001b[0m\u001b[0mtransform\u001b[0m\u001b[0;34m(\u001b[0m\u001b[0mfeatures_valid\u001b[0m\u001b[0;34m.\u001b[0m\u001b[0mtext\u001b[0m\u001b[0;34m)\u001b[0m\u001b[0;34m\u001b[0m\u001b[0;34m\u001b[0m\u001b[0m\n",
      "\u001b[0;32m/opt/conda/lib/python3.9/site-packages/sklearn/feature_extraction/text.py\u001b[0m in \u001b[0;36mfit_transform\u001b[0;34m(self, raw_documents, y)\u001b[0m\n\u001b[1;32m   2131\u001b[0m             \u001b[0msublinear_tf\u001b[0m\u001b[0;34m=\u001b[0m\u001b[0mself\u001b[0m\u001b[0;34m.\u001b[0m\u001b[0msublinear_tf\u001b[0m\u001b[0;34m,\u001b[0m\u001b[0;34m\u001b[0m\u001b[0;34m\u001b[0m\u001b[0m\n\u001b[1;32m   2132\u001b[0m         )\n\u001b[0;32m-> 2133\u001b[0;31m         \u001b[0mX\u001b[0m \u001b[0;34m=\u001b[0m \u001b[0msuper\u001b[0m\u001b[0;34m(\u001b[0m\u001b[0;34m)\u001b[0m\u001b[0;34m.\u001b[0m\u001b[0mfit_transform\u001b[0m\u001b[0;34m(\u001b[0m\u001b[0mraw_documents\u001b[0m\u001b[0;34m)\u001b[0m\u001b[0;34m\u001b[0m\u001b[0;34m\u001b[0m\u001b[0m\n\u001b[0m\u001b[1;32m   2134\u001b[0m         \u001b[0mself\u001b[0m\u001b[0;34m.\u001b[0m\u001b[0m_tfidf\u001b[0m\u001b[0;34m.\u001b[0m\u001b[0mfit\u001b[0m\u001b[0;34m(\u001b[0m\u001b[0mX\u001b[0m\u001b[0;34m)\u001b[0m\u001b[0;34m\u001b[0m\u001b[0;34m\u001b[0m\u001b[0m\n\u001b[1;32m   2135\u001b[0m         \u001b[0;31m# X is already a transformed view of raw_documents so\u001b[0m\u001b[0;34m\u001b[0m\u001b[0;34m\u001b[0m\u001b[0;34m\u001b[0m\u001b[0m\n",
      "\u001b[0;32m/opt/conda/lib/python3.9/site-packages/sklearn/feature_extraction/text.py\u001b[0m in \u001b[0;36mfit_transform\u001b[0;34m(self, raw_documents, y)\u001b[0m\n\u001b[1;32m   1367\u001b[0m             )\n\u001b[1;32m   1368\u001b[0m \u001b[0;34m\u001b[0m\u001b[0m\n\u001b[0;32m-> 1369\u001b[0;31m         \u001b[0mself\u001b[0m\u001b[0;34m.\u001b[0m\u001b[0m_validate_params\u001b[0m\u001b[0;34m(\u001b[0m\u001b[0;34m)\u001b[0m\u001b[0;34m\u001b[0m\u001b[0;34m\u001b[0m\u001b[0m\n\u001b[0m\u001b[1;32m   1370\u001b[0m         \u001b[0mself\u001b[0m\u001b[0;34m.\u001b[0m\u001b[0m_validate_ngram_range\u001b[0m\u001b[0;34m(\u001b[0m\u001b[0;34m)\u001b[0m\u001b[0;34m\u001b[0m\u001b[0;34m\u001b[0m\u001b[0m\n\u001b[1;32m   1371\u001b[0m         \u001b[0mself\u001b[0m\u001b[0;34m.\u001b[0m\u001b[0m_warn_for_unused_params\u001b[0m\u001b[0;34m(\u001b[0m\u001b[0;34m)\u001b[0m\u001b[0;34m\u001b[0m\u001b[0;34m\u001b[0m\u001b[0m\n",
      "\u001b[0;32m/opt/conda/lib/python3.9/site-packages/sklearn/base.py\u001b[0m in \u001b[0;36m_validate_params\u001b[0;34m(self)\u001b[0m\n\u001b[1;32m    598\u001b[0m         \u001b[0maccepted\u001b[0m \u001b[0mconstraints\u001b[0m\u001b[0;34m.\u001b[0m\u001b[0;34m\u001b[0m\u001b[0;34m\u001b[0m\u001b[0m\n\u001b[1;32m    599\u001b[0m         \"\"\"\n\u001b[0;32m--> 600\u001b[0;31m         validate_parameter_constraints(\n\u001b[0m\u001b[1;32m    601\u001b[0m             \u001b[0mself\u001b[0m\u001b[0;34m.\u001b[0m\u001b[0m_parameter_constraints\u001b[0m\u001b[0;34m,\u001b[0m\u001b[0;34m\u001b[0m\u001b[0;34m\u001b[0m\u001b[0m\n\u001b[1;32m    602\u001b[0m             \u001b[0mself\u001b[0m\u001b[0;34m.\u001b[0m\u001b[0mget_params\u001b[0m\u001b[0;34m(\u001b[0m\u001b[0mdeep\u001b[0m\u001b[0;34m=\u001b[0m\u001b[0;32mFalse\u001b[0m\u001b[0;34m)\u001b[0m\u001b[0;34m,\u001b[0m\u001b[0;34m\u001b[0m\u001b[0;34m\u001b[0m\u001b[0m\n",
      "\u001b[0;32m/opt/conda/lib/python3.9/site-packages/sklearn/utils/_param_validation.py\u001b[0m in \u001b[0;36mvalidate_parameter_constraints\u001b[0;34m(parameter_constraints, params, caller_name)\u001b[0m\n\u001b[1;32m     95\u001b[0m                 )\n\u001b[1;32m     96\u001b[0m \u001b[0;34m\u001b[0m\u001b[0m\n\u001b[0;32m---> 97\u001b[0;31m             raise InvalidParameterError(\n\u001b[0m\u001b[1;32m     98\u001b[0m                 \u001b[0;34mf\"The {param_name!r} parameter of {caller_name} must be\"\u001b[0m\u001b[0;34m\u001b[0m\u001b[0;34m\u001b[0m\u001b[0m\n\u001b[1;32m     99\u001b[0m                 \u001b[0;34mf\" {constraints_str}. Got {param_val!r} instead.\"\u001b[0m\u001b[0;34m\u001b[0m\u001b[0;34m\u001b[0m\u001b[0m\n",
      "\u001b[0;31mInvalidParameterError\u001b[0m: The 'stop_words' parameter of TfidfVectorizer must be a str among {'english'}, an instance of 'list' or None. Got {'beyond', 'a', 'becomes', 'up', 'even', 'when', 'were', 'cannot', 'so', 'sometimes', 'ours', '‘s', 'both', 'anything', 'thus', 'unless', 'ever', 'therein', 'yourself', \"'ll\", 'nevertheless', 'nothing', 'beside', 'latter', 'whole', 'everywhere', 'myself', 'at', 'back', 'give', 'enough', 'its', 'among', 'get', 'move', 'are', 'because', 'therefore', 'upon', 'often', 'beforehand', 'third', 'thereafter', 'most', 'whether', 'by', 'hereupon', 'whereafter', 'eight', 'eleven', 'no', 'thereupon', 'above', 'due', 'elsewhere', 'serious', 'six', 'might', 'various', 'others', 'one', \"'d\", 'seeming', 'rather', 'nine', 'about', 'where', 'almost', '‘d', 'which', 'there', 'now', 'thereby', 'nor', 'quite', 'three', 'since', 'something', 'through', 'noone', 'as', 'bottom', 'each', 'per', '’ll', 'around', 'except', 'these', 'empty', 'afterwards', 'hence', 'part', 'should', 'nobody', 'indeed', 'is', \"n't\", 'ten', 'us', 'done', 'may', 'she', '’d', \"'ve\", 'himself', 'or', 'hereafter', 'seem', 'next', 'an', 'side', 'me', 'twenty', 'first', 'but', 'my', 'otherwise', 'down', 'few', 'several', 'doing', 'seemed', 'hereby', 'does', 'though', 'already', 'meanwhile', 'off', 'see', 'not', 'none', 'whom', 'being', 'less', 'go', 'every', '‘ll', 'however', 'throughout', 'anyway', 'sixty', 'whereupon', 'front', 'four', '’m', 'within', 'n‘t', 'have', 'who', 'whereas', 'very', 'everyone', 'across', 'whenever', '‘m', 'two', 'becoming', 'thence', 'another', 'over', 'show', 'then', 'that', 'many', \"'s\", 'all', 'wherever', 'ourselves', 'into', 'whose', 'either', '’s', 'sometime', 'why', 'what', 'am', 'him', 'whereby', 'mostly', 'behind', 'was', 'his', 'keep', 'can', 'itself', 'whence', 'i', 'further', 'last', 'must', '‘ve', 'whoever', 'under', 'via', 'for', 'he', 'make', 'herein', 'yours', 'formerly', 'really', 'somewhere', 'neither', 'below', 'someone', 'forty', 'only', 'yourselves', 'whither', 'onto', 'just', 'be', 'before', 'her', 'well', 'wherein', 'latterly', 'hers', 'perhaps', 'regarding', 'without', 'with', 'nowhere', 'those', 'toward', 'more', 'could', 'some', 'themselves', 'you', 'will', 'own', 'everything', 'after', 'ca', 'had', 'been', 'same', 'they', 'five', 'please', 'else', 'take', \"'m\", 'always', 'during', 'amongst', 'other', 'mine', 'thru', 'on', 'too', 'besides', 'still', 'although', 'top', 'become', 'together', 'anywhere', 'fifty', 'did', 'herself', 'made', 'moreover', '’re', 'anyone', '’ve', 'from', 'n’t', 'once', 'this', 'fifteen', 'along', 'any', 'we', 'your', 'has', 'became', 'put', 'call', 'somehow', 'used', 'amount', 'would', 'their', 'while', 're', 'between', 'out', 'our', 'name', \"'re\", 'them', 'former', 'to', 'of', 'anyhow', 'the', 'it', 'twelve', 'towards', 'hundred', 'and', 'using', 'alone', 'namely', 'say', 'until', 'also', 'if', 'never', 'how', 'least', 'such', 'seems', 'against', 'much', 'here', 'than', 'do', 'whatever', 'in', 'yet', '‘re', 'full', 'again'} instead."
     ]
    }
   ],
   "source": [
    "train_word_features = vec.fit_transform(features_train.text)\n",
    "test_word_features = vec.transform(features_test.text)\n",
    "valid_word_features = vec.transform(features_valid.text)"
   ]
  },
  {
   "cell_type": "markdown",
   "metadata": {},
   "source": [
    "<font color='blue'><b>Комментарий ревьюера 2: </b></font> ❌\\\n",
    "<font color='red'> Ошибка исполнения кода.</font>"
   ]
  },
  {
   "cell_type": "code",
   "execution_count": 31,
   "metadata": {},
   "outputs": [],
   "source": [
    "features_train_ = pd.concat([\n",
    "    pd.DataFrame.sparse.from_spmatrix(train_word_features, index= features_train.index),\n",
    "    features_train.loc[:, features_train.columns!='text']\n",
    "], axis=1)\n",
    "\n",
    "features_test_ = pd.concat([\n",
    "    pd.DataFrame.sparse.from_spmatrix(test_word_features, index= features_test.index),\n",
    "    features_test.loc[:, features_test.columns!='text']\n",
    "], axis=1)\n",
    "\n",
    "features_valid_ = pd.concat([\n",
    "    pd.DataFrame.sparse.from_spmatrix(valid_word_features, index= features_valid.index),\n",
    "    features_valid.loc[:, features_valid.columns!='text']\n",
    "], axis=1)"
   ]
  },
  {
   "cell_type": "code",
   "execution_count": null,
   "metadata": {},
   "outputs": [],
   "source": []
  },
  {
   "cell_type": "markdown",
   "metadata": {},
   "source": [
    "## Обучения моделей"
   ]
  },
  {
   "cell_type": "markdown",
   "metadata": {},
   "source": [
    "### LGBM Classifier"
   ]
  },
  {
   "cell_type": "markdown",
   "metadata": {},
   "source": [
    "В качестве модели обучения возьмём LGBM, поскольку у нас достаточно много данных"
   ]
  },
  {
   "cell_type": "code",
   "execution_count": 53,
   "metadata": {},
   "outputs": [],
   "source": [
    "def lgm_teach_pipeline(features_train, target_train, cv):   \n",
    "    param_grid = {\n",
    "        'vectorizer__ngram_range': [(1,2)],\n",
    "        'vectorizer__min_df': [3],\n",
    "        'vectorizer__max_df': [0.9],\n",
    "        'vectorizer__strip_accents': ['unicode'],\n",
    "        'vectorizer__use_idf': [1],\n",
    "        'vectorizer__smooth_idf': [1],\n",
    "        'vectorizer__sublinear_tf': [1],\n",
    "        'vectorizer__tokenizer' : [tokenize],\n",
    "        'vectorizer__stop_words': [stopwords],\n",
    "        'vectorizer__max_features':[60000],\n",
    "        'lgb__num_leaves': [31],\n",
    "        'lgb__boosting_type': ['gbdt'],\n",
    "        'lgb__metric': ['rmse'],\n",
    "        'lgb__colsample_bytree': [0.9],\n",
    "        'lgb__objective': ['rmse'],\n",
    "        'lgb__subsample': [0.8],\n",
    "        'lgb__learning_rate': [0.05],\n",
    "        'lgb__subsample_freq': [5],\n",
    "        'lgb__verbose': [-1],\n",
    "        'lgb__n_estimators': [100],\n",
    "        'lgb__min_child_samples': [30, 100],\n",
    "        'lgb__random_state': [RANDOM_STATE],\n",
    "        'lgb__class_weight': ['balanced']\n",
    "        }\n",
    "    \n",
    "    model = Pipeline(steps=[\n",
    "            (\"vectorizer\", TfidfVectorizer()),\n",
    "            (\"lgb\", lgb.LGBMClassifier())\n",
    "        ])\n",
    "    gsearch = GridSearchCV(estimator=model, param_grid=param_grid, cv=cv, scoring='f1_micro')\n",
    "    lgb_model = gsearch.fit(features_train, target_train)\n",
    "    return lgb_model"
   ]
  },
  {
   "cell_type": "markdown",
   "metadata": {},
   "source": [
    "<font color='blue'><b>Комментарий ревьюера 2: </b></font> ✔️\\\n",
    "<font color='green'>Классно, что используешь pipeline. Так можно избежать утечек даже при кроссвалидации моделей. \\\n",
    "С Pipeline можно подбирать гиперпараметры не только к классификатору, но и к предобработчикам.</font>"
   ]
  },
  {
   "cell_type": "markdown",
   "metadata": {},
   "source": [
    "<font color='blue'><b>Комментарий ревьюера 2: </b></font> ⚠️\\\n",
    "<font color='darkorange'> Метрика `f1_micro'` применяется к мультиклассовой классификации и в нашем случае нужнf простая `f1'`\\\n",
    "Взвешенная метрика не улучшает модель, а даёт смещённую оценку поскольку при бинарной классификации даёт оценку близкую к `accuracy`.</font>"
   ]
  },
  {
   "cell_type": "code",
   "execution_count": 33,
   "metadata": {},
   "outputs": [],
   "source": [
    "def lgm_teach(features_train, target_train, cv):   \n",
    "    param_grid = {\n",
    "        'num_leaves': [31],\n",
    "        'boosting_type': ['gbdt'],\n",
    "        'metric': ['rmse'],\n",
    "        'colsample_bytree': [0.9],\n",
    "        'objective': ['rmse'],\n",
    "        'subsample': [0.8],\n",
    "        'learning_rate': [0.05],\n",
    "        'subsample_freq': [5],\n",
    "        'verbose': [-1],\n",
    "        'n_estimators': [100],\n",
    "        'min_child_samples': [30, 50]\n",
    "        }\n",
    "    model = lgb.LGBMClassifier(random_state=RANDOM_STATE)\n",
    "    gsearch = GridSearchCV(estimator=model, param_grid=param_grid, cv=cv, scoring='f1_micro')\n",
    "    lgb_model = gsearch.fit(features_train, target_train)\n",
    "    return lgb_model"
   ]
  },
  {
   "cell_type": "code",
   "execution_count": 54,
   "metadata": {},
   "outputs": [
    {
     "name": "stderr",
     "output_type": "stream",
     "text": [
      "C:\\ProgramData\\Anaconda3\\lib\\site-packages\\sklearn\\feature_extraction\\text.py:396: UserWarning: Your stop_words may be inconsistent with your preprocessing. Tokenizing the stop words generated tokens [\"'\", 'd', 'll', 'm', 'n', 's', 't', 've', '‘', '’'] not in stop_words.\n",
      "  warnings.warn(\n",
      "C:\\ProgramData\\Anaconda3\\lib\\site-packages\\sklearn\\feature_extraction\\text.py:396: UserWarning: Your stop_words may be inconsistent with your preprocessing. Tokenizing the stop words generated tokens [\"'\", 'd', 'll', 'm', 'n', 's', 't', 've', '‘', '’'] not in stop_words.\n",
      "  warnings.warn(\n",
      "C:\\ProgramData\\Anaconda3\\lib\\site-packages\\sklearn\\feature_extraction\\text.py:396: UserWarning: Your stop_words may be inconsistent with your preprocessing. Tokenizing the stop words generated tokens [\"'\", 'd', 'll', 'm', 'n', 's', 't', 've', '‘', '’'] not in stop_words.\n",
      "  warnings.warn(\n",
      "C:\\ProgramData\\Anaconda3\\lib\\site-packages\\sklearn\\feature_extraction\\text.py:396: UserWarning: Your stop_words may be inconsistent with your preprocessing. Tokenizing the stop words generated tokens [\"'\", 'd', 'll', 'm', 'n', 's', 't', 've', '‘', '’'] not in stop_words.\n",
      "  warnings.warn(\n",
      "C:\\ProgramData\\Anaconda3\\lib\\site-packages\\sklearn\\feature_extraction\\text.py:396: UserWarning: Your stop_words may be inconsistent with your preprocessing. Tokenizing the stop words generated tokens [\"'\", 'd', 'll', 'm', 'n', 's', 't', 've', '‘', '’'] not in stop_words.\n",
      "  warnings.warn(\n",
      "C:\\ProgramData\\Anaconda3\\lib\\site-packages\\sklearn\\feature_extraction\\text.py:396: UserWarning: Your stop_words may be inconsistent with your preprocessing. Tokenizing the stop words generated tokens [\"'\", 'd', 'll', 'm', 'n', 's', 't', 've', '‘', '’'] not in stop_words.\n",
      "  warnings.warn(\n",
      "C:\\ProgramData\\Anaconda3\\lib\\site-packages\\sklearn\\feature_extraction\\text.py:396: UserWarning: Your stop_words may be inconsistent with your preprocessing. Tokenizing the stop words generated tokens [\"'\", 'd', 'll', 'm', 'n', 's', 't', 've', '‘', '’'] not in stop_words.\n",
      "  warnings.warn(\n"
     ]
    }
   ],
   "source": [
    "model = lgm_teach_pipeline(features_train['text'], target_train, 3)"
   ]
  },
  {
   "cell_type": "markdown",
   "metadata": {},
   "source": [
    "<font color='blue'><b>Комментарий ревьюера: </b></font> ⚠️\\\n",
    "<font color='darkorange'> Нужна оценка модели. После GridSearchCV, оценку модели с лучшими параметрами можно получить как `lgb_model_score_`</font>"
   ]
  },
  {
   "cell_type": "markdown",
   "metadata": {},
   "source": [
    "### CatBoostClassifier"
   ]
  },
  {
   "cell_type": "code",
   "execution_count": 40,
   "metadata": {
    "collapsed": true
   },
   "outputs": [
    {
     "name": "stdout",
     "output_type": "stream",
     "text": [
      "0:\tlearn: 0.6616075\ttest: 0.6615491\tbest: 0.6615491 (0)\ttotal: 1s\tremaining: 3m 19s\n",
      "1:\tlearn: 0.6313027\ttest: 0.6312196\tbest: 0.6312196 (1)\ttotal: 1.77s\tremaining: 2m 55s\n",
      "2:\tlearn: 0.6045908\ttest: 0.6043802\tbest: 0.6043802 (2)\ttotal: 2.62s\tremaining: 2m 52s\n",
      "3:\tlearn: 0.5798225\ttest: 0.5795960\tbest: 0.5795960 (3)\ttotal: 3.42s\tremaining: 2m 47s\n",
      "4:\tlearn: 0.5563737\ttest: 0.5560448\tbest: 0.5560448 (4)\ttotal: 4.2s\tremaining: 2m 43s\n",
      "5:\tlearn: 0.5342400\ttest: 0.5339387\tbest: 0.5339387 (5)\ttotal: 5.19s\tremaining: 2m 47s\n",
      "6:\tlearn: 0.5142371\ttest: 0.5138938\tbest: 0.5138938 (6)\ttotal: 6.13s\tremaining: 2m 49s\n",
      "7:\tlearn: 0.4954048\ttest: 0.4950260\tbest: 0.4950260 (7)\ttotal: 7.03s\tremaining: 2m 48s\n",
      "8:\tlearn: 0.4777410\ttest: 0.4773718\tbest: 0.4773718 (8)\ttotal: 8.02s\tremaining: 2m 50s\n",
      "9:\tlearn: 0.4610021\ttest: 0.4605696\tbest: 0.4605696 (9)\ttotal: 8.9s\tremaining: 2m 49s\n",
      "10:\tlearn: 0.4456943\ttest: 0.4452484\tbest: 0.4452484 (10)\ttotal: 9.79s\tremaining: 2m 48s\n",
      "11:\tlearn: 0.4323937\ttest: 0.4319557\tbest: 0.4319557 (11)\ttotal: 10.7s\tremaining: 2m 47s\n",
      "12:\tlearn: 0.4191662\ttest: 0.4186887\tbest: 0.4186887 (12)\ttotal: 11.5s\tremaining: 2m 45s\n",
      "13:\tlearn: 0.4067810\ttest: 0.4063172\tbest: 0.4063172 (13)\ttotal: 12.4s\tremaining: 2m 44s\n",
      "14:\tlearn: 0.3953331\ttest: 0.3948554\tbest: 0.3948554 (14)\ttotal: 13.2s\tremaining: 2m 43s\n",
      "15:\tlearn: 0.3847181\ttest: 0.3842530\tbest: 0.3842530 (15)\ttotal: 14.1s\tremaining: 2m 42s\n",
      "16:\tlearn: 0.3749229\ttest: 0.3745498\tbest: 0.3745498 (16)\ttotal: 15s\tremaining: 2m 41s\n",
      "17:\tlearn: 0.3661793\ttest: 0.3658225\tbest: 0.3658225 (17)\ttotal: 16s\tremaining: 2m 42s\n",
      "18:\tlearn: 0.3579833\ttest: 0.3577295\tbest: 0.3577295 (18)\ttotal: 17s\tremaining: 2m 41s\n",
      "19:\tlearn: 0.3501858\ttest: 0.3499851\tbest: 0.3499851 (19)\ttotal: 17.9s\tremaining: 2m 40s\n",
      "20:\tlearn: 0.3426540\ttest: 0.3423919\tbest: 0.3423919 (20)\ttotal: 18.7s\tremaining: 2m 39s\n",
      "21:\tlearn: 0.3359586\ttest: 0.3357186\tbest: 0.3357186 (21)\ttotal: 19.5s\tremaining: 2m 38s\n",
      "22:\tlearn: 0.3293309\ttest: 0.3291042\tbest: 0.3291042 (22)\ttotal: 20.3s\tremaining: 2m 36s\n",
      "23:\tlearn: 0.3233954\ttest: 0.3231516\tbest: 0.3231516 (23)\ttotal: 21.1s\tremaining: 2m 34s\n",
      "24:\tlearn: 0.3177136\ttest: 0.3174404\tbest: 0.3174404 (24)\ttotal: 21.9s\tremaining: 2m 32s\n",
      "25:\tlearn: 0.3124141\ttest: 0.3121346\tbest: 0.3121346 (25)\ttotal: 22.6s\tremaining: 2m 31s\n",
      "26:\tlearn: 0.3074601\ttest: 0.3071859\tbest: 0.3071859 (26)\ttotal: 23.4s\tremaining: 2m 29s\n",
      "27:\tlearn: 0.3029648\ttest: 0.3028070\tbest: 0.3028070 (27)\ttotal: 24.1s\tremaining: 2m 28s\n",
      "28:\tlearn: 0.2986671\ttest: 0.2984610\tbest: 0.2984610 (28)\ttotal: 24.9s\tremaining: 2m 26s\n",
      "29:\tlearn: 0.2946894\ttest: 0.2945903\tbest: 0.2945903 (29)\ttotal: 25.7s\tremaining: 2m 25s\n",
      "30:\tlearn: 0.2908547\ttest: 0.2907547\tbest: 0.2907547 (30)\ttotal: 26.5s\tremaining: 2m 24s\n",
      "31:\tlearn: 0.2873557\ttest: 0.2872831\tbest: 0.2872831 (31)\ttotal: 27.4s\tremaining: 2m 24s\n",
      "32:\tlearn: 0.2838851\ttest: 0.2838436\tbest: 0.2838436 (32)\ttotal: 28.3s\tremaining: 2m 23s\n",
      "33:\tlearn: 0.2808364\ttest: 0.2807776\tbest: 0.2807776 (33)\ttotal: 29.1s\tremaining: 2m 22s\n",
      "34:\tlearn: 0.2776622\ttest: 0.2776050\tbest: 0.2776050 (34)\ttotal: 29.9s\tremaining: 2m 21s\n",
      "35:\tlearn: 0.2747911\ttest: 0.2747441\tbest: 0.2747441 (35)\ttotal: 30.7s\tremaining: 2m 19s\n",
      "36:\tlearn: 0.2721038\ttest: 0.2721024\tbest: 0.2721024 (36)\ttotal: 31.6s\tremaining: 2m 19s\n",
      "37:\tlearn: 0.2694119\ttest: 0.2694793\tbest: 0.2694793 (37)\ttotal: 32.4s\tremaining: 2m 18s\n",
      "38:\tlearn: 0.2671193\ttest: 0.2671942\tbest: 0.2671942 (38)\ttotal: 33.3s\tremaining: 2m 17s\n",
      "39:\tlearn: 0.2647922\ttest: 0.2649158\tbest: 0.2649158 (39)\ttotal: 34.1s\tremaining: 2m 16s\n",
      "40:\tlearn: 0.2626083\ttest: 0.2627499\tbest: 0.2627499 (40)\ttotal: 34.9s\tremaining: 2m 15s\n",
      "41:\tlearn: 0.2605751\ttest: 0.2607123\tbest: 0.2607123 (41)\ttotal: 35.6s\tremaining: 2m 14s\n",
      "42:\tlearn: 0.2585170\ttest: 0.2587248\tbest: 0.2587248 (42)\ttotal: 36.4s\tremaining: 2m 12s\n",
      "43:\tlearn: 0.2566854\ttest: 0.2569661\tbest: 0.2569661 (43)\ttotal: 37.1s\tremaining: 2m 11s\n",
      "44:\tlearn: 0.2548963\ttest: 0.2551924\tbest: 0.2551924 (44)\ttotal: 37.9s\tremaining: 2m 10s\n",
      "45:\tlearn: 0.2531484\ttest: 0.2534375\tbest: 0.2534375 (45)\ttotal: 38.6s\tremaining: 2m 9s\n",
      "46:\tlearn: 0.2513001\ttest: 0.2516546\tbest: 0.2516546 (46)\ttotal: 39.4s\tremaining: 2m 8s\n",
      "47:\tlearn: 0.2498092\ttest: 0.2501535\tbest: 0.2501535 (47)\ttotal: 40.2s\tremaining: 2m 7s\n",
      "48:\tlearn: 0.2483651\ttest: 0.2487335\tbest: 0.2487335 (48)\ttotal: 41.1s\tremaining: 2m 6s\n",
      "49:\tlearn: 0.2467635\ttest: 0.2471834\tbest: 0.2471834 (49)\ttotal: 41.9s\tremaining: 2m 5s\n",
      "50:\tlearn: 0.2453821\ttest: 0.2458420\tbest: 0.2458420 (50)\ttotal: 42.8s\tremaining: 2m 5s\n",
      "51:\tlearn: 0.2441594\ttest: 0.2446739\tbest: 0.2446739 (51)\ttotal: 43.6s\tremaining: 2m 4s\n",
      "52:\tlearn: 0.2426218\ttest: 0.2431937\tbest: 0.2431937 (52)\ttotal: 44.6s\tremaining: 2m 3s\n",
      "53:\tlearn: 0.2413863\ttest: 0.2419646\tbest: 0.2419646 (53)\ttotal: 45.5s\tremaining: 2m 3s\n",
      "54:\tlearn: 0.2402838\ttest: 0.2408876\tbest: 0.2408876 (54)\ttotal: 46.4s\tremaining: 2m 2s\n",
      "55:\tlearn: 0.2391470\ttest: 0.2397793\tbest: 0.2397793 (55)\ttotal: 47.4s\tremaining: 2m 1s\n",
      "56:\tlearn: 0.2380342\ttest: 0.2386777\tbest: 0.2386777 (56)\ttotal: 48.2s\tremaining: 2m\n",
      "57:\tlearn: 0.2368718\ttest: 0.2375527\tbest: 0.2375527 (57)\ttotal: 49s\tremaining: 2m\n",
      "58:\tlearn: 0.2359403\ttest: 0.2366506\tbest: 0.2366506 (58)\ttotal: 49.8s\tremaining: 1m 59s\n",
      "59:\tlearn: 0.2349710\ttest: 0.2357123\tbest: 0.2357123 (59)\ttotal: 50.6s\tremaining: 1m 58s\n",
      "60:\tlearn: 0.2339749\ttest: 0.2347051\tbest: 0.2347051 (60)\ttotal: 51.4s\tremaining: 1m 57s\n",
      "61:\tlearn: 0.2331478\ttest: 0.2338007\tbest: 0.2338007 (61)\ttotal: 52.2s\tremaining: 1m 56s\n",
      "62:\tlearn: 0.2323608\ttest: 0.2330466\tbest: 0.2330466 (62)\ttotal: 53s\tremaining: 1m 55s\n",
      "63:\tlearn: 0.2315630\ttest: 0.2323059\tbest: 0.2323059 (63)\ttotal: 53.9s\tremaining: 1m 54s\n",
      "64:\tlearn: 0.2307299\ttest: 0.2315575\tbest: 0.2315575 (64)\ttotal: 54.8s\tremaining: 1m 53s\n",
      "65:\tlearn: 0.2299593\ttest: 0.2308099\tbest: 0.2308099 (65)\ttotal: 55.7s\tremaining: 1m 53s\n",
      "66:\tlearn: 0.2290978\ttest: 0.2300204\tbest: 0.2300204 (66)\ttotal: 56.5s\tremaining: 1m 52s\n",
      "67:\tlearn: 0.2278903\ttest: 0.2288655\tbest: 0.2288655 (67)\ttotal: 57.4s\tremaining: 1m 51s\n",
      "68:\tlearn: 0.2271506\ttest: 0.2281824\tbest: 0.2281824 (68)\ttotal: 58.2s\tremaining: 1m 50s\n",
      "69:\tlearn: 0.2263821\ttest: 0.2274160\tbest: 0.2274160 (69)\ttotal: 59s\tremaining: 1m 49s\n",
      "70:\tlearn: 0.2255949\ttest: 0.2266244\tbest: 0.2266244 (70)\ttotal: 59.9s\tremaining: 1m 48s\n",
      "71:\tlearn: 0.2250000\ttest: 0.2260346\tbest: 0.2260346 (71)\ttotal: 1m\tremaining: 1m 47s\n",
      "72:\tlearn: 0.2242819\ttest: 0.2253735\tbest: 0.2253735 (72)\ttotal: 1m 1s\tremaining: 1m 47s\n",
      "73:\tlearn: 0.2236187\ttest: 0.2247449\tbest: 0.2247449 (73)\ttotal: 1m 2s\tremaining: 1m 46s\n",
      "74:\tlearn: 0.2230338\ttest: 0.2242499\tbest: 0.2242499 (74)\ttotal: 1m 3s\tremaining: 1m 45s\n",
      "75:\tlearn: 0.2224372\ttest: 0.2237155\tbest: 0.2237155 (75)\ttotal: 1m 4s\tremaining: 1m 44s\n",
      "76:\tlearn: 0.2218705\ttest: 0.2231525\tbest: 0.2231525 (76)\ttotal: 1m 5s\tremaining: 1m 44s\n",
      "77:\tlearn: 0.2211332\ttest: 0.2224394\tbest: 0.2224394 (77)\ttotal: 1m 5s\tremaining: 1m 43s\n",
      "78:\tlearn: 0.2206237\ttest: 0.2218759\tbest: 0.2218759 (78)\ttotal: 1m 6s\tremaining: 1m 42s\n",
      "79:\tlearn: 0.2198447\ttest: 0.2210762\tbest: 0.2210762 (79)\ttotal: 1m 7s\tremaining: 1m 41s\n",
      "80:\tlearn: 0.2194035\ttest: 0.2206611\tbest: 0.2206611 (80)\ttotal: 1m 8s\tremaining: 1m 40s\n",
      "81:\tlearn: 0.2188818\ttest: 0.2201884\tbest: 0.2201884 (81)\ttotal: 1m 9s\tremaining: 1m 39s\n",
      "82:\tlearn: 0.2184417\ttest: 0.2197493\tbest: 0.2197493 (82)\ttotal: 1m 10s\tremaining: 1m 38s\n",
      "83:\tlearn: 0.2180372\ttest: 0.2193665\tbest: 0.2193665 (83)\ttotal: 1m 10s\tremaining: 1m 37s\n",
      "84:\tlearn: 0.2175547\ttest: 0.2189550\tbest: 0.2189550 (84)\ttotal: 1m 11s\tremaining: 1m 36s\n",
      "85:\tlearn: 0.2169471\ttest: 0.2183424\tbest: 0.2183424 (85)\ttotal: 1m 12s\tremaining: 1m 35s\n",
      "86:\tlearn: 0.2163958\ttest: 0.2178076\tbest: 0.2178076 (86)\ttotal: 1m 12s\tremaining: 1m 34s\n",
      "87:\tlearn: 0.2160086\ttest: 0.2174211\tbest: 0.2174211 (87)\ttotal: 1m 13s\tremaining: 1m 33s\n",
      "88:\tlearn: 0.2151525\ttest: 0.2166603\tbest: 0.2166603 (88)\ttotal: 1m 14s\tremaining: 1m 32s\n",
      "89:\tlearn: 0.2147873\ttest: 0.2163162\tbest: 0.2163162 (89)\ttotal: 1m 15s\tremaining: 1m 31s\n",
      "90:\tlearn: 0.2143474\ttest: 0.2158487\tbest: 0.2158487 (90)\ttotal: 1m 15s\tremaining: 1m 30s\n",
      "91:\tlearn: 0.2139302\ttest: 0.2154793\tbest: 0.2154793 (91)\ttotal: 1m 16s\tremaining: 1m 29s\n",
      "92:\tlearn: 0.2135162\ttest: 0.2150990\tbest: 0.2150990 (92)\ttotal: 1m 17s\tremaining: 1m 28s\n",
      "93:\tlearn: 0.2130451\ttest: 0.2146316\tbest: 0.2146316 (93)\ttotal: 1m 17s\tremaining: 1m 27s\n",
      "94:\tlearn: 0.2125498\ttest: 0.2141538\tbest: 0.2141538 (94)\ttotal: 1m 18s\tremaining: 1m 26s\n",
      "95:\tlearn: 0.2121801\ttest: 0.2138117\tbest: 0.2138117 (95)\ttotal: 1m 19s\tremaining: 1m 26s\n",
      "96:\tlearn: 0.2118189\ttest: 0.2134901\tbest: 0.2134901 (96)\ttotal: 1m 20s\tremaining: 1m 25s\n",
      "97:\tlearn: 0.2113737\ttest: 0.2130003\tbest: 0.2130003 (97)\ttotal: 1m 21s\tremaining: 1m 24s\n",
      "98:\tlearn: 0.2109796\ttest: 0.2125859\tbest: 0.2125859 (98)\ttotal: 1m 21s\tremaining: 1m 23s\n",
      "99:\tlearn: 0.2106072\ttest: 0.2122271\tbest: 0.2122271 (99)\ttotal: 1m 22s\tremaining: 1m 22s\n",
      "100:\tlearn: 0.2103037\ttest: 0.2119328\tbest: 0.2119328 (100)\ttotal: 1m 23s\tremaining: 1m 21s\n",
      "101:\tlearn: 0.2098731\ttest: 0.2115268\tbest: 0.2115268 (101)\ttotal: 1m 24s\tremaining: 1m 20s\n",
      "102:\tlearn: 0.2093892\ttest: 0.2110014\tbest: 0.2110014 (102)\ttotal: 1m 24s\tremaining: 1m 19s\n",
      "103:\tlearn: 0.2090427\ttest: 0.2106572\tbest: 0.2106572 (103)\ttotal: 1m 25s\tremaining: 1m 18s\n",
      "104:\tlearn: 0.2087080\ttest: 0.2104186\tbest: 0.2104186 (104)\ttotal: 1m 26s\tremaining: 1m 17s\n",
      "105:\tlearn: 0.2084019\ttest: 0.2101236\tbest: 0.2101236 (105)\ttotal: 1m 26s\tremaining: 1m 17s\n",
      "106:\tlearn: 0.2080342\ttest: 0.2097774\tbest: 0.2097774 (106)\ttotal: 1m 27s\tremaining: 1m 16s\n",
      "107:\tlearn: 0.2076581\ttest: 0.2094449\tbest: 0.2094449 (107)\ttotal: 1m 28s\tremaining: 1m 15s\n",
      "108:\tlearn: 0.2073068\ttest: 0.2090668\tbest: 0.2090668 (108)\ttotal: 1m 29s\tremaining: 1m 14s\n",
      "109:\tlearn: 0.2069624\ttest: 0.2087632\tbest: 0.2087632 (109)\ttotal: 1m 29s\tremaining: 1m 13s\n",
      "110:\tlearn: 0.2066815\ttest: 0.2084388\tbest: 0.2084388 (110)\ttotal: 1m 30s\tremaining: 1m 12s\n",
      "111:\tlearn: 0.2063191\ttest: 0.2081414\tbest: 0.2081414 (111)\ttotal: 1m 31s\tremaining: 1m 11s\n",
      "112:\tlearn: 0.2056992\ttest: 0.2075474\tbest: 0.2075474 (112)\ttotal: 1m 31s\tremaining: 1m 10s\n",
      "113:\tlearn: 0.2052181\ttest: 0.2070836\tbest: 0.2070836 (113)\ttotal: 1m 32s\tremaining: 1m 9s\n",
      "114:\tlearn: 0.2049464\ttest: 0.2068517\tbest: 0.2068517 (114)\ttotal: 1m 33s\tremaining: 1m 9s\n",
      "115:\tlearn: 0.2044116\ttest: 0.2063792\tbest: 0.2063792 (115)\ttotal: 1m 34s\tremaining: 1m 8s\n",
      "116:\tlearn: 0.2040255\ttest: 0.2059906\tbest: 0.2059906 (116)\ttotal: 1m 35s\tremaining: 1m 7s\n",
      "117:\tlearn: 0.2037140\ttest: 0.2057072\tbest: 0.2057072 (117)\ttotal: 1m 35s\tremaining: 1m 6s\n",
      "118:\tlearn: 0.2033927\ttest: 0.2053706\tbest: 0.2053706 (118)\ttotal: 1m 36s\tremaining: 1m 5s\n",
      "119:\tlearn: 0.2030500\ttest: 0.2050577\tbest: 0.2050577 (119)\ttotal: 1m 37s\tremaining: 1m 4s\n",
      "120:\tlearn: 0.2025565\ttest: 0.2045591\tbest: 0.2045591 (120)\ttotal: 1m 38s\tremaining: 1m 4s\n",
      "121:\tlearn: 0.2021304\ttest: 0.2041926\tbest: 0.2041926 (121)\ttotal: 1m 38s\tremaining: 1m 3s\n",
      "122:\tlearn: 0.2018933\ttest: 0.2039720\tbest: 0.2039720 (122)\ttotal: 1m 39s\tremaining: 1m 2s\n",
      "123:\tlearn: 0.2015850\ttest: 0.2036690\tbest: 0.2036690 (123)\ttotal: 1m 40s\tremaining: 1m 1s\n",
      "124:\tlearn: 0.2013031\ttest: 0.2034060\tbest: 0.2034060 (124)\ttotal: 1m 40s\tremaining: 1m\n",
      "125:\tlearn: 0.2010672\ttest: 0.2031416\tbest: 0.2031416 (125)\ttotal: 1m 41s\tremaining: 59.7s\n",
      "126:\tlearn: 0.2006945\ttest: 0.2028500\tbest: 0.2028500 (126)\ttotal: 1m 42s\tremaining: 58.9s\n",
      "127:\tlearn: 0.2004350\ttest: 0.2026055\tbest: 0.2026055 (127)\ttotal: 1m 43s\tremaining: 58s\n",
      "128:\tlearn: 0.2001850\ttest: 0.2023842\tbest: 0.2023842 (128)\ttotal: 1m 43s\tremaining: 57.1s\n",
      "129:\tlearn: 0.1999355\ttest: 0.2021200\tbest: 0.2021200 (129)\ttotal: 1m 44s\tremaining: 56.3s\n",
      "130:\tlearn: 0.1996692\ttest: 0.2018516\tbest: 0.2018516 (130)\ttotal: 1m 45s\tremaining: 55.4s\n",
      "131:\tlearn: 0.1994512\ttest: 0.2016641\tbest: 0.2016641 (131)\ttotal: 1m 45s\tremaining: 54.6s\n",
      "132:\tlearn: 0.1991930\ttest: 0.2014857\tbest: 0.2014857 (132)\ttotal: 1m 46s\tremaining: 53.7s\n",
      "133:\tlearn: 0.1989744\ttest: 0.2012852\tbest: 0.2012852 (133)\ttotal: 1m 47s\tremaining: 52.9s\n",
      "134:\tlearn: 0.1987095\ttest: 0.2010453\tbest: 0.2010453 (134)\ttotal: 1m 48s\tremaining: 52s\n",
      "135:\tlearn: 0.1984937\ttest: 0.2008331\tbest: 0.2008331 (135)\ttotal: 1m 48s\tremaining: 51.1s\n",
      "136:\tlearn: 0.1981484\ttest: 0.2004918\tbest: 0.2004918 (136)\ttotal: 1m 49s\tremaining: 50.3s\n",
      "137:\tlearn: 0.1978997\ttest: 0.2002364\tbest: 0.2002364 (137)\ttotal: 1m 50s\tremaining: 49.5s\n",
      "138:\tlearn: 0.1976637\ttest: 0.1999966\tbest: 0.1999966 (138)\ttotal: 1m 50s\tremaining: 48.6s\n",
      "139:\tlearn: 0.1974263\ttest: 0.1997358\tbest: 0.1997358 (139)\ttotal: 1m 51s\tremaining: 47.8s\n",
      "140:\tlearn: 0.1972156\ttest: 0.1995206\tbest: 0.1995206 (140)\ttotal: 1m 52s\tremaining: 47s\n",
      "141:\tlearn: 0.1969312\ttest: 0.1992312\tbest: 0.1992312 (141)\ttotal: 1m 53s\tremaining: 46.2s\n",
      "142:\tlearn: 0.1966498\ttest: 0.1989696\tbest: 0.1989696 (142)\ttotal: 1m 53s\tremaining: 45.4s\n",
      "143:\tlearn: 0.1963702\ttest: 0.1987499\tbest: 0.1987499 (143)\ttotal: 1m 54s\tremaining: 44.5s\n",
      "144:\tlearn: 0.1960365\ttest: 0.1985004\tbest: 0.1985004 (144)\ttotal: 1m 55s\tremaining: 43.7s\n",
      "145:\tlearn: 0.1957756\ttest: 0.1982615\tbest: 0.1982615 (145)\ttotal: 1m 55s\tremaining: 42.9s\n",
      "146:\tlearn: 0.1954865\ttest: 0.1979590\tbest: 0.1979590 (146)\ttotal: 1m 56s\tremaining: 42s\n",
      "147:\tlearn: 0.1951921\ttest: 0.1976822\tbest: 0.1976822 (147)\ttotal: 1m 57s\tremaining: 41.2s\n",
      "148:\tlearn: 0.1949760\ttest: 0.1975038\tbest: 0.1975038 (148)\ttotal: 1m 57s\tremaining: 40.4s\n",
      "149:\tlearn: 0.1946802\ttest: 0.1972323\tbest: 0.1972323 (149)\ttotal: 1m 58s\tremaining: 39.5s\n",
      "150:\tlearn: 0.1944895\ttest: 0.1970521\tbest: 0.1970521 (150)\ttotal: 1m 59s\tremaining: 38.7s\n",
      "151:\tlearn: 0.1941952\ttest: 0.1967821\tbest: 0.1967821 (151)\ttotal: 2m\tremaining: 37.9s\n",
      "152:\tlearn: 0.1939842\ttest: 0.1965784\tbest: 0.1965784 (152)\ttotal: 2m\tremaining: 37.1s\n",
      "153:\tlearn: 0.1937840\ttest: 0.1964025\tbest: 0.1964025 (153)\ttotal: 2m 1s\tremaining: 36.3s\n",
      "154:\tlearn: 0.1935849\ttest: 0.1961889\tbest: 0.1961889 (154)\ttotal: 2m 2s\tremaining: 35.4s\n",
      "155:\tlearn: 0.1933474\ttest: 0.1959369\tbest: 0.1959369 (155)\ttotal: 2m 2s\tremaining: 34.6s\n",
      "156:\tlearn: 0.1931285\ttest: 0.1957604\tbest: 0.1957604 (156)\ttotal: 2m 3s\tremaining: 33.8s\n",
      "157:\tlearn: 0.1929455\ttest: 0.1955739\tbest: 0.1955739 (157)\ttotal: 2m 4s\tremaining: 33s\n",
      "158:\tlearn: 0.1927538\ttest: 0.1954203\tbest: 0.1954203 (158)\ttotal: 2m 4s\tremaining: 32.2s\n",
      "159:\tlearn: 0.1925485\ttest: 0.1952061\tbest: 0.1952061 (159)\ttotal: 2m 5s\tremaining: 31.4s\n",
      "160:\tlearn: 0.1923227\ttest: 0.1950043\tbest: 0.1950043 (160)\ttotal: 2m 6s\tremaining: 30.6s\n",
      "161:\tlearn: 0.1920775\ttest: 0.1947128\tbest: 0.1947128 (161)\ttotal: 2m 6s\tremaining: 29.8s\n",
      "162:\tlearn: 0.1918269\ttest: 0.1944829\tbest: 0.1944829 (162)\ttotal: 2m 7s\tremaining: 29s\n",
      "163:\tlearn: 0.1916427\ttest: 0.1943588\tbest: 0.1943588 (163)\ttotal: 2m 8s\tremaining: 28.2s\n",
      "164:\tlearn: 0.1914547\ttest: 0.1941922\tbest: 0.1941922 (164)\ttotal: 2m 9s\tremaining: 27.4s\n",
      "165:\tlearn: 0.1911196\ttest: 0.1939297\tbest: 0.1939297 (165)\ttotal: 2m 10s\tremaining: 26.7s\n",
      "166:\tlearn: 0.1908834\ttest: 0.1936865\tbest: 0.1936865 (166)\ttotal: 2m 10s\tremaining: 25.9s\n",
      "167:\tlearn: 0.1906540\ttest: 0.1934286\tbest: 0.1934286 (167)\ttotal: 2m 11s\tremaining: 25.1s\n",
      "168:\tlearn: 0.1904732\ttest: 0.1932245\tbest: 0.1932245 (168)\ttotal: 2m 12s\tremaining: 24.3s\n",
      "169:\tlearn: 0.1902823\ttest: 0.1930234\tbest: 0.1930234 (169)\ttotal: 2m 13s\tremaining: 23.5s\n",
      "170:\tlearn: 0.1900730\ttest: 0.1928614\tbest: 0.1928614 (170)\ttotal: 2m 13s\tremaining: 22.7s\n",
      "171:\tlearn: 0.1899136\ttest: 0.1926741\tbest: 0.1926741 (171)\ttotal: 2m 14s\tremaining: 21.9s\n",
      "172:\tlearn: 0.1897275\ttest: 0.1924875\tbest: 0.1924875 (172)\ttotal: 2m 15s\tremaining: 21.1s\n",
      "173:\tlearn: 0.1894792\ttest: 0.1922925\tbest: 0.1922925 (173)\ttotal: 2m 15s\tremaining: 20.3s\n",
      "174:\tlearn: 0.1892947\ttest: 0.1921248\tbest: 0.1921248 (174)\ttotal: 2m 16s\tremaining: 19.5s\n",
      "175:\tlearn: 0.1890852\ttest: 0.1919045\tbest: 0.1919045 (175)\ttotal: 2m 17s\tremaining: 18.7s\n",
      "176:\tlearn: 0.1887876\ttest: 0.1916371\tbest: 0.1916371 (176)\ttotal: 2m 17s\tremaining: 17.9s\n",
      "177:\tlearn: 0.1885913\ttest: 0.1914328\tbest: 0.1914328 (177)\ttotal: 2m 18s\tremaining: 17.1s\n",
      "178:\tlearn: 0.1884085\ttest: 0.1912213\tbest: 0.1912213 (178)\ttotal: 2m 19s\tremaining: 16.4s\n",
      "179:\tlearn: 0.1881787\ttest: 0.1909861\tbest: 0.1909861 (179)\ttotal: 2m 20s\tremaining: 15.6s\n",
      "180:\tlearn: 0.1879906\ttest: 0.1908314\tbest: 0.1908314 (180)\ttotal: 2m 20s\tremaining: 14.8s\n",
      "181:\tlearn: 0.1878296\ttest: 0.1907017\tbest: 0.1907017 (181)\ttotal: 2m 21s\tremaining: 14s\n",
      "182:\tlearn: 0.1876774\ttest: 0.1905634\tbest: 0.1905634 (182)\ttotal: 2m 22s\tremaining: 13.2s\n",
      "183:\tlearn: 0.1875106\ttest: 0.1904196\tbest: 0.1904196 (183)\ttotal: 2m 22s\tremaining: 12.4s\n",
      "184:\tlearn: 0.1873443\ttest: 0.1902486\tbest: 0.1902486 (184)\ttotal: 2m 23s\tremaining: 11.6s\n",
      "185:\tlearn: 0.1871506\ttest: 0.1901350\tbest: 0.1901350 (185)\ttotal: 2m 24s\tremaining: 10.9s\n",
      "186:\tlearn: 0.1868923\ttest: 0.1899054\tbest: 0.1899054 (186)\ttotal: 2m 25s\tremaining: 10.1s\n",
      "187:\tlearn: 0.1866782\ttest: 0.1897350\tbest: 0.1897350 (187)\ttotal: 2m 25s\tremaining: 9.31s\n",
      "188:\tlearn: 0.1865384\ttest: 0.1896187\tbest: 0.1896187 (188)\ttotal: 2m 26s\tremaining: 8.53s\n",
      "189:\tlearn: 0.1863865\ttest: 0.1894381\tbest: 0.1894381 (189)\ttotal: 2m 27s\tremaining: 7.75s\n",
      "190:\tlearn: 0.1862194\ttest: 0.1893151\tbest: 0.1893151 (190)\ttotal: 2m 27s\tremaining: 6.97s\n",
      "191:\tlearn: 0.1860264\ttest: 0.1891493\tbest: 0.1891493 (191)\ttotal: 2m 28s\tremaining: 6.19s\n",
      "192:\tlearn: 0.1858053\ttest: 0.1889514\tbest: 0.1889514 (192)\ttotal: 2m 29s\tremaining: 5.41s\n",
      "193:\tlearn: 0.1855613\ttest: 0.1887357\tbest: 0.1887357 (193)\ttotal: 2m 29s\tremaining: 4.64s\n",
      "194:\tlearn: 0.1852778\ttest: 0.1885131\tbest: 0.1885131 (194)\ttotal: 2m 30s\tremaining: 3.86s\n",
      "195:\tlearn: 0.1850657\ttest: 0.1883415\tbest: 0.1883415 (195)\ttotal: 2m 31s\tremaining: 3.09s\n",
      "196:\tlearn: 0.1849144\ttest: 0.1882249\tbest: 0.1882249 (196)\ttotal: 2m 32s\tremaining: 2.31s\n",
      "197:\tlearn: 0.1847681\ttest: 0.1880841\tbest: 0.1880841 (197)\ttotal: 2m 32s\tremaining: 1.54s\n",
      "198:\tlearn: 0.1846163\ttest: 0.1879772\tbest: 0.1879772 (198)\ttotal: 2m 33s\tremaining: 771ms\n",
      "199:\tlearn: 0.1844611\ttest: 0.1878299\tbest: 0.1878299 (199)\ttotal: 2m 34s\tremaining: 0us\n",
      "\n",
      "bestTest = 0.1878298765\n",
      "bestIteration = 199\n",
      "\n",
      "0:\tloss: 0.1878299\tbest: 0.1878299 (0)\ttotal: 2m 40s\tremaining: 8m 2s\n",
      "0:\tlearn: 0.5936576\ttest: 0.5934139\tbest: 0.5934139 (0)\ttotal: 725ms\tremaining: 2m 24s\n",
      "1:\tlearn: 0.5172290\ttest: 0.5168581\tbest: 0.5168581 (1)\ttotal: 1.44s\tremaining: 2m 22s\n",
      "2:\tlearn: 0.4589533\ttest: 0.4582138\tbest: 0.4582138 (2)\ttotal: 2.13s\tremaining: 2m 19s\n",
      "3:\tlearn: 0.4139249\ttest: 0.4132437\tbest: 0.4132437 (3)\ttotal: 2.82s\tremaining: 2m 18s\n",
      "4:\tlearn: 0.3776452\ttest: 0.3769722\tbest: 0.3769722 (4)\ttotal: 3.51s\tremaining: 2m 17s\n",
      "5:\tlearn: 0.3488311\ttest: 0.3483543\tbest: 0.3483543 (5)\ttotal: 4.26s\tremaining: 2m 17s\n",
      "6:\tlearn: 0.3257710\ttest: 0.3254464\tbest: 0.3254464 (6)\ttotal: 5.04s\tremaining: 2m 18s\n",
      "7:\tlearn: 0.3078046\ttest: 0.3076382\tbest: 0.3076382 (7)\ttotal: 5.82s\tremaining: 2m 19s\n",
      "8:\tlearn: 0.2935199\ttest: 0.2932451\tbest: 0.2932451 (8)\ttotal: 6.57s\tremaining: 2m 19s\n",
      "9:\tlearn: 0.2810433\ttest: 0.2808171\tbest: 0.2808171 (9)\ttotal: 7.29s\tremaining: 2m 18s\n",
      "10:\tlearn: 0.2717623\ttest: 0.2715867\tbest: 0.2715867 (10)\ttotal: 7.97s\tremaining: 2m 16s\n",
      "11:\tlearn: 0.2639716\ttest: 0.2637850\tbest: 0.2637850 (11)\ttotal: 8.66s\tremaining: 2m 15s\n",
      "12:\tlearn: 0.2569075\ttest: 0.2570057\tbest: 0.2570057 (12)\ttotal: 9.36s\tremaining: 2m 14s\n",
      "13:\tlearn: 0.2511049\ttest: 0.2512582\tbest: 0.2512582 (13)\ttotal: 10.1s\tremaining: 2m 13s\n",
      "14:\tlearn: 0.2459947\ttest: 0.2462202\tbest: 0.2462202 (14)\ttotal: 10.7s\tremaining: 2m 12s\n",
      "15:\tlearn: 0.2420093\ttest: 0.2422839\tbest: 0.2422839 (15)\ttotal: 11.4s\tremaining: 2m 11s\n",
      "16:\tlearn: 0.2373048\ttest: 0.2378031\tbest: 0.2378031 (16)\ttotal: 12.2s\tremaining: 2m 10s\n",
      "17:\tlearn: 0.2343596\ttest: 0.2349589\tbest: 0.2349589 (17)\ttotal: 12.8s\tremaining: 2m 9s\n",
      "18:\tlearn: 0.2312219\ttest: 0.2320418\tbest: 0.2320418 (18)\ttotal: 13.5s\tremaining: 2m 8s\n",
      "19:\tlearn: 0.2280549\ttest: 0.2291214\tbest: 0.2291214 (19)\ttotal: 14.2s\tremaining: 2m 8s\n",
      "20:\tlearn: 0.2255685\ttest: 0.2268912\tbest: 0.2268912 (20)\ttotal: 15s\tremaining: 2m 7s\n",
      "21:\tlearn: 0.2234808\ttest: 0.2247418\tbest: 0.2247418 (21)\ttotal: 15.7s\tremaining: 2m 6s\n",
      "22:\tlearn: 0.2212944\ttest: 0.2226763\tbest: 0.2226763 (22)\ttotal: 16.4s\tremaining: 2m 5s\n",
      "23:\tlearn: 0.2186234\ttest: 0.2200304\tbest: 0.2200304 (23)\ttotal: 17.1s\tremaining: 2m 5s\n",
      "24:\tlearn: 0.2167361\ttest: 0.2181431\tbest: 0.2181431 (24)\ttotal: 17.8s\tremaining: 2m 4s\n",
      "25:\tlearn: 0.2151866\ttest: 0.2169300\tbest: 0.2169300 (25)\ttotal: 18.5s\tremaining: 2m 3s\n",
      "26:\tlearn: 0.2134310\ttest: 0.2153890\tbest: 0.2153890 (26)\ttotal: 19.1s\tremaining: 2m 2s\n",
      "27:\tlearn: 0.2120538\ttest: 0.2141692\tbest: 0.2141692 (27)\ttotal: 19.8s\tremaining: 2m 1s\n",
      "28:\tlearn: 0.2109073\ttest: 0.2129067\tbest: 0.2129067 (28)\ttotal: 20.6s\tremaining: 2m 1s\n",
      "29:\tlearn: 0.2092586\ttest: 0.2111605\tbest: 0.2111605 (29)\ttotal: 21.3s\tremaining: 2m\n",
      "30:\tlearn: 0.2079979\ttest: 0.2099643\tbest: 0.2099643 (30)\ttotal: 22.1s\tremaining: 2m\n",
      "31:\tlearn: 0.2067467\ttest: 0.2088392\tbest: 0.2088392 (31)\ttotal: 22.9s\tremaining: 2m\n",
      "32:\tlearn: 0.2054458\ttest: 0.2075280\tbest: 0.2075280 (32)\ttotal: 23.6s\tremaining: 1m 59s\n",
      "33:\tlearn: 0.2045359\ttest: 0.2065598\tbest: 0.2065598 (33)\ttotal: 24.3s\tremaining: 1m 58s\n",
      "34:\tlearn: 0.2034766\ttest: 0.2056570\tbest: 0.2056570 (34)\ttotal: 24.9s\tremaining: 1m 57s\n",
      "35:\tlearn: 0.2025403\ttest: 0.2046525\tbest: 0.2046525 (35)\ttotal: 25.6s\tremaining: 1m 56s\n",
      "36:\tlearn: 0.2009272\ttest: 0.2033000\tbest: 0.2033000 (36)\ttotal: 26.3s\tremaining: 1m 55s\n",
      "37:\tlearn: 0.2000080\ttest: 0.2023312\tbest: 0.2023312 (37)\ttotal: 27s\tremaining: 1m 55s\n",
      "38:\tlearn: 0.1989306\ttest: 0.2012675\tbest: 0.2012675 (38)\ttotal: 27.7s\tremaining: 1m 54s\n",
      "39:\tlearn: 0.1981431\ttest: 0.2006207\tbest: 0.2006207 (39)\ttotal: 28.4s\tremaining: 1m 53s\n",
      "40:\tlearn: 0.1973759\ttest: 0.1998932\tbest: 0.1998932 (40)\ttotal: 29.1s\tremaining: 1m 52s\n",
      "41:\tlearn: 0.1963680\ttest: 0.1987027\tbest: 0.1987027 (41)\ttotal: 29.8s\tremaining: 1m 52s\n",
      "42:\tlearn: 0.1953970\ttest: 0.1978491\tbest: 0.1978491 (42)\ttotal: 30.4s\tremaining: 1m 51s\n",
      "43:\tlearn: 0.1944183\ttest: 0.1971429\tbest: 0.1971429 (43)\ttotal: 31.1s\tremaining: 1m 50s\n",
      "44:\tlearn: 0.1937382\ttest: 0.1963922\tbest: 0.1963922 (44)\ttotal: 31.8s\tremaining: 1m 49s\n",
      "45:\tlearn: 0.1930211\ttest: 0.1956346\tbest: 0.1956346 (45)\ttotal: 32.5s\tremaining: 1m 48s\n",
      "46:\tlearn: 0.1922746\ttest: 0.1949407\tbest: 0.1949407 (46)\ttotal: 33.2s\tremaining: 1m 47s\n",
      "47:\tlearn: 0.1912347\ttest: 0.1941122\tbest: 0.1941122 (47)\ttotal: 33.9s\tremaining: 1m 47s\n",
      "48:\tlearn: 0.1903446\ttest: 0.1933122\tbest: 0.1933122 (48)\ttotal: 34.5s\tremaining: 1m 46s\n",
      "49:\tlearn: 0.1895371\ttest: 0.1926139\tbest: 0.1926139 (49)\ttotal: 35.2s\tremaining: 1m 45s\n",
      "50:\tlearn: 0.1888745\ttest: 0.1919655\tbest: 0.1919655 (50)\ttotal: 35.9s\tremaining: 1m 45s\n",
      "51:\tlearn: 0.1882711\ttest: 0.1913848\tbest: 0.1913848 (51)\ttotal: 36.7s\tremaining: 1m 44s\n",
      "52:\tlearn: 0.1873910\ttest: 0.1906335\tbest: 0.1906335 (52)\ttotal: 37.5s\tremaining: 1m 43s\n",
      "53:\tlearn: 0.1867362\ttest: 0.1899862\tbest: 0.1899862 (53)\ttotal: 38.3s\tremaining: 1m 43s\n",
      "54:\tlearn: 0.1861683\ttest: 0.1894763\tbest: 0.1894763 (54)\ttotal: 38.9s\tremaining: 1m 42s\n",
      "55:\tlearn: 0.1856159\ttest: 0.1889117\tbest: 0.1889117 (55)\ttotal: 39.6s\tremaining: 1m 41s\n",
      "56:\tlearn: 0.1851108\ttest: 0.1882953\tbest: 0.1882953 (56)\ttotal: 40.3s\tremaining: 1m 41s\n",
      "57:\tlearn: 0.1846426\ttest: 0.1879421\tbest: 0.1879421 (57)\ttotal: 41s\tremaining: 1m 40s\n",
      "58:\tlearn: 0.1838742\ttest: 0.1872610\tbest: 0.1872610 (58)\ttotal: 41.7s\tremaining: 1m 39s\n",
      "59:\tlearn: 0.1832479\ttest: 0.1867314\tbest: 0.1867314 (59)\ttotal: 42.4s\tremaining: 1m 38s\n",
      "60:\tlearn: 0.1826695\ttest: 0.1861235\tbest: 0.1861235 (60)\ttotal: 43.1s\tremaining: 1m 38s\n",
      "61:\tlearn: 0.1820703\ttest: 0.1855917\tbest: 0.1855917 (61)\ttotal: 43.8s\tremaining: 1m 37s\n",
      "62:\tlearn: 0.1815430\ttest: 0.1851179\tbest: 0.1851179 (62)\ttotal: 44.4s\tremaining: 1m 36s\n",
      "63:\tlearn: 0.1807849\ttest: 0.1843839\tbest: 0.1843839 (63)\ttotal: 45.2s\tremaining: 1m 36s\n",
      "64:\tlearn: 0.1803423\ttest: 0.1839179\tbest: 0.1839179 (64)\ttotal: 45.9s\tremaining: 1m 35s\n",
      "65:\tlearn: 0.1796570\ttest: 0.1832379\tbest: 0.1832379 (65)\ttotal: 46.6s\tremaining: 1m 34s\n",
      "66:\tlearn: 0.1791885\ttest: 0.1828776\tbest: 0.1828776 (66)\ttotal: 47.2s\tremaining: 1m 33s\n",
      "67:\tlearn: 0.1785257\ttest: 0.1821717\tbest: 0.1821717 (67)\ttotal: 47.9s\tremaining: 1m 33s\n",
      "68:\tlearn: 0.1778545\ttest: 0.1817448\tbest: 0.1817448 (68)\ttotal: 48.6s\tremaining: 1m 32s\n",
      "69:\tlearn: 0.1772472\ttest: 0.1811146\tbest: 0.1811146 (69)\ttotal: 49.3s\tremaining: 1m 31s\n",
      "70:\tlearn: 0.1767512\ttest: 0.1806886\tbest: 0.1806886 (70)\ttotal: 50s\tremaining: 1m 30s\n",
      "71:\tlearn: 0.1763522\ttest: 0.1802823\tbest: 0.1802823 (71)\ttotal: 50.6s\tremaining: 1m 30s\n",
      "72:\tlearn: 0.1759339\ttest: 0.1798317\tbest: 0.1798317 (72)\ttotal: 51.3s\tremaining: 1m 29s\n",
      "73:\tlearn: 0.1755639\ttest: 0.1795304\tbest: 0.1795304 (73)\ttotal: 52s\tremaining: 1m 28s\n",
      "74:\tlearn: 0.1750421\ttest: 0.1791208\tbest: 0.1791208 (74)\ttotal: 52.7s\tremaining: 1m 27s\n",
      "75:\tlearn: 0.1747023\ttest: 0.1787493\tbest: 0.1787493 (75)\ttotal: 53.5s\tremaining: 1m 27s\n",
      "76:\tlearn: 0.1742669\ttest: 0.1783187\tbest: 0.1783187 (76)\ttotal: 54.3s\tremaining: 1m 26s\n",
      "77:\tlearn: 0.1739049\ttest: 0.1779954\tbest: 0.1779954 (77)\ttotal: 55s\tremaining: 1m 26s\n",
      "78:\tlearn: 0.1734569\ttest: 0.1776837\tbest: 0.1776837 (78)\ttotal: 55.7s\tremaining: 1m 25s\n",
      "79:\tlearn: 0.1730860\ttest: 0.1775016\tbest: 0.1775016 (79)\ttotal: 56.4s\tremaining: 1m 24s\n",
      "80:\tlearn: 0.1726494\ttest: 0.1771966\tbest: 0.1771966 (80)\ttotal: 57s\tremaining: 1m 23s\n",
      "81:\tlearn: 0.1720939\ttest: 0.1768305\tbest: 0.1768305 (81)\ttotal: 57.7s\tremaining: 1m 23s\n",
      "82:\tlearn: 0.1718032\ttest: 0.1766895\tbest: 0.1766895 (82)\ttotal: 58.4s\tremaining: 1m 22s\n",
      "83:\tlearn: 0.1712868\ttest: 0.1761161\tbest: 0.1761161 (83)\ttotal: 59s\tremaining: 1m 21s\n",
      "84:\tlearn: 0.1709100\ttest: 0.1756800\tbest: 0.1756800 (84)\ttotal: 59.7s\tremaining: 1m 20s\n",
      "85:\tlearn: 0.1703360\ttest: 0.1751550\tbest: 0.1751550 (85)\ttotal: 1m\tremaining: 1m 20s\n",
      "86:\tlearn: 0.1699378\ttest: 0.1747167\tbest: 0.1747167 (86)\ttotal: 1m 1s\tremaining: 1m 19s\n",
      "87:\tlearn: 0.1696202\ttest: 0.1744285\tbest: 0.1744285 (87)\ttotal: 1m 1s\tremaining: 1m 18s\n",
      "88:\tlearn: 0.1693270\ttest: 0.1742016\tbest: 0.1742016 (88)\ttotal: 1m 2s\tremaining: 1m 17s\n",
      "89:\tlearn: 0.1689342\ttest: 0.1738794\tbest: 0.1738794 (89)\ttotal: 1m 3s\tremaining: 1m 17s\n",
      "90:\tlearn: 0.1684872\ttest: 0.1734605\tbest: 0.1734605 (90)\ttotal: 1m 3s\tremaining: 1m 16s\n",
      "91:\tlearn: 0.1676869\ttest: 0.1726044\tbest: 0.1726044 (91)\ttotal: 1m 4s\tremaining: 1m 15s\n",
      "92:\tlearn: 0.1673774\ttest: 0.1723646\tbest: 0.1723646 (92)\ttotal: 1m 5s\tremaining: 1m 15s\n",
      "93:\tlearn: 0.1670243\ttest: 0.1720060\tbest: 0.1720060 (93)\ttotal: 1m 5s\tremaining: 1m 14s\n",
      "94:\tlearn: 0.1666991\ttest: 0.1717651\tbest: 0.1717651 (94)\ttotal: 1m 6s\tremaining: 1m 13s\n",
      "95:\tlearn: 0.1663679\ttest: 0.1715514\tbest: 0.1715514 (95)\ttotal: 1m 7s\tremaining: 1m 12s\n",
      "96:\tlearn: 0.1658632\ttest: 0.1710800\tbest: 0.1710800 (96)\ttotal: 1m 7s\tremaining: 1m 12s\n",
      "97:\tlearn: 0.1656186\ttest: 0.1707800\tbest: 0.1707800 (97)\ttotal: 1m 8s\tremaining: 1m 11s\n",
      "98:\tlearn: 0.1652925\ttest: 0.1704601\tbest: 0.1704601 (98)\ttotal: 1m 9s\tremaining: 1m 10s\n",
      "99:\tlearn: 0.1649453\ttest: 0.1702572\tbest: 0.1702572 (99)\ttotal: 1m 10s\tremaining: 1m 10s\n",
      "100:\tlearn: 0.1646970\ttest: 0.1700535\tbest: 0.1700535 (100)\ttotal: 1m 10s\tremaining: 1m 9s\n",
      "101:\tlearn: 0.1644385\ttest: 0.1698845\tbest: 0.1698845 (101)\ttotal: 1m 11s\tremaining: 1m 8s\n",
      "102:\tlearn: 0.1641380\ttest: 0.1696612\tbest: 0.1696612 (102)\ttotal: 1m 12s\tremaining: 1m 8s\n",
      "103:\tlearn: 0.1638605\ttest: 0.1694261\tbest: 0.1694261 (103)\ttotal: 1m 12s\tremaining: 1m 7s\n",
      "104:\tlearn: 0.1634284\ttest: 0.1689482\tbest: 0.1689482 (104)\ttotal: 1m 13s\tremaining: 1m 6s\n",
      "105:\tlearn: 0.1631318\ttest: 0.1686629\tbest: 0.1686629 (105)\ttotal: 1m 14s\tremaining: 1m 5s\n",
      "106:\tlearn: 0.1628953\ttest: 0.1684737\tbest: 0.1684737 (106)\ttotal: 1m 15s\tremaining: 1m 5s\n",
      "107:\tlearn: 0.1626289\ttest: 0.1681866\tbest: 0.1681866 (107)\ttotal: 1m 15s\tremaining: 1m 4s\n",
      "108:\tlearn: 0.1623518\ttest: 0.1679422\tbest: 0.1679422 (108)\ttotal: 1m 16s\tremaining: 1m 3s\n",
      "109:\tlearn: 0.1620507\ttest: 0.1676577\tbest: 0.1676577 (109)\ttotal: 1m 17s\tremaining: 1m 3s\n",
      "110:\tlearn: 0.1616985\ttest: 0.1673427\tbest: 0.1673427 (110)\ttotal: 1m 17s\tremaining: 1m 2s\n",
      "111:\tlearn: 0.1613927\ttest: 0.1670270\tbest: 0.1670270 (111)\ttotal: 1m 18s\tremaining: 1m 1s\n",
      "112:\tlearn: 0.1611568\ttest: 0.1668258\tbest: 0.1668258 (112)\ttotal: 1m 19s\tremaining: 1m 1s\n",
      "113:\tlearn: 0.1608621\ttest: 0.1665908\tbest: 0.1665908 (113)\ttotal: 1m 20s\tremaining: 1m\n",
      "114:\tlearn: 0.1606407\ttest: 0.1663558\tbest: 0.1663558 (114)\ttotal: 1m 20s\tremaining: 59.6s\n",
      "115:\tlearn: 0.1603909\ttest: 0.1661132\tbest: 0.1661132 (115)\ttotal: 1m 21s\tremaining: 58.9s\n",
      "116:\tlearn: 0.1601526\ttest: 0.1659545\tbest: 0.1659545 (116)\ttotal: 1m 22s\tremaining: 58.2s\n",
      "117:\tlearn: 0.1598840\ttest: 0.1657326\tbest: 0.1657326 (117)\ttotal: 1m 22s\tremaining: 57.5s\n",
      "118:\tlearn: 0.1596497\ttest: 0.1655776\tbest: 0.1655776 (118)\ttotal: 1m 23s\tremaining: 56.8s\n",
      "119:\tlearn: 0.1593655\ttest: 0.1653155\tbest: 0.1653155 (119)\ttotal: 1m 24s\tremaining: 56.1s\n",
      "120:\tlearn: 0.1590658\ttest: 0.1649858\tbest: 0.1649858 (120)\ttotal: 1m 24s\tremaining: 55.4s\n",
      "121:\tlearn: 0.1585332\ttest: 0.1646068\tbest: 0.1646068 (121)\ttotal: 1m 25s\tremaining: 54.8s\n",
      "122:\tlearn: 0.1582194\ttest: 0.1643009\tbest: 0.1643009 (122)\ttotal: 1m 26s\tremaining: 54.1s\n",
      "123:\tlearn: 0.1579825\ttest: 0.1641322\tbest: 0.1641322 (123)\ttotal: 1m 27s\tremaining: 53.4s\n",
      "124:\tlearn: 0.1577678\ttest: 0.1640925\tbest: 0.1640925 (124)\ttotal: 1m 27s\tremaining: 52.6s\n",
      "125:\tlearn: 0.1574594\ttest: 0.1638502\tbest: 0.1638502 (125)\ttotal: 1m 28s\tremaining: 51.9s\n",
      "126:\tlearn: 0.1571585\ttest: 0.1636889\tbest: 0.1636889 (126)\ttotal: 1m 29s\tremaining: 51.2s\n",
      "127:\tlearn: 0.1569348\ttest: 0.1635738\tbest: 0.1635738 (127)\ttotal: 1m 29s\tremaining: 50.5s\n",
      "128:\tlearn: 0.1566626\ttest: 0.1633437\tbest: 0.1633437 (128)\ttotal: 1m 30s\tremaining: 49.8s\n",
      "129:\tlearn: 0.1564247\ttest: 0.1631414\tbest: 0.1631414 (129)\ttotal: 1m 31s\tremaining: 49s\n",
      "130:\tlearn: 0.1561930\ttest: 0.1629449\tbest: 0.1629449 (130)\ttotal: 1m 31s\tremaining: 48.3s\n",
      "131:\tlearn: 0.1559495\ttest: 0.1626789\tbest: 0.1626789 (131)\ttotal: 1m 32s\tremaining: 47.6s\n",
      "132:\tlearn: 0.1557028\ttest: 0.1624255\tbest: 0.1624255 (132)\ttotal: 1m 33s\tremaining: 46.9s\n",
      "133:\tlearn: 0.1555092\ttest: 0.1623252\tbest: 0.1623252 (133)\ttotal: 1m 33s\tremaining: 46.2s\n",
      "134:\tlearn: 0.1549571\ttest: 0.1618257\tbest: 0.1618257 (134)\ttotal: 1m 34s\tremaining: 45.5s\n",
      "135:\tlearn: 0.1545729\ttest: 0.1615161\tbest: 0.1615161 (135)\ttotal: 1m 35s\tremaining: 44.8s\n",
      "136:\tlearn: 0.1543284\ttest: 0.1612656\tbest: 0.1612656 (136)\ttotal: 1m 35s\tremaining: 44.1s\n",
      "137:\tlearn: 0.1541111\ttest: 0.1610950\tbest: 0.1610950 (137)\ttotal: 1m 36s\tremaining: 43.4s\n",
      "138:\tlearn: 0.1538804\ttest: 0.1609257\tbest: 0.1609257 (138)\ttotal: 1m 37s\tremaining: 42.6s\n",
      "139:\tlearn: 0.1536341\ttest: 0.1606748\tbest: 0.1606748 (139)\ttotal: 1m 37s\tremaining: 41.9s\n",
      "140:\tlearn: 0.1534624\ttest: 0.1605858\tbest: 0.1605858 (140)\ttotal: 1m 38s\tremaining: 41.2s\n",
      "141:\tlearn: 0.1532791\ttest: 0.1604531\tbest: 0.1604531 (141)\ttotal: 1m 39s\tremaining: 40.5s\n",
      "142:\tlearn: 0.1530515\ttest: 0.1602768\tbest: 0.1602768 (142)\ttotal: 1m 39s\tremaining: 39.8s\n",
      "143:\tlearn: 0.1528096\ttest: 0.1600444\tbest: 0.1600444 (143)\ttotal: 1m 40s\tremaining: 39.1s\n",
      "144:\tlearn: 0.1526183\ttest: 0.1598713\tbest: 0.1598713 (144)\ttotal: 1m 41s\tremaining: 38.4s\n",
      "145:\tlearn: 0.1524168\ttest: 0.1597470\tbest: 0.1597470 (145)\ttotal: 1m 42s\tremaining: 37.8s\n",
      "146:\tlearn: 0.1521248\ttest: 0.1595329\tbest: 0.1595329 (146)\ttotal: 1m 42s\tremaining: 37.1s\n",
      "147:\tlearn: 0.1519254\ttest: 0.1594661\tbest: 0.1594661 (147)\ttotal: 1m 43s\tremaining: 36.4s\n",
      "148:\tlearn: 0.1517345\ttest: 0.1593055\tbest: 0.1593055 (148)\ttotal: 1m 44s\tremaining: 35.6s\n",
      "149:\tlearn: 0.1515027\ttest: 0.1591672\tbest: 0.1591672 (149)\ttotal: 1m 44s\tremaining: 34.9s\n",
      "150:\tlearn: 0.1513129\ttest: 0.1590703\tbest: 0.1590703 (150)\ttotal: 1m 45s\tremaining: 34.2s\n",
      "151:\tlearn: 0.1510963\ttest: 0.1589193\tbest: 0.1589193 (151)\ttotal: 1m 46s\tremaining: 33.5s\n",
      "152:\tlearn: 0.1509465\ttest: 0.1588683\tbest: 0.1588683 (152)\ttotal: 1m 46s\tremaining: 32.8s\n",
      "153:\tlearn: 0.1507465\ttest: 0.1586795\tbest: 0.1586795 (153)\ttotal: 1m 47s\tremaining: 32.1s\n",
      "154:\tlearn: 0.1505835\ttest: 0.1585268\tbest: 0.1585268 (154)\ttotal: 1m 48s\tremaining: 31.4s\n",
      "155:\tlearn: 0.1502698\ttest: 0.1581170\tbest: 0.1581170 (155)\ttotal: 1m 48s\tremaining: 30.7s\n",
      "156:\tlearn: 0.1500654\ttest: 0.1578295\tbest: 0.1578295 (156)\ttotal: 1m 49s\tremaining: 30s\n",
      "157:\tlearn: 0.1498279\ttest: 0.1575651\tbest: 0.1575651 (157)\ttotal: 1m 50s\tremaining: 29.3s\n",
      "158:\tlearn: 0.1496107\ttest: 0.1573618\tbest: 0.1573618 (158)\ttotal: 1m 50s\tremaining: 28.6s\n",
      "159:\tlearn: 0.1493397\ttest: 0.1571453\tbest: 0.1571453 (159)\ttotal: 1m 51s\tremaining: 27.9s\n",
      "160:\tlearn: 0.1490701\ttest: 0.1569335\tbest: 0.1569335 (160)\ttotal: 1m 52s\tremaining: 27.2s\n",
      "161:\tlearn: 0.1488965\ttest: 0.1568075\tbest: 0.1568075 (161)\ttotal: 1m 52s\tremaining: 26.5s\n",
      "162:\tlearn: 0.1487068\ttest: 0.1566229\tbest: 0.1566229 (162)\ttotal: 1m 53s\tremaining: 25.8s\n",
      "163:\tlearn: 0.1485246\ttest: 0.1564883\tbest: 0.1564883 (163)\ttotal: 1m 54s\tremaining: 25.1s\n",
      "164:\tlearn: 0.1480649\ttest: 0.1560590\tbest: 0.1560590 (164)\ttotal: 1m 54s\tremaining: 24.4s\n",
      "165:\tlearn: 0.1478437\ttest: 0.1559318\tbest: 0.1559318 (165)\ttotal: 1m 55s\tremaining: 23.7s\n",
      "166:\tlearn: 0.1476656\ttest: 0.1558254\tbest: 0.1558254 (166)\ttotal: 1m 56s\tremaining: 23s\n",
      "167:\tlearn: 0.1475051\ttest: 0.1556859\tbest: 0.1556859 (167)\ttotal: 1m 57s\tremaining: 22.3s\n",
      "168:\tlearn: 0.1473084\ttest: 0.1554976\tbest: 0.1554976 (168)\ttotal: 1m 57s\tremaining: 21.6s\n",
      "169:\tlearn: 0.1470729\ttest: 0.1552753\tbest: 0.1552753 (169)\ttotal: 1m 58s\tremaining: 20.9s\n",
      "170:\tlearn: 0.1468779\ttest: 0.1551467\tbest: 0.1551467 (170)\ttotal: 1m 59s\tremaining: 20.2s\n",
      "171:\tlearn: 0.1467221\ttest: 0.1550330\tbest: 0.1550330 (171)\ttotal: 1m 59s\tremaining: 19.5s\n",
      "172:\tlearn: 0.1464764\ttest: 0.1548469\tbest: 0.1548469 (172)\ttotal: 2m\tremaining: 18.8s\n",
      "173:\tlearn: 0.1463461\ttest: 0.1547641\tbest: 0.1547641 (173)\ttotal: 2m 1s\tremaining: 18.1s\n",
      "174:\tlearn: 0.1462087\ttest: 0.1546080\tbest: 0.1546080 (174)\ttotal: 2m 1s\tremaining: 17.4s\n",
      "175:\tlearn: 0.1460222\ttest: 0.1545046\tbest: 0.1545046 (175)\ttotal: 2m 2s\tremaining: 16.7s\n",
      "176:\tlearn: 0.1458361\ttest: 0.1544053\tbest: 0.1544053 (176)\ttotal: 2m 3s\tremaining: 16s\n",
      "177:\tlearn: 0.1455996\ttest: 0.1542998\tbest: 0.1542998 (177)\ttotal: 2m 3s\tremaining: 15.3s\n",
      "178:\tlearn: 0.1454439\ttest: 0.1541644\tbest: 0.1541644 (178)\ttotal: 2m 4s\tremaining: 14.6s\n",
      "179:\tlearn: 0.1452957\ttest: 0.1540375\tbest: 0.1540375 (179)\ttotal: 2m 5s\tremaining: 13.9s\n",
      "180:\tlearn: 0.1451396\ttest: 0.1539704\tbest: 0.1539704 (180)\ttotal: 2m 5s\tremaining: 13.2s\n",
      "181:\tlearn: 0.1449846\ttest: 0.1538495\tbest: 0.1538495 (181)\ttotal: 2m 6s\tremaining: 12.5s\n",
      "182:\tlearn: 0.1448435\ttest: 0.1537612\tbest: 0.1537612 (182)\ttotal: 2m 7s\tremaining: 11.8s\n",
      "183:\tlearn: 0.1447285\ttest: 0.1537033\tbest: 0.1537033 (183)\ttotal: 2m 7s\tremaining: 11.1s\n",
      "184:\tlearn: 0.1445543\ttest: 0.1536050\tbest: 0.1536050 (184)\ttotal: 2m 8s\tremaining: 10.4s\n",
      "185:\tlearn: 0.1443806\ttest: 0.1534279\tbest: 0.1534279 (185)\ttotal: 2m 9s\tremaining: 9.73s\n",
      "186:\tlearn: 0.1442105\ttest: 0.1532830\tbest: 0.1532830 (186)\ttotal: 2m 9s\tremaining: 9.04s\n",
      "187:\tlearn: 0.1438870\ttest: 0.1530261\tbest: 0.1530261 (187)\ttotal: 2m 10s\tremaining: 8.34s\n",
      "188:\tlearn: 0.1437044\ttest: 0.1528663\tbest: 0.1528663 (188)\ttotal: 2m 11s\tremaining: 7.65s\n",
      "189:\tlearn: 0.1435515\ttest: 0.1527975\tbest: 0.1527975 (189)\ttotal: 2m 12s\tremaining: 6.95s\n",
      "190:\tlearn: 0.1433944\ttest: 0.1527327\tbest: 0.1527327 (190)\ttotal: 2m 12s\tremaining: 6.26s\n",
      "191:\tlearn: 0.1431759\ttest: 0.1526436\tbest: 0.1526436 (191)\ttotal: 2m 13s\tremaining: 5.57s\n",
      "192:\tlearn: 0.1429154\ttest: 0.1524557\tbest: 0.1524557 (192)\ttotal: 2m 14s\tremaining: 4.87s\n",
      "193:\tlearn: 0.1427358\ttest: 0.1521702\tbest: 0.1521702 (193)\ttotal: 2m 15s\tremaining: 4.17s\n",
      "194:\tlearn: 0.1425319\ttest: 0.1520066\tbest: 0.1520066 (194)\ttotal: 2m 15s\tremaining: 3.48s\n",
      "195:\tlearn: 0.1422945\ttest: 0.1518053\tbest: 0.1518053 (195)\ttotal: 2m 16s\tremaining: 2.78s\n",
      "196:\tlearn: 0.1420137\ttest: 0.1516275\tbest: 0.1516275 (196)\ttotal: 2m 17s\tremaining: 2.09s\n",
      "197:\tlearn: 0.1418697\ttest: 0.1515317\tbest: 0.1515317 (197)\ttotal: 2m 17s\tremaining: 1.39s\n",
      "198:\tlearn: 0.1417242\ttest: 0.1513356\tbest: 0.1513356 (198)\ttotal: 2m 18s\tremaining: 696ms\n",
      "199:\tlearn: 0.1415679\ttest: 0.1512296\tbest: 0.1512296 (199)\ttotal: 2m 19s\tremaining: 0us\n",
      "\n",
      "bestTest = 0.1512295849\n",
      "bestIteration = 199\n",
      "\n",
      "1:\tloss: 0.1512296\tbest: 0.1512296 (1)\ttotal: 5m\tremaining: 5m\n",
      "0:\tlearn: 0.6615027\ttest: 0.6614325\tbest: 0.6614325 (0)\ttotal: 1.68s\tremaining: 5m 34s\n",
      "1:\tlearn: 0.6306084\ttest: 0.6306617\tbest: 0.6306617 (1)\ttotal: 3.38s\tremaining: 5m 34s\n",
      "2:\tlearn: 0.6022520\ttest: 0.6022642\tbest: 0.6022642 (2)\ttotal: 5.01s\tremaining: 5m 28s\n",
      "3:\tlearn: 0.5756526\ttest: 0.5756935\tbest: 0.5756935 (3)\ttotal: 6.63s\tremaining: 5m 24s\n",
      "4:\tlearn: 0.5523459\ttest: 0.5523178\tbest: 0.5523178 (4)\ttotal: 8.23s\tremaining: 5m 21s\n",
      "5:\tlearn: 0.5303758\ttest: 0.5302302\tbest: 0.5302302 (5)\ttotal: 10s\tremaining: 5m 23s\n",
      "6:\tlearn: 0.5091522\ttest: 0.5089406\tbest: 0.5089406 (6)\ttotal: 11.8s\tremaining: 5m 25s\n",
      "7:\tlearn: 0.4901887\ttest: 0.4899417\tbest: 0.4899417 (7)\ttotal: 13.4s\tremaining: 5m 21s\n",
      "8:\tlearn: 0.4724949\ttest: 0.4722321\tbest: 0.4722321 (8)\ttotal: 15s\tremaining: 5m 18s\n",
      "9:\tlearn: 0.4554936\ttest: 0.4552208\tbest: 0.4552208 (9)\ttotal: 16.6s\tremaining: 5m 16s\n",
      "10:\tlearn: 0.4393117\ttest: 0.4390745\tbest: 0.4390745 (10)\ttotal: 18.3s\tremaining: 5m 13s\n",
      "11:\tlearn: 0.4247402\ttest: 0.4246056\tbest: 0.4246056 (11)\ttotal: 19.9s\tremaining: 5m 11s\n",
      "12:\tlearn: 0.4120062\ttest: 0.4119161\tbest: 0.4119161 (12)\ttotal: 21.5s\tremaining: 5m 9s\n",
      "13:\tlearn: 0.3988086\ttest: 0.3988346\tbest: 0.3988346 (13)\ttotal: 23.1s\tremaining: 5m 7s\n",
      "14:\tlearn: 0.3872348\ttest: 0.3872195\tbest: 0.3872195 (14)\ttotal: 24.8s\tremaining: 5m 5s\n",
      "15:\tlearn: 0.3767410\ttest: 0.3767388\tbest: 0.3767388 (15)\ttotal: 26.7s\tremaining: 5m 6s\n",
      "16:\tlearn: 0.3664963\ttest: 0.3665344\tbest: 0.3665344 (16)\ttotal: 28.4s\tremaining: 5m 5s\n",
      "17:\tlearn: 0.3571278\ttest: 0.3570920\tbest: 0.3570920 (17)\ttotal: 30s\tremaining: 5m 3s\n",
      "18:\tlearn: 0.3480981\ttest: 0.3480933\tbest: 0.3480933 (18)\ttotal: 31.7s\tremaining: 5m 1s\n",
      "19:\tlearn: 0.3399733\ttest: 0.3399798\tbest: 0.3399798 (19)\ttotal: 33.3s\tremaining: 4m 59s\n",
      "20:\tlearn: 0.3324523\ttest: 0.3324889\tbest: 0.3324889 (20)\ttotal: 34.9s\tremaining: 4m 57s\n",
      "21:\tlearn: 0.3253166\ttest: 0.3253577\tbest: 0.3253577 (21)\ttotal: 36.5s\tremaining: 4m 55s\n",
      "22:\tlearn: 0.3188097\ttest: 0.3189005\tbest: 0.3189005 (22)\ttotal: 38.2s\tremaining: 4m 53s\n",
      "23:\tlearn: 0.3124293\ttest: 0.3125826\tbest: 0.3125826 (23)\ttotal: 39.8s\tremaining: 4m 51s\n",
      "24:\tlearn: 0.3066237\ttest: 0.3069214\tbest: 0.3069214 (24)\ttotal: 41.5s\tremaining: 4m 50s\n",
      "25:\tlearn: 0.3009903\ttest: 0.3013633\tbest: 0.3013633 (25)\ttotal: 43.3s\tremaining: 4m 49s\n",
      "26:\tlearn: 0.2958339\ttest: 0.2962369\tbest: 0.2962369 (26)\ttotal: 45s\tremaining: 4m 48s\n",
      "27:\tlearn: 0.2911102\ttest: 0.2914814\tbest: 0.2914814 (27)\ttotal: 46.6s\tremaining: 4m 46s\n",
      "28:\tlearn: 0.2868301\ttest: 0.2872711\tbest: 0.2872711 (28)\ttotal: 48.2s\tremaining: 4m 44s\n",
      "29:\tlearn: 0.2827275\ttest: 0.2832404\tbest: 0.2832404 (29)\ttotal: 49.9s\tremaining: 4m 42s\n",
      "30:\tlearn: 0.2786356\ttest: 0.2791760\tbest: 0.2791760 (30)\ttotal: 51.5s\tremaining: 4m 40s\n",
      "31:\tlearn: 0.2749549\ttest: 0.2755489\tbest: 0.2755489 (31)\ttotal: 53.2s\tremaining: 4m 39s\n",
      "32:\tlearn: 0.2714447\ttest: 0.2720366\tbest: 0.2720366 (32)\ttotal: 55s\tremaining: 4m 38s\n",
      "33:\tlearn: 0.2683236\ttest: 0.2689469\tbest: 0.2689469 (33)\ttotal: 56.6s\tremaining: 4m 36s\n",
      "34:\tlearn: 0.2652887\ttest: 0.2659913\tbest: 0.2659913 (34)\ttotal: 58.4s\tremaining: 4m 35s\n",
      "35:\tlearn: 0.2622393\ttest: 0.2629803\tbest: 0.2629803 (35)\ttotal: 1m\tremaining: 4m 33s\n",
      "36:\tlearn: 0.2592948\ttest: 0.2601037\tbest: 0.2601037 (36)\ttotal: 1m 1s\tremaining: 4m 32s\n",
      "37:\tlearn: 0.2565389\ttest: 0.2574148\tbest: 0.2574148 (37)\ttotal: 1m 3s\tremaining: 4m 30s\n",
      "38:\tlearn: 0.2540956\ttest: 0.2550988\tbest: 0.2550988 (38)\ttotal: 1m 5s\tremaining: 4m 28s\n",
      "39:\tlearn: 0.2516745\ttest: 0.2526999\tbest: 0.2526999 (39)\ttotal: 1m 6s\tremaining: 4m 26s\n",
      "40:\tlearn: 0.2493728\ttest: 0.2504494\tbest: 0.2504494 (40)\ttotal: 1m 8s\tremaining: 4m 24s\n",
      "41:\tlearn: 0.2471806\ttest: 0.2483500\tbest: 0.2483500 (41)\ttotal: 1m 9s\tremaining: 4m 22s\n",
      "42:\tlearn: 0.2451218\ttest: 0.2462236\tbest: 0.2462236 (42)\ttotal: 1m 11s\tremaining: 4m 21s\n",
      "43:\tlearn: 0.2432474\ttest: 0.2443796\tbest: 0.2443796 (43)\ttotal: 1m 13s\tremaining: 4m 19s\n",
      "44:\tlearn: 0.2411470\ttest: 0.2423756\tbest: 0.2423756 (44)\ttotal: 1m 15s\tremaining: 4m 18s\n",
      "45:\tlearn: 0.2393844\ttest: 0.2406098\tbest: 0.2406098 (45)\ttotal: 1m 16s\tremaining: 4m 16s\n",
      "46:\tlearn: 0.2375669\ttest: 0.2387913\tbest: 0.2387913 (46)\ttotal: 1m 18s\tremaining: 4m 15s\n",
      "47:\tlearn: 0.2357621\ttest: 0.2371019\tbest: 0.2371019 (47)\ttotal: 1m 20s\tremaining: 4m 13s\n",
      "48:\tlearn: 0.2342667\ttest: 0.2356363\tbest: 0.2356363 (48)\ttotal: 1m 21s\tremaining: 4m 12s\n",
      "49:\tlearn: 0.2327908\ttest: 0.2342189\tbest: 0.2342189 (49)\ttotal: 1m 23s\tremaining: 4m 10s\n",
      "50:\tlearn: 0.2313294\ttest: 0.2327941\tbest: 0.2327941 (50)\ttotal: 1m 25s\tremaining: 4m 8s\n",
      "51:\tlearn: 0.2300006\ttest: 0.2315226\tbest: 0.2315226 (51)\ttotal: 1m 26s\tremaining: 4m 6s\n",
      "52:\tlearn: 0.2287977\ttest: 0.2303370\tbest: 0.2303370 (52)\ttotal: 1m 28s\tremaining: 4m 4s\n",
      "53:\tlearn: 0.2276626\ttest: 0.2292247\tbest: 0.2292247 (53)\ttotal: 1m 30s\tremaining: 4m 3s\n",
      "54:\tlearn: 0.2263564\ttest: 0.2279873\tbest: 0.2279873 (54)\ttotal: 1m 31s\tremaining: 4m 1s\n",
      "55:\tlearn: 0.2251673\ttest: 0.2268321\tbest: 0.2268321 (55)\ttotal: 1m 33s\tremaining: 4m\n",
      "56:\tlearn: 0.2240476\ttest: 0.2257044\tbest: 0.2257044 (56)\ttotal: 1m 35s\tremaining: 3m 58s\n",
      "57:\tlearn: 0.2229388\ttest: 0.2246021\tbest: 0.2246021 (57)\ttotal: 1m 36s\tremaining: 3m 56s\n",
      "58:\tlearn: 0.2219281\ttest: 0.2235976\tbest: 0.2235976 (58)\ttotal: 1m 38s\tremaining: 3m 55s\n",
      "59:\tlearn: 0.2209998\ttest: 0.2226795\tbest: 0.2226795 (59)\ttotal: 1m 39s\tremaining: 3m 53s\n",
      "60:\tlearn: 0.2200210\ttest: 0.2216611\tbest: 0.2216611 (60)\ttotal: 1m 41s\tremaining: 3m 51s\n",
      "61:\tlearn: 0.2191352\ttest: 0.2207844\tbest: 0.2207844 (61)\ttotal: 1m 43s\tremaining: 3m 49s\n",
      "62:\tlearn: 0.2181087\ttest: 0.2197473\tbest: 0.2197473 (62)\ttotal: 1m 44s\tremaining: 3m 48s\n",
      "63:\tlearn: 0.2171728\ttest: 0.2188824\tbest: 0.2188824 (63)\ttotal: 1m 46s\tremaining: 3m 46s\n",
      "64:\tlearn: 0.2161468\ttest: 0.2178912\tbest: 0.2178912 (64)\ttotal: 1m 48s\tremaining: 3m 45s\n",
      "65:\tlearn: 0.2153554\ttest: 0.2171013\tbest: 0.2171013 (65)\ttotal: 1m 50s\tremaining: 3m 43s\n",
      "66:\tlearn: 0.2145583\ttest: 0.2163695\tbest: 0.2163695 (66)\ttotal: 1m 51s\tremaining: 3m 41s\n",
      "67:\tlearn: 0.2138154\ttest: 0.2156846\tbest: 0.2156846 (67)\ttotal: 1m 53s\tremaining: 3m 39s\n",
      "68:\tlearn: 0.2131893\ttest: 0.2149713\tbest: 0.2149713 (68)\ttotal: 1m 54s\tremaining: 3m 38s\n",
      "69:\tlearn: 0.2125374\ttest: 0.2143463\tbest: 0.2143463 (69)\ttotal: 1m 56s\tremaining: 3m 36s\n",
      "70:\tlearn: 0.2118515\ttest: 0.2136531\tbest: 0.2136531 (70)\ttotal: 1m 58s\tremaining: 3m 34s\n",
      "71:\tlearn: 0.2110539\ttest: 0.2129170\tbest: 0.2129170 (71)\ttotal: 1m 59s\tremaining: 3m 32s\n",
      "72:\tlearn: 0.2102002\ttest: 0.2120844\tbest: 0.2120844 (72)\ttotal: 2m 1s\tremaining: 3m 31s\n",
      "73:\tlearn: 0.2093625\ttest: 0.2113446\tbest: 0.2113446 (73)\ttotal: 2m 3s\tremaining: 3m 30s\n",
      "74:\tlearn: 0.2087720\ttest: 0.2107588\tbest: 0.2107588 (74)\ttotal: 2m 5s\tremaining: 3m 28s\n",
      "75:\tlearn: 0.2081731\ttest: 0.2101310\tbest: 0.2101310 (75)\ttotal: 2m 6s\tremaining: 3m 26s\n",
      "76:\tlearn: 0.2075012\ttest: 0.2095337\tbest: 0.2095337 (76)\ttotal: 2m 8s\tremaining: 3m 24s\n",
      "77:\tlearn: 0.2070108\ttest: 0.2090382\tbest: 0.2090382 (77)\ttotal: 2m 9s\tremaining: 3m 23s\n",
      "78:\tlearn: 0.2065226\ttest: 0.2085828\tbest: 0.2085828 (78)\ttotal: 2m 11s\tremaining: 3m 21s\n",
      "79:\tlearn: 0.2059820\ttest: 0.2080520\tbest: 0.2080520 (79)\ttotal: 2m 13s\tremaining: 3m 19s\n",
      "80:\tlearn: 0.2054633\ttest: 0.2075450\tbest: 0.2075450 (80)\ttotal: 2m 14s\tremaining: 3m 17s\n",
      "81:\tlearn: 0.2047400\ttest: 0.2068987\tbest: 0.2068987 (81)\ttotal: 2m 16s\tremaining: 3m 16s\n",
      "82:\tlearn: 0.2040462\ttest: 0.2061711\tbest: 0.2061711 (82)\ttotal: 2m 18s\tremaining: 3m 14s\n",
      "83:\tlearn: 0.2035804\ttest: 0.2056874\tbest: 0.2056874 (83)\ttotal: 2m 19s\tremaining: 3m 13s\n",
      "84:\tlearn: 0.2029911\ttest: 0.2051032\tbest: 0.2051032 (84)\ttotal: 2m 21s\tremaining: 3m 11s\n",
      "85:\tlearn: 0.2024866\ttest: 0.2045925\tbest: 0.2045925 (85)\ttotal: 2m 23s\tremaining: 3m 9s\n",
      "86:\tlearn: 0.2020344\ttest: 0.2041185\tbest: 0.2041185 (86)\ttotal: 2m 24s\tremaining: 3m 7s\n",
      "87:\tlearn: 0.2016095\ttest: 0.2037830\tbest: 0.2037830 (87)\ttotal: 2m 26s\tremaining: 3m 6s\n",
      "88:\tlearn: 0.2012557\ttest: 0.2034459\tbest: 0.2034459 (88)\ttotal: 2m 27s\tremaining: 3m 4s\n",
      "89:\tlearn: 0.2006687\ttest: 0.2029272\tbest: 0.2029272 (89)\ttotal: 2m 29s\tremaining: 3m 2s\n",
      "90:\tlearn: 0.2001637\ttest: 0.2025095\tbest: 0.2025095 (90)\ttotal: 2m 31s\tremaining: 3m 1s\n",
      "91:\tlearn: 0.1993635\ttest: 0.2017598\tbest: 0.2017598 (91)\ttotal: 2m 32s\tremaining: 2m 59s\n",
      "92:\tlearn: 0.1989402\ttest: 0.2013798\tbest: 0.2013798 (92)\ttotal: 2m 34s\tremaining: 2m 57s\n",
      "93:\tlearn: 0.1985504\ttest: 0.2010346\tbest: 0.2010346 (93)\ttotal: 2m 36s\tremaining: 2m 56s\n",
      "94:\tlearn: 0.1981049\ttest: 0.2006203\tbest: 0.2006203 (94)\ttotal: 2m 37s\tremaining: 2m 54s\n",
      "95:\tlearn: 0.1977181\ttest: 0.2001798\tbest: 0.2001798 (95)\ttotal: 2m 39s\tremaining: 2m 52s\n",
      "96:\tlearn: 0.1972399\ttest: 0.1997301\tbest: 0.1997301 (96)\ttotal: 2m 41s\tremaining: 2m 51s\n",
      "97:\tlearn: 0.1968197\ttest: 0.1993460\tbest: 0.1993460 (97)\ttotal: 2m 42s\tremaining: 2m 49s\n",
      "98:\tlearn: 0.1964372\ttest: 0.1990402\tbest: 0.1990402 (98)\ttotal: 2m 44s\tremaining: 2m 47s\n",
      "99:\tlearn: 0.1958181\ttest: 0.1984322\tbest: 0.1984322 (99)\ttotal: 2m 46s\tremaining: 2m 46s\n",
      "100:\tlearn: 0.1954720\ttest: 0.1980662\tbest: 0.1980662 (100)\ttotal: 2m 47s\tremaining: 2m 44s\n",
      "101:\tlearn: 0.1951386\ttest: 0.1977521\tbest: 0.1977521 (101)\ttotal: 2m 49s\tremaining: 2m 42s\n",
      "102:\tlearn: 0.1947969\ttest: 0.1974433\tbest: 0.1974433 (102)\ttotal: 2m 51s\tremaining: 2m 41s\n",
      "103:\tlearn: 0.1944190\ttest: 0.1970890\tbest: 0.1970890 (103)\ttotal: 2m 52s\tremaining: 2m 39s\n",
      "104:\tlearn: 0.1940972\ttest: 0.1967654\tbest: 0.1967654 (104)\ttotal: 2m 54s\tremaining: 2m 37s\n",
      "105:\tlearn: 0.1937704\ttest: 0.1964316\tbest: 0.1964316 (105)\ttotal: 2m 55s\tremaining: 2m 35s\n",
      "106:\tlearn: 0.1934199\ttest: 0.1961530\tbest: 0.1961530 (106)\ttotal: 2m 57s\tremaining: 2m 34s\n",
      "107:\tlearn: 0.1929759\ttest: 0.1957341\tbest: 0.1957341 (107)\ttotal: 2m 59s\tremaining: 2m 32s\n",
      "108:\tlearn: 0.1925573\ttest: 0.1953539\tbest: 0.1953539 (108)\ttotal: 3m\tremaining: 2m 30s\n",
      "109:\tlearn: 0.1920160\ttest: 0.1948290\tbest: 0.1948290 (109)\ttotal: 3m 2s\tremaining: 2m 29s\n",
      "110:\tlearn: 0.1915130\ttest: 0.1943267\tbest: 0.1943267 (110)\ttotal: 3m 4s\tremaining: 2m 27s\n",
      "111:\tlearn: 0.1911291\ttest: 0.1939586\tbest: 0.1939586 (111)\ttotal: 3m 5s\tremaining: 2m 26s\n",
      "112:\tlearn: 0.1908342\ttest: 0.1937246\tbest: 0.1937246 (112)\ttotal: 3m 7s\tremaining: 2m 24s\n",
      "113:\tlearn: 0.1904991\ttest: 0.1934480\tbest: 0.1934480 (113)\ttotal: 3m 9s\tremaining: 2m 22s\n",
      "114:\tlearn: 0.1901772\ttest: 0.1931243\tbest: 0.1931243 (114)\ttotal: 3m 10s\tremaining: 2m 21s\n",
      "115:\tlearn: 0.1898994\ttest: 0.1928825\tbest: 0.1928825 (115)\ttotal: 3m 12s\tremaining: 2m 19s\n",
      "116:\tlearn: 0.1894975\ttest: 0.1925484\tbest: 0.1925484 (116)\ttotal: 3m 14s\tremaining: 2m 17s\n",
      "117:\tlearn: 0.1891927\ttest: 0.1922696\tbest: 0.1922696 (117)\ttotal: 3m 15s\tremaining: 2m 16s\n",
      "118:\tlearn: 0.1889414\ttest: 0.1920437\tbest: 0.1920437 (118)\ttotal: 3m 17s\tremaining: 2m 14s\n",
      "119:\tlearn: 0.1884237\ttest: 0.1915594\tbest: 0.1915594 (119)\ttotal: 3m 18s\tremaining: 2m 12s\n",
      "120:\tlearn: 0.1881623\ttest: 0.1913263\tbest: 0.1913263 (120)\ttotal: 3m 20s\tremaining: 2m 10s\n",
      "121:\tlearn: 0.1877867\ttest: 0.1909412\tbest: 0.1909412 (121)\ttotal: 3m 22s\tremaining: 2m 9s\n",
      "122:\tlearn: 0.1873901\ttest: 0.1905465\tbest: 0.1905465 (122)\ttotal: 3m 24s\tremaining: 2m 7s\n",
      "123:\tlearn: 0.1869530\ttest: 0.1901376\tbest: 0.1901376 (123)\ttotal: 3m 25s\tremaining: 2m 6s\n",
      "124:\tlearn: 0.1866293\ttest: 0.1898658\tbest: 0.1898658 (124)\ttotal: 3m 27s\tremaining: 2m 4s\n",
      "125:\tlearn: 0.1863316\ttest: 0.1896057\tbest: 0.1896057 (125)\ttotal: 3m 29s\tremaining: 2m 2s\n",
      "126:\tlearn: 0.1860990\ttest: 0.1894125\tbest: 0.1894125 (126)\ttotal: 3m 30s\tremaining: 2m 1s\n",
      "127:\tlearn: 0.1858551\ttest: 0.1891756\tbest: 0.1891756 (127)\ttotal: 3m 32s\tremaining: 1m 59s\n",
      "128:\tlearn: 0.1855942\ttest: 0.1889704\tbest: 0.1889704 (128)\ttotal: 3m 33s\tremaining: 1m 57s\n",
      "129:\tlearn: 0.1852987\ttest: 0.1886845\tbest: 0.1886845 (129)\ttotal: 3m 35s\tremaining: 1m 56s\n",
      "130:\tlearn: 0.1850704\ttest: 0.1885205\tbest: 0.1885205 (130)\ttotal: 3m 37s\tremaining: 1m 54s\n",
      "131:\tlearn: 0.1847813\ttest: 0.1882383\tbest: 0.1882383 (131)\ttotal: 3m 38s\tremaining: 1m 52s\n",
      "132:\tlearn: 0.1844955\ttest: 0.1879826\tbest: 0.1879826 (132)\ttotal: 3m 40s\tremaining: 1m 51s\n",
      "133:\tlearn: 0.1841983\ttest: 0.1877495\tbest: 0.1877495 (133)\ttotal: 3m 42s\tremaining: 1m 49s\n",
      "134:\tlearn: 0.1838063\ttest: 0.1874171\tbest: 0.1874171 (134)\ttotal: 3m 43s\tremaining: 1m 47s\n",
      "135:\tlearn: 0.1835412\ttest: 0.1871688\tbest: 0.1871688 (135)\ttotal: 3m 45s\tremaining: 1m 46s\n",
      "136:\tlearn: 0.1832480\ttest: 0.1868628\tbest: 0.1868628 (136)\ttotal: 3m 47s\tremaining: 1m 44s\n",
      "137:\tlearn: 0.1827830\ttest: 0.1864772\tbest: 0.1864772 (137)\ttotal: 3m 48s\tremaining: 1m 42s\n",
      "138:\tlearn: 0.1825025\ttest: 0.1861826\tbest: 0.1861826 (138)\ttotal: 3m 50s\tremaining: 1m 41s\n",
      "139:\tlearn: 0.1822753\ttest: 0.1859690\tbest: 0.1859690 (139)\ttotal: 3m 51s\tremaining: 1m 39s\n",
      "140:\tlearn: 0.1819861\ttest: 0.1856835\tbest: 0.1856835 (140)\ttotal: 3m 53s\tremaining: 1m 37s\n",
      "141:\tlearn: 0.1817138\ttest: 0.1854490\tbest: 0.1854490 (141)\ttotal: 3m 55s\tremaining: 1m 36s\n",
      "142:\tlearn: 0.1814096\ttest: 0.1851684\tbest: 0.1851684 (142)\ttotal: 3m 57s\tremaining: 1m 34s\n",
      "143:\tlearn: 0.1810962\ttest: 0.1849000\tbest: 0.1849000 (143)\ttotal: 3m 58s\tremaining: 1m 32s\n",
      "144:\tlearn: 0.1808980\ttest: 0.1846830\tbest: 0.1846830 (144)\ttotal: 4m\tremaining: 1m 31s\n",
      "145:\tlearn: 0.1806782\ttest: 0.1844354\tbest: 0.1844354 (145)\ttotal: 4m 1s\tremaining: 1m 29s\n",
      "146:\tlearn: 0.1804568\ttest: 0.1842249\tbest: 0.1842249 (146)\ttotal: 4m 3s\tremaining: 1m 27s\n",
      "147:\tlearn: 0.1801567\ttest: 0.1839745\tbest: 0.1839745 (147)\ttotal: 4m 5s\tremaining: 1m 26s\n",
      "148:\tlearn: 0.1799209\ttest: 0.1837803\tbest: 0.1837803 (148)\ttotal: 4m 6s\tremaining: 1m 24s\n",
      "149:\tlearn: 0.1797260\ttest: 0.1835720\tbest: 0.1835720 (149)\ttotal: 4m 8s\tremaining: 1m 22s\n",
      "150:\tlearn: 0.1794784\ttest: 0.1833445\tbest: 0.1833445 (150)\ttotal: 4m 9s\tremaining: 1m 21s\n",
      "151:\tlearn: 0.1792960\ttest: 0.1832245\tbest: 0.1832245 (151)\ttotal: 4m 11s\tremaining: 1m 19s\n",
      "152:\tlearn: 0.1789918\ttest: 0.1829846\tbest: 0.1829846 (152)\ttotal: 4m 13s\tremaining: 1m 17s\n",
      "153:\tlearn: 0.1787527\ttest: 0.1827968\tbest: 0.1827968 (153)\ttotal: 4m 14s\tremaining: 1m 16s\n",
      "154:\tlearn: 0.1784403\ttest: 0.1825039\tbest: 0.1825039 (154)\ttotal: 4m 16s\tremaining: 1m 14s\n",
      "155:\tlearn: 0.1781977\ttest: 0.1822626\tbest: 0.1822626 (155)\ttotal: 4m 18s\tremaining: 1m 12s\n",
      "156:\tlearn: 0.1779164\ttest: 0.1819953\tbest: 0.1819953 (156)\ttotal: 4m 19s\tremaining: 1m 11s\n",
      "157:\tlearn: 0.1777204\ttest: 0.1817872\tbest: 0.1817872 (157)\ttotal: 4m 21s\tremaining: 1m 9s\n",
      "158:\tlearn: 0.1774943\ttest: 0.1815584\tbest: 0.1815584 (158)\ttotal: 4m 22s\tremaining: 1m 7s\n",
      "159:\tlearn: 0.1772807\ttest: 0.1813590\tbest: 0.1813590 (159)\ttotal: 4m 24s\tremaining: 1m 6s\n",
      "160:\tlearn: 0.1770806\ttest: 0.1811765\tbest: 0.1811765 (160)\ttotal: 4m 26s\tremaining: 1m 4s\n",
      "161:\tlearn: 0.1767764\ttest: 0.1808631\tbest: 0.1808631 (161)\ttotal: 4m 28s\tremaining: 1m 2s\n",
      "162:\tlearn: 0.1765428\ttest: 0.1806376\tbest: 0.1806376 (162)\ttotal: 4m 29s\tremaining: 1m 1s\n",
      "163:\tlearn: 0.1763146\ttest: 0.1804545\tbest: 0.1804545 (163)\ttotal: 4m 31s\tremaining: 59.5s\n",
      "164:\tlearn: 0.1760801\ttest: 0.1802728\tbest: 0.1802728 (164)\ttotal: 4m 32s\tremaining: 57.9s\n",
      "165:\tlearn: 0.1758256\ttest: 0.1800558\tbest: 0.1800558 (165)\ttotal: 4m 34s\tremaining: 56.2s\n",
      "166:\tlearn: 0.1755728\ttest: 0.1798311\tbest: 0.1798311 (166)\ttotal: 4m 36s\tremaining: 54.6s\n",
      "167:\tlearn: 0.1753486\ttest: 0.1796259\tbest: 0.1796259 (167)\ttotal: 4m 38s\tremaining: 53s\n",
      "168:\tlearn: 0.1751631\ttest: 0.1794881\tbest: 0.1794881 (168)\ttotal: 4m 39s\tremaining: 51.3s\n",
      "169:\tlearn: 0.1749932\ttest: 0.1793327\tbest: 0.1793327 (169)\ttotal: 4m 41s\tremaining: 49.6s\n",
      "170:\tlearn: 0.1747909\ttest: 0.1791964\tbest: 0.1791964 (170)\ttotal: 4m 43s\tremaining: 48s\n",
      "171:\tlearn: 0.1746165\ttest: 0.1790422\tbest: 0.1790422 (171)\ttotal: 4m 44s\tremaining: 46.4s\n",
      "172:\tlearn: 0.1744510\ttest: 0.1789041\tbest: 0.1789041 (172)\ttotal: 4m 46s\tremaining: 44.7s\n",
      "173:\tlearn: 0.1742668\ttest: 0.1786970\tbest: 0.1786970 (173)\ttotal: 4m 47s\tremaining: 43s\n",
      "174:\tlearn: 0.1741049\ttest: 0.1785599\tbest: 0.1785599 (174)\ttotal: 4m 49s\tremaining: 41.4s\n",
      "175:\tlearn: 0.1739124\ttest: 0.1784115\tbest: 0.1784115 (175)\ttotal: 4m 51s\tremaining: 39.7s\n",
      "176:\tlearn: 0.1737309\ttest: 0.1782596\tbest: 0.1782596 (176)\ttotal: 4m 52s\tremaining: 38s\n",
      "177:\tlearn: 0.1735072\ttest: 0.1780714\tbest: 0.1780714 (177)\ttotal: 4m 54s\tremaining: 36.4s\n",
      "178:\tlearn: 0.1733360\ttest: 0.1778910\tbest: 0.1778910 (178)\ttotal: 4m 55s\tremaining: 34.7s\n",
      "179:\tlearn: 0.1730928\ttest: 0.1776607\tbest: 0.1776607 (179)\ttotal: 4m 57s\tremaining: 33.1s\n",
      "180:\tlearn: 0.1728981\ttest: 0.1775083\tbest: 0.1775083 (180)\ttotal: 4m 59s\tremaining: 31.4s\n",
      "181:\tlearn: 0.1726842\ttest: 0.1772712\tbest: 0.1772712 (181)\ttotal: 5m 1s\tremaining: 29.8s\n",
      "182:\tlearn: 0.1724563\ttest: 0.1770766\tbest: 0.1770766 (182)\ttotal: 5m 2s\tremaining: 28.1s\n",
      "183:\tlearn: 0.1722709\ttest: 0.1769407\tbest: 0.1769407 (183)\ttotal: 5m 4s\tremaining: 26.5s\n",
      "184:\tlearn: 0.1720969\ttest: 0.1767873\tbest: 0.1767873 (184)\ttotal: 5m 5s\tremaining: 24.8s\n",
      "185:\tlearn: 0.1718939\ttest: 0.1765898\tbest: 0.1765898 (185)\ttotal: 5m 7s\tremaining: 23.1s\n",
      "186:\tlearn: 0.1717431\ttest: 0.1764449\tbest: 0.1764449 (186)\ttotal: 5m 8s\tremaining: 21.5s\n",
      "187:\tlearn: 0.1715947\ttest: 0.1763346\tbest: 0.1763346 (187)\ttotal: 5m 10s\tremaining: 19.8s\n",
      "188:\tlearn: 0.1714367\ttest: 0.1761877\tbest: 0.1761877 (188)\ttotal: 5m 12s\tremaining: 18.2s\n",
      "189:\tlearn: 0.1712140\ttest: 0.1760075\tbest: 0.1760075 (189)\ttotal: 5m 13s\tremaining: 16.5s\n",
      "190:\tlearn: 0.1710593\ttest: 0.1758740\tbest: 0.1758740 (190)\ttotal: 5m 15s\tremaining: 14.9s\n",
      "191:\tlearn: 0.1708277\ttest: 0.1756695\tbest: 0.1756695 (191)\ttotal: 5m 17s\tremaining: 13.2s\n",
      "192:\tlearn: 0.1706473\ttest: 0.1755315\tbest: 0.1755315 (192)\ttotal: 5m 18s\tremaining: 11.6s\n",
      "193:\tlearn: 0.1704629\ttest: 0.1753739\tbest: 0.1753739 (193)\ttotal: 5m 20s\tremaining: 9.91s\n",
      "194:\tlearn: 0.1703011\ttest: 0.1752282\tbest: 0.1752282 (194)\ttotal: 5m 22s\tremaining: 8.26s\n",
      "195:\tlearn: 0.1701531\ttest: 0.1750640\tbest: 0.1750640 (195)\ttotal: 5m 23s\tremaining: 6.61s\n",
      "196:\tlearn: 0.1700132\ttest: 0.1749362\tbest: 0.1749362 (196)\ttotal: 5m 25s\tremaining: 4.95s\n",
      "197:\tlearn: 0.1698238\ttest: 0.1747819\tbest: 0.1747819 (197)\ttotal: 5m 27s\tremaining: 3.3s\n",
      "198:\tlearn: 0.1696552\ttest: 0.1746389\tbest: 0.1746389 (198)\ttotal: 5m 28s\tremaining: 1.65s\n",
      "199:\tlearn: 0.1694896\ttest: 0.1744790\tbest: 0.1744790 (199)\ttotal: 5m 30s\tremaining: 0us\n",
      "\n",
      "bestTest = 0.1744789738\n",
      "bestIteration = 199\n",
      "\n",
      "2:\tloss: 0.1744790\tbest: 0.1512296 (1)\ttotal: 10m 31s\tremaining: 3m 30s\n",
      "0:\tlearn: 0.5933311\ttest: 0.5930790\tbest: 0.5930790 (0)\ttotal: 1.71s\tremaining: 5m 40s\n",
      "1:\tlearn: 0.5121724\ttest: 0.5121556\tbest: 0.5121556 (1)\ttotal: 3.38s\tremaining: 5m 34s\n",
      "2:\tlearn: 0.4502190\ttest: 0.4501921\tbest: 0.4501921 (2)\ttotal: 5s\tremaining: 5m 28s\n",
      "3:\tlearn: 0.4024142\ttest: 0.4023472\tbest: 0.4023472 (3)\ttotal: 6.63s\tremaining: 5m 24s\n",
      "4:\tlearn: 0.3657233\ttest: 0.3655893\tbest: 0.3655893 (4)\ttotal: 8.24s\tremaining: 5m 21s\n",
      "5:\tlearn: 0.3355720\ttest: 0.3352961\tbest: 0.3352961 (5)\ttotal: 9.86s\tremaining: 5m 18s\n",
      "6:\tlearn: 0.3120543\ttest: 0.3118883\tbest: 0.3118883 (6)\ttotal: 11.5s\tremaining: 5m 16s\n",
      "7:\tlearn: 0.2940039\ttest: 0.2939987\tbest: 0.2939987 (7)\ttotal: 13.1s\tremaining: 5m 14s\n",
      "8:\tlearn: 0.2791065\ttest: 0.2792740\tbest: 0.2792740 (8)\ttotal: 14.9s\tremaining: 5m 15s\n",
      "9:\tlearn: 0.2677728\ttest: 0.2681087\tbest: 0.2681087 (9)\ttotal: 16.6s\tremaining: 5m 15s\n",
      "10:\tlearn: 0.2580781\ttest: 0.2582974\tbest: 0.2582974 (10)\ttotal: 18.3s\tremaining: 5m 13s\n",
      "11:\tlearn: 0.2497383\ttest: 0.2500379\tbest: 0.2500379 (11)\ttotal: 19.9s\tremaining: 5m 11s\n",
      "12:\tlearn: 0.2435883\ttest: 0.2438649\tbest: 0.2438649 (12)\ttotal: 21.5s\tremaining: 5m 9s\n",
      "13:\tlearn: 0.2373357\ttest: 0.2378489\tbest: 0.2378489 (13)\ttotal: 23.2s\tremaining: 5m 7s\n",
      "14:\tlearn: 0.2321401\ttest: 0.2329318\tbest: 0.2329318 (14)\ttotal: 24.8s\tremaining: 5m 5s\n",
      "15:\tlearn: 0.2277490\ttest: 0.2288445\tbest: 0.2288445 (15)\ttotal: 26.4s\tremaining: 5m 3s\n",
      "16:\tlearn: 0.2228610\ttest: 0.2240633\tbest: 0.2240633 (16)\ttotal: 28s\tremaining: 5m 1s\n",
      "17:\tlearn: 0.2198665\ttest: 0.2210298\tbest: 0.2210298 (17)\ttotal: 29.6s\tremaining: 4m 59s\n",
      "18:\tlearn: 0.2167344\ttest: 0.2181323\tbest: 0.2181323 (18)\ttotal: 31.5s\tremaining: 4m 59s\n",
      "19:\tlearn: 0.2133516\ttest: 0.2148958\tbest: 0.2148958 (19)\ttotal: 33.3s\tremaining: 4m 59s\n",
      "20:\tlearn: 0.2100684\ttest: 0.2118503\tbest: 0.2118503 (20)\ttotal: 35s\tremaining: 4m 58s\n",
      "21:\tlearn: 0.2076676\ttest: 0.2095016\tbest: 0.2095016 (21)\ttotal: 36.7s\tremaining: 4m 56s\n",
      "22:\tlearn: 0.2057883\ttest: 0.2073716\tbest: 0.2073716 (22)\ttotal: 38.3s\tremaining: 4m 54s\n",
      "23:\tlearn: 0.2038505\ttest: 0.2056933\tbest: 0.2056933 (23)\ttotal: 39.9s\tremaining: 4m 52s\n",
      "24:\tlearn: 0.2016978\ttest: 0.2036915\tbest: 0.2036915 (24)\ttotal: 41.5s\tremaining: 4m 50s\n",
      "25:\tlearn: 0.2000546\ttest: 0.2019896\tbest: 0.2019896 (25)\ttotal: 43.2s\tremaining: 4m 48s\n",
      "26:\tlearn: 0.1986571\ttest: 0.2006120\tbest: 0.2006120 (26)\ttotal: 44.7s\tremaining: 4m 46s\n",
      "27:\tlearn: 0.1972144\ttest: 0.1992636\tbest: 0.1992636 (27)\ttotal: 46.4s\tremaining: 4m 45s\n",
      "28:\tlearn: 0.1954111\ttest: 0.1975391\tbest: 0.1975391 (28)\ttotal: 48.3s\tremaining: 4m 44s\n",
      "29:\tlearn: 0.1940061\ttest: 0.1963514\tbest: 0.1963514 (29)\ttotal: 49.9s\tremaining: 4m 43s\n",
      "30:\tlearn: 0.1927768\ttest: 0.1952299\tbest: 0.1952299 (30)\ttotal: 51.5s\tremaining: 4m 40s\n",
      "31:\tlearn: 0.1915225\ttest: 0.1942630\tbest: 0.1942630 (31)\ttotal: 53.1s\tremaining: 4m 39s\n",
      "32:\tlearn: 0.1903780\ttest: 0.1931820\tbest: 0.1931820 (32)\ttotal: 54.7s\tremaining: 4m 37s\n",
      "33:\tlearn: 0.1891304\ttest: 0.1921115\tbest: 0.1921115 (33)\ttotal: 56.3s\tremaining: 4m 35s\n",
      "34:\tlearn: 0.1882102\ttest: 0.1911224\tbest: 0.1911224 (34)\ttotal: 57.9s\tremaining: 4m 33s\n",
      "35:\tlearn: 0.1871545\ttest: 0.1900916\tbest: 0.1900916 (35)\ttotal: 59.6s\tremaining: 4m 31s\n",
      "36:\tlearn: 0.1859426\ttest: 0.1889002\tbest: 0.1889002 (36)\ttotal: 1m 1s\tremaining: 4m 29s\n",
      "37:\tlearn: 0.1847226\ttest: 0.1878427\tbest: 0.1878427 (37)\ttotal: 1m 2s\tremaining: 4m 28s\n",
      "38:\tlearn: 0.1838758\ttest: 0.1870612\tbest: 0.1870612 (38)\ttotal: 1m 4s\tremaining: 4m 27s\n",
      "39:\tlearn: 0.1829538\ttest: 0.1861250\tbest: 0.1861250 (39)\ttotal: 1m 6s\tremaining: 4m 25s\n",
      "40:\tlearn: 0.1822297\ttest: 0.1855623\tbest: 0.1855623 (40)\ttotal: 1m 7s\tremaining: 4m 23s\n",
      "41:\tlearn: 0.1812710\ttest: 0.1848670\tbest: 0.1848670 (41)\ttotal: 1m 9s\tremaining: 4m 21s\n",
      "42:\tlearn: 0.1802606\ttest: 0.1839721\tbest: 0.1839721 (42)\ttotal: 1m 11s\tremaining: 4m 19s\n",
      "43:\tlearn: 0.1795269\ttest: 0.1831548\tbest: 0.1831548 (43)\ttotal: 1m 12s\tremaining: 4m 17s\n",
      "44:\tlearn: 0.1784784\ttest: 0.1821157\tbest: 0.1821157 (44)\ttotal: 1m 14s\tremaining: 4m 16s\n",
      "45:\tlearn: 0.1778087\ttest: 0.1814697\tbest: 0.1814697 (45)\ttotal: 1m 16s\tremaining: 4m 14s\n",
      "46:\tlearn: 0.1770769\ttest: 0.1808865\tbest: 0.1808865 (46)\ttotal: 1m 17s\tremaining: 4m 12s\n",
      "47:\tlearn: 0.1763006\ttest: 0.1801423\tbest: 0.1801423 (47)\ttotal: 1m 19s\tremaining: 4m 12s\n",
      "48:\tlearn: 0.1755212\ttest: 0.1793750\tbest: 0.1793750 (48)\ttotal: 1m 21s\tremaining: 4m 10s\n",
      "49:\tlearn: 0.1749221\ttest: 0.1788498\tbest: 0.1788498 (49)\ttotal: 1m 22s\tremaining: 4m 8s\n",
      "50:\tlearn: 0.1741320\ttest: 0.1782499\tbest: 0.1782499 (50)\ttotal: 1m 24s\tremaining: 4m 6s\n",
      "51:\tlearn: 0.1735497\ttest: 0.1777548\tbest: 0.1777548 (51)\ttotal: 1m 26s\tremaining: 4m 4s\n",
      "52:\tlearn: 0.1728716\ttest: 0.1771661\tbest: 0.1771661 (52)\ttotal: 1m 27s\tremaining: 4m 3s\n",
      "53:\tlearn: 0.1721711\ttest: 0.1763819\tbest: 0.1763819 (53)\ttotal: 1m 29s\tremaining: 4m 1s\n",
      "54:\tlearn: 0.1716599\ttest: 0.1759966\tbest: 0.1759966 (54)\ttotal: 1m 30s\tremaining: 3m 59s\n",
      "55:\tlearn: 0.1710378\ttest: 0.1753895\tbest: 0.1753895 (55)\ttotal: 1m 32s\tremaining: 3m 57s\n",
      "56:\tlearn: 0.1704321\ttest: 0.1748087\tbest: 0.1748087 (56)\ttotal: 1m 34s\tremaining: 3m 56s\n",
      "57:\tlearn: 0.1698187\ttest: 0.1742684\tbest: 0.1742684 (57)\ttotal: 1m 35s\tremaining: 3m 54s\n",
      "58:\tlearn: 0.1693244\ttest: 0.1738903\tbest: 0.1738903 (58)\ttotal: 1m 37s\tremaining: 3m 53s\n",
      "59:\tlearn: 0.1685401\ttest: 0.1731938\tbest: 0.1731938 (59)\ttotal: 1m 39s\tremaining: 3m 51s\n",
      "60:\tlearn: 0.1679924\ttest: 0.1725335\tbest: 0.1725335 (60)\ttotal: 1m 40s\tremaining: 3m 49s\n",
      "61:\tlearn: 0.1672375\ttest: 0.1717811\tbest: 0.1717811 (61)\ttotal: 1m 42s\tremaining: 3m 48s\n",
      "62:\tlearn: 0.1666436\ttest: 0.1711457\tbest: 0.1711457 (62)\ttotal: 1m 44s\tremaining: 3m 46s\n",
      "63:\tlearn: 0.1662085\ttest: 0.1707101\tbest: 0.1707101 (63)\ttotal: 1m 45s\tremaining: 3m 44s\n",
      "64:\tlearn: 0.1656827\ttest: 0.1702196\tbest: 0.1702196 (64)\ttotal: 1m 47s\tremaining: 3m 43s\n",
      "65:\tlearn: 0.1652579\ttest: 0.1699458\tbest: 0.1699458 (65)\ttotal: 1m 49s\tremaining: 3m 41s\n",
      "66:\tlearn: 0.1648409\ttest: 0.1695848\tbest: 0.1695848 (66)\ttotal: 1m 50s\tremaining: 3m 39s\n",
      "67:\tlearn: 0.1644650\ttest: 0.1691690\tbest: 0.1691690 (67)\ttotal: 1m 52s\tremaining: 3m 38s\n",
      "68:\tlearn: 0.1639318\ttest: 0.1687941\tbest: 0.1687941 (68)\ttotal: 1m 54s\tremaining: 3m 36s\n",
      "69:\tlearn: 0.1634854\ttest: 0.1683740\tbest: 0.1683740 (69)\ttotal: 1m 55s\tremaining: 3m 35s\n",
      "70:\tlearn: 0.1629089\ttest: 0.1678216\tbest: 0.1678216 (70)\ttotal: 1m 57s\tremaining: 3m 33s\n",
      "71:\tlearn: 0.1621403\ttest: 0.1671639\tbest: 0.1671639 (71)\ttotal: 1m 59s\tremaining: 3m 31s\n",
      "72:\tlearn: 0.1617127\ttest: 0.1667920\tbest: 0.1667920 (72)\ttotal: 2m\tremaining: 3m 29s\n",
      "73:\tlearn: 0.1612408\ttest: 0.1664638\tbest: 0.1664638 (73)\ttotal: 2m 2s\tremaining: 3m 28s\n",
      "74:\tlearn: 0.1608501\ttest: 0.1660543\tbest: 0.1660543 (74)\ttotal: 2m 3s\tremaining: 3m 26s\n",
      "75:\tlearn: 0.1603089\ttest: 0.1656839\tbest: 0.1656839 (75)\ttotal: 2m 5s\tremaining: 3m 24s\n",
      "76:\tlearn: 0.1599037\ttest: 0.1653632\tbest: 0.1653632 (76)\ttotal: 2m 7s\tremaining: 3m 23s\n",
      "77:\tlearn: 0.1595671\ttest: 0.1650682\tbest: 0.1650682 (77)\ttotal: 2m 8s\tremaining: 3m 21s\n",
      "78:\tlearn: 0.1590451\ttest: 0.1647383\tbest: 0.1647383 (78)\ttotal: 2m 10s\tremaining: 3m 19s\n",
      "79:\tlearn: 0.1587286\ttest: 0.1644962\tbest: 0.1644962 (79)\ttotal: 2m 12s\tremaining: 3m 18s\n",
      "80:\tlearn: 0.1584204\ttest: 0.1642652\tbest: 0.1642652 (80)\ttotal: 2m 13s\tremaining: 3m 16s\n",
      "81:\tlearn: 0.1580287\ttest: 0.1640444\tbest: 0.1640444 (81)\ttotal: 2m 15s\tremaining: 3m 14s\n",
      "82:\tlearn: 0.1577031\ttest: 0.1637375\tbest: 0.1637375 (82)\ttotal: 2m 16s\tremaining: 3m 12s\n",
      "83:\tlearn: 0.1573595\ttest: 0.1633730\tbest: 0.1633730 (83)\ttotal: 2m 18s\tremaining: 3m 11s\n",
      "84:\tlearn: 0.1570324\ttest: 0.1631838\tbest: 0.1631838 (84)\ttotal: 2m 19s\tremaining: 3m 9s\n",
      "85:\tlearn: 0.1567289\ttest: 0.1628601\tbest: 0.1628601 (85)\ttotal: 2m 21s\tremaining: 3m 7s\n",
      "86:\tlearn: 0.1564069\ttest: 0.1624067\tbest: 0.1624067 (86)\ttotal: 2m 23s\tremaining: 3m 6s\n",
      "87:\tlearn: 0.1560761\ttest: 0.1622128\tbest: 0.1622128 (87)\ttotal: 2m 25s\tremaining: 3m 4s\n",
      "88:\tlearn: 0.1556382\ttest: 0.1617829\tbest: 0.1617829 (88)\ttotal: 2m 26s\tremaining: 3m 2s\n",
      "89:\tlearn: 0.1550440\ttest: 0.1612362\tbest: 0.1612362 (89)\ttotal: 2m 28s\tremaining: 3m 1s\n",
      "90:\tlearn: 0.1547203\ttest: 0.1609586\tbest: 0.1609586 (90)\ttotal: 2m 29s\tremaining: 2m 59s\n",
      "91:\tlearn: 0.1543055\ttest: 0.1606468\tbest: 0.1606468 (91)\ttotal: 2m 31s\tremaining: 2m 57s\n",
      "92:\tlearn: 0.1540219\ttest: 0.1603854\tbest: 0.1603854 (92)\ttotal: 2m 33s\tremaining: 2m 56s\n",
      "93:\tlearn: 0.1537319\ttest: 0.1601791\tbest: 0.1601791 (93)\ttotal: 2m 34s\tremaining: 2m 54s\n",
      "94:\tlearn: 0.1534036\ttest: 0.1599730\tbest: 0.1599730 (94)\ttotal: 2m 36s\tremaining: 2m 52s\n",
      "95:\tlearn: 0.1530176\ttest: 0.1597104\tbest: 0.1597104 (95)\ttotal: 2m 37s\tremaining: 2m 50s\n",
      "96:\tlearn: 0.1526878\ttest: 0.1594408\tbest: 0.1594408 (96)\ttotal: 2m 39s\tremaining: 2m 49s\n",
      "97:\tlearn: 0.1522637\ttest: 0.1591653\tbest: 0.1591653 (97)\ttotal: 2m 41s\tremaining: 2m 47s\n",
      "98:\tlearn: 0.1520201\ttest: 0.1589480\tbest: 0.1589480 (98)\ttotal: 2m 42s\tremaining: 2m 46s\n",
      "99:\tlearn: 0.1517134\ttest: 0.1587167\tbest: 0.1587167 (99)\ttotal: 2m 44s\tremaining: 2m 44s\n",
      "100:\tlearn: 0.1514114\ttest: 0.1583930\tbest: 0.1583930 (100)\ttotal: 2m 45s\tremaining: 2m 42s\n",
      "101:\tlearn: 0.1511380\ttest: 0.1581537\tbest: 0.1581537 (101)\ttotal: 2m 47s\tremaining: 2m 41s\n",
      "102:\tlearn: 0.1507517\ttest: 0.1578474\tbest: 0.1578474 (102)\ttotal: 2m 49s\tremaining: 2m 39s\n",
      "103:\tlearn: 0.1505056\ttest: 0.1577230\tbest: 0.1577230 (103)\ttotal: 2m 50s\tremaining: 2m 37s\n",
      "104:\tlearn: 0.1502206\ttest: 0.1575090\tbest: 0.1575090 (104)\ttotal: 2m 52s\tremaining: 2m 35s\n",
      "105:\tlearn: 0.1499188\ttest: 0.1572654\tbest: 0.1572654 (105)\ttotal: 2m 53s\tremaining: 2m 34s\n",
      "106:\tlearn: 0.1496395\ttest: 0.1569671\tbest: 0.1569671 (106)\ttotal: 2m 55s\tremaining: 2m 32s\n",
      "107:\tlearn: 0.1493756\ttest: 0.1568062\tbest: 0.1568062 (107)\ttotal: 2m 57s\tremaining: 2m 31s\n",
      "108:\tlearn: 0.1490961\ttest: 0.1564787\tbest: 0.1564787 (108)\ttotal: 2m 58s\tremaining: 2m 29s\n",
      "109:\tlearn: 0.1487465\ttest: 0.1562163\tbest: 0.1562163 (109)\ttotal: 3m\tremaining: 2m 27s\n",
      "110:\tlearn: 0.1484530\ttest: 0.1560343\tbest: 0.1560343 (110)\ttotal: 3m 2s\tremaining: 2m 26s\n",
      "111:\tlearn: 0.1481667\ttest: 0.1558295\tbest: 0.1558295 (111)\ttotal: 3m 3s\tremaining: 2m 24s\n",
      "112:\tlearn: 0.1478895\ttest: 0.1556251\tbest: 0.1556251 (112)\ttotal: 3m 5s\tremaining: 2m 22s\n",
      "113:\tlearn: 0.1476501\ttest: 0.1554403\tbest: 0.1554403 (113)\ttotal: 3m 6s\tremaining: 2m 21s\n",
      "114:\tlearn: 0.1472483\ttest: 0.1550777\tbest: 0.1550777 (114)\ttotal: 3m 8s\tremaining: 2m 19s\n",
      "115:\tlearn: 0.1469723\ttest: 0.1549237\tbest: 0.1549237 (115)\ttotal: 3m 10s\tremaining: 2m 17s\n",
      "116:\tlearn: 0.1464939\ttest: 0.1545140\tbest: 0.1545140 (116)\ttotal: 3m 12s\tremaining: 2m 16s\n",
      "117:\tlearn: 0.1462969\ttest: 0.1544418\tbest: 0.1544418 (117)\ttotal: 3m 13s\tremaining: 2m 14s\n",
      "118:\tlearn: 0.1460167\ttest: 0.1542990\tbest: 0.1542990 (118)\ttotal: 3m 15s\tremaining: 2m 12s\n",
      "119:\tlearn: 0.1455646\ttest: 0.1539417\tbest: 0.1539417 (119)\ttotal: 3m 16s\tremaining: 2m 11s\n",
      "120:\tlearn: 0.1451153\ttest: 0.1534830\tbest: 0.1534830 (120)\ttotal: 3m 18s\tremaining: 2m 9s\n",
      "121:\tlearn: 0.1448973\ttest: 0.1531863\tbest: 0.1531863 (121)\ttotal: 3m 20s\tremaining: 2m 7s\n",
      "122:\tlearn: 0.1447153\ttest: 0.1531111\tbest: 0.1531111 (122)\ttotal: 3m 21s\tremaining: 2m 6s\n",
      "123:\tlearn: 0.1444346\ttest: 0.1528935\tbest: 0.1528935 (123)\ttotal: 3m 23s\tremaining: 2m 4s\n",
      "124:\tlearn: 0.1442214\ttest: 0.1528390\tbest: 0.1528390 (124)\ttotal: 3m 24s\tremaining: 2m 2s\n",
      "125:\tlearn: 0.1440005\ttest: 0.1526388\tbest: 0.1526388 (125)\ttotal: 3m 26s\tremaining: 2m 1s\n",
      "126:\tlearn: 0.1437545\ttest: 0.1523727\tbest: 0.1523727 (126)\ttotal: 3m 28s\tremaining: 1m 59s\n",
      "127:\tlearn: 0.1434618\ttest: 0.1521971\tbest: 0.1521971 (127)\ttotal: 3m 29s\tremaining: 1m 58s\n",
      "128:\tlearn: 0.1432771\ttest: 0.1520459\tbest: 0.1520459 (128)\ttotal: 3m 31s\tremaining: 1m 56s\n",
      "129:\tlearn: 0.1430583\ttest: 0.1518746\tbest: 0.1518746 (129)\ttotal: 3m 33s\tremaining: 1m 54s\n",
      "130:\tlearn: 0.1426947\ttest: 0.1515874\tbest: 0.1515874 (130)\ttotal: 3m 34s\tremaining: 1m 53s\n",
      "131:\tlearn: 0.1424851\ttest: 0.1514245\tbest: 0.1514245 (131)\ttotal: 3m 36s\tremaining: 1m 51s\n",
      "132:\tlearn: 0.1422691\ttest: 0.1512412\tbest: 0.1512412 (132)\ttotal: 3m 37s\tremaining: 1m 49s\n",
      "133:\tlearn: 0.1420149\ttest: 0.1509881\tbest: 0.1509881 (133)\ttotal: 3m 39s\tremaining: 1m 48s\n",
      "134:\tlearn: 0.1417768\ttest: 0.1508049\tbest: 0.1508049 (134)\ttotal: 3m 41s\tremaining: 1m 46s\n",
      "135:\tlearn: 0.1415135\ttest: 0.1506470\tbest: 0.1506470 (135)\ttotal: 3m 42s\tremaining: 1m 44s\n",
      "136:\tlearn: 0.1411734\ttest: 0.1503543\tbest: 0.1503543 (136)\ttotal: 3m 44s\tremaining: 1m 43s\n",
      "137:\tlearn: 0.1409753\ttest: 0.1501838\tbest: 0.1501838 (137)\ttotal: 3m 46s\tremaining: 1m 41s\n",
      "138:\tlearn: 0.1406312\ttest: 0.1499632\tbest: 0.1499632 (138)\ttotal: 3m 47s\tremaining: 1m 39s\n",
      "139:\tlearn: 0.1404674\ttest: 0.1498426\tbest: 0.1498426 (139)\ttotal: 3m 49s\tremaining: 1m 38s\n",
      "140:\tlearn: 0.1403081\ttest: 0.1497295\tbest: 0.1497295 (140)\ttotal: 3m 50s\tremaining: 1m 36s\n",
      "141:\tlearn: 0.1400563\ttest: 0.1495578\tbest: 0.1495578 (141)\ttotal: 3m 52s\tremaining: 1m 34s\n",
      "142:\tlearn: 0.1397966\ttest: 0.1493448\tbest: 0.1493448 (142)\ttotal: 3m 54s\tremaining: 1m 33s\n",
      "143:\tlearn: 0.1394839\ttest: 0.1491507\tbest: 0.1491507 (143)\ttotal: 3m 55s\tremaining: 1m 31s\n",
      "144:\tlearn: 0.1392702\ttest: 0.1490601\tbest: 0.1490601 (144)\ttotal: 3m 57s\tremaining: 1m 30s\n",
      "145:\tlearn: 0.1390210\ttest: 0.1487762\tbest: 0.1487762 (145)\ttotal: 3m 59s\tremaining: 1m 28s\n",
      "146:\tlearn: 0.1386837\ttest: 0.1485134\tbest: 0.1485134 (146)\ttotal: 4m\tremaining: 1m 26s\n",
      "147:\tlearn: 0.1384537\ttest: 0.1482984\tbest: 0.1482984 (147)\ttotal: 4m 2s\tremaining: 1m 25s\n",
      "148:\tlearn: 0.1380725\ttest: 0.1479489\tbest: 0.1479489 (148)\ttotal: 4m 3s\tremaining: 1m 23s\n",
      "149:\tlearn: 0.1378331\ttest: 0.1478525\tbest: 0.1478525 (149)\ttotal: 4m 5s\tremaining: 1m 21s\n",
      "150:\tlearn: 0.1375361\ttest: 0.1476486\tbest: 0.1476486 (150)\ttotal: 4m 7s\tremaining: 1m 20s\n",
      "151:\tlearn: 0.1372493\ttest: 0.1474110\tbest: 0.1474110 (151)\ttotal: 4m 8s\tremaining: 1m 18s\n",
      "152:\tlearn: 0.1370237\ttest: 0.1472948\tbest: 0.1472948 (152)\ttotal: 4m 10s\tremaining: 1m 16s\n",
      "153:\tlearn: 0.1368466\ttest: 0.1472484\tbest: 0.1472484 (153)\ttotal: 4m 12s\tremaining: 1m 15s\n",
      "154:\tlearn: 0.1365984\ttest: 0.1469972\tbest: 0.1469972 (154)\ttotal: 4m 13s\tremaining: 1m 13s\n",
      "155:\tlearn: 0.1363773\ttest: 0.1468324\tbest: 0.1468324 (155)\ttotal: 4m 15s\tremaining: 1m 12s\n",
      "156:\tlearn: 0.1361320\ttest: 0.1466442\tbest: 0.1466442 (156)\ttotal: 4m 17s\tremaining: 1m 10s\n",
      "157:\tlearn: 0.1359808\ttest: 0.1465990\tbest: 0.1465990 (157)\ttotal: 4m 18s\tremaining: 1m 8s\n",
      "158:\tlearn: 0.1358050\ttest: 0.1464267\tbest: 0.1464267 (158)\ttotal: 4m 20s\tremaining: 1m 7s\n",
      "159:\tlearn: 0.1355962\ttest: 0.1463070\tbest: 0.1463070 (159)\ttotal: 4m 21s\tremaining: 1m 5s\n",
      "160:\tlearn: 0.1354894\ttest: 0.1462866\tbest: 0.1462866 (160)\ttotal: 4m 23s\tremaining: 1m 3s\n",
      "161:\tlearn: 0.1353002\ttest: 0.1462152\tbest: 0.1462152 (161)\ttotal: 4m 25s\tremaining: 1m 2s\n",
      "162:\tlearn: 0.1350826\ttest: 0.1461009\tbest: 0.1461009 (162)\ttotal: 4m 26s\tremaining: 1m\n",
      "163:\tlearn: 0.1348932\ttest: 0.1459078\tbest: 0.1459078 (163)\ttotal: 4m 28s\tremaining: 58.9s\n",
      "164:\tlearn: 0.1347526\ttest: 0.1457887\tbest: 0.1457887 (164)\ttotal: 4m 29s\tremaining: 57.2s\n",
      "165:\tlearn: 0.1345511\ttest: 0.1456848\tbest: 0.1456848 (165)\ttotal: 4m 31s\tremaining: 55.6s\n",
      "166:\tlearn: 0.1343931\ttest: 0.1456019\tbest: 0.1456019 (166)\ttotal: 4m 33s\tremaining: 54s\n",
      "167:\tlearn: 0.1342128\ttest: 0.1454070\tbest: 0.1454070 (167)\ttotal: 4m 34s\tremaining: 52.3s\n",
      "168:\tlearn: 0.1340335\ttest: 0.1453520\tbest: 0.1453520 (168)\ttotal: 4m 36s\tremaining: 50.7s\n",
      "169:\tlearn: 0.1338139\ttest: 0.1452365\tbest: 0.1452365 (169)\ttotal: 4m 38s\tremaining: 49.1s\n",
      "170:\tlearn: 0.1336299\ttest: 0.1450873\tbest: 0.1450873 (170)\ttotal: 4m 39s\tremaining: 47.4s\n",
      "171:\tlearn: 0.1334750\ttest: 0.1449492\tbest: 0.1449492 (171)\ttotal: 4m 41s\tremaining: 45.8s\n",
      "172:\tlearn: 0.1333365\ttest: 0.1449215\tbest: 0.1449215 (172)\ttotal: 4m 42s\tremaining: 44.1s\n",
      "173:\tlearn: 0.1330415\ttest: 0.1446801\tbest: 0.1446801 (173)\ttotal: 4m 44s\tremaining: 42.5s\n",
      "174:\tlearn: 0.1329213\ttest: 0.1445117\tbest: 0.1445117 (174)\ttotal: 4m 45s\tremaining: 40.9s\n",
      "175:\tlearn: 0.1327153\ttest: 0.1443968\tbest: 0.1443968 (175)\ttotal: 4m 47s\tremaining: 39.2s\n",
      "176:\tlearn: 0.1325394\ttest: 0.1442037\tbest: 0.1442037 (176)\ttotal: 4m 49s\tremaining: 37.6s\n",
      "177:\tlearn: 0.1323663\ttest: 0.1440838\tbest: 0.1440838 (177)\ttotal: 4m 51s\tremaining: 36s\n",
      "178:\tlearn: 0.1321643\ttest: 0.1439560\tbest: 0.1439560 (178)\ttotal: 4m 52s\tremaining: 34.3s\n",
      "179:\tlearn: 0.1319418\ttest: 0.1437145\tbest: 0.1437145 (179)\ttotal: 4m 54s\tremaining: 32.7s\n",
      "180:\tlearn: 0.1317526\ttest: 0.1436289\tbest: 0.1436289 (180)\ttotal: 4m 55s\tremaining: 31.1s\n",
      "181:\tlearn: 0.1315753\ttest: 0.1435530\tbest: 0.1435530 (181)\ttotal: 4m 57s\tremaining: 29.4s\n",
      "182:\tlearn: 0.1314430\ttest: 0.1434739\tbest: 0.1434739 (182)\ttotal: 4m 58s\tremaining: 27.8s\n",
      "183:\tlearn: 0.1312704\ttest: 0.1434203\tbest: 0.1434203 (183)\ttotal: 5m\tremaining: 26.1s\n",
      "184:\tlearn: 0.1311336\ttest: 0.1433118\tbest: 0.1433118 (184)\ttotal: 5m 2s\tremaining: 24.5s\n",
      "185:\tlearn: 0.1309613\ttest: 0.1432408\tbest: 0.1432408 (185)\ttotal: 5m 4s\tremaining: 22.9s\n",
      "186:\tlearn: 0.1308065\ttest: 0.1431525\tbest: 0.1431525 (186)\ttotal: 5m 5s\tremaining: 21.2s\n",
      "187:\tlearn: 0.1306776\ttest: 0.1430828\tbest: 0.1430828 (187)\ttotal: 5m 7s\tremaining: 19.6s\n",
      "188:\tlearn: 0.1305784\ttest: 0.1430404\tbest: 0.1430404 (188)\ttotal: 5m 8s\tremaining: 18s\n",
      "189:\tlearn: 0.1304321\ttest: 0.1429734\tbest: 0.1429734 (189)\ttotal: 5m 10s\tremaining: 16.3s\n",
      "190:\tlearn: 0.1303092\ttest: 0.1429373\tbest: 0.1429373 (190)\ttotal: 5m 11s\tremaining: 14.7s\n",
      "191:\tlearn: 0.1300486\ttest: 0.1427659\tbest: 0.1427659 (191)\ttotal: 5m 13s\tremaining: 13.1s\n",
      "192:\tlearn: 0.1297655\ttest: 0.1425315\tbest: 0.1425315 (192)\ttotal: 5m 15s\tremaining: 11.4s\n",
      "193:\tlearn: 0.1296265\ttest: 0.1423735\tbest: 0.1423735 (193)\ttotal: 5m 16s\tremaining: 9.8s\n",
      "194:\tlearn: 0.1294607\ttest: 0.1422107\tbest: 0.1422107 (194)\ttotal: 5m 18s\tremaining: 8.16s\n",
      "195:\tlearn: 0.1293718\ttest: 0.1421664\tbest: 0.1421664 (195)\ttotal: 5m 20s\tremaining: 6.53s\n",
      "196:\tlearn: 0.1292890\ttest: 0.1421343\tbest: 0.1421343 (196)\ttotal: 5m 21s\tremaining: 4.9s\n",
      "197:\tlearn: 0.1291274\ttest: 0.1419363\tbest: 0.1419363 (197)\ttotal: 5m 23s\tremaining: 3.27s\n",
      "198:\tlearn: 0.1290246\ttest: 0.1418894\tbest: 0.1418894 (198)\ttotal: 5m 24s\tremaining: 1.63s\n",
      "199:\tlearn: 0.1288642\ttest: 0.1418259\tbest: 0.1418259 (199)\ttotal: 5m 26s\tremaining: 0us\n",
      "\n",
      "bestTest = 0.14182586\n",
      "bestIteration = 199\n",
      "\n",
      "3:\tloss: 0.1418259\tbest: 0.1418259 (3)\ttotal: 15m 58s\tremaining: 0us\n",
      "Estimating final quality...\n",
      "Training on fold [0/3]\n",
      "0:\tlearn: 0.5904309\ttest: 0.5904388\tbest: 0.5904388 (0)\ttotal: 1.42s\tremaining: 4m 43s\n",
      "1:\tlearn: 0.5117221\ttest: 0.5120522\tbest: 0.5120522 (1)\ttotal: 2.81s\tremaining: 4m 38s\n",
      "2:\tlearn: 0.4551220\ttest: 0.4553619\tbest: 0.4553619 (2)\ttotal: 4.08s\tremaining: 4m 28s\n",
      "3:\tlearn: 0.4064499\ttest: 0.4065842\tbest: 0.4065842 (3)\ttotal: 5.35s\tremaining: 4m 22s\n",
      "4:\tlearn: 0.3699599\ttest: 0.3702484\tbest: 0.3702484 (4)\ttotal: 6.61s\tremaining: 4m 17s\n",
      "5:\tlearn: 0.3408168\ttest: 0.3412260\tbest: 0.3412260 (5)\ttotal: 7.88s\tremaining: 4m 14s\n",
      "6:\tlearn: 0.3167179\ttest: 0.3173039\tbest: 0.3173039 (6)\ttotal: 9.15s\tremaining: 4m 12s\n",
      "7:\tlearn: 0.2978218\ttest: 0.2986624\tbest: 0.2986624 (7)\ttotal: 10.4s\tremaining: 4m 10s\n",
      "8:\tlearn: 0.2819224\ttest: 0.2826875\tbest: 0.2826875 (8)\ttotal: 11.7s\tremaining: 4m 7s\n",
      "9:\tlearn: 0.2694447\ttest: 0.2704322\tbest: 0.2704322 (9)\ttotal: 12.9s\tremaining: 4m 5s\n",
      "10:\tlearn: 0.2596309\ttest: 0.2606368\tbest: 0.2606368 (10)\ttotal: 14.2s\tremaining: 4m 3s\n",
      "11:\tlearn: 0.2499737\ttest: 0.2510817\tbest: 0.2510817 (11)\ttotal: 15.5s\tremaining: 4m 3s\n",
      "12:\tlearn: 0.2433380\ttest: 0.2445047\tbest: 0.2445047 (12)\ttotal: 16.9s\tremaining: 4m 3s\n",
      "13:\tlearn: 0.2371548\ttest: 0.2381729\tbest: 0.2381729 (13)\ttotal: 18.3s\tremaining: 4m 3s\n",
      "14:\tlearn: 0.2320484\ttest: 0.2331770\tbest: 0.2331770 (14)\ttotal: 19.6s\tremaining: 4m 1s\n",
      "15:\tlearn: 0.2278196\ttest: 0.2289102\tbest: 0.2289102 (15)\ttotal: 20.8s\tremaining: 3m 59s\n",
      "16:\tlearn: 0.2242016\ttest: 0.2254150\tbest: 0.2254150 (16)\ttotal: 22.1s\tremaining: 3m 57s\n",
      "17:\tlearn: 0.2201405\ttest: 0.2215255\tbest: 0.2215255 (17)\ttotal: 23.4s\tremaining: 3m 56s\n",
      "18:\tlearn: 0.2166476\ttest: 0.2180149\tbest: 0.2180149 (18)\ttotal: 24.7s\tremaining: 3m 55s\n",
      "19:\tlearn: 0.2137759\ttest: 0.2153169\tbest: 0.2153169 (19)\ttotal: 26s\tremaining: 3m 53s\n",
      "20:\tlearn: 0.2114839\ttest: 0.2131034\tbest: 0.2131034 (20)\ttotal: 27.2s\tremaining: 3m 51s\n",
      "21:\tlearn: 0.2092461\ttest: 0.2110655\tbest: 0.2110655 (21)\ttotal: 28.5s\tremaining: 3m 50s\n",
      "22:\tlearn: 0.2069306\ttest: 0.2088348\tbest: 0.2088348 (22)\ttotal: 29.7s\tremaining: 3m 48s\n",
      "23:\tlearn: 0.2043143\ttest: 0.2062583\tbest: 0.2062583 (23)\ttotal: 31s\tremaining: 3m 47s\n",
      "24:\tlearn: 0.2027103\ttest: 0.2046052\tbest: 0.2046052 (24)\ttotal: 32.4s\tremaining: 3m 46s\n",
      "25:\tlearn: 0.2009293\ttest: 0.2028047\tbest: 0.2028047 (25)\ttotal: 33.8s\tremaining: 3m 46s\n",
      "26:\tlearn: 0.1993467\ttest: 0.2012396\tbest: 0.2012396 (26)\ttotal: 35.1s\tremaining: 3m 44s\n",
      "27:\tlearn: 0.1979554\ttest: 0.1997647\tbest: 0.1997647 (27)\ttotal: 36.3s\tremaining: 3m 43s\n",
      "28:\tlearn: 0.1967083\ttest: 0.1985779\tbest: 0.1985779 (28)\ttotal: 37.6s\tremaining: 3m 41s\n",
      "29:\tlearn: 0.1954744\ttest: 0.1972460\tbest: 0.1972460 (29)\ttotal: 38.8s\tremaining: 3m 40s\n",
      "30:\tlearn: 0.1941363\ttest: 0.1959736\tbest: 0.1959736 (30)\ttotal: 40.1s\tremaining: 3m 38s\n",
      "31:\tlearn: 0.1928947\ttest: 0.1947644\tbest: 0.1947644 (31)\ttotal: 41.3s\tremaining: 3m 37s\n",
      "32:\tlearn: 0.1916789\ttest: 0.1937943\tbest: 0.1937943 (32)\ttotal: 42.6s\tremaining: 3m 35s\n",
      "33:\tlearn: 0.1901742\ttest: 0.1924232\tbest: 0.1924232 (33)\ttotal: 43.9s\tremaining: 3m 34s\n",
      "34:\tlearn: 0.1891916\ttest: 0.1913443\tbest: 0.1913443 (34)\ttotal: 45.2s\tremaining: 3m 32s\n",
      "35:\tlearn: 0.1880532\ttest: 0.1902873\tbest: 0.1902873 (35)\ttotal: 46.4s\tremaining: 3m 31s\n",
      "36:\tlearn: 0.1865883\ttest: 0.1889070\tbest: 0.1889070 (36)\ttotal: 47.7s\tremaining: 3m 30s\n",
      "37:\tlearn: 0.1855810\ttest: 0.1879796\tbest: 0.1879796 (37)\ttotal: 49.1s\tremaining: 3m 29s\n",
      "38:\tlearn: 0.1847883\ttest: 0.1873067\tbest: 0.1873067 (38)\ttotal: 50.5s\tremaining: 3m 28s\n",
      "39:\tlearn: 0.1839596\ttest: 0.1865958\tbest: 0.1865958 (39)\ttotal: 51.7s\tremaining: 3m 26s\n",
      "40:\tlearn: 0.1828207\ttest: 0.1855251\tbest: 0.1855251 (40)\ttotal: 53s\tremaining: 3m 25s\n",
      "41:\tlearn: 0.1818201\ttest: 0.1845800\tbest: 0.1845800 (41)\ttotal: 54.3s\tremaining: 3m 24s\n",
      "42:\tlearn: 0.1807393\ttest: 0.1834834\tbest: 0.1834834 (42)\ttotal: 55.5s\tremaining: 3m 22s\n",
      "43:\tlearn: 0.1800053\ttest: 0.1827652\tbest: 0.1827652 (43)\ttotal: 56.8s\tremaining: 3m 21s\n",
      "44:\tlearn: 0.1792082\ttest: 0.1820415\tbest: 0.1820415 (44)\ttotal: 58s\tremaining: 3m 19s\n",
      "45:\tlearn: 0.1779267\ttest: 0.1807731\tbest: 0.1807731 (45)\ttotal: 59.3s\tremaining: 3m 18s\n",
      "46:\tlearn: 0.1772127\ttest: 0.1800717\tbest: 0.1800717 (46)\ttotal: 1m\tremaining: 3m 17s\n",
      "47:\tlearn: 0.1765684\ttest: 0.1794340\tbest: 0.1794340 (47)\ttotal: 1m 1s\tremaining: 3m 15s\n",
      "48:\tlearn: 0.1756401\ttest: 0.1786526\tbest: 0.1786526 (48)\ttotal: 1m 3s\tremaining: 3m 14s\n",
      "49:\tlearn: 0.1750449\ttest: 0.1781643\tbest: 0.1781643 (49)\ttotal: 1m 4s\tremaining: 3m 13s\n",
      "50:\tlearn: 0.1743967\ttest: 0.1776253\tbest: 0.1776253 (50)\ttotal: 1m 5s\tremaining: 3m 12s\n",
      "51:\tlearn: 0.1737722\ttest: 0.1770447\tbest: 0.1770447 (51)\ttotal: 1m 7s\tremaining: 3m 10s\n",
      "52:\tlearn: 0.1728965\ttest: 0.1761706\tbest: 0.1761706 (52)\ttotal: 1m 8s\tremaining: 3m 9s\n",
      "53:\tlearn: 0.1722646\ttest: 0.1755250\tbest: 0.1755250 (53)\ttotal: 1m 9s\tremaining: 3m 8s\n",
      "54:\tlearn: 0.1716693\ttest: 0.1749882\tbest: 0.1749882 (54)\ttotal: 1m 10s\tremaining: 3m 6s\n",
      "55:\tlearn: 0.1710567\ttest: 0.1745481\tbest: 0.1745481 (55)\ttotal: 1m 12s\tremaining: 3m 5s\n",
      "56:\tlearn: 0.1705734\ttest: 0.1740175\tbest: 0.1740175 (56)\ttotal: 1m 13s\tremaining: 3m 4s\n",
      "57:\tlearn: 0.1700558\ttest: 0.1735628\tbest: 0.1735628 (57)\ttotal: 1m 14s\tremaining: 3m 2s\n",
      "58:\tlearn: 0.1694427\ttest: 0.1730005\tbest: 0.1730005 (58)\ttotal: 1m 15s\tremaining: 3m 1s\n",
      "59:\tlearn: 0.1689629\ttest: 0.1726517\tbest: 0.1726517 (59)\ttotal: 1m 17s\tremaining: 2m 59s\n",
      "60:\tlearn: 0.1684814\ttest: 0.1721096\tbest: 0.1721096 (60)\ttotal: 1m 18s\tremaining: 2m 58s\n",
      "61:\tlearn: 0.1678455\ttest: 0.1715268\tbest: 0.1715268 (61)\ttotal: 1m 19s\tremaining: 2m 57s\n",
      "62:\tlearn: 0.1671161\ttest: 0.1708386\tbest: 0.1708386 (62)\ttotal: 1m 21s\tremaining: 2m 56s\n",
      "63:\tlearn: 0.1666805\ttest: 0.1704723\tbest: 0.1704723 (63)\ttotal: 1m 22s\tremaining: 2m 55s\n",
      "64:\tlearn: 0.1660872\ttest: 0.1698408\tbest: 0.1698408 (64)\ttotal: 1m 23s\tremaining: 2m 53s\n",
      "65:\tlearn: 0.1656427\ttest: 0.1694305\tbest: 0.1694305 (65)\ttotal: 1m 24s\tremaining: 2m 52s\n",
      "66:\tlearn: 0.1651800\ttest: 0.1690254\tbest: 0.1690254 (66)\ttotal: 1m 26s\tremaining: 2m 51s\n",
      "67:\tlearn: 0.1646542\ttest: 0.1685438\tbest: 0.1685438 (67)\ttotal: 1m 27s\tremaining: 2m 49s\n",
      "68:\tlearn: 0.1641790\ttest: 0.1681190\tbest: 0.1681190 (68)\ttotal: 1m 28s\tremaining: 2m 48s\n",
      "69:\tlearn: 0.1636712\ttest: 0.1676209\tbest: 0.1676209 (69)\ttotal: 1m 29s\tremaining: 2m 46s\n",
      "70:\tlearn: 0.1631114\ttest: 0.1672039\tbest: 0.1672039 (70)\ttotal: 1m 31s\tremaining: 2m 45s\n",
      "71:\tlearn: 0.1627804\ttest: 0.1668917\tbest: 0.1668917 (71)\ttotal: 1m 32s\tremaining: 2m 44s\n",
      "72:\tlearn: 0.1623780\ttest: 0.1665097\tbest: 0.1665097 (72)\ttotal: 1m 33s\tremaining: 2m 42s\n",
      "73:\tlearn: 0.1619054\ttest: 0.1659746\tbest: 0.1659746 (73)\ttotal: 1m 34s\tremaining: 2m 41s\n",
      "74:\tlearn: 0.1615182\ttest: 0.1656212\tbest: 0.1656212 (74)\ttotal: 1m 36s\tremaining: 2m 40s\n",
      "75:\tlearn: 0.1610451\ttest: 0.1651882\tbest: 0.1651882 (75)\ttotal: 1m 37s\tremaining: 2m 39s\n",
      "76:\tlearn: 0.1606784\ttest: 0.1649198\tbest: 0.1649198 (76)\ttotal: 1m 38s\tremaining: 2m 37s\n",
      "77:\tlearn: 0.1603085\ttest: 0.1646438\tbest: 0.1646438 (77)\ttotal: 1m 40s\tremaining: 2m 36s\n",
      "78:\tlearn: 0.1599206\ttest: 0.1643564\tbest: 0.1643564 (78)\ttotal: 1m 41s\tremaining: 2m 35s\n",
      "79:\tlearn: 0.1595639\ttest: 0.1640262\tbest: 0.1640262 (79)\ttotal: 1m 42s\tremaining: 2m 33s\n",
      "80:\tlearn: 0.1590243\ttest: 0.1635540\tbest: 0.1635540 (80)\ttotal: 1m 43s\tremaining: 2m 32s\n",
      "81:\tlearn: 0.1586544\ttest: 0.1633570\tbest: 0.1633570 (81)\ttotal: 1m 45s\tremaining: 2m 31s\n",
      "82:\tlearn: 0.1582757\ttest: 0.1630450\tbest: 0.1630450 (82)\ttotal: 1m 46s\tremaining: 2m 29s\n",
      "83:\tlearn: 0.1578530\ttest: 0.1626188\tbest: 0.1626188 (83)\ttotal: 1m 47s\tremaining: 2m 28s\n",
      "84:\tlearn: 0.1574082\ttest: 0.1622569\tbest: 0.1622569 (84)\ttotal: 1m 48s\tremaining: 2m 27s\n",
      "85:\tlearn: 0.1570740\ttest: 0.1619399\tbest: 0.1619399 (85)\ttotal: 1m 50s\tremaining: 2m 26s\n",
      "86:\tlearn: 0.1567444\ttest: 0.1616982\tbest: 0.1616982 (86)\ttotal: 1m 51s\tremaining: 2m 24s\n",
      "87:\tlearn: 0.1563996\ttest: 0.1614055\tbest: 0.1614055 (87)\ttotal: 1m 52s\tremaining: 2m 23s\n",
      "88:\tlearn: 0.1561011\ttest: 0.1612574\tbest: 0.1612574 (88)\ttotal: 1m 54s\tremaining: 2m 22s\n",
      "89:\tlearn: 0.1557107\ttest: 0.1609825\tbest: 0.1609825 (89)\ttotal: 1m 55s\tremaining: 2m 21s\n",
      "90:\tlearn: 0.1553694\ttest: 0.1605588\tbest: 0.1605588 (90)\ttotal: 1m 56s\tremaining: 2m 19s\n",
      "91:\tlearn: 0.1549538\ttest: 0.1602558\tbest: 0.1602558 (91)\ttotal: 1m 57s\tremaining: 2m 18s\n",
      "92:\tlearn: 0.1546262\ttest: 0.1600060\tbest: 0.1600060 (92)\ttotal: 1m 59s\tremaining: 2m 17s\n",
      "93:\tlearn: 0.1543639\ttest: 0.1597930\tbest: 0.1597930 (93)\ttotal: 2m\tremaining: 2m 15s\n",
      "94:\tlearn: 0.1540920\ttest: 0.1595661\tbest: 0.1595661 (94)\ttotal: 2m 1s\tremaining: 2m 14s\n",
      "95:\tlearn: 0.1536682\ttest: 0.1591818\tbest: 0.1591818 (95)\ttotal: 2m 2s\tremaining: 2m 13s\n",
      "96:\tlearn: 0.1533679\ttest: 0.1590024\tbest: 0.1590024 (96)\ttotal: 2m 4s\tremaining: 2m 11s\n",
      "97:\tlearn: 0.1530546\ttest: 0.1587861\tbest: 0.1587861 (97)\ttotal: 2m 5s\tremaining: 2m 10s\n",
      "98:\tlearn: 0.1527414\ttest: 0.1585686\tbest: 0.1585686 (98)\ttotal: 2m 6s\tremaining: 2m 9s\n",
      "99:\tlearn: 0.1522981\ttest: 0.1581084\tbest: 0.1581084 (99)\ttotal: 2m 7s\tremaining: 2m 7s\n",
      "100:\tlearn: 0.1518533\ttest: 0.1576896\tbest: 0.1576896 (100)\ttotal: 2m 9s\tremaining: 2m 6s\n",
      "101:\tlearn: 0.1515638\ttest: 0.1574689\tbest: 0.1574689 (101)\ttotal: 2m 10s\tremaining: 2m 5s\n",
      "102:\tlearn: 0.1511858\ttest: 0.1570639\tbest: 0.1570639 (102)\ttotal: 2m 11s\tremaining: 2m 4s\n",
      "103:\tlearn: 0.1509422\ttest: 0.1568709\tbest: 0.1568709 (103)\ttotal: 2m 13s\tremaining: 2m 2s\n",
      "104:\tlearn: 0.1505973\ttest: 0.1566032\tbest: 0.1566032 (104)\ttotal: 2m 14s\tremaining: 2m 1s\n",
      "105:\tlearn: 0.1502974\ttest: 0.1564363\tbest: 0.1564363 (105)\ttotal: 2m 15s\tremaining: 2m\n",
      "106:\tlearn: 0.1500028\ttest: 0.1561871\tbest: 0.1561871 (106)\ttotal: 2m 16s\tremaining: 1m 58s\n",
      "107:\tlearn: 0.1496971\ttest: 0.1558964\tbest: 0.1558964 (107)\ttotal: 2m 17s\tremaining: 1m 57s\n",
      "108:\tlearn: 0.1494238\ttest: 0.1557207\tbest: 0.1557207 (108)\ttotal: 2m 19s\tremaining: 1m 56s\n",
      "109:\tlearn: 0.1491172\ttest: 0.1554400\tbest: 0.1554400 (109)\ttotal: 2m 20s\tremaining: 1m 54s\n",
      "110:\tlearn: 0.1488363\ttest: 0.1552105\tbest: 0.1552105 (110)\ttotal: 2m 21s\tremaining: 1m 53s\n",
      "111:\tlearn: 0.1485787\ttest: 0.1549668\tbest: 0.1549668 (111)\ttotal: 2m 22s\tremaining: 1m 52s\n",
      "112:\tlearn: 0.1482337\ttest: 0.1546492\tbest: 0.1546492 (112)\ttotal: 2m 24s\tremaining: 1m 51s\n",
      "113:\tlearn: 0.1479918\ttest: 0.1544891\tbest: 0.1544891 (113)\ttotal: 2m 25s\tremaining: 1m 49s\n",
      "114:\tlearn: 0.1475670\ttest: 0.1540770\tbest: 0.1540770 (114)\ttotal: 2m 26s\tremaining: 1m 48s\n",
      "115:\tlearn: 0.1473231\ttest: 0.1539101\tbest: 0.1539101 (115)\ttotal: 2m 28s\tremaining: 1m 47s\n",
      "116:\tlearn: 0.1467978\ttest: 0.1534880\tbest: 0.1534880 (116)\ttotal: 2m 29s\tremaining: 1m 46s\n",
      "117:\tlearn: 0.1464261\ttest: 0.1532069\tbest: 0.1532069 (117)\ttotal: 2m 30s\tremaining: 1m 44s\n",
      "118:\tlearn: 0.1461707\ttest: 0.1529407\tbest: 0.1529407 (118)\ttotal: 2m 31s\tremaining: 1m 43s\n",
      "119:\tlearn: 0.1458889\ttest: 0.1527699\tbest: 0.1527699 (119)\ttotal: 2m 33s\tremaining: 1m 42s\n",
      "120:\tlearn: 0.1454737\ttest: 0.1524426\tbest: 0.1524426 (120)\ttotal: 2m 34s\tremaining: 1m 40s\n",
      "121:\tlearn: 0.1452606\ttest: 0.1523636\tbest: 0.1523636 (121)\ttotal: 2m 35s\tremaining: 1m 39s\n",
      "122:\tlearn: 0.1449579\ttest: 0.1521656\tbest: 0.1521656 (122)\ttotal: 2m 36s\tremaining: 1m 38s\n",
      "123:\tlearn: 0.1447451\ttest: 0.1520329\tbest: 0.1520329 (123)\ttotal: 2m 38s\tremaining: 1m 36s\n",
      "124:\tlearn: 0.1443702\ttest: 0.1517225\tbest: 0.1517225 (124)\ttotal: 2m 39s\tremaining: 1m 35s\n",
      "125:\tlearn: 0.1441033\ttest: 0.1515135\tbest: 0.1515135 (125)\ttotal: 2m 40s\tremaining: 1m 34s\n",
      "126:\tlearn: 0.1438891\ttest: 0.1513343\tbest: 0.1513343 (126)\ttotal: 2m 42s\tremaining: 1m 33s\n",
      "127:\tlearn: 0.1436610\ttest: 0.1512428\tbest: 0.1512428 (127)\ttotal: 2m 43s\tremaining: 1m 31s\n",
      "128:\tlearn: 0.1432618\ttest: 0.1510112\tbest: 0.1510112 (128)\ttotal: 2m 44s\tremaining: 1m 30s\n",
      "129:\tlearn: 0.1430506\ttest: 0.1508772\tbest: 0.1508772 (129)\ttotal: 2m 45s\tremaining: 1m 29s\n",
      "130:\tlearn: 0.1428786\ttest: 0.1507983\tbest: 0.1507983 (130)\ttotal: 2m 47s\tremaining: 1m 28s\n",
      "131:\tlearn: 0.1426783\ttest: 0.1506738\tbest: 0.1506738 (131)\ttotal: 2m 48s\tremaining: 1m 26s\n",
      "132:\tlearn: 0.1423785\ttest: 0.1504394\tbest: 0.1504394 (132)\ttotal: 2m 49s\tremaining: 1m 25s\n",
      "133:\tlearn: 0.1421302\ttest: 0.1502589\tbest: 0.1502589 (133)\ttotal: 2m 50s\tremaining: 1m 24s\n",
      "134:\tlearn: 0.1418912\ttest: 0.1499885\tbest: 0.1499885 (134)\ttotal: 2m 52s\tremaining: 1m 22s\n",
      "135:\tlearn: 0.1416318\ttest: 0.1498082\tbest: 0.1498082 (135)\ttotal: 2m 53s\tremaining: 1m 21s\n",
      "136:\tlearn: 0.1413673\ttest: 0.1495672\tbest: 0.1495672 (136)\ttotal: 2m 54s\tremaining: 1m 20s\n",
      "137:\tlearn: 0.1411672\ttest: 0.1493967\tbest: 0.1493967 (137)\ttotal: 2m 55s\tremaining: 1m 19s\n",
      "138:\tlearn: 0.1408609\ttest: 0.1491164\tbest: 0.1491164 (138)\ttotal: 2m 57s\tremaining: 1m 17s\n",
      "139:\tlearn: 0.1406180\ttest: 0.1489615\tbest: 0.1489615 (139)\ttotal: 2m 58s\tremaining: 1m 16s\n",
      "140:\tlearn: 0.1402532\ttest: 0.1486236\tbest: 0.1486236 (140)\ttotal: 2m 59s\tremaining: 1m 15s\n",
      "141:\tlearn: 0.1401106\ttest: 0.1485838\tbest: 0.1485838 (141)\ttotal: 3m 1s\tremaining: 1m 13s\n",
      "142:\tlearn: 0.1398892\ttest: 0.1484336\tbest: 0.1484336 (142)\ttotal: 3m 2s\tremaining: 1m 12s\n",
      "143:\tlearn: 0.1396319\ttest: 0.1482204\tbest: 0.1482204 (143)\ttotal: 3m 3s\tremaining: 1m 11s\n",
      "144:\tlearn: 0.1394712\ttest: 0.1481550\tbest: 0.1481550 (144)\ttotal: 3m 4s\tremaining: 1m 10s\n",
      "145:\tlearn: 0.1393186\ttest: 0.1481101\tbest: 0.1481101 (145)\ttotal: 3m 5s\tremaining: 1m 8s\n",
      "146:\tlearn: 0.1391106\ttest: 0.1479660\tbest: 0.1479660 (146)\ttotal: 3m 7s\tremaining: 1m 7s\n",
      "147:\tlearn: 0.1387838\ttest: 0.1477475\tbest: 0.1477475 (147)\ttotal: 3m 8s\tremaining: 1m 6s\n",
      "148:\tlearn: 0.1385350\ttest: 0.1475941\tbest: 0.1475941 (148)\ttotal: 3m 9s\tremaining: 1m 4s\n",
      "149:\tlearn: 0.1383111\ttest: 0.1474730\tbest: 0.1474730 (149)\ttotal: 3m 10s\tremaining: 1m 3s\n",
      "150:\tlearn: 0.1380812\ttest: 0.1473515\tbest: 0.1473515 (150)\ttotal: 3m 12s\tremaining: 1m 2s\n",
      "151:\tlearn: 0.1378035\ttest: 0.1472132\tbest: 0.1472132 (151)\ttotal: 3m 13s\tremaining: 1m 1s\n",
      "152:\tlearn: 0.1374720\ttest: 0.1470181\tbest: 0.1470181 (152)\ttotal: 3m 15s\tremaining: 59.9s\n",
      "153:\tlearn: 0.1372383\ttest: 0.1468555\tbest: 0.1468555 (153)\ttotal: 3m 16s\tremaining: 58.7s\n",
      "154:\tlearn: 0.1370593\ttest: 0.1467862\tbest: 0.1467862 (154)\ttotal: 3m 17s\tremaining: 57.4s\n",
      "155:\tlearn: 0.1369043\ttest: 0.1467436\tbest: 0.1467436 (155)\ttotal: 3m 18s\tremaining: 56.1s\n",
      "156:\tlearn: 0.1366505\ttest: 0.1464989\tbest: 0.1464989 (156)\ttotal: 3m 20s\tremaining: 54.8s\n",
      "157:\tlearn: 0.1364543\ttest: 0.1463570\tbest: 0.1463570 (157)\ttotal: 3m 21s\tremaining: 53.5s\n",
      "158:\tlearn: 0.1361746\ttest: 0.1461479\tbest: 0.1461479 (158)\ttotal: 3m 22s\tremaining: 52.2s\n",
      "159:\tlearn: 0.1359088\ttest: 0.1459301\tbest: 0.1459301 (159)\ttotal: 3m 23s\tremaining: 51s\n",
      "160:\tlearn: 0.1356449\ttest: 0.1457673\tbest: 0.1457673 (160)\ttotal: 3m 25s\tremaining: 49.7s\n",
      "161:\tlearn: 0.1353698\ttest: 0.1454312\tbest: 0.1454312 (161)\ttotal: 3m 26s\tremaining: 48.4s\n",
      "162:\tlearn: 0.1351868\ttest: 0.1453478\tbest: 0.1453478 (162)\ttotal: 3m 27s\tremaining: 47.1s\n",
      "163:\tlearn: 0.1349566\ttest: 0.1452164\tbest: 0.1452164 (163)\ttotal: 3m 28s\tremaining: 45.9s\n",
      "164:\tlearn: 0.1347375\ttest: 0.1450776\tbest: 0.1450776 (164)\ttotal: 3m 30s\tremaining: 44.6s\n",
      "165:\tlearn: 0.1346101\ttest: 0.1450650\tbest: 0.1450650 (165)\ttotal: 3m 31s\tremaining: 43.3s\n",
      "166:\tlearn: 0.1344070\ttest: 0.1449874\tbest: 0.1449874 (166)\ttotal: 3m 32s\tremaining: 42.1s\n",
      "167:\tlearn: 0.1342659\ttest: 0.1448983\tbest: 0.1448983 (167)\ttotal: 3m 34s\tremaining: 40.8s\n",
      "168:\tlearn: 0.1340897\ttest: 0.1448019\tbest: 0.1448019 (168)\ttotal: 3m 35s\tremaining: 39.5s\n",
      "169:\tlearn: 0.1338458\ttest: 0.1445909\tbest: 0.1445909 (169)\ttotal: 3m 36s\tremaining: 38.2s\n",
      "170:\tlearn: 0.1336192\ttest: 0.1444475\tbest: 0.1444475 (170)\ttotal: 3m 37s\tremaining: 36.9s\n",
      "171:\tlearn: 0.1335027\ttest: 0.1444371\tbest: 0.1444371 (171)\ttotal: 3m 38s\tremaining: 35.6s\n",
      "172:\tlearn: 0.1333267\ttest: 0.1443455\tbest: 0.1443455 (172)\ttotal: 3m 40s\tremaining: 34.4s\n",
      "173:\tlearn: 0.1332106\ttest: 0.1442773\tbest: 0.1442773 (173)\ttotal: 3m 41s\tremaining: 33.1s\n",
      "174:\tlearn: 0.1330247\ttest: 0.1441549\tbest: 0.1441549 (174)\ttotal: 3m 42s\tremaining: 31.8s\n",
      "175:\tlearn: 0.1327985\ttest: 0.1439586\tbest: 0.1439586 (175)\ttotal: 3m 43s\tremaining: 30.5s\n",
      "176:\tlearn: 0.1326896\ttest: 0.1439427\tbest: 0.1439427 (176)\ttotal: 3m 45s\tremaining: 29.3s\n",
      "177:\tlearn: 0.1322991\ttest: 0.1435652\tbest: 0.1435652 (177)\ttotal: 3m 46s\tremaining: 28s\n",
      "178:\tlearn: 0.1321902\ttest: 0.1435254\tbest: 0.1435254 (178)\ttotal: 3m 47s\tremaining: 26.7s\n",
      "179:\tlearn: 0.1320438\ttest: 0.1434185\tbest: 0.1434185 (179)\ttotal: 3m 49s\tremaining: 25.5s\n",
      "180:\tlearn: 0.1318306\ttest: 0.1432593\tbest: 0.1432593 (180)\ttotal: 3m 50s\tremaining: 24.2s\n",
      "181:\tlearn: 0.1315823\ttest: 0.1430603\tbest: 0.1430603 (181)\ttotal: 3m 51s\tremaining: 22.9s\n",
      "182:\tlearn: 0.1313774\ttest: 0.1428811\tbest: 0.1428811 (182)\ttotal: 3m 52s\tremaining: 21.6s\n",
      "183:\tlearn: 0.1311893\ttest: 0.1427665\tbest: 0.1427665 (183)\ttotal: 3m 54s\tremaining: 20.4s\n",
      "184:\tlearn: 0.1310822\ttest: 0.1427107\tbest: 0.1427107 (184)\ttotal: 3m 55s\tremaining: 19.1s\n",
      "185:\tlearn: 0.1308133\ttest: 0.1425721\tbest: 0.1425721 (185)\ttotal: 3m 56s\tremaining: 17.8s\n",
      "186:\tlearn: 0.1306621\ttest: 0.1424527\tbest: 0.1424527 (186)\ttotal: 3m 57s\tremaining: 16.5s\n",
      "187:\tlearn: 0.1304786\ttest: 0.1423253\tbest: 0.1423253 (187)\ttotal: 3m 59s\tremaining: 15.3s\n",
      "188:\tlearn: 0.1303748\ttest: 0.1423121\tbest: 0.1423121 (188)\ttotal: 4m\tremaining: 14s\n",
      "189:\tlearn: 0.1301923\ttest: 0.1421796\tbest: 0.1421796 (189)\ttotal: 4m 1s\tremaining: 12.7s\n",
      "190:\tlearn: 0.1300958\ttest: 0.1421707\tbest: 0.1421707 (190)\ttotal: 4m 3s\tremaining: 11.5s\n",
      "191:\tlearn: 0.1298889\ttest: 0.1419665\tbest: 0.1419665 (191)\ttotal: 4m 4s\tremaining: 10.2s\n",
      "192:\tlearn: 0.1297901\ttest: 0.1419497\tbest: 0.1419497 (192)\ttotal: 4m 5s\tremaining: 8.91s\n",
      "193:\tlearn: 0.1296014\ttest: 0.1418148\tbest: 0.1418148 (193)\ttotal: 4m 6s\tremaining: 7.64s\n",
      "194:\tlearn: 0.1295009\ttest: 0.1417725\tbest: 0.1417725 (194)\ttotal: 4m 8s\tremaining: 6.36s\n",
      "195:\tlearn: 0.1293175\ttest: 0.1416873\tbest: 0.1416873 (195)\ttotal: 4m 9s\tremaining: 5.09s\n",
      "196:\tlearn: 0.1291039\ttest: 0.1415719\tbest: 0.1415719 (196)\ttotal: 4m 10s\tremaining: 3.82s\n",
      "197:\tlearn: 0.1290213\ttest: 0.1415286\tbest: 0.1415286 (197)\ttotal: 4m 11s\tremaining: 2.54s\n",
      "198:\tlearn: 0.1288558\ttest: 0.1414263\tbest: 0.1414263 (198)\ttotal: 4m 13s\tremaining: 1.27s\n",
      "199:\tlearn: 0.1287005\ttest: 0.1413688\tbest: 0.1413688 (199)\ttotal: 4m 14s\tremaining: 0us\n",
      "\n",
      "bestTest = 0.1413688348\n",
      "bestIteration = 199\n",
      "\n",
      "Training on fold [1/3]\n",
      "0:\tlearn: 0.5926307\ttest: 0.5928205\tbest: 0.5928205 (0)\ttotal: 1.28s\tremaining: 4m 14s\n",
      "1:\tlearn: 0.5163519\ttest: 0.5162595\tbest: 0.5162595 (1)\ttotal: 2.53s\tremaining: 4m 10s\n",
      "2:\tlearn: 0.4567366\ttest: 0.4566011\tbest: 0.4566011 (2)\ttotal: 3.79s\tremaining: 4m 8s\n",
      "3:\tlearn: 0.4098932\ttest: 0.4097030\tbest: 0.4097030 (3)\ttotal: 5.03s\tremaining: 4m 6s\n",
      "4:\tlearn: 0.3706330\ttest: 0.3703909\tbest: 0.3703909 (4)\ttotal: 6.3s\tremaining: 4m 5s\n",
      "5:\tlearn: 0.3405901\ttest: 0.3401586\tbest: 0.3401586 (5)\ttotal: 7.56s\tremaining: 4m 4s\n",
      "6:\tlearn: 0.3165261\ttest: 0.3163010\tbest: 0.3163010 (6)\ttotal: 8.83s\tremaining: 4m 3s\n",
      "7:\tlearn: 0.2979551\ttest: 0.2975933\tbest: 0.2975933 (7)\ttotal: 10.1s\tremaining: 4m 2s\n",
      "8:\tlearn: 0.2827706\ttest: 0.2825848\tbest: 0.2825848 (8)\ttotal: 11.5s\tremaining: 4m 4s\n",
      "9:\tlearn: 0.2710309\ttest: 0.2710023\tbest: 0.2710023 (9)\ttotal: 12.9s\tremaining: 4m 4s\n",
      "10:\tlearn: 0.2612187\ttest: 0.2613816\tbest: 0.2613816 (10)\ttotal: 14.2s\tremaining: 4m 3s\n",
      "11:\tlearn: 0.2531910\ttest: 0.2532030\tbest: 0.2532030 (11)\ttotal: 15.4s\tremaining: 4m 1s\n",
      "12:\tlearn: 0.2457048\ttest: 0.2457061\tbest: 0.2457061 (12)\ttotal: 16.7s\tremaining: 3m 59s\n",
      "13:\tlearn: 0.2393128\ttest: 0.2393612\tbest: 0.2393612 (13)\ttotal: 18s\tremaining: 3m 58s\n",
      "14:\tlearn: 0.2339821\ttest: 0.2338640\tbest: 0.2338640 (14)\ttotal: 19.2s\tremaining: 3m 57s\n",
      "15:\tlearn: 0.2296796\ttest: 0.2297167\tbest: 0.2297167 (15)\ttotal: 20.5s\tremaining: 3m 55s\n",
      "16:\tlearn: 0.2263026\ttest: 0.2264073\tbest: 0.2264073 (16)\ttotal: 21.7s\tremaining: 3m 54s\n",
      "17:\tlearn: 0.2219638\ttest: 0.2222131\tbest: 0.2222131 (17)\ttotal: 23s\tremaining: 3m 52s\n",
      "18:\tlearn: 0.2186822\ttest: 0.2190470\tbest: 0.2190470 (18)\ttotal: 24.3s\tremaining: 3m 51s\n",
      "19:\tlearn: 0.2156429\ttest: 0.2159245\tbest: 0.2159245 (19)\ttotal: 25.6s\tremaining: 3m 49s\n",
      "20:\tlearn: 0.2127810\ttest: 0.2130319\tbest: 0.2130319 (20)\ttotal: 26.9s\tremaining: 3m 49s\n",
      "21:\tlearn: 0.2108261\ttest: 0.2112736\tbest: 0.2112736 (21)\ttotal: 28.3s\tremaining: 3m 49s\n",
      "22:\tlearn: 0.2088910\ttest: 0.2094140\tbest: 0.2094140 (22)\ttotal: 29.6s\tremaining: 3m 47s\n",
      "23:\tlearn: 0.2069448\ttest: 0.2075615\tbest: 0.2075615 (23)\ttotal: 30.9s\tremaining: 3m 46s\n",
      "24:\tlearn: 0.2052435\ttest: 0.2057713\tbest: 0.2057713 (24)\ttotal: 32.1s\tremaining: 3m 44s\n",
      "25:\tlearn: 0.2029908\ttest: 0.2035066\tbest: 0.2035066 (25)\ttotal: 33.4s\tremaining: 3m 43s\n",
      "26:\tlearn: 0.2010990\ttest: 0.2017814\tbest: 0.2017814 (26)\ttotal: 34.7s\tremaining: 3m 42s\n",
      "27:\tlearn: 0.1995763\ttest: 0.2003410\tbest: 0.2003410 (27)\ttotal: 35.9s\tremaining: 3m 40s\n",
      "28:\tlearn: 0.1978782\ttest: 0.1986887\tbest: 0.1986887 (28)\ttotal: 37.2s\tremaining: 3m 39s\n",
      "29:\tlearn: 0.1966660\ttest: 0.1975796\tbest: 0.1975796 (29)\ttotal: 38.4s\tremaining: 3m 37s\n",
      "30:\tlearn: 0.1950441\ttest: 0.1959849\tbest: 0.1959849 (30)\ttotal: 39.7s\tremaining: 3m 36s\n",
      "31:\tlearn: 0.1939871\ttest: 0.1950284\tbest: 0.1950284 (31)\ttotal: 40.9s\tremaining: 3m 34s\n",
      "32:\tlearn: 0.1928770\ttest: 0.1941019\tbest: 0.1941019 (32)\ttotal: 42.3s\tremaining: 3m 34s\n",
      "33:\tlearn: 0.1914471\ttest: 0.1927646\tbest: 0.1927646 (33)\ttotal: 43.7s\tremaining: 3m 33s\n",
      "34:\tlearn: 0.1897195\ttest: 0.1910945\tbest: 0.1910945 (34)\ttotal: 45.2s\tremaining: 3m 32s\n",
      "35:\tlearn: 0.1884020\ttest: 0.1898155\tbest: 0.1898155 (35)\ttotal: 46.5s\tremaining: 3m 32s\n",
      "36:\tlearn: 0.1875417\ttest: 0.1889726\tbest: 0.1889726 (36)\ttotal: 47.8s\tremaining: 3m 30s\n",
      "37:\tlearn: 0.1867147\ttest: 0.1882025\tbest: 0.1882025 (37)\ttotal: 49s\tremaining: 3m 29s\n",
      "38:\tlearn: 0.1856948\ttest: 0.1872457\tbest: 0.1872457 (38)\ttotal: 50.3s\tremaining: 3m 27s\n",
      "39:\tlearn: 0.1849273\ttest: 0.1866144\tbest: 0.1866144 (39)\ttotal: 51.5s\tremaining: 3m 26s\n",
      "40:\tlearn: 0.1840461\ttest: 0.1857663\tbest: 0.1857663 (40)\ttotal: 52.8s\tremaining: 3m 24s\n",
      "41:\tlearn: 0.1833996\ttest: 0.1853157\tbest: 0.1853157 (41)\ttotal: 54s\tremaining: 3m 23s\n",
      "42:\tlearn: 0.1823411\ttest: 0.1843022\tbest: 0.1843022 (42)\ttotal: 55.3s\tremaining: 3m 21s\n",
      "43:\tlearn: 0.1815433\ttest: 0.1837249\tbest: 0.1837249 (43)\ttotal: 56.5s\tremaining: 3m 20s\n",
      "44:\tlearn: 0.1808445\ttest: 0.1829707\tbest: 0.1829707 (44)\ttotal: 57.7s\tremaining: 3m 18s\n",
      "45:\tlearn: 0.1794331\ttest: 0.1816736\tbest: 0.1816736 (45)\ttotal: 59.1s\tremaining: 3m 17s\n",
      "46:\tlearn: 0.1785265\ttest: 0.1807064\tbest: 0.1807064 (46)\ttotal: 1m\tremaining: 3m 17s\n",
      "47:\tlearn: 0.1778165\ttest: 0.1801736\tbest: 0.1801736 (47)\ttotal: 1m 1s\tremaining: 3m 16s\n",
      "48:\tlearn: 0.1769280\ttest: 0.1791927\tbest: 0.1791927 (48)\ttotal: 1m 3s\tremaining: 3m 14s\n",
      "49:\tlearn: 0.1762277\ttest: 0.1784912\tbest: 0.1784912 (49)\ttotal: 1m 4s\tremaining: 3m 13s\n",
      "50:\tlearn: 0.1756198\ttest: 0.1778953\tbest: 0.1778953 (50)\ttotal: 1m 5s\tremaining: 3m 11s\n",
      "51:\tlearn: 0.1750716\ttest: 0.1774891\tbest: 0.1774891 (51)\ttotal: 1m 6s\tremaining: 3m 10s\n",
      "52:\tlearn: 0.1744079\ttest: 0.1768468\tbest: 0.1768468 (52)\ttotal: 1m 8s\tremaining: 3m 8s\n",
      "53:\tlearn: 0.1738101\ttest: 0.1762639\tbest: 0.1762639 (53)\ttotal: 1m 9s\tremaining: 3m 7s\n",
      "54:\tlearn: 0.1729894\ttest: 0.1755159\tbest: 0.1755159 (54)\ttotal: 1m 10s\tremaining: 3m 6s\n",
      "55:\tlearn: 0.1724370\ttest: 0.1750106\tbest: 0.1750106 (55)\ttotal: 1m 11s\tremaining: 3m 4s\n",
      "56:\tlearn: 0.1718560\ttest: 0.1744182\tbest: 0.1744182 (56)\ttotal: 1m 13s\tremaining: 3m 3s\n",
      "57:\tlearn: 0.1713285\ttest: 0.1739589\tbest: 0.1739589 (57)\ttotal: 1m 14s\tremaining: 3m 2s\n",
      "58:\tlearn: 0.1707755\ttest: 0.1734273\tbest: 0.1734273 (58)\ttotal: 1m 15s\tremaining: 3m 1s\n",
      "59:\tlearn: 0.1699270\ttest: 0.1725620\tbest: 0.1725620 (59)\ttotal: 1m 17s\tremaining: 3m\n",
      "60:\tlearn: 0.1694566\ttest: 0.1721940\tbest: 0.1721940 (60)\ttotal: 1m 18s\tremaining: 2m 58s\n",
      "61:\tlearn: 0.1687952\ttest: 0.1716173\tbest: 0.1716173 (61)\ttotal: 1m 19s\tremaining: 2m 57s\n",
      "62:\tlearn: 0.1681342\ttest: 0.1710668\tbest: 0.1710668 (62)\ttotal: 1m 21s\tremaining: 2m 56s\n",
      "63:\tlearn: 0.1675997\ttest: 0.1705451\tbest: 0.1705451 (63)\ttotal: 1m 22s\tremaining: 2m 54s\n",
      "64:\tlearn: 0.1671467\ttest: 0.1700693\tbest: 0.1700693 (64)\ttotal: 1m 23s\tremaining: 2m 53s\n",
      "65:\tlearn: 0.1666596\ttest: 0.1696007\tbest: 0.1696007 (65)\ttotal: 1m 24s\tremaining: 2m 52s\n",
      "66:\tlearn: 0.1661153\ttest: 0.1690196\tbest: 0.1690196 (66)\ttotal: 1m 26s\tremaining: 2m 50s\n",
      "67:\tlearn: 0.1655953\ttest: 0.1685040\tbest: 0.1685040 (67)\ttotal: 1m 27s\tremaining: 2m 49s\n",
      "68:\tlearn: 0.1651293\ttest: 0.1681094\tbest: 0.1681094 (68)\ttotal: 1m 28s\tremaining: 2m 48s\n",
      "69:\tlearn: 0.1647033\ttest: 0.1677092\tbest: 0.1677092 (69)\ttotal: 1m 29s\tremaining: 2m 46s\n",
      "70:\tlearn: 0.1642205\ttest: 0.1673059\tbest: 0.1673059 (70)\ttotal: 1m 31s\tremaining: 2m 45s\n",
      "71:\tlearn: 0.1637818\ttest: 0.1669475\tbest: 0.1669475 (71)\ttotal: 1m 32s\tremaining: 2m 44s\n",
      "72:\tlearn: 0.1633489\ttest: 0.1666395\tbest: 0.1666395 (72)\ttotal: 1m 33s\tremaining: 2m 43s\n",
      "73:\tlearn: 0.1627065\ttest: 0.1659620\tbest: 0.1659620 (73)\ttotal: 1m 35s\tremaining: 2m 41s\n",
      "74:\tlearn: 0.1622587\ttest: 0.1655724\tbest: 0.1655724 (74)\ttotal: 1m 36s\tremaining: 2m 40s\n",
      "75:\tlearn: 0.1618633\ttest: 0.1652372\tbest: 0.1652372 (75)\ttotal: 1m 37s\tremaining: 2m 39s\n",
      "76:\tlearn: 0.1613192\ttest: 0.1648143\tbest: 0.1648143 (76)\ttotal: 1m 38s\tremaining: 2m 37s\n",
      "77:\tlearn: 0.1606754\ttest: 0.1641704\tbest: 0.1641704 (77)\ttotal: 1m 40s\tremaining: 2m 36s\n",
      "78:\tlearn: 0.1600216\ttest: 0.1635223\tbest: 0.1635223 (78)\ttotal: 1m 41s\tremaining: 2m 35s\n",
      "79:\tlearn: 0.1596542\ttest: 0.1631883\tbest: 0.1631883 (79)\ttotal: 1m 42s\tremaining: 2m 33s\n",
      "80:\tlearn: 0.1592589\ttest: 0.1628959\tbest: 0.1628959 (80)\ttotal: 1m 43s\tremaining: 2m 32s\n",
      "81:\tlearn: 0.1588070\ttest: 0.1625597\tbest: 0.1625597 (81)\ttotal: 1m 44s\tremaining: 2m 31s\n",
      "82:\tlearn: 0.1583781\ttest: 0.1621304\tbest: 0.1621304 (82)\ttotal: 1m 46s\tremaining: 2m 29s\n",
      "83:\tlearn: 0.1580289\ttest: 0.1618516\tbest: 0.1618516 (83)\ttotal: 1m 47s\tremaining: 2m 28s\n",
      "84:\tlearn: 0.1576494\ttest: 0.1615827\tbest: 0.1615827 (84)\ttotal: 1m 48s\tremaining: 2m 27s\n",
      "85:\tlearn: 0.1572286\ttest: 0.1611496\tbest: 0.1611496 (85)\ttotal: 1m 50s\tremaining: 2m 26s\n",
      "86:\tlearn: 0.1567941\ttest: 0.1607269\tbest: 0.1607269 (86)\ttotal: 1m 51s\tremaining: 2m 24s\n",
      "87:\tlearn: 0.1564955\ttest: 0.1604351\tbest: 0.1604351 (87)\ttotal: 1m 52s\tremaining: 2m 23s\n",
      "88:\tlearn: 0.1562232\ttest: 0.1601757\tbest: 0.1601757 (88)\ttotal: 1m 53s\tremaining: 2m 22s\n",
      "89:\tlearn: 0.1558242\ttest: 0.1597809\tbest: 0.1597809 (89)\ttotal: 1m 55s\tremaining: 2m 20s\n",
      "90:\tlearn: 0.1554377\ttest: 0.1593166\tbest: 0.1593166 (90)\ttotal: 1m 56s\tremaining: 2m 19s\n",
      "91:\tlearn: 0.1551216\ttest: 0.1590473\tbest: 0.1590473 (91)\ttotal: 1m 57s\tremaining: 2m 18s\n",
      "92:\tlearn: 0.1547914\ttest: 0.1587229\tbest: 0.1587229 (92)\ttotal: 1m 59s\tremaining: 2m 16s\n",
      "93:\tlearn: 0.1545309\ttest: 0.1585022\tbest: 0.1585022 (93)\ttotal: 2m\tremaining: 2m 15s\n",
      "94:\tlearn: 0.1542065\ttest: 0.1581469\tbest: 0.1581469 (94)\ttotal: 2m 1s\tremaining: 2m 14s\n",
      "95:\tlearn: 0.1539286\ttest: 0.1579480\tbest: 0.1579480 (95)\ttotal: 2m 2s\tremaining: 2m 13s\n",
      "96:\tlearn: 0.1536025\ttest: 0.1577547\tbest: 0.1577547 (96)\ttotal: 2m 4s\tremaining: 2m 11s\n",
      "97:\tlearn: 0.1533498\ttest: 0.1576247\tbest: 0.1576247 (97)\ttotal: 2m 5s\tremaining: 2m 10s\n",
      "98:\tlearn: 0.1530211\ttest: 0.1573945\tbest: 0.1573945 (98)\ttotal: 2m 6s\tremaining: 2m 9s\n",
      "99:\tlearn: 0.1526147\ttest: 0.1570133\tbest: 0.1570133 (99)\ttotal: 2m 8s\tremaining: 2m 8s\n",
      "100:\tlearn: 0.1523334\ttest: 0.1567723\tbest: 0.1567723 (100)\ttotal: 2m 9s\tremaining: 2m 6s\n",
      "101:\tlearn: 0.1520526\ttest: 0.1565562\tbest: 0.1565562 (101)\ttotal: 2m 10s\tremaining: 2m 5s\n",
      "102:\tlearn: 0.1517995\ttest: 0.1563936\tbest: 0.1563936 (102)\ttotal: 2m 11s\tremaining: 2m 4s\n",
      "103:\tlearn: 0.1514458\ttest: 0.1561116\tbest: 0.1561116 (103)\ttotal: 2m 13s\tremaining: 2m 2s\n",
      "104:\tlearn: 0.1512001\ttest: 0.1559298\tbest: 0.1559298 (104)\ttotal: 2m 14s\tremaining: 2m 1s\n",
      "105:\tlearn: 0.1508287\ttest: 0.1555969\tbest: 0.1555969 (105)\ttotal: 2m 15s\tremaining: 2m\n",
      "106:\tlearn: 0.1505533\ttest: 0.1553514\tbest: 0.1553514 (106)\ttotal: 2m 16s\tremaining: 1m 58s\n",
      "107:\tlearn: 0.1501278\ttest: 0.1549095\tbest: 0.1549095 (107)\ttotal: 2m 18s\tremaining: 1m 57s\n",
      "108:\tlearn: 0.1498633\ttest: 0.1547329\tbest: 0.1547329 (108)\ttotal: 2m 19s\tremaining: 1m 56s\n",
      "109:\tlearn: 0.1496028\ttest: 0.1545443\tbest: 0.1545443 (109)\ttotal: 2m 20s\tremaining: 1m 55s\n",
      "110:\tlearn: 0.1493509\ttest: 0.1543667\tbest: 0.1543667 (110)\ttotal: 2m 21s\tremaining: 1m 53s\n",
      "111:\tlearn: 0.1488398\ttest: 0.1539311\tbest: 0.1539311 (111)\ttotal: 2m 23s\tremaining: 1m 52s\n",
      "112:\tlearn: 0.1485622\ttest: 0.1536536\tbest: 0.1536536 (112)\ttotal: 2m 24s\tremaining: 1m 51s\n",
      "113:\tlearn: 0.1481830\ttest: 0.1532298\tbest: 0.1532298 (113)\ttotal: 2m 25s\tremaining: 1m 49s\n",
      "114:\tlearn: 0.1479491\ttest: 0.1530819\tbest: 0.1530819 (114)\ttotal: 2m 26s\tremaining: 1m 48s\n",
      "115:\tlearn: 0.1476800\ttest: 0.1529009\tbest: 0.1529009 (115)\ttotal: 2m 28s\tremaining: 1m 47s\n",
      "116:\tlearn: 0.1474927\ttest: 0.1528111\tbest: 0.1528111 (116)\ttotal: 2m 29s\tremaining: 1m 46s\n",
      "117:\tlearn: 0.1472820\ttest: 0.1526801\tbest: 0.1526801 (117)\ttotal: 2m 30s\tremaining: 1m 44s\n",
      "118:\tlearn: 0.1469722\ttest: 0.1524313\tbest: 0.1524313 (118)\ttotal: 2m 31s\tremaining: 1m 43s\n",
      "119:\tlearn: 0.1467614\ttest: 0.1522973\tbest: 0.1522973 (119)\ttotal: 2m 33s\tremaining: 1m 42s\n",
      "120:\tlearn: 0.1464937\ttest: 0.1521134\tbest: 0.1521134 (120)\ttotal: 2m 34s\tremaining: 1m 40s\n",
      "121:\tlearn: 0.1461886\ttest: 0.1518543\tbest: 0.1518543 (121)\ttotal: 2m 35s\tremaining: 1m 39s\n",
      "122:\tlearn: 0.1459411\ttest: 0.1516412\tbest: 0.1516412 (122)\ttotal: 2m 37s\tremaining: 1m 38s\n",
      "123:\tlearn: 0.1457159\ttest: 0.1514495\tbest: 0.1514495 (123)\ttotal: 2m 38s\tremaining: 1m 37s\n",
      "124:\tlearn: 0.1454979\ttest: 0.1512981\tbest: 0.1512981 (124)\ttotal: 2m 39s\tremaining: 1m 35s\n",
      "125:\tlearn: 0.1450195\ttest: 0.1508855\tbest: 0.1508855 (125)\ttotal: 2m 40s\tremaining: 1m 34s\n",
      "126:\tlearn: 0.1446440\ttest: 0.1505924\tbest: 0.1505924 (126)\ttotal: 2m 42s\tremaining: 1m 33s\n",
      "127:\tlearn: 0.1443776\ttest: 0.1503688\tbest: 0.1503688 (127)\ttotal: 2m 43s\tremaining: 1m 31s\n",
      "128:\tlearn: 0.1441212\ttest: 0.1501744\tbest: 0.1501744 (128)\ttotal: 2m 44s\tremaining: 1m 30s\n",
      "129:\tlearn: 0.1439122\ttest: 0.1499730\tbest: 0.1499730 (129)\ttotal: 2m 45s\tremaining: 1m 29s\n",
      "130:\tlearn: 0.1437047\ttest: 0.1498169\tbest: 0.1498169 (130)\ttotal: 2m 47s\tremaining: 1m 27s\n",
      "131:\tlearn: 0.1434000\ttest: 0.1495821\tbest: 0.1495821 (131)\ttotal: 2m 48s\tremaining: 1m 26s\n",
      "132:\tlearn: 0.1429547\ttest: 0.1492456\tbest: 0.1492456 (132)\ttotal: 2m 49s\tremaining: 1m 25s\n",
      "133:\tlearn: 0.1427867\ttest: 0.1491402\tbest: 0.1491402 (133)\ttotal: 2m 50s\tremaining: 1m 24s\n",
      "134:\tlearn: 0.1425347\ttest: 0.1489329\tbest: 0.1489329 (134)\ttotal: 2m 52s\tremaining: 1m 22s\n",
      "135:\tlearn: 0.1422468\ttest: 0.1486790\tbest: 0.1486790 (135)\ttotal: 2m 53s\tremaining: 1m 21s\n",
      "136:\tlearn: 0.1420846\ttest: 0.1486229\tbest: 0.1486229 (136)\ttotal: 2m 54s\tremaining: 1m 20s\n",
      "137:\tlearn: 0.1419349\ttest: 0.1484897\tbest: 0.1484897 (137)\ttotal: 2m 56s\tremaining: 1m 19s\n",
      "138:\tlearn: 0.1417040\ttest: 0.1482846\tbest: 0.1482846 (138)\ttotal: 2m 57s\tremaining: 1m 17s\n",
      "139:\tlearn: 0.1413575\ttest: 0.1479546\tbest: 0.1479546 (139)\ttotal: 2m 58s\tremaining: 1m 16s\n",
      "140:\tlearn: 0.1410724\ttest: 0.1477593\tbest: 0.1477593 (140)\ttotal: 2m 59s\tremaining: 1m 15s\n",
      "141:\tlearn: 0.1408052\ttest: 0.1474690\tbest: 0.1474690 (141)\ttotal: 3m 1s\tremaining: 1m 13s\n",
      "142:\tlearn: 0.1404694\ttest: 0.1471472\tbest: 0.1471472 (142)\ttotal: 3m 2s\tremaining: 1m 12s\n",
      "143:\tlearn: 0.1401505\ttest: 0.1468417\tbest: 0.1468417 (143)\ttotal: 3m 3s\tremaining: 1m 11s\n",
      "144:\tlearn: 0.1399290\ttest: 0.1466305\tbest: 0.1466305 (144)\ttotal: 3m 4s\tremaining: 1m 10s\n",
      "145:\tlearn: 0.1396167\ttest: 0.1462957\tbest: 0.1462957 (145)\ttotal: 3m 6s\tremaining: 1m 8s\n",
      "146:\tlearn: 0.1393406\ttest: 0.1461603\tbest: 0.1461603 (146)\ttotal: 3m 7s\tremaining: 1m 7s\n",
      "147:\tlearn: 0.1391199\ttest: 0.1460166\tbest: 0.1460166 (147)\ttotal: 3m 8s\tremaining: 1m 6s\n",
      "148:\tlearn: 0.1389491\ttest: 0.1459644\tbest: 0.1459644 (148)\ttotal: 3m 10s\tremaining: 1m 5s\n",
      "149:\tlearn: 0.1387145\ttest: 0.1458311\tbest: 0.1458311 (149)\ttotal: 3m 11s\tremaining: 1m 3s\n",
      "150:\tlearn: 0.1385042\ttest: 0.1456267\tbest: 0.1456267 (150)\ttotal: 3m 12s\tremaining: 1m 2s\n",
      "151:\tlearn: 0.1382674\ttest: 0.1454390\tbest: 0.1454390 (151)\ttotal: 3m 13s\tremaining: 1m 1s\n",
      "152:\tlearn: 0.1380128\ttest: 0.1452804\tbest: 0.1452804 (152)\ttotal: 3m 15s\tremaining: 59.9s\n",
      "153:\tlearn: 0.1376620\ttest: 0.1449419\tbest: 0.1449419 (153)\ttotal: 3m 16s\tremaining: 58.6s\n",
      "154:\tlearn: 0.1374789\ttest: 0.1448089\tbest: 0.1448089 (154)\ttotal: 3m 17s\tremaining: 57.3s\n",
      "155:\tlearn: 0.1373459\ttest: 0.1447346\tbest: 0.1447346 (155)\ttotal: 3m 18s\tremaining: 56.1s\n",
      "156:\tlearn: 0.1371641\ttest: 0.1446523\tbest: 0.1446523 (156)\ttotal: 3m 19s\tremaining: 54.8s\n",
      "157:\tlearn: 0.1368345\ttest: 0.1444563\tbest: 0.1444563 (157)\ttotal: 3m 21s\tremaining: 53.5s\n",
      "158:\tlearn: 0.1366878\ttest: 0.1444014\tbest: 0.1444014 (158)\ttotal: 3m 22s\tremaining: 52.2s\n",
      "159:\tlearn: 0.1364685\ttest: 0.1442519\tbest: 0.1442519 (159)\ttotal: 3m 24s\tremaining: 51s\n",
      "160:\tlearn: 0.1362284\ttest: 0.1441046\tbest: 0.1441046 (160)\ttotal: 3m 25s\tremaining: 49.7s\n",
      "161:\tlearn: 0.1360164\ttest: 0.1439297\tbest: 0.1439297 (161)\ttotal: 3m 26s\tremaining: 48.4s\n",
      "162:\tlearn: 0.1358298\ttest: 0.1437257\tbest: 0.1437257 (162)\ttotal: 3m 27s\tremaining: 47.2s\n",
      "163:\tlearn: 0.1356806\ttest: 0.1435923\tbest: 0.1435923 (163)\ttotal: 3m 28s\tremaining: 45.9s\n",
      "164:\tlearn: 0.1354727\ttest: 0.1434661\tbest: 0.1434661 (164)\ttotal: 3m 30s\tremaining: 44.6s\n",
      "165:\tlearn: 0.1352479\ttest: 0.1433035\tbest: 0.1433035 (165)\ttotal: 3m 31s\tremaining: 43.3s\n",
      "166:\tlearn: 0.1349535\ttest: 0.1429822\tbest: 0.1429822 (166)\ttotal: 3m 32s\tremaining: 42s\n",
      "167:\tlearn: 0.1347850\ttest: 0.1428956\tbest: 0.1428956 (167)\ttotal: 3m 33s\tremaining: 40.7s\n",
      "168:\tlearn: 0.1345963\ttest: 0.1428139\tbest: 0.1428139 (168)\ttotal: 3m 35s\tremaining: 39.5s\n",
      "169:\tlearn: 0.1344117\ttest: 0.1426788\tbest: 0.1426788 (169)\ttotal: 3m 36s\tremaining: 38.2s\n",
      "170:\tlearn: 0.1342746\ttest: 0.1425757\tbest: 0.1425757 (170)\ttotal: 3m 37s\tremaining: 36.9s\n",
      "171:\tlearn: 0.1340842\ttest: 0.1424911\tbest: 0.1424911 (171)\ttotal: 3m 39s\tremaining: 35.7s\n",
      "172:\tlearn: 0.1339709\ttest: 0.1424330\tbest: 0.1424330 (172)\ttotal: 3m 40s\tremaining: 34.4s\n",
      "173:\tlearn: 0.1338461\ttest: 0.1423762\tbest: 0.1423762 (173)\ttotal: 3m 41s\tremaining: 33.1s\n",
      "174:\tlearn: 0.1337499\ttest: 0.1423354\tbest: 0.1423354 (174)\ttotal: 3m 42s\tremaining: 31.8s\n",
      "175:\tlearn: 0.1335729\ttest: 0.1421444\tbest: 0.1421444 (175)\ttotal: 3m 44s\tremaining: 30.6s\n",
      "176:\tlearn: 0.1333529\ttest: 0.1419163\tbest: 0.1419163 (176)\ttotal: 3m 45s\tremaining: 29.3s\n",
      "177:\tlearn: 0.1330866\ttest: 0.1415844\tbest: 0.1415844 (177)\ttotal: 3m 46s\tremaining: 28s\n",
      "178:\tlearn: 0.1327781\ttest: 0.1413440\tbest: 0.1413440 (178)\ttotal: 3m 48s\tremaining: 26.8s\n",
      "179:\tlearn: 0.1326683\ttest: 0.1412920\tbest: 0.1412920 (179)\ttotal: 3m 49s\tremaining: 25.5s\n",
      "180:\tlearn: 0.1325699\ttest: 0.1412778\tbest: 0.1412778 (180)\ttotal: 3m 50s\tremaining: 24.2s\n",
      "181:\tlearn: 0.1323881\ttest: 0.1412306\tbest: 0.1412306 (181)\ttotal: 3m 51s\tremaining: 22.9s\n",
      "182:\tlearn: 0.1322197\ttest: 0.1411599\tbest: 0.1411599 (182)\ttotal: 3m 52s\tremaining: 21.6s\n",
      "183:\tlearn: 0.1319304\ttest: 0.1408958\tbest: 0.1408958 (183)\ttotal: 3m 54s\tremaining: 20.4s\n",
      "184:\tlearn: 0.1318164\ttest: 0.1408269\tbest: 0.1408269 (184)\ttotal: 3m 55s\tremaining: 19.1s\n",
      "185:\tlearn: 0.1316063\ttest: 0.1406403\tbest: 0.1406403 (185)\ttotal: 3m 56s\tremaining: 17.8s\n",
      "186:\tlearn: 0.1314946\ttest: 0.1406118\tbest: 0.1406118 (186)\ttotal: 3m 58s\tremaining: 16.6s\n",
      "187:\tlearn: 0.1313424\ttest: 0.1405398\tbest: 0.1405398 (187)\ttotal: 3m 59s\tremaining: 15.3s\n",
      "188:\tlearn: 0.1312010\ttest: 0.1403914\tbest: 0.1403914 (188)\ttotal: 4m\tremaining: 14s\n",
      "189:\tlearn: 0.1311093\ttest: 0.1403754\tbest: 0.1403754 (189)\ttotal: 4m 1s\tremaining: 12.7s\n",
      "190:\tlearn: 0.1309500\ttest: 0.1402826\tbest: 0.1402826 (190)\ttotal: 4m 3s\tremaining: 11.5s\n",
      "191:\tlearn: 0.1307288\ttest: 0.1401623\tbest: 0.1401623 (191)\ttotal: 4m 4s\tremaining: 10.2s\n",
      "192:\tlearn: 0.1305522\ttest: 0.1400641\tbest: 0.1400641 (192)\ttotal: 4m 5s\tremaining: 8.91s\n",
      "193:\tlearn: 0.1304444\ttest: 0.1399813\tbest: 0.1399813 (193)\ttotal: 4m 6s\tremaining: 7.63s\n",
      "194:\tlearn: 0.1302917\ttest: 0.1399091\tbest: 0.1399091 (194)\ttotal: 4m 8s\tremaining: 6.36s\n",
      "195:\tlearn: 0.1301333\ttest: 0.1398248\tbest: 0.1398248 (195)\ttotal: 4m 9s\tremaining: 5.09s\n",
      "196:\tlearn: 0.1299696\ttest: 0.1397117\tbest: 0.1397117 (196)\ttotal: 4m 10s\tremaining: 3.82s\n",
      "197:\tlearn: 0.1297938\ttest: 0.1395586\tbest: 0.1395586 (197)\ttotal: 4m 11s\tremaining: 2.54s\n",
      "198:\tlearn: 0.1295846\ttest: 0.1393782\tbest: 0.1393782 (198)\ttotal: 4m 13s\tremaining: 1.27s\n",
      "199:\tlearn: 0.1295031\ttest: 0.1393586\tbest: 0.1393586 (199)\ttotal: 4m 14s\tremaining: 0us\n",
      "\n",
      "bestTest = 0.1393586347\n",
      "bestIteration = 199\n",
      "\n",
      "Training on fold [2/3]\n",
      "0:\tlearn: 0.5930887\ttest: 0.5932017\tbest: 0.5932017 (0)\ttotal: 1.31s\tremaining: 4m 20s\n",
      "1:\tlearn: 0.5130437\ttest: 0.5131060\tbest: 0.5131060 (1)\ttotal: 2.59s\tremaining: 4m 16s\n",
      "2:\tlearn: 0.4544370\ttest: 0.4548186\tbest: 0.4548186 (2)\ttotal: 3.84s\tremaining: 4m 12s\n",
      "3:\tlearn: 0.4062594\ttest: 0.4068733\tbest: 0.4068733 (3)\ttotal: 5.22s\tremaining: 4m 15s\n",
      "4:\tlearn: 0.3687751\ttest: 0.3697624\tbest: 0.3697624 (4)\ttotal: 6.61s\tremaining: 4m 17s\n",
      "5:\tlearn: 0.3383594\ttest: 0.3394844\tbest: 0.3394844 (5)\ttotal: 7.92s\tremaining: 4m 16s\n",
      "6:\tlearn: 0.3149686\ttest: 0.3163443\tbest: 0.3163443 (6)\ttotal: 9.18s\tremaining: 4m 13s\n",
      "7:\tlearn: 0.2963440\ttest: 0.2976213\tbest: 0.2976213 (7)\ttotal: 10.5s\tremaining: 4m 10s\n",
      "8:\tlearn: 0.2813103\ttest: 0.2827272\tbest: 0.2827272 (8)\ttotal: 11.7s\tremaining: 4m 8s\n",
      "9:\tlearn: 0.2679486\ttest: 0.2693366\tbest: 0.2693366 (9)\ttotal: 13.1s\tremaining: 4m 8s\n",
      "10:\tlearn: 0.2582585\ttest: 0.2596272\tbest: 0.2596272 (10)\ttotal: 14.3s\tremaining: 4m 6s\n",
      "11:\tlearn: 0.2491517\ttest: 0.2508780\tbest: 0.2508780 (11)\ttotal: 15.6s\tremaining: 4m 4s\n",
      "12:\tlearn: 0.2423822\ttest: 0.2442466\tbest: 0.2442466 (12)\ttotal: 16.9s\tremaining: 4m 2s\n",
      "13:\tlearn: 0.2363902\ttest: 0.2382934\tbest: 0.2382934 (13)\ttotal: 18.1s\tremaining: 4m 1s\n",
      "14:\tlearn: 0.2314877\ttest: 0.2335212\tbest: 0.2335212 (14)\ttotal: 19.4s\tremaining: 3m 59s\n",
      "15:\tlearn: 0.2273396\ttest: 0.2295874\tbest: 0.2295874 (15)\ttotal: 20.7s\tremaining: 3m 58s\n",
      "16:\tlearn: 0.2235262\ttest: 0.2258495\tbest: 0.2258495 (16)\ttotal: 22.1s\tremaining: 3m 57s\n",
      "17:\tlearn: 0.2197826\ttest: 0.2221706\tbest: 0.2221706 (17)\ttotal: 23.5s\tremaining: 3m 57s\n",
      "18:\tlearn: 0.2167394\ttest: 0.2191319\tbest: 0.2191319 (18)\ttotal: 24.8s\tremaining: 3m 56s\n",
      "19:\tlearn: 0.2138650\ttest: 0.2165371\tbest: 0.2165371 (19)\ttotal: 26s\tremaining: 3m 54s\n",
      "20:\tlearn: 0.2113728\ttest: 0.2142143\tbest: 0.2142143 (20)\ttotal: 27.3s\tremaining: 3m 53s\n",
      "21:\tlearn: 0.2090638\ttest: 0.2119485\tbest: 0.2119485 (21)\ttotal: 28.6s\tremaining: 3m 51s\n",
      "22:\tlearn: 0.2065077\ttest: 0.2095348\tbest: 0.2095348 (22)\ttotal: 29.9s\tremaining: 3m 49s\n",
      "23:\tlearn: 0.2046328\ttest: 0.2077307\tbest: 0.2077307 (23)\ttotal: 31.1s\tremaining: 3m 48s\n",
      "24:\tlearn: 0.2030015\ttest: 0.2060062\tbest: 0.2060062 (24)\ttotal: 32.4s\tremaining: 3m 46s\n",
      "25:\tlearn: 0.2011340\ttest: 0.2040129\tbest: 0.2040129 (25)\ttotal: 33.7s\tremaining: 3m 45s\n",
      "26:\tlearn: 0.1994064\ttest: 0.2025046\tbest: 0.2025046 (26)\ttotal: 34.9s\tremaining: 3m 43s\n",
      "27:\tlearn: 0.1975803\ttest: 0.2008276\tbest: 0.2008276 (27)\ttotal: 36.2s\tremaining: 3m 42s\n",
      "28:\tlearn: 0.1957837\ttest: 0.1989871\tbest: 0.1989871 (28)\ttotal: 37.6s\tremaining: 3m 41s\n",
      "29:\tlearn: 0.1944951\ttest: 0.1976666\tbest: 0.1976666 (29)\ttotal: 39s\tremaining: 3m 41s\n",
      "30:\tlearn: 0.1932748\ttest: 0.1965835\tbest: 0.1965835 (30)\ttotal: 40.3s\tremaining: 3m 39s\n",
      "31:\tlearn: 0.1917599\ttest: 0.1950742\tbest: 0.1950742 (31)\ttotal: 41.6s\tremaining: 3m 38s\n",
      "32:\tlearn: 0.1903713\ttest: 0.1937939\tbest: 0.1937939 (32)\ttotal: 42.8s\tremaining: 3m 36s\n",
      "33:\tlearn: 0.1891975\ttest: 0.1927853\tbest: 0.1927853 (33)\ttotal: 44.1s\tremaining: 3m 35s\n",
      "34:\tlearn: 0.1880629\ttest: 0.1917692\tbest: 0.1917692 (34)\ttotal: 45.5s\tremaining: 3m 34s\n",
      "35:\tlearn: 0.1870768\ttest: 0.1908175\tbest: 0.1908175 (35)\ttotal: 46.8s\tremaining: 3m 33s\n",
      "36:\tlearn: 0.1861446\ttest: 0.1900281\tbest: 0.1900281 (36)\ttotal: 48.1s\tremaining: 3m 31s\n",
      "37:\tlearn: 0.1852527\ttest: 0.1892253\tbest: 0.1892253 (37)\ttotal: 49.5s\tremaining: 3m 31s\n",
      "38:\tlearn: 0.1843394\ttest: 0.1883866\tbest: 0.1883866 (38)\ttotal: 50.8s\tremaining: 3m 29s\n",
      "39:\tlearn: 0.1834622\ttest: 0.1876559\tbest: 0.1876559 (39)\ttotal: 52.2s\tremaining: 3m 28s\n",
      "40:\tlearn: 0.1826017\ttest: 0.1868671\tbest: 0.1868671 (40)\ttotal: 53.6s\tremaining: 3m 27s\n",
      "41:\tlearn: 0.1817632\ttest: 0.1861811\tbest: 0.1861811 (41)\ttotal: 55s\tremaining: 3m 26s\n",
      "42:\tlearn: 0.1807869\ttest: 0.1852396\tbest: 0.1852396 (42)\ttotal: 56.2s\tremaining: 3m 25s\n",
      "43:\tlearn: 0.1800934\ttest: 0.1844651\tbest: 0.1844651 (43)\ttotal: 57.5s\tremaining: 3m 23s\n",
      "44:\tlearn: 0.1793604\ttest: 0.1838161\tbest: 0.1838161 (44)\ttotal: 58.7s\tremaining: 3m 22s\n",
      "45:\tlearn: 0.1784232\ttest: 0.1828233\tbest: 0.1828233 (45)\ttotal: 1m\tremaining: 3m 20s\n",
      "46:\tlearn: 0.1771540\ttest: 0.1815293\tbest: 0.1815293 (46)\ttotal: 1m 1s\tremaining: 3m 19s\n",
      "47:\tlearn: 0.1763905\ttest: 0.1808219\tbest: 0.1808219 (47)\ttotal: 1m 2s\tremaining: 3m 18s\n",
      "48:\tlearn: 0.1756959\ttest: 0.1801472\tbest: 0.1801472 (48)\ttotal: 1m 3s\tremaining: 3m 16s\n",
      "49:\tlearn: 0.1747300\ttest: 0.1792875\tbest: 0.1792875 (49)\ttotal: 1m 5s\tremaining: 3m 15s\n",
      "50:\tlearn: 0.1741166\ttest: 0.1787452\tbest: 0.1787452 (50)\ttotal: 1m 6s\tremaining: 3m 13s\n",
      "51:\tlearn: 0.1734947\ttest: 0.1782535\tbest: 0.1782535 (51)\ttotal: 1m 7s\tremaining: 3m 12s\n",
      "52:\tlearn: 0.1729073\ttest: 0.1777931\tbest: 0.1777931 (52)\ttotal: 1m 8s\tremaining: 3m 11s\n",
      "53:\tlearn: 0.1723071\ttest: 0.1773182\tbest: 0.1773182 (53)\ttotal: 1m 10s\tremaining: 3m 10s\n",
      "54:\tlearn: 0.1716560\ttest: 0.1768233\tbest: 0.1768233 (54)\ttotal: 1m 11s\tremaining: 3m 8s\n",
      "55:\tlearn: 0.1711339\ttest: 0.1762664\tbest: 0.1762664 (55)\ttotal: 1m 12s\tremaining: 3m 7s\n",
      "56:\tlearn: 0.1705799\ttest: 0.1756683\tbest: 0.1756683 (56)\ttotal: 1m 14s\tremaining: 3m 5s\n",
      "57:\tlearn: 0.1700038\ttest: 0.1752342\tbest: 0.1752342 (57)\ttotal: 1m 15s\tremaining: 3m 4s\n",
      "58:\tlearn: 0.1695072\ttest: 0.1747607\tbest: 0.1747607 (58)\ttotal: 1m 16s\tremaining: 3m 3s\n",
      "59:\tlearn: 0.1690101\ttest: 0.1743343\tbest: 0.1743343 (59)\ttotal: 1m 17s\tremaining: 3m 1s\n",
      "60:\tlearn: 0.1683916\ttest: 0.1737598\tbest: 0.1737598 (60)\ttotal: 1m 19s\tremaining: 3m\n",
      "61:\tlearn: 0.1676460\ttest: 0.1731705\tbest: 0.1731705 (61)\ttotal: 1m 20s\tremaining: 2m 58s\n",
      "62:\tlearn: 0.1670730\ttest: 0.1726466\tbest: 0.1726466 (62)\ttotal: 1m 21s\tremaining: 2m 57s\n",
      "63:\tlearn: 0.1665783\ttest: 0.1723829\tbest: 0.1723829 (63)\ttotal: 1m 22s\tremaining: 2m 56s\n",
      "64:\tlearn: 0.1659436\ttest: 0.1717996\tbest: 0.1717996 (64)\ttotal: 1m 24s\tremaining: 2m 54s\n",
      "65:\tlearn: 0.1653710\ttest: 0.1713166\tbest: 0.1713166 (65)\ttotal: 1m 25s\tremaining: 2m 53s\n",
      "66:\tlearn: 0.1649106\ttest: 0.1708120\tbest: 0.1708120 (66)\ttotal: 1m 26s\tremaining: 2m 52s\n",
      "67:\tlearn: 0.1644522\ttest: 0.1704547\tbest: 0.1704547 (67)\ttotal: 1m 28s\tremaining: 2m 51s\n",
      "68:\tlearn: 0.1640230\ttest: 0.1701441\tbest: 0.1701441 (68)\ttotal: 1m 29s\tremaining: 2m 49s\n",
      "69:\tlearn: 0.1634431\ttest: 0.1696098\tbest: 0.1696098 (69)\ttotal: 1m 30s\tremaining: 2m 48s\n",
      "70:\tlearn: 0.1630213\ttest: 0.1692763\tbest: 0.1692763 (70)\ttotal: 1m 31s\tremaining: 2m 47s\n",
      "71:\tlearn: 0.1621821\ttest: 0.1685575\tbest: 0.1685575 (71)\ttotal: 1m 33s\tremaining: 2m 45s\n",
      "72:\tlearn: 0.1615823\ttest: 0.1680132\tbest: 0.1680132 (72)\ttotal: 1m 34s\tremaining: 2m 44s\n",
      "73:\tlearn: 0.1611763\ttest: 0.1676726\tbest: 0.1676726 (73)\ttotal: 1m 35s\tremaining: 2m 43s\n",
      "74:\tlearn: 0.1607134\ttest: 0.1672664\tbest: 0.1672664 (74)\ttotal: 1m 37s\tremaining: 2m 41s\n",
      "75:\tlearn: 0.1603371\ttest: 0.1668518\tbest: 0.1668518 (75)\ttotal: 1m 38s\tremaining: 2m 40s\n",
      "76:\tlearn: 0.1598096\ttest: 0.1663927\tbest: 0.1663927 (76)\ttotal: 1m 39s\tremaining: 2m 38s\n",
      "77:\tlearn: 0.1593592\ttest: 0.1660300\tbest: 0.1660300 (77)\ttotal: 1m 40s\tremaining: 2m 37s\n",
      "78:\tlearn: 0.1590224\ttest: 0.1657168\tbest: 0.1657168 (78)\ttotal: 1m 42s\tremaining: 2m 36s\n",
      "79:\tlearn: 0.1586355\ttest: 0.1653829\tbest: 0.1653829 (79)\ttotal: 1m 43s\tremaining: 2m 35s\n",
      "80:\tlearn: 0.1581492\ttest: 0.1649624\tbest: 0.1649624 (80)\ttotal: 1m 44s\tremaining: 2m 33s\n",
      "81:\tlearn: 0.1574074\ttest: 0.1643168\tbest: 0.1643168 (81)\ttotal: 1m 46s\tremaining: 2m 32s\n",
      "82:\tlearn: 0.1569719\ttest: 0.1639741\tbest: 0.1639741 (82)\ttotal: 1m 47s\tremaining: 2m 31s\n",
      "83:\tlearn: 0.1566147\ttest: 0.1637035\tbest: 0.1637035 (83)\ttotal: 1m 48s\tremaining: 2m 29s\n",
      "84:\tlearn: 0.1562617\ttest: 0.1634196\tbest: 0.1634196 (84)\ttotal: 1m 49s\tremaining: 2m 28s\n",
      "85:\tlearn: 0.1558422\ttest: 0.1629803\tbest: 0.1629803 (85)\ttotal: 1m 51s\tremaining: 2m 27s\n",
      "86:\tlearn: 0.1555111\ttest: 0.1627615\tbest: 0.1627615 (86)\ttotal: 1m 52s\tremaining: 2m 25s\n",
      "87:\tlearn: 0.1551669\ttest: 0.1624400\tbest: 0.1624400 (87)\ttotal: 1m 53s\tremaining: 2m 24s\n",
      "88:\tlearn: 0.1548450\ttest: 0.1622489\tbest: 0.1622489 (88)\ttotal: 1m 54s\tremaining: 2m 23s\n",
      "89:\tlearn: 0.1545594\ttest: 0.1620366\tbest: 0.1620366 (89)\ttotal: 1m 55s\tremaining: 2m 21s\n",
      "90:\tlearn: 0.1542662\ttest: 0.1618147\tbest: 0.1618147 (90)\ttotal: 1m 57s\tremaining: 2m 20s\n",
      "91:\tlearn: 0.1538487\ttest: 0.1613669\tbest: 0.1613669 (91)\ttotal: 1m 58s\tremaining: 2m 19s\n",
      "92:\tlearn: 0.1534857\ttest: 0.1610873\tbest: 0.1610873 (92)\ttotal: 2m\tremaining: 2m 18s\n",
      "93:\tlearn: 0.1530734\ttest: 0.1607350\tbest: 0.1607350 (93)\ttotal: 2m 1s\tremaining: 2m 16s\n",
      "94:\tlearn: 0.1527899\ttest: 0.1606595\tbest: 0.1606595 (94)\ttotal: 2m 2s\tremaining: 2m 15s\n",
      "95:\tlearn: 0.1524221\ttest: 0.1604161\tbest: 0.1604161 (95)\ttotal: 2m 3s\tremaining: 2m 14s\n",
      "96:\tlearn: 0.1520536\ttest: 0.1601553\tbest: 0.1601553 (96)\ttotal: 2m 5s\tremaining: 2m 12s\n",
      "97:\tlearn: 0.1516343\ttest: 0.1598261\tbest: 0.1598261 (97)\ttotal: 2m 6s\tremaining: 2m 11s\n",
      "98:\tlearn: 0.1511885\ttest: 0.1593393\tbest: 0.1593393 (98)\ttotal: 2m 7s\tremaining: 2m 10s\n",
      "99:\tlearn: 0.1508101\ttest: 0.1590078\tbest: 0.1590078 (99)\ttotal: 2m 8s\tremaining: 2m 8s\n",
      "100:\tlearn: 0.1505472\ttest: 0.1588784\tbest: 0.1588784 (100)\ttotal: 2m 10s\tremaining: 2m 7s\n",
      "101:\tlearn: 0.1502306\ttest: 0.1586646\tbest: 0.1586646 (101)\ttotal: 2m 11s\tremaining: 2m 6s\n",
      "102:\tlearn: 0.1499464\ttest: 0.1584182\tbest: 0.1584182 (102)\ttotal: 2m 12s\tremaining: 2m 4s\n",
      "103:\tlearn: 0.1496455\ttest: 0.1580931\tbest: 0.1580931 (103)\ttotal: 2m 13s\tremaining: 2m 3s\n",
      "104:\tlearn: 0.1490705\ttest: 0.1575569\tbest: 0.1575569 (104)\ttotal: 2m 15s\tremaining: 2m 2s\n",
      "105:\tlearn: 0.1486300\ttest: 0.1571229\tbest: 0.1571229 (105)\ttotal: 2m 16s\tremaining: 2m 1s\n",
      "106:\tlearn: 0.1482927\ttest: 0.1568216\tbest: 0.1568216 (106)\ttotal: 2m 17s\tremaining: 1m 59s\n",
      "107:\tlearn: 0.1478587\ttest: 0.1564486\tbest: 0.1564486 (107)\ttotal: 2m 19s\tremaining: 1m 58s\n",
      "108:\tlearn: 0.1475827\ttest: 0.1560955\tbest: 0.1560955 (108)\ttotal: 2m 20s\tremaining: 1m 57s\n",
      "109:\tlearn: 0.1473295\ttest: 0.1559272\tbest: 0.1559272 (109)\ttotal: 2m 21s\tremaining: 1m 55s\n",
      "110:\tlearn: 0.1470538\ttest: 0.1557467\tbest: 0.1557467 (110)\ttotal: 2m 22s\tremaining: 1m 54s\n",
      "111:\tlearn: 0.1467990\ttest: 0.1554455\tbest: 0.1554455 (111)\ttotal: 2m 24s\tremaining: 1m 53s\n",
      "112:\tlearn: 0.1465469\ttest: 0.1552781\tbest: 0.1552781 (112)\ttotal: 2m 25s\tremaining: 1m 51s\n",
      "113:\tlearn: 0.1462198\ttest: 0.1550454\tbest: 0.1550454 (113)\ttotal: 2m 26s\tremaining: 1m 50s\n",
      "114:\tlearn: 0.1459282\ttest: 0.1549048\tbest: 0.1549048 (114)\ttotal: 2m 27s\tremaining: 1m 49s\n",
      "115:\tlearn: 0.1456329\ttest: 0.1546946\tbest: 0.1546946 (115)\ttotal: 2m 29s\tremaining: 1m 48s\n",
      "116:\tlearn: 0.1453440\ttest: 0.1544318\tbest: 0.1544318 (116)\ttotal: 2m 30s\tremaining: 1m 46s\n",
      "117:\tlearn: 0.1449687\ttest: 0.1541445\tbest: 0.1541445 (117)\ttotal: 2m 31s\tremaining: 1m 45s\n",
      "118:\tlearn: 0.1446228\ttest: 0.1539215\tbest: 0.1539215 (118)\ttotal: 2m 33s\tremaining: 1m 44s\n",
      "119:\tlearn: 0.1443589\ttest: 0.1537381\tbest: 0.1537381 (119)\ttotal: 2m 34s\tremaining: 1m 42s\n",
      "120:\tlearn: 0.1441373\ttest: 0.1536084\tbest: 0.1536084 (120)\ttotal: 2m 35s\tremaining: 1m 41s\n",
      "121:\tlearn: 0.1439416\ttest: 0.1534268\tbest: 0.1534268 (121)\ttotal: 2m 36s\tremaining: 1m 40s\n",
      "122:\tlearn: 0.1436106\ttest: 0.1531043\tbest: 0.1531043 (122)\ttotal: 2m 38s\tremaining: 1m 39s\n",
      "123:\tlearn: 0.1432405\ttest: 0.1528747\tbest: 0.1528747 (123)\ttotal: 2m 39s\tremaining: 1m 37s\n",
      "124:\tlearn: 0.1429824\ttest: 0.1526380\tbest: 0.1526380 (124)\ttotal: 2m 40s\tremaining: 1m 36s\n",
      "125:\tlearn: 0.1427635\ttest: 0.1524831\tbest: 0.1524831 (125)\ttotal: 2m 41s\tremaining: 1m 35s\n",
      "126:\tlearn: 0.1424922\ttest: 0.1522806\tbest: 0.1522806 (126)\ttotal: 2m 43s\tremaining: 1m 33s\n",
      "127:\tlearn: 0.1422975\ttest: 0.1522105\tbest: 0.1522105 (127)\ttotal: 2m 44s\tremaining: 1m 32s\n",
      "128:\tlearn: 0.1420915\ttest: 0.1520684\tbest: 0.1520684 (128)\ttotal: 2m 45s\tremaining: 1m 31s\n",
      "129:\tlearn: 0.1417383\ttest: 0.1517698\tbest: 0.1517698 (129)\ttotal: 2m 47s\tremaining: 1m 30s\n",
      "130:\tlearn: 0.1414733\ttest: 0.1515773\tbest: 0.1515773 (130)\ttotal: 2m 48s\tremaining: 1m 28s\n",
      "131:\tlearn: 0.1413078\ttest: 0.1514739\tbest: 0.1514739 (131)\ttotal: 2m 49s\tremaining: 1m 27s\n",
      "132:\tlearn: 0.1409664\ttest: 0.1511318\tbest: 0.1511318 (132)\ttotal: 2m 50s\tremaining: 1m 26s\n",
      "133:\tlearn: 0.1406944\ttest: 0.1509793\tbest: 0.1509793 (133)\ttotal: 2m 52s\tremaining: 1m 24s\n",
      "134:\tlearn: 0.1404661\ttest: 0.1507971\tbest: 0.1507971 (134)\ttotal: 2m 53s\tremaining: 1m 23s\n",
      "135:\tlearn: 0.1400288\ttest: 0.1503988\tbest: 0.1503988 (135)\ttotal: 2m 54s\tremaining: 1m 22s\n",
      "136:\tlearn: 0.1397000\ttest: 0.1501817\tbest: 0.1501817 (136)\ttotal: 2m 55s\tremaining: 1m 20s\n",
      "137:\tlearn: 0.1394833\ttest: 0.1500290\tbest: 0.1500290 (137)\ttotal: 2m 57s\tremaining: 1m 19s\n",
      "138:\tlearn: 0.1392313\ttest: 0.1498591\tbest: 0.1498591 (138)\ttotal: 2m 58s\tremaining: 1m 18s\n",
      "139:\tlearn: 0.1390402\ttest: 0.1497063\tbest: 0.1497063 (139)\ttotal: 2m 59s\tremaining: 1m 16s\n",
      "140:\tlearn: 0.1387164\ttest: 0.1494693\tbest: 0.1494693 (140)\ttotal: 3m\tremaining: 1m 15s\n",
      "141:\tlearn: 0.1385596\ttest: 0.1493629\tbest: 0.1493629 (141)\ttotal: 3m 2s\tremaining: 1m 14s\n",
      "142:\tlearn: 0.1381208\ttest: 0.1489802\tbest: 0.1489802 (142)\ttotal: 3m 3s\tremaining: 1m 13s\n",
      "143:\tlearn: 0.1379020\ttest: 0.1488785\tbest: 0.1488785 (143)\ttotal: 3m 4s\tremaining: 1m 11s\n",
      "144:\tlearn: 0.1376427\ttest: 0.1485989\tbest: 0.1485989 (144)\ttotal: 3m 6s\tremaining: 1m 10s\n",
      "145:\tlearn: 0.1373667\ttest: 0.1483164\tbest: 0.1483164 (145)\ttotal: 3m 7s\tremaining: 1m 9s\n",
      "146:\tlearn: 0.1370599\ttest: 0.1480681\tbest: 0.1480681 (146)\ttotal: 3m 8s\tremaining: 1m 8s\n",
      "147:\tlearn: 0.1368927\ttest: 0.1479220\tbest: 0.1479220 (147)\ttotal: 3m 9s\tremaining: 1m 6s\n",
      "148:\tlearn: 0.1366741\ttest: 0.1478112\tbest: 0.1478112 (148)\ttotal: 3m 11s\tremaining: 1m 5s\n",
      "149:\tlearn: 0.1364560\ttest: 0.1476862\tbest: 0.1476862 (149)\ttotal: 3m 12s\tremaining: 1m 4s\n",
      "150:\tlearn: 0.1362904\ttest: 0.1476306\tbest: 0.1476306 (150)\ttotal: 3m 13s\tremaining: 1m 2s\n",
      "151:\tlearn: 0.1360567\ttest: 0.1474336\tbest: 0.1474336 (151)\ttotal: 3m 14s\tremaining: 1m 1s\n",
      "152:\tlearn: 0.1358512\ttest: 0.1472668\tbest: 0.1472668 (152)\ttotal: 3m 16s\tremaining: 1m\n",
      "153:\tlearn: 0.1356507\ttest: 0.1471339\tbest: 0.1471339 (153)\ttotal: 3m 17s\tremaining: 59s\n",
      "154:\tlearn: 0.1353994\ttest: 0.1469092\tbest: 0.1469092 (154)\ttotal: 3m 18s\tremaining: 57.8s\n",
      "155:\tlearn: 0.1351562\ttest: 0.1467708\tbest: 0.1467708 (155)\ttotal: 3m 20s\tremaining: 56.5s\n",
      "156:\tlearn: 0.1349815\ttest: 0.1466654\tbest: 0.1466654 (156)\ttotal: 3m 21s\tremaining: 55.2s\n",
      "157:\tlearn: 0.1346816\ttest: 0.1464058\tbest: 0.1464058 (157)\ttotal: 3m 22s\tremaining: 53.9s\n",
      "158:\tlearn: 0.1345402\ttest: 0.1463896\tbest: 0.1463896 (158)\ttotal: 3m 23s\tremaining: 52.6s\n",
      "159:\tlearn: 0.1343354\ttest: 0.1462488\tbest: 0.1462488 (159)\ttotal: 3m 25s\tremaining: 51.3s\n",
      "160:\tlearn: 0.1341968\ttest: 0.1462139\tbest: 0.1462139 (160)\ttotal: 3m 26s\tremaining: 50s\n",
      "161:\tlearn: 0.1340045\ttest: 0.1461223\tbest: 0.1461223 (161)\ttotal: 3m 27s\tremaining: 48.7s\n",
      "162:\tlearn: 0.1338404\ttest: 0.1460272\tbest: 0.1460272 (162)\ttotal: 3m 28s\tremaining: 47.4s\n",
      "163:\tlearn: 0.1336078\ttest: 0.1459198\tbest: 0.1459198 (163)\ttotal: 3m 30s\tremaining: 46.1s\n",
      "164:\tlearn: 0.1333868\ttest: 0.1457690\tbest: 0.1457690 (164)\ttotal: 3m 31s\tremaining: 44.8s\n",
      "165:\tlearn: 0.1332743\ttest: 0.1457238\tbest: 0.1457238 (165)\ttotal: 3m 32s\tremaining: 43.6s\n",
      "166:\tlearn: 0.1330610\ttest: 0.1455968\tbest: 0.1455968 (166)\ttotal: 3m 34s\tremaining: 42.3s\n",
      "167:\tlearn: 0.1329277\ttest: 0.1455768\tbest: 0.1455768 (167)\ttotal: 3m 35s\tremaining: 41s\n",
      "168:\tlearn: 0.1326507\ttest: 0.1453588\tbest: 0.1453588 (168)\ttotal: 3m 36s\tremaining: 39.8s\n",
      "169:\tlearn: 0.1324973\ttest: 0.1452701\tbest: 0.1452701 (169)\ttotal: 3m 37s\tremaining: 38.5s\n",
      "170:\tlearn: 0.1323948\ttest: 0.1452254\tbest: 0.1452254 (170)\ttotal: 3m 39s\tremaining: 37.2s\n",
      "171:\tlearn: 0.1321753\ttest: 0.1450834\tbest: 0.1450834 (171)\ttotal: 3m 40s\tremaining: 35.9s\n",
      "172:\tlearn: 0.1319480\ttest: 0.1448745\tbest: 0.1448745 (172)\ttotal: 3m 41s\tremaining: 34.6s\n",
      "173:\tlearn: 0.1317892\ttest: 0.1448124\tbest: 0.1448124 (173)\ttotal: 3m 42s\tremaining: 33.3s\n",
      "174:\tlearn: 0.1316245\ttest: 0.1446966\tbest: 0.1446966 (174)\ttotal: 3m 44s\tremaining: 32s\n",
      "175:\tlearn: 0.1315136\ttest: 0.1446400\tbest: 0.1446400 (175)\ttotal: 3m 45s\tremaining: 30.7s\n",
      "176:\tlearn: 0.1314057\ttest: 0.1445555\tbest: 0.1445555 (176)\ttotal: 3m 46s\tremaining: 29.4s\n",
      "177:\tlearn: 0.1312949\ttest: 0.1445223\tbest: 0.1445223 (177)\ttotal: 3m 47s\tremaining: 28.2s\n",
      "178:\tlearn: 0.1311063\ttest: 0.1443906\tbest: 0.1443906 (178)\ttotal: 3m 49s\tremaining: 26.9s\n",
      "179:\tlearn: 0.1309042\ttest: 0.1442795\tbest: 0.1442795 (179)\ttotal: 3m 50s\tremaining: 25.6s\n",
      "180:\tlearn: 0.1307284\ttest: 0.1441589\tbest: 0.1441589 (180)\ttotal: 3m 51s\tremaining: 24.3s\n",
      "181:\tlearn: 0.1304881\ttest: 0.1439924\tbest: 0.1439924 (181)\ttotal: 3m 53s\tremaining: 23.1s\n",
      "182:\tlearn: 0.1303930\ttest: 0.1439664\tbest: 0.1439664 (182)\ttotal: 3m 54s\tremaining: 21.8s\n",
      "183:\tlearn: 0.1302977\ttest: 0.1439358\tbest: 0.1439358 (183)\ttotal: 3m 55s\tremaining: 20.5s\n",
      "184:\tlearn: 0.1301017\ttest: 0.1438257\tbest: 0.1438257 (184)\ttotal: 3m 56s\tremaining: 19.2s\n",
      "185:\tlearn: 0.1298161\ttest: 0.1435553\tbest: 0.1435553 (185)\ttotal: 3m 58s\tremaining: 17.9s\n",
      "186:\tlearn: 0.1296166\ttest: 0.1434159\tbest: 0.1434159 (186)\ttotal: 3m 59s\tremaining: 16.6s\n",
      "187:\tlearn: 0.1294394\ttest: 0.1432765\tbest: 0.1432765 (187)\ttotal: 4m\tremaining: 15.4s\n",
      "188:\tlearn: 0.1293191\ttest: 0.1431962\tbest: 0.1431962 (188)\ttotal: 4m 1s\tremaining: 14.1s\n",
      "189:\tlearn: 0.1291584\ttest: 0.1430984\tbest: 0.1430984 (189)\ttotal: 4m 3s\tremaining: 12.8s\n",
      "190:\tlearn: 0.1290407\ttest: 0.1430265\tbest: 0.1430265 (190)\ttotal: 4m 4s\tremaining: 11.5s\n",
      "191:\tlearn: 0.1287981\ttest: 0.1428042\tbest: 0.1428042 (191)\ttotal: 4m 5s\tremaining: 10.2s\n",
      "192:\tlearn: 0.1286456\ttest: 0.1426334\tbest: 0.1426334 (192)\ttotal: 4m 6s\tremaining: 8.96s\n",
      "193:\tlearn: 0.1284635\ttest: 0.1426034\tbest: 0.1426034 (193)\ttotal: 4m 8s\tremaining: 7.68s\n",
      "194:\tlearn: 0.1282523\ttest: 0.1424279\tbest: 0.1424279 (194)\ttotal: 4m 9s\tremaining: 6.4s\n",
      "195:\tlearn: 0.1280242\ttest: 0.1422475\tbest: 0.1422475 (195)\ttotal: 4m 10s\tremaining: 5.12s\n",
      "196:\tlearn: 0.1278741\ttest: 0.1421009\tbest: 0.1421009 (196)\ttotal: 4m 11s\tremaining: 3.84s\n",
      "197:\tlearn: 0.1276834\ttest: 0.1419579\tbest: 0.1419579 (197)\ttotal: 4m 13s\tremaining: 2.56s\n",
      "198:\tlearn: 0.1275977\ttest: 0.1419371\tbest: 0.1419371 (198)\ttotal: 4m 14s\tremaining: 1.28s\n",
      "199:\tlearn: 0.1274958\ttest: 0.1418768\tbest: 0.1418768 (199)\ttotal: 4m 15s\tremaining: 0us\n",
      "\n",
      "bestTest = 0.1418768042\n",
      "bestIteration = 199\n",
      "\n"
     ]
    }
   ],
   "source": [
    "model_ = CatBoostClassifier(iterations=200)\n",
    "grid = {'learning_rate': [0.03, 0.1],\n",
    "        'depth': [4, 6]\n",
    "       }\n",
    "\n",
    "grid_search_result = model_.grid_search(grid, \n",
    "                                       X=features_train_, \n",
    "                                       y=target_train\n",
    "                                      )"
   ]
  },
  {
   "cell_type": "markdown",
   "metadata": {},
   "source": [
    "<font color='blue'><b>Комментарий ревьюера 2: </b></font> ✔️\\\n",
    "<font color='green'>CatBoost может сам векторизовать текст. Для этого указываем в класс модели текстовые данные. `text_features=[\"text_lemm\"]`</font>"
   ]
  },
  {
   "cell_type": "markdown",
   "metadata": {},
   "source": [
    "#### Метод find_thr"
   ]
  },
  {
   "cell_type": "code",
   "execution_count": 61,
   "metadata": {},
   "outputs": [],
   "source": [
    "def find_thr(model, features_valid, target_valid, range_):\n",
    "    probabilities_valid = model.predict_proba(features_valid)\n",
    "    probabilities_one_valid = probabilities_valid[:, 1]\n",
    "\n",
    "    for threshold in range_:\n",
    "        predicted_valid = probabilities_one_valid > threshold  \n",
    "\n",
    "        f1 = f1_score(\n",
    "            predicted_valid,\n",
    "            target_valid\n",
    "        )\n",
    "        print(\"Порог = {:.2f} | f1 = {:.3f}\".format(\n",
    "            threshold, f1))"
   ]
  },
  {
   "cell_type": "code",
   "execution_count": 62,
   "metadata": {},
   "outputs": [
    {
     "name": "stdout",
     "output_type": "stream",
     "text": [
      "Порог = 0.00 | f1 = 0.184\n",
      "Порог = 0.02 | f1 = 0.222\n",
      "Порог = 0.04 | f1 = 0.372\n",
      "Порог = 0.06 | f1 = 0.590\n",
      "Порог = 0.08 | f1 = 0.665\n",
      "Порог = 0.10 | f1 = 0.732\n",
      "Порог = 0.12 | f1 = 0.748\n",
      "Порог = 0.14 | f1 = 0.758\n",
      "Порог = 0.16 | f1 = 0.765\n",
      "Порог = 0.18 | f1 = 0.765\n",
      "Порог = 0.20 | f1 = 0.765\n",
      "Порог = 0.22 | f1 = 0.766\n",
      "Порог = 0.24 | f1 = 0.765\n",
      "Порог = 0.26 | f1 = 0.768\n",
      "Порог = 0.28 | f1 = 0.763\n"
     ]
    }
   ],
   "source": [
    "find_thr(model_, features_valid_, target_valid, np.arange(0, 0.3, 0.02))"
   ]
  },
  {
   "cell_type": "markdown",
   "metadata": {},
   "source": [
    "<font color='blue'><b>Комментарий ревьюера 2: </b></font> ✔️\\\n",
    "<font color='green'>Здорово, что подбираешь порог классификации на валидационных данных.</font>"
   ]
  },
  {
   "cell_type": "code",
   "execution_count": 63,
   "metadata": {
    "scrolled": true
   },
   "outputs": [
    {
     "data": {
      "text/plain": [
       "0.7604131956014661"
      ]
     },
     "execution_count": 63,
     "metadata": {},
     "output_type": "execute_result"
    }
   ],
   "source": [
    "predicted_test = model_.predict_proba(features_test_)[:, 1] > 0.26\n",
    "f1_score(\n",
    "        predicted_test,\n",
    "        target_test\n",
    "    )"
   ]
  },
  {
   "cell_type": "markdown",
   "metadata": {},
   "source": [
    "<font color='blue'><b>Комментарий ревьюера 2: </b></font> ✔️\\\n",
    "<font color='green'> Цель достигнута! Поздравляю!</font>"
   ]
  },
  {
   "cell_type": "code",
   "execution_count": 66,
   "metadata": {
    "collapsed": true
   },
   "outputs": [
    {
     "name": "stdout",
     "output_type": "stream",
     "text": [
      "Порог = 0.40 | f1 = 0.643\n",
      "Порог = 0.42 | f1 = 0.668\n",
      "Порог = 0.44 | f1 = 0.690\n",
      "Порог = 0.46 | f1 = 0.702\n",
      "Порог = 0.48 | f1 = 0.714\n",
      "Порог = 0.50 | f1 = 0.723\n",
      "Порог = 0.52 | f1 = 0.728\n",
      "Порог = 0.54 | f1 = 0.728\n",
      "Порог = 0.56 | f1 = 0.732\n",
      "Порог = 0.58 | f1 = 0.735\n",
      "Порог = 0.60 | f1 = 0.732\n",
      "Порог = 0.62 | f1 = 0.728\n",
      "Порог = 0.64 | f1 = 0.723\n",
      "Порог = 0.66 | f1 = 0.720\n",
      "Порог = 0.68 | f1 = 0.714\n",
      "Порог = 0.70 | f1 = 0.708\n",
      "Порог = 0.72 | f1 = 0.703\n",
      "Порог = 0.74 | f1 = 0.694\n",
      "Порог = 0.76 | f1 = 0.687\n",
      "Порог = 0.78 | f1 = 0.674\n"
     ]
    }
   ],
   "source": [
    "find_thr(model, features_valid['text'], target_valid, np.arange(0.4, 0.8, 0.02))"
   ]
  },
  {
   "cell_type": "code",
   "execution_count": 67,
   "metadata": {},
   "outputs": [
    {
     "data": {
      "text/plain": [
       "0.7232724902216427"
      ]
     },
     "execution_count": 67,
     "metadata": {},
     "output_type": "execute_result"
    }
   ],
   "source": [
    "predicted_test = model.predict_proba(features_test['text'])[:, 1] > 0.58\n",
    "f1_score(\n",
    "        predicted_test,\n",
    "        target_test\n",
    "    )"
   ]
  },
  {
   "cell_type": "markdown",
   "metadata": {},
   "source": [
    "<font color='blue'><b>Комментарий ревьюера 2: </b></font> ✔️\\\n",
    "<font color='green'>Тестирование проведено верно.</font>"
   ]
  },
  {
   "cell_type": "markdown",
   "metadata": {},
   "source": [
    "**CatBoostClassifier показало лучший результат, а также прошло под критерием \"не меньше чем 0.75\"**"
   ]
  },
  {
   "cell_type": "markdown",
   "metadata": {},
   "source": [
    "<font color='blue'><b>Комментарий ревьюера 2: </b></font> ⚠️\\\n",
    "<font color='darkorange'>Лучшую модель нужно выбирать по результатам кроссвалидации или на валидационных данных. Выбирать модели на тестовых данных нельзя - так мы подстраиваемся конкретно под тест. Тестирование - для контроля переобучения моделей.</font></font>"
   ]
  },
  {
   "cell_type": "markdown",
   "metadata": {},
   "source": [
    "<font color='blue'><b>Комментарий ревьюера : </b></font> ✔️\\\n",
    "<font color='green'>Подбор гиперпараметров проведён верно.</font>"
   ]
  },
  {
   "cell_type": "markdown",
   "metadata": {},
   "source": [
    "<font color='blue'><b>Комментарий ревьюера: </b></font> ❌\\\n",
    "<font color='red'><s> Нужно оценить более одной модели кроссвалидацией или на валидационных данных и выбрать Лучшую.</s></font>"
   ]
  },
  {
   "cell_type": "markdown",
   "metadata": {},
   "source": [
    "<font color='blue'><b>Комментарий ревьюера: </b></font> ✔️\\\n",
    "<font color='green'>Тестирование проведено верно.</font>"
   ]
  },
  {
   "cell_type": "markdown",
   "metadata": {},
   "source": [
    "> Нам требуется построить модель со значением метрики качества F1 не меньше 0.75.\n",
    "\n",
    "Получилось"
   ]
  },
  {
   "cell_type": "markdown",
   "metadata": {},
   "source": [
    "## Заключение"
   ]
  },
  {
   "cell_type": "markdown",
   "metadata": {},
   "source": [
    "- Между классов токсичных и обычных сообщений существует сильный дисбалнс классов\n",
    "- Удалось обнаружить зависимость между длинной сообщения и вероятностью им быть токсичным:\n",
    "    - более короткие сообщения имеют выше вероятность;\n",
    "    - также крайне длинные 4000+ символов.\n",
    "- Эмоциональные сообщения имеют повышенную вероятность быть токсичными\n",
    "- Удачно получилось обучить модель с f1 метрикой 0.76, что проходило под критерием \"не меньше 0.75\"."
   ]
  },
  {
   "cell_type": "markdown",
   "metadata": {},
   "source": [
    "<font color='blue'><b>Комментарий ревьюера 2: </b></font> ✔️\\\n",
    "<font color='green'> Очень приятно видеть вывод в конце проекта!\\\n",
    "Приведены ответы на главные вопросы проекта.</font>"
   ]
  },
  {
   "cell_type": "markdown",
   "metadata": {},
   "source": [
    "<font color='blue'><b>Комментарий ревьюера: </b></font> ❌\\\n",
    "<font color='red'><s> Очень не хватает общего вывода. В выводах можно приводить полученные ранее значения. Также можно расписать все, что было сделано в ходе проведения работы.</s></font>"
   ]
  },
  {
   "cell_type": "markdown",
   "metadata": {},
   "source": [
    "<font color='blue'><b>Итоговый комментарий ревьюера</b></font>\\\n",
    "<font color='green'>Дмитрий, хороший проект получился!\n",
    "Большое спасибо за проделанную работу. Видно, что приложено много усилий.\n",
    "</font>\n",
    "\n",
    "<font color='blue'>Что нужно исправить:</font>\n",
    "<ul><font color='red'>Поправь Лемматизацию.</font></ul>\n",
    "<ul><font color='red'>Не балансируй весь датасет. Балансировка допустима только для обучающей выборки.</font></ul>\n",
    "<ul><font color='red'>Оцени более одной модели.</font></ul>\n",
    "<ul><font color='red'>Добавь Общий вывод по работе.</font></ul>\n",
    "\n",
    "<font color='blue'>Что можно сделать лучше:</font>\n",
    "<font color='orange'>В работе я оставил несколько советов. Буду рад, если ты учтешь их.</font></ul>\n",
    "\n",
    "<font color='blue'><b>Жду новую версию проекта :)</b></font>"
   ]
  },
  {
   "cell_type": "markdown",
   "metadata": {},
   "source": [
    "<font color='purple'><b> Комментарий студента     </b></font>\n",
    "    \n",
    "<font color='purple'> Ещё раз спасибо большое за ревью </font>\n",
    "    \n"
   ]
  },
  {
   "cell_type": "markdown",
   "metadata": {},
   "source": [
    "<font color='blue'><b>Итоговый комментарий ревьюера 2</b></font>\\\n",
    "<font color='green'> Дмитрий, проект принят! \\\n",
    "Все этапы пройдены. Все рекомендации учтены.\\\n",
    "Надеюсь, тебе понравился процесс выполнения и результат.</font> \\\n",
    "<font color='blue'><b>Спасибо, удачи в освоении профессии!</b></font>"
   ]
  },
  {
   "cell_type": "markdown",
   "metadata": {},
   "source": [
    "<font color='green'><b>Полезные (и просто интересные) материалы:</b> \\\n",
    "Для работы с текстами используют и другие подходы. Например, сейчас активно используются RNN (LSTM) и трансформеры (BERT и другие с улицы Сезам, например, ELMO). НО! Они не являются панацеей, не всегда они нужны, так как и TF-IDF или Word2Vec + модели из классического ML тоже могут справляться. \\\n",
    "BERT тяжелый, существует много его вариаций для разных задач, есть готовые модели, есть надстройки над библиотекой transformers. Если, обучать BERT на GPU (можно в Google Colab или Kaggle), то должно быть побыстрее.\\\n",
    "https://huggingface.co/transformers/model_doc/bert.html \\\n",
    "https://colah.github.io/posts/2015-08-Understanding-LSTMs/ - Про LSTM \\\n",
    "https://web.stanford.edu/~jurafsky/slp3/10.pdf - про энкодер-декодер модели, этеншены\\\n",
    "https://pytorch.org/tutorials/beginner/transformer_tutorial.html - официальный гайд\n",
    "по трансформеру от создателей pytorch\\\n",
    "https://transformer.huggingface.co/ - поболтать с трансформером \\\n",
    "Библиотеки: allennlp, fairseq, transformers, tensorflow-text — множествореализованных\n",
    "методов для трансформеров методов NLP \\\n",
    "Word2Vec https://radimrehurek.com/gensim/models/word2vec.html\n",
    "\n",
    "<font color='green'>Пример BERT с GPU:\n",
    "```python\n",
    "%%time\n",
    "from tqdm import notebook\n",
    "batch_size = 2 # для примера возьмем такой батч, где будет всего две строки датасета\n",
    "embeddings = []\n",
    "model.cuda()   # закидываем модель на GPU\n",
    "for i in notebook.tqdm(range(input_ids.shape[0] // batch_size)):\n",
    "        batch = torch.LongTensor(input_ids[batch_size*i:batch_size*(i+1)]).cuda() # закидываем тензор на GPU\n",
    "        attention_mask_batch = torch.LongTensor(attention_mask[batch_size*i:batch_size*(i+1)]).cuda()\n",
    "\n",
    "        with torch.no_grad():\n",
    "            batch_embeddings = model(batch, attention_mask=attention_mask_batch)\n",
    "\n",
    "        embeddings.append(batch_embeddings[0][:,0,:].cpu().numpy()) # перевод обратно на проц, чтобы в нумпай кинуть\n",
    "        del batch\n",
    "        del attention_mask_batch\n",
    "        del batch_embeddings\n",
    "\n",
    "features = np.concatenate(embeddings)\n",
    "```\n",
    "Можно сделать предварительную проверку на наличие GPU.\\\n",
    "Например, так: ```device = torch.device(\"cuda:0\") if torch.cuda.is_available() else torch.device(\"cpu\")```\\\n",
    "Тогда вместо .cuda() нужно писать .to(device)\n",
    "\n",
    "Если понравилась работа с текстами, то можешь посмотреть очень интересный (но очень-очень сложный) курс лекций: https://github.com/yandexdataschool/nlp_course .\n",
    "\n",
    "    \n",
    "NLP от Samsung https://stepik.org/course/54098/promo \\\n",
    "NLP от Huawei https://ods.ai/tracks/nlp-course-spring-23\n",
    "</font>"
   ]
  },
  {
   "cell_type": "markdown",
   "metadata": {},
   "source": [
    "## Чек-лист проверки"
   ]
  },
  {
   "cell_type": "markdown",
   "metadata": {},
   "source": [
    "- [x]  Jupyter Notebook открыт\n",
    "- [ ]  Весь код выполняется без ошибок\n",
    "- [ ]  Ячейки с кодом расположены в порядке исполнения\n",
    "- [ ]  Данные загружены и подготовлены\n",
    "- [ ]  Модели обучены\n",
    "- [ ]  Значение метрики *F1* не меньше 0.75\n",
    "- [ ]  Выводы написаны"
   ]
  }
 ],
 "metadata": {
  "ExecuteTimeLog": [
   {
    "duration": 24421,
    "start_time": "2023-05-11T04:46:15.946Z"
   },
   {
    "duration": 1035,
    "start_time": "2023-05-11T04:46:40.369Z"
   },
   {
    "duration": 883,
    "start_time": "2023-05-11T04:46:41.406Z"
   },
   {
    "duration": 3,
    "start_time": "2023-05-11T04:46:42.291Z"
   },
   {
    "duration": 23,
    "start_time": "2023-05-11T04:46:42.303Z"
   },
   {
    "duration": 8,
    "start_time": "2023-05-11T04:46:42.328Z"
   },
   {
    "duration": 35,
    "start_time": "2023-05-11T04:46:42.338Z"
   },
   {
    "duration": 52,
    "start_time": "2023-05-11T04:46:42.375Z"
   },
   {
    "duration": 12,
    "start_time": "2023-05-11T04:46:42.429Z"
   },
   {
    "duration": 13,
    "start_time": "2023-05-11T04:46:42.443Z"
   },
   {
    "duration": 130,
    "start_time": "2023-05-11T04:46:42.457Z"
   },
   {
    "duration": 15,
    "start_time": "2023-05-11T04:46:42.589Z"
   },
   {
    "duration": 1537,
    "start_time": "2023-05-11T04:46:42.609Z"
   },
   {
    "duration": 28,
    "start_time": "2023-05-11T04:46:44.149Z"
   },
   {
    "duration": 200,
    "start_time": "2023-05-11T04:46:44.178Z"
   },
   {
    "duration": 1133,
    "start_time": "2023-05-11T04:46:44.381Z"
   },
   {
    "duration": 3648,
    "start_time": "2023-05-11T04:46:45.518Z"
   },
   {
    "duration": 174,
    "start_time": "2023-05-11T04:46:49.167Z"
   },
   {
    "duration": 376,
    "start_time": "2023-05-11T04:46:49.343Z"
   },
   {
    "duration": 4,
    "start_time": "2023-05-11T04:46:49.721Z"
   },
   {
    "duration": 20,
    "start_time": "2023-05-11T04:46:49.726Z"
   },
   {
    "duration": 17,
    "start_time": "2023-05-11T04:46:49.747Z"
   },
   {
    "duration": 1372,
    "start_time": "2023-05-11T04:46:49.766Z"
   },
   {
    "duration": 170,
    "start_time": "2023-05-11T04:46:51.140Z"
   },
   {
    "duration": 0,
    "start_time": "2023-05-11T04:46:51.311Z"
   },
   {
    "duration": 1368,
    "start_time": "2023-05-11T04:47:21.696Z"
   },
   {
    "duration": 11,
    "start_time": "2023-05-11T04:47:25.510Z"
   },
   {
    "duration": 20392,
    "start_time": "2023-05-11T04:52:57.716Z"
   },
   {
    "duration": 194,
    "start_time": "2023-05-11T04:53:18.110Z"
   },
   {
    "duration": 773,
    "start_time": "2023-05-11T04:53:18.306Z"
   },
   {
    "duration": 3,
    "start_time": "2023-05-11T04:53:19.080Z"
   },
   {
    "duration": 21,
    "start_time": "2023-05-11T04:53:19.085Z"
   },
   {
    "duration": 10,
    "start_time": "2023-05-11T04:53:19.108Z"
   },
   {
    "duration": 31,
    "start_time": "2023-05-11T04:53:19.119Z"
   },
   {
    "duration": 47,
    "start_time": "2023-05-11T04:53:19.152Z"
   },
   {
    "duration": 12,
    "start_time": "2023-05-11T04:53:19.201Z"
   },
   {
    "duration": 12,
    "start_time": "2023-05-11T04:53:19.215Z"
   },
   {
    "duration": 119,
    "start_time": "2023-05-11T04:53:19.229Z"
   },
   {
    "duration": 3,
    "start_time": "2023-05-11T04:53:19.350Z"
   },
   {
    "duration": 1428,
    "start_time": "2023-05-11T04:53:19.354Z"
   },
   {
    "duration": 36,
    "start_time": "2023-05-11T04:53:20.785Z"
   },
   {
    "duration": 194,
    "start_time": "2023-05-11T04:53:20.823Z"
   },
   {
    "duration": 1143,
    "start_time": "2023-05-11T04:53:21.020Z"
   },
   {
    "duration": 3600,
    "start_time": "2023-05-11T04:53:22.165Z"
   },
   {
    "duration": 144,
    "start_time": "2023-05-11T04:53:25.766Z"
   },
   {
    "duration": 306,
    "start_time": "2023-05-11T04:53:25.912Z"
   },
   {
    "duration": 5,
    "start_time": "2023-05-11T04:53:26.220Z"
   },
   {
    "duration": 5,
    "start_time": "2023-05-11T04:53:26.227Z"
   },
   {
    "duration": 8,
    "start_time": "2023-05-11T04:53:26.233Z"
   },
   {
    "duration": 1296,
    "start_time": "2023-05-11T04:53:26.242Z"
   },
   {
    "duration": 158,
    "start_time": "2023-05-11T04:53:55.904Z"
   },
   {
    "duration": 10,
    "start_time": "2023-05-11T04:53:59.524Z"
   },
   {
    "duration": 127,
    "start_time": "2023-05-11T04:54:04.790Z"
   },
   {
    "duration": 4,
    "start_time": "2023-05-11T04:54:11.863Z"
   },
   {
    "duration": 3800,
    "start_time": "2023-05-11T04:54:14.114Z"
   },
   {
    "duration": 4,
    "start_time": "2023-05-11T04:55:05.576Z"
   },
   {
    "duration": 3346,
    "start_time": "2023-05-11T05:01:45.644Z"
   },
   {
    "duration": 8457,
    "start_time": "2023-05-11T05:01:53.185Z"
   },
   {
    "duration": 3137,
    "start_time": "2023-05-11T05:02:42.118Z"
   },
   {
    "duration": 18,
    "start_time": "2023-05-11T05:02:47.666Z"
   },
   {
    "duration": 3353,
    "start_time": "2023-05-11T05:04:07.848Z"
   },
   {
    "duration": 23049,
    "start_time": "2023-05-11T05:04:50.657Z"
   },
   {
    "duration": 237,
    "start_time": "2023-05-11T05:05:13.708Z"
   },
   {
    "duration": 922,
    "start_time": "2023-05-11T05:05:13.946Z"
   },
   {
    "duration": 3,
    "start_time": "2023-05-11T05:05:14.870Z"
   },
   {
    "duration": 23,
    "start_time": "2023-05-11T05:05:14.875Z"
   },
   {
    "duration": 8,
    "start_time": "2023-05-11T05:05:14.899Z"
   },
   {
    "duration": 36,
    "start_time": "2023-05-11T05:05:14.908Z"
   },
   {
    "duration": 52,
    "start_time": "2023-05-11T05:05:14.945Z"
   },
   {
    "duration": 14,
    "start_time": "2023-05-11T05:05:14.999Z"
   },
   {
    "duration": 23,
    "start_time": "2023-05-11T05:05:15.015Z"
   },
   {
    "duration": 134,
    "start_time": "2023-05-11T05:05:15.040Z"
   },
   {
    "duration": 4,
    "start_time": "2023-05-11T05:05:15.176Z"
   },
   {
    "duration": 1789,
    "start_time": "2023-05-11T05:05:15.181Z"
   },
   {
    "duration": 40,
    "start_time": "2023-05-11T05:05:16.973Z"
   },
   {
    "duration": 214,
    "start_time": "2023-05-11T05:05:17.015Z"
   },
   {
    "duration": 1206,
    "start_time": "2023-05-11T05:05:17.232Z"
   },
   {
    "duration": 4044,
    "start_time": "2023-05-11T05:05:18.439Z"
   },
   {
    "duration": 164,
    "start_time": "2023-05-11T05:05:22.485Z"
   },
   {
    "duration": 367,
    "start_time": "2023-05-11T05:05:22.651Z"
   },
   {
    "duration": 5,
    "start_time": "2023-05-11T05:05:23.020Z"
   },
   {
    "duration": 16,
    "start_time": "2023-05-11T05:05:23.027Z"
   },
   {
    "duration": 9,
    "start_time": "2023-05-11T05:05:23.045Z"
   },
   {
    "duration": 1496,
    "start_time": "2023-05-11T05:05:23.056Z"
   },
   {
    "duration": 186,
    "start_time": "2023-05-11T05:05:48.362Z"
   },
   {
    "duration": 145,
    "start_time": "2023-05-11T05:05:50.450Z"
   },
   {
    "duration": 11,
    "start_time": "2023-05-11T05:06:12.823Z"
   },
   {
    "duration": 123,
    "start_time": "2023-05-11T05:06:17.930Z"
   },
   {
    "duration": 3,
    "start_time": "2023-05-11T05:06:22.600Z"
   },
   {
    "duration": 4013,
    "start_time": "2023-05-11T05:06:26.558Z"
   },
   {
    "duration": 5,
    "start_time": "2023-05-11T05:06:47.990Z"
   },
   {
    "duration": 3344,
    "start_time": "2023-05-11T05:06:56.053Z"
   },
   {
    "duration": 3190,
    "start_time": "2023-05-11T05:07:19.691Z"
   },
   {
    "duration": 7456,
    "start_time": "2023-05-11T05:07:25.483Z"
   },
   {
    "duration": 34827,
    "start_time": "2023-05-14T15:41:11.078Z"
   },
   {
    "duration": 1546,
    "start_time": "2023-05-14T15:41:45.908Z"
   },
   {
    "duration": 2302,
    "start_time": "2023-05-14T15:41:47.456Z"
   },
   {
    "duration": 3,
    "start_time": "2023-05-14T15:41:49.760Z"
   },
   {
    "duration": 35,
    "start_time": "2023-05-14T15:41:49.765Z"
   },
   {
    "duration": 10,
    "start_time": "2023-05-14T15:41:49.802Z"
   },
   {
    "duration": 38,
    "start_time": "2023-05-14T15:41:49.814Z"
   },
   {
    "duration": 43,
    "start_time": "2023-05-14T15:41:49.854Z"
   },
   {
    "duration": 39,
    "start_time": "2023-05-14T15:41:49.899Z"
   },
   {
    "duration": 16,
    "start_time": "2023-05-14T15:41:49.942Z"
   },
   {
    "duration": 136,
    "start_time": "2023-05-14T15:41:49.960Z"
   },
   {
    "duration": 5,
    "start_time": "2023-05-14T15:41:50.098Z"
   },
   {
    "duration": 1794,
    "start_time": "2023-05-14T15:41:50.105Z"
   },
   {
    "duration": 29,
    "start_time": "2023-05-14T15:41:51.901Z"
   },
   {
    "duration": 1024,
    "start_time": "2023-05-14T15:41:51.932Z"
   },
   {
    "duration": 4366,
    "start_time": "2023-05-14T15:41:52.958Z"
   },
   {
    "duration": 143,
    "start_time": "2023-05-14T15:41:57.327Z"
   },
   {
    "duration": 339,
    "start_time": "2023-05-14T15:41:57.472Z"
   },
   {
    "duration": 6,
    "start_time": "2023-05-14T15:41:57.813Z"
   },
   {
    "duration": 19,
    "start_time": "2023-05-14T15:41:57.821Z"
   },
   {
    "duration": 6,
    "start_time": "2023-05-14T15:41:57.843Z"
   },
   {
    "duration": 32,
    "start_time": "2023-05-14T15:41:57.851Z"
   },
   {
    "duration": 18,
    "start_time": "2023-05-14T15:41:57.885Z"
   },
   {
    "duration": 61,
    "start_time": "2023-05-14T15:41:57.905Z"
   },
   {
    "duration": 167,
    "start_time": "2023-05-14T15:41:57.968Z"
   },
   {
    "duration": 29312,
    "start_time": "2023-05-14T15:55:00.681Z"
   },
   {
    "duration": 1082,
    "start_time": "2023-05-14T15:55:29.996Z"
   },
   {
    "duration": 886,
    "start_time": "2023-05-14T15:55:31.080Z"
   },
   {
    "duration": 4,
    "start_time": "2023-05-14T15:55:31.970Z"
   },
   {
    "duration": 49,
    "start_time": "2023-05-14T15:55:31.976Z"
   },
   {
    "duration": 28,
    "start_time": "2023-05-14T15:55:32.027Z"
   },
   {
    "duration": 67,
    "start_time": "2023-05-14T15:55:32.057Z"
   },
   {
    "duration": 94,
    "start_time": "2023-05-14T15:55:32.125Z"
   },
   {
    "duration": 50,
    "start_time": "2023-05-14T15:55:32.221Z"
   },
   {
    "duration": 30,
    "start_time": "2023-05-14T15:55:32.275Z"
   },
   {
    "duration": 177,
    "start_time": "2023-05-14T15:55:32.308Z"
   },
   {
    "duration": 6,
    "start_time": "2023-05-14T15:55:32.488Z"
   },
   {
    "duration": 1995,
    "start_time": "2023-05-14T15:55:32.496Z"
   },
   {
    "duration": 39,
    "start_time": "2023-05-14T15:55:34.493Z"
   },
   {
    "duration": 1122,
    "start_time": "2023-05-14T15:55:34.534Z"
   },
   {
    "duration": 4593,
    "start_time": "2023-05-14T15:55:35.658Z"
   },
   {
    "duration": 146,
    "start_time": "2023-05-14T15:55:40.252Z"
   },
   {
    "duration": 391,
    "start_time": "2023-05-14T15:55:40.400Z"
   },
   {
    "duration": 6,
    "start_time": "2023-05-14T15:55:40.793Z"
   },
   {
    "duration": 27,
    "start_time": "2023-05-14T15:55:40.801Z"
   },
   {
    "duration": 7,
    "start_time": "2023-05-14T15:55:40.830Z"
   },
   {
    "duration": 15,
    "start_time": "2023-05-14T15:55:40.838Z"
   },
   {
    "duration": 16,
    "start_time": "2023-05-14T15:55:40.855Z"
   },
   {
    "duration": 19,
    "start_time": "2023-05-14T15:55:40.873Z"
   },
   {
    "duration": 94,
    "start_time": "2023-05-14T15:55:48.860Z"
   },
   {
    "duration": 104,
    "start_time": "2023-05-14T15:55:52.861Z"
   },
   {
    "duration": 5,
    "start_time": "2023-05-14T15:55:56.526Z"
   },
   {
    "duration": 4,
    "start_time": "2023-05-14T15:55:57.191Z"
   },
   {
    "duration": 429,
    "start_time": "2023-05-14T15:55:58.112Z"
   },
   {
    "duration": 33413,
    "start_time": "2023-05-14T15:59:05.498Z"
   },
   {
    "duration": 12568,
    "start_time": "2023-05-14T16:00:35.024Z"
   }
  ],
  "kernelspec": {
   "display_name": "Python 3 (ipykernel)",
   "language": "python",
   "name": "python3"
  },
  "language_info": {
   "codemirror_mode": {
    "name": "ipython",
    "version": 3
   },
   "file_extension": ".py",
   "mimetype": "text/x-python",
   "name": "python",
   "nbconvert_exporter": "python",
   "pygments_lexer": "ipython3",
   "version": "3.9.5"
  },
  "toc": {
   "base_numbering": 1,
   "nav_menu": {},
   "number_sections": true,
   "sideBar": true,
   "skip_h1_title": true,
   "title_cell": "Содержание",
   "title_sidebar": "Contents",
   "toc_cell": true,
   "toc_position": {
    "height": "calc(100% - 180px)",
    "left": "10px",
    "top": "150px",
    "width": "302.391px"
   },
   "toc_section_display": true,
   "toc_window_display": false
  }
 },
 "nbformat": 4,
 "nbformat_minor": 2
}
