{
 "cells": [
  {
   "cell_type": "markdown",
   "metadata": {},
   "source": [
    "Привет, меня зовут Артем Хуршудов. Сегодня я проверю твой проект.\n",
    "<br> Дальнейшее общение будет происходить на \"ты\" если это не вызывает никаких проблем.\n",
    "<br> Желательно реагировать на каждый мой комментарий ('исправил', 'не понятно как исправить ошибку', ...)\n",
    "<br> Пожалуйста, не удаляй комментарии ревьюера, так как они повышают качество повторного ревью.\n",
    "\n",
    "Комментарии будут в <font color='green'>зеленой</font>, <font color='blue'>синей</font> или <font color='red'>красной</font> рамках:\n",
    "\n",
    "<div class=\"alert alert-block alert-success\">\n",
    "<b>Успех:</b> Если все сделано отлично\n",
    "</div>\n",
    "\n",
    "<div class=\"alert alert-block alert-info\">\n",
    "<b>Совет: </b> Если можно немного улучшить\n",
    "</div>\n",
    "\n",
    "<div class=\"alert alert-block alert-danger\">\n",
    "<b>Ошибка:</b> Если требуются исправления. Работа не может быть принята с красными комментариями.\n",
    "</div>\n",
    "\n",
    "-------------------\n",
    "\n",
    "Будет очень хорошо, если ты будешь помечать свои действия следующим образом:\n",
    "<div class=\"alert alert-block alert-warning\">\n",
    "<b>Комментарий студента:</b> ...\n",
    "</div>\n",
    "\n",
    "<div class=\"alert alert-block alert-warning\">\n",
    "<b>Изменения:</b> Были внесены следующие изменения ...\n",
    "</div>\n",
    "\n",
    "### <font color='orange'>Общее впечатление</font>\n",
    "* Большое спасибо за проделанную работу. Видно, что приложено много усилий.\n",
    "* Выводы и рассуждения получились содержательными, их было интересно читать.\n",
    "* Отлично, что риск убытков посчитан верно.\n",
    "* Над этим проектом нужно будет еще немного поработать. Однако, изменения не должны занять много времени.\n",
    "* С радостью отвечу на твои вопросы, если они есть. Лучше всего их собрать в следующей ячейке. Жду новую версию проекта."
   ]
  },
  {
   "cell_type": "markdown",
   "metadata": {},
   "source": [
    "<img src=\"http://s3.amazonaws.com/pix.iemoji.com/images/emoji/apple/ios-12/256/waving-hand.png\" align=left width=44, heigth=44>\n",
    "<div class=\"alert alert-block alert-warning\">\n",
    "<b> Обратная связь </b>\n",
    "    \n",
    "Спасибо большое за подробное ревью, Ваши замечания были очень полезны. 🙇\n",
    "</div>"
   ]
  },
  {
   "cell_type": "markdown",
   "metadata": {},
   "source": [
    "### <font color='orange'>Общее впечатление (ревью 2)</font>\n",
    "* После исправлений проект улучшился и теперь он может быть зачтен.\n",
    "* Теперь все статистики посчитаны корректно, молодец!\n",
    "* Хорошо, что ты отметил в выводе наличие аномалий во втором регионе.\n",
    "* Удачи в дальнейшем обучении и следующих работах!"
   ]
  },
  {
   "cell_type": "markdown",
   "metadata": {},
   "source": [
    "# Выбор локации для скважины"
   ]
  },
  {
   "cell_type": "markdown",
   "metadata": {},
   "source": [
    "Допустим, вы работаете в добывающей компании «ГлавРосГосНефть». Нужно решить, где бурить новую скважину.\n",
    "\n",
    "Вам предоставлены пробы нефти в трёх регионах: в каждом 10 000 месторождений, где измерили качество нефти и объём её запасов. Постройте модель машинного обучения, которая поможет определить регион, где добыча принесёт наибольшую прибыль. Проанализируйте возможную прибыль и риски техникой *Bootstrap.*\n",
    "\n",
    "Шаги для выбора локации:\n",
    "\n",
    "- В избранном регионе ищут месторождения, для каждого определяют значения признаков;\n",
    "- Строят модель и оценивают объём запасов;\n",
    "- Выбирают месторождения с самым высокими оценками значений. Количество месторождений зависит от бюджета компании и стоимости разработки одной скважины;\n",
    "- Прибыль равна суммарной прибыли отобранных месторождений."
   ]
  },
  {
   "cell_type": "markdown",
   "metadata": {},
   "source": [
    "## Импрортируем необходимые библиотеки"
   ]
  },
  {
   "cell_type": "code",
   "execution_count": null,
   "metadata": {},
   "outputs": [],
   "source": [
    "import sys\n",
    "!{sys.executable} -m pip install missingno\n",
    "#from IPython.lib.display import YouTubeVideo\n",
    "import plotly.graph_objects as go\n",
    "import pandas as pd\n",
    "import matplotlib.pyplot as plt\n",
    "import numpy as np\n",
    "import datetime\n",
    "import plotly.express as px\n",
    "import random\n",
    "import seaborn as sns\n",
    "import missingno as msno\n",
    "import operator\n",
    "from scipy import stats as st\n",
    "from sklearn.linear_model import  LinearRegression\n",
    "from sklearn.model_selection import train_test_split, GridSearchCV, cross_validate, cross_val_predict\n",
    "from sklearn.pipeline import Pipeline, make_pipeline\n",
    "from sklearn.preprocessing import StandardScaler\n",
    "from sklearn.dummy import DummyRegressor\n",
    "from sklearn.decomposition import PCA\n",
    "from sklearn.utils import resample, shuffle\n",
    "from sklearn.metrics import accuracy_score, mean_squared_error, f1_score, precision_score \n",
    "from sklearn.metrics import recall_score,roc_curve,precision_recall_curve"
   ]
  },
  {
   "cell_type": "markdown",
   "metadata": {},
   "source": [
    "<div class=\"alert alert-block alert-success\">\n",
    "<b>Успех:</b> Отлично, что все импорты собраны в первой ячейке ноутбука! Если у того, кто будет запускать твой ноутбук будут отсутствовать некоторые библиотеки, то он это увидит сразу, а не в процессе!\n",
    "</div>"
   ]
  },
  {
   "cell_type": "markdown",
   "metadata": {},
   "source": [
    "## Методы и функции"
   ]
  },
  {
   "cell_type": "code",
   "execution_count": null,
   "metadata": {},
   "outputs": [],
   "source": [
    "random_state = 12345\n",
    "alpha = 0.01"
   ]
  },
  {
   "cell_type": "markdown",
   "metadata": {},
   "source": [
    "### Метод check_destribution"
   ]
  },
  {
   "cell_type": "markdown",
   "metadata": {},
   "source": [
    "Метод сравнивает три распределения по их гистограммам"
   ]
  },
  {
   "cell_type": "code",
   "execution_count": null,
   "metadata": {},
   "outputs": [],
   "source": [
    "def check_destribution(series_0, series_1, series_2, names, title, logy=True):\n",
    "    fig = go.Figure()\n",
    "    fig.add_trace(go.Histogram(x=series_0, name=names[0], histnorm='density'))\n",
    "    fig.add_trace(go.Histogram(x=series_1, name=names[1], histnorm='density'))\n",
    "    fig.add_trace(go.Histogram(x=series_2, name=names[2], histnorm='density'))\n",
    "    # Overlay both histograms\n",
    "    fig.update_layout(barmode='overlay')\n",
    "    # Reduce opacity to see all histograms\n",
    "    fig.update_traces(opacity=0.75)\n",
    "    if logy:\n",
    "        fig.update_yaxes(type=\"log\")\n",
    "    fig.update_layout(title=title)\n",
    "    fig.show()"
   ]
  },
  {
   "cell_type": "markdown",
   "metadata": {},
   "source": [
    "### Метод pair_plot_data"
   ]
  },
  {
   "cell_type": "markdown",
   "metadata": {},
   "source": [
    "Строит парные графики для целевого признака и исследуемых параметром"
   ]
  },
  {
   "cell_type": "code",
   "execution_count": null,
   "metadata": {},
   "outputs": [],
   "source": [
    "def pair_plot_data(data, y_vars, x_vars, title):\n",
    "    g = sns.PairGrid(\n",
    "        data,\n",
    "        y_vars=y_vars,\n",
    "        x_vars=x_vars,\n",
    "        height=4\n",
    "    )\n",
    "    g.map(sns.scatterplot, alpha=0.3 )\n",
    "    g.fig.subplots_adjust(top=0.9)\n",
    "    g.fig.suptitle(title)"
   ]
  },
  {
   "cell_type": "markdown",
   "metadata": {},
   "source": [
    "### Метод corr_heat_map"
   ]
  },
  {
   "cell_type": "markdown",
   "metadata": {},
   "source": [
    "Построение тепловой карты для значений параметров коррелиции"
   ]
  },
  {
   "cell_type": "code",
   "execution_count": null,
   "metadata": {},
   "outputs": [],
   "source": [
    "def corr_heat_map(data, title):\n",
    "    corr = data.corr()\n",
    "    ax = sns.heatmap(corr, cmap = 'Wistia', annot= True)\n",
    "    ax.title.set_text(title)\n",
    "    display(corr['product'])\n"
   ]
  },
  {
   "cell_type": "markdown",
   "metadata": {},
   "source": [
    "### Метод data_box_plot"
   ]
  },
  {
   "cell_type": "markdown",
   "metadata": {},
   "source": [
    "Построение графиков диаграммы с усами для нескольких колонок"
   ]
  },
  {
   "cell_type": "code",
   "execution_count": null,
   "metadata": {},
   "outputs": [],
   "source": [
    "def data_box_plot(data, columns):\n",
    "    data_0[columns].plot(\n",
    "        kind='box', \n",
    "        subplots=True, \n",
    "        sharey=False, \n",
    "        figsize=(10, 6)\n",
    "    )\n",
    "    # increase spacing between subplots\n",
    "    plt.subplots_adjust(wspace=0.5) \n",
    "    plt.show()"
   ]
  },
  {
   "cell_type": "markdown",
   "metadata": {},
   "source": [
    "### Метод cross_validation"
   ]
  },
  {
   "cell_type": "markdown",
   "metadata": {},
   "source": [
    "Деление выборки на признаки и исследуемый параметр, кросс-валидация, выбор лучшей модели"
   ]
  },
  {
   "cell_type": "code",
   "execution_count": null,
   "metadata": {},
   "outputs": [],
   "source": [
    "def cross_validation(data, cv):\n",
    "    # first we separate data for features and target data\n",
    "    features = data.drop(columns=['product','id'])\n",
    "    target = data['product']\n",
    "    # initilize best_mean_squarred_error to pick best model from all of them\n",
    "    # picked NaN so on 1st comparance it picked it\n",
    "    best_mean_squarred_error = np.NaN\n",
    "    sample_size = int(len(data)/cv)\n",
    "    # for comparing uses cross validation method\n",
    "    for i in range(0, len(data), sample_size):\n",
    "        # selecting valid data and train data\n",
    "        valid_indexes = range(i, i + sample_size)\n",
    "        features_valid = features.reindex(index = valid_indexes)\n",
    "        target_valid = target.reindex(index = valid_indexes)\n",
    "        features_train =  features.drop(index = valid_indexes)\n",
    "        target_train = target.drop(index = valid_indexes)\n",
    "        model = Pipeline(steps=[\n",
    "            (\"scaler\", StandardScaler()),\n",
    "            (\"pca\", PCA()),\n",
    "            (\"linear\", LinearRegression())\n",
    "        ])\n",
    "        param_grid = {\"pca__n_components\": range(1,4)}\n",
    "        search = GridSearchCV(\n",
    "            model,\n",
    "            param_grid = param_grid,\n",
    "            scoring='neg_mean_squared_error'\n",
    "        ).fit(features_train, target_train)\n",
    "        \n",
    "        if not(search.best_score_ <= best_mean_squarred_error):\n",
    "            best_mean_squarred_error = search.best_score_\n",
    "            best_model = search.best_estimator_\n",
    "            best_valid_index = valid_indexes\n",
    "    return ((-best_mean_squarred_error)**0.5,\n",
    "            best_model,\n",
    "            best_valid_index,\n",
    "            best_model.predict(features.reindex(index = valid_indexes)),\n",
    "            features,\n",
    "            target,\n",
    "            target_valid.reindex(index = valid_indexes)\n",
    "           )"
   ]
  },
  {
   "cell_type": "markdown",
   "metadata": {},
   "source": [
    "### Метод dummy_check"
   ]
  },
  {
   "cell_type": "markdown",
   "metadata": {},
   "source": [
    "Сравнение с простым DummyRegressor, который выбирает средние значение"
   ]
  },
  {
   "cell_type": "code",
   "execution_count": null,
   "metadata": {},
   "outputs": [],
   "source": [
    "def dummy_check(feature, feature_valid,  target, target_valid, model_rmse):\n",
    "    dummy_regr = DummyRegressor(strategy=\"mean\")\n",
    "    dummy_regr.fit(feature, target)\n",
    "    dummy_rmse = mean_squared_error(target_valid, dummy_regr.predict(target_valid)) ** 0.5\n",
    "    print(f'Dummy predicted rmse - {dummy_rmse}, model predicted rmse - {model_rmse}')\n",
    "    if dummy_rmse > model_rmse:\n",
    "        print('Model works fine, still better than dummy')\n",
    "    else:\n",
    "        print('Model is not very helpful')"
   ]
  },
  {
   "cell_type": "markdown",
   "metadata": {},
   "source": [
    "### Функция revenue"
   ]
  },
  {
   "cell_type": "markdown",
   "metadata": {},
   "source": [
    "Функция подсчётов доходов"
   ]
  },
  {
   "cell_type": "code",
   "execution_count": null,
   "metadata": {},
   "outputs": [],
   "source": [
    "def revenue(predicted_valid, n_developed_places, cash_per_product, budget):\n",
    "    return predicted_valid.sort_values(ascending=False)[:n_developed_places].sum() * cash_per_product - budget"
   ]
  },
  {
   "cell_type": "markdown",
   "metadata": {},
   "source": [
    "### Метод find_profit"
   ]
  },
  {
   "cell_type": "markdown",
   "metadata": {},
   "source": [
    "Нахождение прибыли по предсказанному объёму нефти"
   ]
  },
  {
   "cell_type": "code",
   "execution_count": null,
   "metadata": {},
   "outputs": [],
   "source": [
    "def find_profit(predicted_valid, n_researched_places,  n_developed_places, cash_per_product, budget ):\n",
    "    profit = []\n",
    "    state = np.random.RandomState(random_state)\n",
    "    for i in range(n_bootstraps):\n",
    "        researched_places = pd.Series(predicted_valid).sample(n=n_researched_places, replace=True, random_state=state)\n",
    "        profit.append(revenue(researched_places, n_developed_places, cash_per_product, budget))\n",
    "    return pd.Series(profit)\n",
    "    "
   ]
  },
  {
   "cell_type": "markdown",
   "metadata": {},
   "source": [
    "### Метод find_risk"
   ]
  },
  {
   "cell_type": "code",
   "execution_count": null,
   "metadata": {},
   "outputs": [],
   "source": [
    "def find_risk(\n",
    "    predicted_valid,\n",
    "    n_researched_places,\n",
    "    n_developed_places,\n",
    "    cash_per_product,\n",
    "    budget,\n",
    "    title,\n",
    "    damages_chances,\n",
    "    confidence,\n",
    "    n_bootstraps  \n",
    "):\n",
    "    profit = find_profit(predicted_valid, n_researched_places,  n_developed_places, cash_per_product, budget )\n",
    "    fig = px.histogram(profit, title=title)\n",
    "    fig.show()\n",
    "    mean_profit = profit.mean()\n",
    "    print(f'Mean profit - {mean_profit:.2f}\\n')\n",
    "    confidence_interval = st.t.interval(confidence , len(profit)-1, profit.mean(), profit.sem())\n",
    "    print(f'Confidence Interval 95% - {confidence_interval}\\n')\n",
    "    risk_chance = (profit < 0).sum() / profit.count()\n",
    "    print(f'Chance of Loses - {risk_chance}\\n')\n",
    "    if risk_chance > damages_chances:\n",
    "        print('This region doesn\\'t worth invistigation since risks are too high')\n",
    "    else: \n",
    "        print('This region is potentially worthy invistigation')\n",
    "    return profit\n"
   ]
  },
  {
   "cell_type": "markdown",
   "metadata": {},
   "source": [
    "### Метод compare_bootstrap"
   ]
  },
  {
   "cell_type": "code",
   "execution_count": null,
   "metadata": {},
   "outputs": [],
   "source": [
    "def compare_bootstrap(profit_0, profit_2, n_bootstraps):\n",
    "    difference_ununited = profit_0.mean() - profit_2.mean()\n",
    "    state = np.random.RandomState(random_state)\n",
    "    count = 0\n",
    "    for i in range(n_bootstraps):\n",
    "        united_samples = pd.concat([profit_0, profit_2]) \n",
    "        subsample = united_samples.sample(frac=1,replace=True, random_state=state)\n",
    "        subsample_0 =  subsample[:len(profit_0)]\n",
    "        subsample_2 = subsample[len(profit_2):]\n",
    "        bootstrap_difference = subsample_0.mean() - subsample_2.mean()\n",
    "        if bootstrap_difference >= difference_ununited:\n",
    "            count += 1\n",
    "\n",
    "    pvalue = 1. * count / n_bootstraps\n",
    "    print('p-value =', pvalue)\n",
    "\n",
    "    if pvalue < alpha:\n",
    "        print(\"Reject Null Hypothesis, Most likely mean profit is more\")\n",
    "    else:\n",
    "        print(\"Wasn't able to reject Null Hypothesis, Most likely mean  profit is the same\")"
   ]
  },
  {
   "cell_type": "markdown",
   "metadata": {},
   "source": [
    "###  Исравленные функции"
   ]
  },
  {
   "cell_type": "markdown",
   "metadata": {},
   "source": [
    "<div class=\"alert alert-block alert-warning\">\n",
    "<b>Комментарий студента:</b> \n",
    "    \n",
    "    Новые исправленные функции\n",
    "</div>"
   ]
  },
  {
   "cell_type": "code",
   "execution_count": null,
   "metadata": {},
   "outputs": [],
   "source": [
    "def revenue_fixed(predicted_valid, n_developed_places, cash_per_product, budget, target_valid):\n",
    "    top_predicted_places = predicted_valid.sort_values(ascending=False)[:n_developed_places].index\n",
    "    return target_valid[top_predicted_places].sum() * cash_per_product - budget"
   ]
  },
  {
   "cell_type": "code",
   "execution_count": null,
   "metadata": {},
   "outputs": [],
   "source": [
    "def find_profit_fixed(predicted_valid, n_researched_places,  n_developed_places, cash_per_product, budget, target_valid ):\n",
    "    profit = []\n",
    "    state = np.random.RandomState(random_state)\n",
    "    for i in range(n_bootstraps):\n",
    "        researched_places = pd.Series(predicted_valid, index = target_valid.index).sample(n=n_researched_places, replace=True, random_state=state)\n",
    "        # profit.append(revenue(researched_places, n_developed_places, cash_per_product, budget)) - original\n",
    "        profit.append(revenue_fixed(researched_places, n_developed_places, cash_per_product, budget, target_valid)) # - fixed\n",
    "    return pd.Series(profit)\n",
    "    "
   ]
  },
  {
   "cell_type": "code",
   "execution_count": null,
   "metadata": {},
   "outputs": [],
   "source": [
    "def find_risk_fixed(\n",
    "    predicted_valid,\n",
    "    n_researched_places,\n",
    "    n_developed_places,\n",
    "    cash_per_product,\n",
    "    budget,\n",
    "    title,\n",
    "    damages_chances,\n",
    "    confidence,\n",
    "    n_bootstraps,\n",
    "    target_valid\n",
    "):\n",
    "    #profit = find_profit(predicted_valid, n_researched_places,  n_developed_places, cash_per_product, budget ) - original\n",
    "    profit = find_profit_fixed(predicted_valid, n_researched_places,  n_developed_places, cash_per_product, budget, target_valid ) # - fixed\n",
    "    fig = px.histogram(profit, title=title)\n",
    "    fig.show()\n",
    "    mean_profit = profit.mean()\n",
    "    print(f'Mean profit - {mean_profit:.2f}\\n')\n",
    "    # confidence_interval = st.t.interval(confidence , len(profit)-1, profit.mean(), profit.sem()) - original \n",
    "    quantile = (1 - confidence) / 2\n",
    "    lower = profit.quantile(quantile) \n",
    "    upper = profit.quantile(1- quantile)\n",
    "    print(f'Confidence Interval 95% - {lower} - {upper}\\n')\n",
    "    #print(f'Confidence Interval 95% - {confidence_interval}\\n')\n",
    "    #risk_chance = (profit < 0).sum() / profit.count() - original\n",
    "    risk_chance = (profit < 0).mean() # fixed\n",
    "    print(f'Chance of Loses - {risk_chance}\\n')\n",
    "    if risk_chance > damages_chances:\n",
    "        print('This region doesn\\'t worth invistigation since risks are too high')\n",
    "    else: \n",
    "        print('This region is potentially worthy invistigation')\n",
    "    return profit\n"
   ]
  },
  {
   "cell_type": "markdown",
   "metadata": {},
   "source": [
    "## Загрузка и подготовка данных"
   ]
  },
  {
   "cell_type": "markdown",
   "metadata": {},
   "source": [
    "### Открываем файлы"
   ]
  },
  {
   "cell_type": "code",
   "execution_count": null,
   "metadata": {},
   "outputs": [],
   "source": [
    "try:\n",
    "    data_0 = pd.read_csv('/datasets/geo_data_0.csv')\n",
    "except:\n",
    "    data = pd.read_csv('https://code.s3.yandex.net/datasets/geo_data_0.csv')\n",
    "try:\n",
    "    data_1 = pd.read_csv('/datasets/geo_data_1.csv')\n",
    "except:\n",
    "    data = pd.read_csv('https://code.s3.yandex.net/datasets/geo_data_1.csv')\n",
    "try:\n",
    "    data_2 = pd.read_csv('/datasets/geo_data_2.csv')\n",
    "except:\n",
    "    data = pd.read_csv('https://code.s3.yandex.net/datasets/geo_data_2.csv')"
   ]
  },
  {
   "cell_type": "markdown",
   "metadata": {},
   "source": [
    "### Изучение данных"
   ]
  },
  {
   "cell_type": "markdown",
   "metadata": {},
   "source": [
    "#### Общий анализ данных"
   ]
  },
  {
   "cell_type": "markdown",
   "metadata": {},
   "source": [
    "Для начала рассмотрим как вообще представлены данные."
   ]
  },
  {
   "cell_type": "code",
   "execution_count": null,
   "metadata": {},
   "outputs": [],
   "source": [
    "data_0.sample(10 ,random_state=12345)"
   ]
  },
  {
   "cell_type": "code",
   "execution_count": null,
   "metadata": {},
   "outputs": [],
   "source": [
    "data_1.sample(10 ,random_state=12345)"
   ]
  },
  {
   "cell_type": "code",
   "execution_count": null,
   "metadata": {},
   "outputs": [],
   "source": [
    "data_2.sample(10 ,random_state=12345)"
   ]
  },
  {
   "cell_type": "code",
   "execution_count": null,
   "metadata": {},
   "outputs": [],
   "source": [
    "data_0.info()"
   ]
  },
  {
   "cell_type": "code",
   "execution_count": null,
   "metadata": {},
   "outputs": [],
   "source": [
    "data_1.info()"
   ]
  },
  {
   "cell_type": "code",
   "execution_count": null,
   "metadata": {},
   "outputs": [],
   "source": [
    "data_2.info()"
   ]
  },
  {
   "cell_type": "markdown",
   "metadata": {},
   "source": [
    "`data_0`, `data_1`, `data_2` - базы данных, хранящие информацию по трём регионам по добычи нефти.\n",
    "\n",
    "**Признаки**\n",
    "- `id` — уникальный идентификатор скважины, представлен в виде строкового типа данных;\n",
    "- `f0`, `f1`, `f2` — три признака точек (неважно, что они означают, но сами признаки значимы), представлены в виде вещественного типа данных;\n",
    "\n",
    "**Целевой признак**\n",
    "- `product` — объём запасов в скважине (тыс. баррелей), предаставлен в виде вещественного типа данных."
   ]
  },
  {
   "cell_type": "markdown",
   "metadata": {},
   "source": [
    "`f0`, `f1`, `f2`, `product` - количественные типы данных\n",
    "\n",
    "`id` - категориальный тип данных"
   ]
  },
  {
   "cell_type": "markdown",
   "metadata": {},
   "source": [
    "Имена колонок уже приведены к классическому змеиному регистру, поэтому их преобразование не требуется.\n",
    "\n",
    "Также данных отсутствуют пропуски."
   ]
  },
  {
   "cell_type": "code",
   "execution_count": null,
   "metadata": {},
   "outputs": [],
   "source": [
    "print(f'Первая гео-локация\\n {data_0.shape[1]} колонок;\\n {data_0.shape[0]} строк.')\n",
    "print(f'\\nВторая гео-локация\\n {data_1.shape[1]} колонок;\\n {data_1.shape[0]} строк.')\n",
    "print(f'\\nТретья гео-локация\\n {data_2.shape[1]} колонок;\\n {data_2.shape[0]} строк.')"
   ]
  },
  {
   "cell_type": "markdown",
   "metadata": {},
   "source": [
    "#### Уникальный индетификатор"
   ]
  },
  {
   "cell_type": "markdown",
   "metadata": {},
   "source": [
    "Проверим является ли уникальный индетификатор уникальным в пределах одной гео-локации."
   ]
  },
  {
   "cell_type": "code",
   "execution_count": null,
   "metadata": {},
   "outputs": [],
   "source": [
    "data_0['id'].value_counts().count() != data_0['id'].count()"
   ]
  },
  {
   "cell_type": "code",
   "execution_count": null,
   "metadata": {},
   "outputs": [],
   "source": [
    "data_0['id'].value_counts()"
   ]
  },
  {
   "cell_type": "code",
   "execution_count": null,
   "metadata": {},
   "outputs": [],
   "source": [
    "data_1['id'].value_counts().count() != data_1['id'].count()"
   ]
  },
  {
   "cell_type": "code",
   "execution_count": null,
   "metadata": {},
   "outputs": [],
   "source": [
    "data_1['id'].value_counts()"
   ]
  },
  {
   "cell_type": "code",
   "execution_count": null,
   "metadata": {},
   "outputs": [],
   "source": [
    "data_2['id'].value_counts().count() != data_2['id'].count()"
   ]
  },
  {
   "cell_type": "code",
   "execution_count": null,
   "metadata": {},
   "outputs": [],
   "source": [
    "data_2['id'].value_counts()"
   ]
  },
  {
   "cell_type": "markdown",
   "metadata": {},
   "source": [
    "Похоже, что уникальный идентификатор не такой уж и уникальный. Следующим проверим, являются ли эти объекты полными дубликатами"
   ]
  },
  {
   "cell_type": "code",
   "execution_count": null,
   "metadata": {
    "scrolled": true
   },
   "outputs": [],
   "source": [
    "data_0[data_0.duplicated()]"
   ]
  },
  {
   "cell_type": "code",
   "execution_count": null,
   "metadata": {},
   "outputs": [],
   "source": [
    "data_1[data_1.duplicated()]"
   ]
  },
  {
   "cell_type": "code",
   "execution_count": null,
   "metadata": {},
   "outputs": [],
   "source": [
    "data_2[data_2.duplicated()]"
   ]
  },
  {
   "cell_type": "markdown",
   "metadata": {},
   "source": [
    "Похоже что нет, тогда рассмотрим их в ручную."
   ]
  },
  {
   "cell_type": "code",
   "execution_count": null,
   "metadata": {},
   "outputs": [],
   "source": [
    "data_0[data_0['id'].duplicated(False)].sort_values(by='id')"
   ]
  },
  {
   "cell_type": "code",
   "execution_count": null,
   "metadata": {
    "scrolled": true
   },
   "outputs": [],
   "source": [
    "data_1[data_1['id'].duplicated(False)].sort_values(by='id')"
   ]
  },
  {
   "cell_type": "code",
   "execution_count": null,
   "metadata": {},
   "outputs": [],
   "source": [
    "data_2[data_2['id'].duplicated(False)].sort_values(by='id')"
   ]
  },
  {
   "cell_type": "markdown",
   "metadata": {},
   "source": [
    "Что же похоже никакой корреляции между дубликатами нет  - \"одна и та же\" скважина может иметь целевой признак в первой записи всего лишь 6, а в другой уже 184. Поскольку нет возможности проверить какой же из объектов корректный, то лучше будет просто отбросить все дубликаты."
   ]
  },
  {
   "cell_type": "code",
   "execution_count": null,
   "metadata": {},
   "outputs": [],
   "source": [
    "data_0.drop( data_0[data_0['id'].duplicated(False)].index, inplace=True )\n",
    "data_0.reset_index(drop=True, inplace=True)\n",
    "data_1.drop( data_1[data_1['id'].duplicated(False)].index, inplace=True )\n",
    "data_1.reset_index(drop=True, inplace=True)\n",
    "data_2.drop( data_2[data_2['id'].duplicated(False)].index, inplace=True )\n",
    "data_2.reset_index(drop=True, inplace=True)"
   ]
  },
  {
   "cell_type": "code",
   "execution_count": null,
   "metadata": {},
   "outputs": [],
   "source": [
    "print(f'Первая гео-локация\\n {data_0.shape[1]} колонок;\\n {data_0.shape[0]} строк.')\n",
    "print(f'\\nВторая гео-локация\\n {data_1.shape[1]} колонок;\\n {data_1.shape[0]} строк.')\n",
    "print(f'\\nТретья гео-локация\\n {data_2.shape[1]} колонок;\\n {data_2.shape[0]} строк.')"
   ]
  },
  {
   "cell_type": "markdown",
   "metadata": {},
   "source": [
    "С дубликатами в пределах одной и той же локации разобрались. Что же касается проверки ID в меж-регионнах, то это скорее всего не потребуется, поскольку базам данных необязательно гарантировать уникальность id за пределами её, и совпадение их может просто быть вызвано случайностью, а не ошибкой."
   ]
  },
  {
   "cell_type": "markdown",
   "metadata": {},
   "source": [
    "ID в дальнейшем больше не будет рассматриваться, поскольку он не потребуется для обучения модели."
   ]
  },
  {
   "cell_type": "markdown",
   "metadata": {},
   "source": [
    "#### Признаки точек"
   ]
  },
  {
   "cell_type": "code",
   "execution_count": null,
   "metadata": {},
   "outputs": [],
   "source": [
    "data_box_plot(data_0, ['f0','f1','f2'])"
   ]
  },
  {
   "cell_type": "code",
   "execution_count": null,
   "metadata": {},
   "outputs": [],
   "source": [
    "data_0.describe().T"
   ]
  },
  {
   "cell_type": "code",
   "execution_count": null,
   "metadata": {},
   "outputs": [],
   "source": [
    "data_1.describe().T"
   ]
  },
  {
   "cell_type": "code",
   "execution_count": null,
   "metadata": {},
   "outputs": [],
   "source": [
    "data_2.describe().T"
   ]
  },
  {
   "cell_type": "code",
   "execution_count": null,
   "metadata": {},
   "outputs": [],
   "source": [
    "pd.concat([data_0, data_1, data_2]).describe().T.iloc[:,[3,7]]"
   ]
  },
  {
   "cell_type": "markdown",
   "metadata": {},
   "source": [
    "Для начала стоит отметить, что признаки не отмасштабириованы : для f0 - минимальные и максимальные значения -31 и 29, когда как для f2 - это -12 и 16. Также средние значение во невсегда равно нулю."
   ]
  },
  {
   "cell_type": "markdown",
   "metadata": {},
   "source": [
    "Дальше посмотрим как признак f0 распределен в различных гео-локациях:"
   ]
  },
  {
   "cell_type": "code",
   "execution_count": null,
   "metadata": {},
   "outputs": [],
   "source": [
    "check_destribution(\n",
    "    data_0['f0'],\n",
    "    data_1['f0'],\n",
    "    data_2['f0'],\n",
    "    ['f0 for location 1', 'f0 for location 2', 'f0 for location 3'],\n",
    "    'Comparision of f0 for different locations'\n",
    ")"
   ]
  },
  {
   "cell_type": "markdown",
   "metadata": {},
   "source": [
    "Только 3-ая геолокация похожа на нормальное распределение\n",
    "Локация два имеет два пика около -10 и 10, а также сравнительный с другими огромный разброс в значениях\n",
    "Локация первая - самая узкая ( т.е имеет наименьший разброс ), но она имеет аж 4 пика"
   ]
  },
  {
   "cell_type": "code",
   "execution_count": null,
   "metadata": {
    "scrolled": false
   },
   "outputs": [],
   "source": [
    "check_destribution(\n",
    "    data_0['f1'],\n",
    "    data_1['f1'],\n",
    "    data_2['f1'],\n",
    "    ['f1 for location 1', 'f1 for location 2', 'f1 for location 3'],\n",
    "    'Comparision of f1 for different locations'\n",
    ")"
   ]
  },
  {
   "cell_type": "markdown",
   "metadata": {},
   "source": [
    "Тут ситуация крайне похоже на предудущие распределение, только стоит отметить, что распределение f1-параметра для второй локации не имеет двух пиков, но при этом оно смещено оносительно 0."
   ]
  },
  {
   "cell_type": "code",
   "execution_count": null,
   "metadata": {},
   "outputs": [],
   "source": [
    "check_destribution(\n",
    "    data_0['f2'],\n",
    "    data_1['f2'],\n",
    "    data_2['f2'],\n",
    "    ['f2 for location 1', 'f2 for location 2', 'f2 for location 3'],\n",
    "    'Comparision of f2 for different locations'\n",
    ")"
   ]
  },
  {
   "cell_type": "markdown",
   "metadata": {},
   "source": [
    "Распределние f2-параметра для локации 1-й и 3-й практически идентичны, оба имеет смещение относительно 0 около 3, похожи на нормальное распределение с относительно большим разбросом. В то время как распределение для второй локации крайне странное, надо бы рассмотреть его по подробнее"
   ]
  },
  {
   "cell_type": "code",
   "execution_count": null,
   "metadata": {},
   "outputs": [],
   "source": [
    "ax = data_1.query('2.9 < f2 < 3.1')['f2'].hist(figsize=(15,5), bins=30)\n",
    "ax.title.set_text('Destribution of f2 for 2nd location around 3')\n",
    "plt.show()"
   ]
  },
  {
   "cell_type": "code",
   "execution_count": null,
   "metadata": {},
   "outputs": [],
   "source": [
    "fig = px.histogram(data_1['f2'], title='Destribution of f2 for 2nd location')\n",
    "fig.show()"
   ]
  },
  {
   "cell_type": "markdown",
   "metadata": {},
   "source": [
    "Похоже, что общее распределение параметра представлено как совокупность 6 различных пуассоновских распределений, в различных точках. Поскольку нам ничего неизвестно из условия задачи о том, что из себя представляет различные геолокации или же параметры, то сложно оценить причину, но по сравнению с остальными локациями вторая, точно наиболее странная."
   ]
  },
  {
   "cell_type": "markdown",
   "metadata": {},
   "source": [
    "#### Объём нефти"
   ]
  },
  {
   "cell_type": "code",
   "execution_count": null,
   "metadata": {},
   "outputs": [],
   "source": [
    "check_destribution(\n",
    "    data_0['product'],\n",
    "    data_1['product'],\n",
    "    data_2['product'],\n",
    "    ['product for location 1', 'product for location 2', 'product for location 3'],\n",
    "    'Comparision of products for different locations'\n",
    ")\n"
   ]
  },
  {
   "cell_type": "code",
   "execution_count": null,
   "metadata": {},
   "outputs": [],
   "source": [
    "data_1['product'].value_counts()"
   ]
  },
  {
   "cell_type": "markdown",
   "metadata": {},
   "source": [
    "Во первых хочется отметить, что локация два опять принимает крайне странные значения. То есть, чтобы случайная величина вроде объёма нефти принимала абсолютные одинаковые значения с точностью до миллионых и при этом распределение будет равномерным звучит крайне маловероятно."
   ]
  },
  {
   "cell_type": "markdown",
   "metadata": {},
   "source": [
    "Во вторых же распределение первой и третий локации крайне похоже, они имеют одинаковое количество пиков, а также они находится приблизительно в одинаковых местах"
   ]
  },
  {
   "cell_type": "markdown",
   "metadata": {},
   "source": [
    "Дальше предварительно рассмотрим как этот параметр зависит от других"
   ]
  },
  {
   "cell_type": "code",
   "execution_count": null,
   "metadata": {},
   "outputs": [],
   "source": [
    "corr_heat_map(data_0, 'Correlation Matrix for Location 1')"
   ]
  },
  {
   "cell_type": "code",
   "execution_count": null,
   "metadata": {},
   "outputs": [],
   "source": [
    "corr_heat_map(data_1, 'Correlation Matrix for Location 2')"
   ]
  },
  {
   "cell_type": "code",
   "execution_count": null,
   "metadata": {},
   "outputs": [],
   "source": [
    "corr_heat_map(data_2, 'Correlation Matrix for Location 3')"
   ]
  },
  {
   "cell_type": "code",
   "execution_count": null,
   "metadata": {},
   "outputs": [],
   "source": [
    "pair_plot_data(data_0,['product'], ['f0', 'f1', 'f2'], 'product by different parametrs for location 1')"
   ]
  },
  {
   "cell_type": "code",
   "execution_count": null,
   "metadata": {},
   "outputs": [],
   "source": [
    "pair_plot_data(data_1,['product'], ['f0', 'f1', 'f2'], 'product by different parametrs for location 2')"
   ]
  },
  {
   "cell_type": "code",
   "execution_count": null,
   "metadata": {},
   "outputs": [],
   "source": [
    "pair_plot_data(data_2,['product'], ['f0', 'f1', 'f2'], 'product by different parametrs for location 3')"
   ]
  },
  {
   "cell_type": "markdown",
   "metadata": {},
   "source": [
    "Вторая локация опять выделяется из других. Она имеет аномальный высокий коэффициент корреляции. По крайней мере с коэффициентом корреляции 0.999397 f2-параметра и объёма нефти, можно будет ожидать высокой точности, что свидетельсвует о **утечки целевого\n",
    "признака**\n",
    "\n",
    "Остальные локации тоже имеют относительно высокой коэффициент кореляции между f2-параметра и объёма нефти, но это по сравнению с другими параметрами, которые не превышают 0.2\n",
    "\n",
    "Влияние f0, f1 параметров для третий локации крайне мизерное. Но можно заметить, что если они больше 2.5 у.е то они имеют выше вероятность не получить совсем низкое значения объёма нефти."
   ]
  },
  {
   "cell_type": "markdown",
   "metadata": {},
   "source": [
    "#### Вывод по изучению данных"
   ]
  },
  {
   "cell_type": "markdown",
   "metadata": {},
   "source": [
    "- Избавились от смысловых дубликатов в базах данных;\n",
    "\n",
    "- Была определена ненормализованность данных, которые надо быдет приобразовать на этапе обработке;\n",
    "\n",
    "- Обнаружен потенциальный самый значимый параметр модели - f2;\n",
    "\n",
    "- Данные по объёму для всех локации приблизитильно сбалансированы;\n",
    "\n",
    "- Была обнаружена аномальность данных для локации номер 2 - случайная величина вроде объёма нефти принимает одно из 12 фиксированных значений, также неестественно высокий коэффициент корреляции между ним и параметром f2, *основываясь на этом можно было бы отбросить эти данные как некорректные*, но тут надо понимать, что отбрасывать треть от всех данных это крайне серьёзное решение, которое условный `Junior Data Scientist` вряд ли может единолично принять без обсуждения этого с Data Analytics, поэтому на **данный момент будет справедливей оставить эти данные**, но при этом **в заключительном выводе отметить про аномальность этих данных**"
   ]
  },
  {
   "cell_type": "markdown",
   "metadata": {},
   "source": [
    "<div class=\"alert alert-block alert-success\">\n",
    "<b>Успех:</b> Данные загружены и осмотрены корректно. Хорошо, что дубликаты по id были удалены! Радует, что распределения и корреляции были визуализированы!\n",
    "</div>"
   ]
  },
  {
   "cell_type": "markdown",
   "metadata": {},
   "source": [
    "## Обучение и проверка модели"
   ]
  },
  {
   "cell_type": "markdown",
   "metadata": {},
   "source": [
    "### Обучение модели"
   ]
  },
  {
   "cell_type": "markdown",
   "metadata": {},
   "source": [
    "> Для обучения модели подходит только линейная регрессия (остальные — недостаточно предсказуемые).\n",
    "\n",
    "Из условия задачи, будем пользоваться для обучения только линейной регрессией"
   ]
  },
  {
   "cell_type": "markdown",
   "metadata": {},
   "source": [
    "> Разбейте данные на обучающую и валидационную выборки в соотношении 75:25.\n",
    "\n",
    "Также воспользуемся кросс-валидационной техникой, чтобы обучение было более точным"
   ]
  },
  {
   "cell_type": "code",
   "execution_count": null,
   "metadata": {},
   "outputs": [],
   "source": [
    "rmse = {}\n",
    "rmse['geo_location_1'], model_0, valid_index_0, predict_valid_0, features_0, target_0, target_valid_0 = cross_validation(data_0, 4)\n",
    "rmse['geo_location_2'], model_1, valid_index_1, predict_valid_1, features_1, target_1, target_valid_1 = cross_validation(data_1, 4)\n",
    "rmse['geo_location_3'], model_2, valid_index_2, predict_valid_2, features_2, target_2, target_valid_2 = cross_validation(data_2, 4)"
   ]
  },
  {
   "cell_type": "markdown",
   "metadata": {},
   "source": [
    ">  Напечатайте на экране средний запас предсказанного сырья и RMSE модели."
   ]
  },
  {
   "cell_type": "code",
   "execution_count": null,
   "metadata": {},
   "outputs": [],
   "source": [
    "pd.DataFrame.from_dict(rmse, orient='index', columns=['RMSE'])"
   ]
  },
  {
   "cell_type": "markdown",
   "metadata": {},
   "source": [
    "Локация два не перестает поражать, всего лишь 0.8 - RMSE. \n",
    "\n",
    "Что касается остальных локации, то первая показала себя немного лучше, но это можно связать, с тем, что изначально средние максимальные значения были больше в оригинальной базе данных."
   ]
  },
  {
   "cell_type": "code",
   "execution_count": null,
   "metadata": {},
   "outputs": [],
   "source": [
    "mean_data = {\n",
    "    'geo_location_1': predict_valid_0.mean(),\n",
    "    'geo_location_2': predict_valid_1.mean(),\n",
    "    'geo_location_3': predict_valid_2.mean()\n",
    "}\n",
    "pd.DataFrame.from_dict(mean_data, orient='index', columns=['predicted mean'])"
   ]
  },
  {
   "cell_type": "markdown",
   "metadata": {},
   "source": [
    "Хоть и точность предсказаний у второй локации гораздо выше, но при этом средние значения предсказанных значительно меньше"
   ]
  },
  {
   "cell_type": "markdown",
   "metadata": {},
   "source": [
    "### Проверка на адекватность"
   ]
  },
  {
   "cell_type": "markdown",
   "metadata": {},
   "source": [
    "Значение  37 или же 40 для RMSE - это много или же мало, сложно сказать без каких либо сравнений с другими данными. Для этого проверим на адекватность сравнив их с простыми моделями предсказания."
   ]
  },
  {
   "cell_type": "code",
   "execution_count": null,
   "metadata": {},
   "outputs": [],
   "source": [
    "dummy_check(\n",
    "    features_0.drop(valid_index_0),\n",
    "    features_0.loc[valid_index_0],\n",
    "    target_0.drop(valid_index_0),\n",
    "    target_valid_0,\n",
    "    rmse['geo_location_1']\n",
    ")"
   ]
  },
  {
   "cell_type": "code",
   "execution_count": null,
   "metadata": {},
   "outputs": [],
   "source": [
    "dummy_check(\n",
    "    features_2.drop(valid_index_2),\n",
    "    features_2.loc[valid_index_2],\n",
    "    target_2.drop(valid_index_2),\n",
    "    target_valid_2,\n",
    "    rmse['geo_location_3']\n",
    ")"
   ]
  },
  {
   "cell_type": "markdown",
   "metadata": {},
   "source": [
    "Что же похоже модели по крайней мере работают лучше, чем Dummies. "
   ]
  },
  {
   "cell_type": "markdown",
   "metadata": {},
   "source": [
    "### Заключение по обучению и проверки модели"
   ]
  },
  {
   "cell_type": "markdown",
   "metadata": {},
   "source": [
    "Для обучения была выбрана модель линейной регрессии, чтобы обучение оказалось более точным использовался метод кросс-валидации, разделяя выборки на четыре равный по размеру выборки, каждую из которых последовательно выбирали в качестве валидационной для нахождения более точной модели.  \n",
    "\n",
    "Для проверки адекватность моделей, их сравнивали с простой моделью, которая выдавала средний результат, по обучающий выборки. В итоге наши обученные модели оказались видимо лучше, чем такие. \n",
    "\n",
    "Метрика ошибки для первой локации оказалось немного лучше, чем у третий, но в то же время предсказанное среднее было больше у третий.\n",
    "\n",
    "В тоже время вторая локация показала практически безупречную точность. Но её предсказанное среднее оказалось значительно меньше."
   ]
  },
  {
   "cell_type": "markdown",
   "metadata": {},
   "source": [
    "<div class=\"alert alert-block alert-success\">\n",
    "<b>Успех:</b> Модели обучены корректно. Радует, что ты активно используешь функции. Это помогает избежать дублирования кода, а значит уменьшает вероятность совершить ошибку/опечатку!\n",
    "</div>"
   ]
  },
  {
   "cell_type": "markdown",
   "metadata": {},
   "source": [
    "## Подготовка к расчёту прибыли"
   ]
  },
  {
   "cell_type": "markdown",
   "metadata": {},
   "source": [
    "### Условия задачи"
   ]
  },
  {
   "cell_type": "markdown",
   "metadata": {},
   "source": [
    "> При разведке региона исследуют 500 точек, из которых с помощью машинного обучения выбирают 200 лучших для разработки.\n",
    "\n",
    "> Бюджет на разработку скважин в регионе — 10 млрд рублей.\n",
    "\n",
    "> При нынешних ценах один баррель сырья приносит 450 рублей дохода. Доход с каждой единицы продукта составляет 450 тыс. рублей, поскольку объём указан в тысячах баррелей.\n",
    "\n",
    "> После оценки рисков нужно оставить лишь те регионы, в которых вероятность убытков меньше 2.5%. Среди них выбирают регион с наибольшей средней прибылью."
   ]
  },
  {
   "cell_type": "markdown",
   "metadata": {},
   "source": [
    "### Подготовка"
   ]
  },
  {
   "cell_type": "markdown",
   "metadata": {},
   "source": [
    "> Все ключевые значения для расчётов сохраните в отдельных переменных."
   ]
  },
  {
   "cell_type": "code",
   "execution_count": null,
   "metadata": {},
   "outputs": [],
   "source": [
    "budget = 10_000_000_000\n",
    "n_researched_places = 500\n",
    "n_developed_places = 200\n",
    "cash_per_product = 450_000\n",
    "damages_chances = 0.025\n",
    "n_bootstraps = 1000\n",
    "confidence = 0.95\n"
   ]
  },
  {
   "cell_type": "markdown",
   "metadata": {},
   "source": [
    "<div class=\"alert alert-block alert-info\">\n",
    "\n",
    "<b>Совет: </b> В названиях константных переменных лучше использовать только БОЛЬШИЕ буквы. Это соглашение между программистами: https://pythonworld.ru/osnovy/pep-8-rukovodstvo-po-napisaniyu-koda-na-python.html#id29 .\n",
    "</div>"
   ]
  },
  {
   "cell_type": "code",
   "execution_count": null,
   "metadata": {},
   "outputs": [],
   "source": [
    "BUDGET = 10_000_000_000\n",
    "N_RESEARCHED_PLACES = 500\n",
    "N_DEVELOPED_PLACES = 200\n",
    "CASH_PER_PRODUCT = 450_000\n",
    "DAMAGES_CHANCES = 0.025\n",
    "N_BOOTSTRAPS = 1000\n",
    "CONFIDENCE = 0.95\n"
   ]
  },
  {
   "cell_type": "markdown",
   "metadata": {},
   "source": [
    "<img src=\"https://images.emojiterra.com/google/android-pie/512px/1f5d2.png\" align=left width=44, heigth=44>\n",
    "<div class=\"alert alert-block alert-warning\">\n",
    "<b> Комментарий студента </b>\n",
    "    \n",
    "Добавил новые переменные\n",
    "</div>"
   ]
  },
  {
   "cell_type": "markdown",
   "metadata": {},
   "source": [
    "> Рассчитайте достаточный объём сырья для безубыточной разработки новой скважины. Сравните полученный объём сырья со средним запасом в каждом регионе"
   ]
  },
  {
   "cell_type": "markdown",
   "metadata": {},
   "source": [
    "$$\n",
    "  Sufficied Product =  \\frac{Budget}{Number Of Developed Places * Cash Per Product} \\\\\n",
    "$$"
   ]
  },
  {
   "cell_type": "code",
   "execution_count": null,
   "metadata": {},
   "outputs": [],
   "source": [
    "sufficied_product = BUDGET / N_DEVELOPED_PLACES / CASH_PER_PRODUCT\n",
    "print(f'Sufficied product to not lose money per place - {sufficied_product:.2f}')\n",
    "print('\\nAverage product in location 1 - {:.2f}'.format(data_0['product'].mean()))\n",
    "print('\\nAverage product in location 2 - {:.2f}'.format(data_1['product'].mean()))\n",
    "print('\\nAverage product in location 3 - {:.2f}'.format(data_2['product'].mean()))"
   ]
  },
  {
   "cell_type": "markdown",
   "metadata": {},
   "source": [
    "**Вывод:**\n",
    "Как можно заметить, ни одна из локаций не имеет в среднем достаточно ресурсов, чтобы не потерять деньги. Поэтому нельзя просто выбирать локации наугад, необходимо для этого воспользоваться нашими обученными моделями, чтобы с наименьшей вероятностью понести убытки."
   ]
  },
  {
   "cell_type": "markdown",
   "metadata": {},
   "source": [
    "<div class=\"alert alert-block alert-success\">\n",
    "<b>Успех:</b> Точка безубыточности найдена верно, сравнение проведено!\n",
    "</div>"
   ]
  },
  {
   "cell_type": "markdown",
   "metadata": {},
   "source": [
    "## Расчёт прибыли и рисков "
   ]
  },
  {
   "cell_type": "markdown",
   "metadata": {},
   "source": [
    "### Устранение регионов с слишков высоким риском убытков"
   ]
  },
  {
   "cell_type": "markdown",
   "metadata": {},
   "source": [
    "**Ошибочный код**\n",
    "```python\n",
    "profit_0 = find_risk(\n",
    "    predict_valid_0,\n",
    "    n_researched_places,\n",
    "    n_developed_places,\n",
    "    cash_per_product, \n",
    "    budget,\n",
    "    'Histogram for Profit of Location 1',\n",
    "    damages_chances,\n",
    "    confidence,\n",
    "    n_bootstraps,\n",
    "    \n",
    ")\n",
    "```"
   ]
  },
  {
   "cell_type": "code",
   "execution_count": null,
   "metadata": {},
   "outputs": [],
   "source": [
    "profit_0 = find_risk_fixed(\n",
    "    predict_valid_0,\n",
    "    n_researched_places,\n",
    "    n_developed_places,\n",
    "    cash_per_product, \n",
    "    budget,\n",
    "    'Histogram for Profit of Location 1',\n",
    "    damages_chances,\n",
    "    confidence,\n",
    "    n_bootstraps,\n",
    "    target_valid_0\n",
    ")"
   ]
  },
  {
   "cell_type": "markdown",
   "metadata": {},
   "source": [
    "<div class=\"alert alert-block alert-danger\">\n",
    "<b>Ошибка:</b> Для выбора 200 лучших скважин нужно использовать предсказанные значения. А вот для подсчета прибыли должны использоваться настоящие значения соответствующих ячеек.\n",
    "</div>\n",
    "\n",
    "\n",
    "<div class=\"alert alert-block alert-danger\">\n",
    "<b>Ошибка:</b> Для подсчета доверительного интервала стоит использовать метод квантилей, так как мы реализуем технику бутстрап.\n",
    "</div>"
   ]
  },
  {
   "cell_type": "markdown",
   "metadata": {},
   "source": [
    "<div class=\"alert alert-block alert-info\">\n",
    "\n",
    "<b>Совет: </b> Риск можно было найти чуть проще: `(values < 0).mean()`, если объект типа pandas Series или numpy array.\n",
    "</div>"
   ]
  },
  {
   "cell_type": "markdown",
   "metadata": {},
   "source": [
    "<img src=\"https://images.emojiterra.com/google/android-pie/512px/1f5d2.png\" align=left width=44, heigth=44>\n",
    "<div class=\"alert alert-block alert-warning\">\n",
    "<b> Комментарий студента </b>\n",
    "    \n",
    "Исправил\n",
    "</div>"
   ]
  },
  {
   "cell_type": "code",
   "execution_count": null,
   "metadata": {},
   "outputs": [],
   "source": [
    "profit_1 = find_risk_fixed(\n",
    "    predict_valid_1,\n",
    "    n_researched_places,\n",
    "    n_developed_places,\n",
    "    cash_per_product, \n",
    "    budget,\n",
    "    'Histogram for Profit of Location 2',\n",
    "    damages_chances,\n",
    "    confidence,\n",
    "    n_bootstraps,\n",
    "    target_valid_1\n",
    ")"
   ]
  },
  {
   "cell_type": "code",
   "execution_count": null,
   "metadata": {
    "scrolled": true
   },
   "outputs": [],
   "source": [
    "profit_2 = find_risk_fixed(\n",
    "    predict_valid_2,\n",
    "    n_researched_places,\n",
    "    n_developed_places,\n",
    "    cash_per_product, \n",
    "    budget,\n",
    "    'Histogram for Profit of Location 3',\n",
    "    damages_chances,\n",
    "    confidence,\n",
    "    n_bootstraps,\n",
    "    target_valid_2\n",
    ")"
   ]
  },
  {
   "cell_type": "markdown",
   "metadata": {},
   "source": [
    "Похоже, что только локации 1 и 3 отпадают в качестве исследуемых локации, из-за слишком высоких рисков."
   ]
  },
  {
   "cell_type": "markdown",
   "metadata": {},
   "source": []
  },
  {
   "cell_type": "markdown",
   "metadata": {},
   "source": [
    "### Выбор локации основываясь на прибыли\n"
   ]
  },
  {
   "cell_type": "markdown",
   "metadata": {},
   "source": [
    "Поскольку 2 локация показала подозрительные значения для объёма нефти, хотелось бы проверить остальные локации, какая из них наиболее прибыльная на всякий случай, риск потерь у них приблизительно одиковый\n",
    "\n",
    "- Нулевая гипотеза: прибыль в локации 1 и в 3 не отличается;\n",
    "\n",
    "- Альтернативная гипотеза: прибыль в локации 1 выше;"
   ]
  },
  {
   "cell_type": "code",
   "execution_count": null,
   "metadata": {},
   "outputs": [],
   "source": [
    "compare_bootstrap(profit_0, profit_2, n_bootstraps)"
   ]
  },
  {
   "cell_type": "markdown",
   "metadata": {},
   "source": [
    "В итоге разница в прибыли у них наиболее вероятней всего была вызвана случайностью"
   ]
  },
  {
   "cell_type": "markdown",
   "metadata": {},
   "source": []
  },
  {
   "cell_type": "markdown",
   "metadata": {},
   "source": [
    "## Заключение"
   ]
  },
  {
   "cell_type": "markdown",
   "metadata": {},
   "source": [
    "По итогу исследования и обучения модели локация номер 2 была определена как потенциально наиболее прибыльная локация (467 млн рублей) с приемлимым показателем рисков 0.9%. Но важно отметить, что эта локации имеет крайне неестественное распределение, поскольку вместо случайного распределения объёма нефти, он принимает одно из 12 фиксированных значений. Также имеет аномальный высокий параметр корреляции для одного из признаков, крайне близкого к 1. Низкие риски у этой локации как раз и объясняются, тем что из-за утечки целевого признака, модель смогла предсказать значение объёма у исследуемых точек с филигранной точностью и тем самым случайно не выбрать, те места где мало ресурсов,\n",
    "\n",
    "Поэтому слудует рассмотреть потенциальное принятие ко вниманию и другие локации, хотя они и имеют риски превосходящие необходимый минимум в 2.5% - 6.5%."
   ]
  },
  {
   "cell_type": "markdown",
   "metadata": {},
   "source": [
    "<img src=\"https://em-content.zobj.net/thumbs/120/toss-face/342/person-bowing_1f647.png\" align=left width=44, heigth=44>\n",
    "<div class=\"alert alert-block alert-warning\">\n",
    "<b> Заключительная благодарность. </b>\n",
    "    \n",
    "Спасибо ещё раз за комментарии, благодаря Вам смог осознать, что расчёт прибыли был совершён категорически не верно.\n",
    "</div>"
   ]
  },
  {
   "cell_type": "markdown",
   "metadata": {},
   "source": [
    "## Чек-лист готовности проекта"
   ]
  },
  {
   "cell_type": "markdown",
   "metadata": {},
   "source": [
    "Поставьте 'x' в выполненных пунктах. Далее нажмите Shift+Enter."
   ]
  },
  {
   "cell_type": "markdown",
   "metadata": {},
   "source": [
    "- [x]  Jupyter Notebook открыт\n",
    "- [ ]  Весь код выполняется без ошибок\n",
    "- [ ]  Ячейки с кодом расположены в порядке исполнения\n",
    "- [ ]  Выполнен шаг 1: данные подготовлены\n",
    "- [ ]  Выполнен шаг 2: модели обучены и проверены\n",
    "    - [ ]  Данные корректно разбиты на обучающую и валидационную выборки\n",
    "    - [ ]  Модели обучены, предсказания сделаны\n",
    "    - [ ]  Предсказания и правильные ответы на валидационной выборке сохранены\n",
    "    - [ ]  На экране напечатаны результаты\n",
    "    - [ ]  Сделаны выводы\n",
    "- [ ]  Выполнен шаг 3: проведена подготовка к расчёту прибыли\n",
    "    - [ ]  Для всех ключевых значений созданы константы Python\n",
    "    - [ ]  Посчитано минимальное среднее количество продукта в месторождениях региона, достаточное для разработки\n",
    "    - [ ]  По предыдущему пункту сделаны выводы\n",
    "    - [ ]  Написана функция расчёта прибыли\n",
    "- [ ]  Выполнен шаг 4: посчитаны риски и прибыль\n",
    "    - [ ]  Проведена процедура *Bootstrap*\n",
    "    - [ ]  Все параметры бутстрепа соответствуют условию\n",
    "    - [ ]  Найдены все нужные величины\n",
    "    - [ ]  Предложен регион для разработки месторождения\n",
    "    - [ ]  Выбор региона обоснован"
   ]
  },
  {
   "cell_type": "code",
   "execution_count": null,
   "metadata": {},
   "outputs": [],
   "source": []
  }
 ],
 "metadata": {
  "ExecuteTimeLog": [
   {
    "duration": 5770,
    "start_time": "2023-01-26T05:59:09.882Z"
   },
   {
    "duration": 963,
    "start_time": "2023-01-26T06:09:22.827Z"
   },
   {
    "duration": 23,
    "start_time": "2023-01-26T06:10:12.675Z"
   },
   {
    "duration": 18,
    "start_time": "2023-01-26T06:10:15.362Z"
   },
   {
    "duration": 19,
    "start_time": "2023-01-26T06:10:18.194Z"
   },
   {
    "duration": 44,
    "start_time": "2023-01-26T06:10:38.179Z"
   },
   {
    "duration": 24,
    "start_time": "2023-01-26T06:21:50.407Z"
   },
   {
    "duration": 14,
    "start_time": "2023-01-26T06:21:56.622Z"
   },
   {
    "duration": 14,
    "start_time": "2023-01-26T06:22:03.416Z"
   },
   {
    "duration": 265,
    "start_time": "2023-01-26T06:36:34.628Z"
   },
   {
    "duration": 4,
    "start_time": "2023-01-26T06:36:40.398Z"
   },
   {
    "duration": 3,
    "start_time": "2023-01-26T06:37:09.590Z"
   },
   {
    "duration": 3,
    "start_time": "2023-01-26T06:37:16.718Z"
   },
   {
    "duration": 4,
    "start_time": "2023-01-26T06:37:29.797Z"
   },
   {
    "duration": 4,
    "start_time": "2023-01-26T06:37:40.797Z"
   },
   {
    "duration": 16,
    "start_time": "2023-01-26T06:40:38.600Z"
   },
   {
    "duration": 60,
    "start_time": "2023-01-26T06:40:46.471Z"
   },
   {
    "duration": 76,
    "start_time": "2023-01-26T06:40:59.417Z"
   },
   {
    "duration": 83,
    "start_time": "2023-01-26T06:41:27.224Z"
   },
   {
    "duration": 74,
    "start_time": "2023-01-26T06:41:33.112Z"
   },
   {
    "duration": 65,
    "start_time": "2023-01-26T06:42:10.184Z"
   },
   {
    "duration": 90,
    "start_time": "2023-01-26T06:42:17.503Z"
   },
   {
    "duration": 56,
    "start_time": "2023-01-26T06:43:44.672Z"
   },
   {
    "duration": 52,
    "start_time": "2023-01-26T06:43:53.721Z"
   },
   {
    "duration": 44,
    "start_time": "2023-01-26T06:44:09.416Z"
   },
   {
    "duration": 53,
    "start_time": "2023-01-26T06:44:20.643Z"
   },
   {
    "duration": 24,
    "start_time": "2023-01-26T06:47:41.595Z"
   },
   {
    "duration": 46,
    "start_time": "2023-01-26T06:48:19.951Z"
   },
   {
    "duration": 24,
    "start_time": "2023-01-26T06:48:23.578Z"
   },
   {
    "duration": 26,
    "start_time": "2023-01-26T06:48:36.646Z"
   },
   {
    "duration": 167,
    "start_time": "2023-01-26T06:48:43.883Z"
   },
   {
    "duration": 165,
    "start_time": "2023-01-26T06:49:37.587Z"
   },
   {
    "duration": 161,
    "start_time": "2023-01-26T06:49:46.717Z"
   },
   {
    "duration": 198,
    "start_time": "2023-01-26T06:49:52.939Z"
   },
   {
    "duration": 210,
    "start_time": "2023-01-26T06:50:04.043Z"
   },
   {
    "duration": 163,
    "start_time": "2023-01-26T06:50:22.787Z"
   },
   {
    "duration": 162,
    "start_time": "2023-01-26T06:50:45.563Z"
   },
   {
    "duration": 20,
    "start_time": "2023-01-26T06:52:26.733Z"
   },
   {
    "duration": 28,
    "start_time": "2023-01-26T06:53:00.956Z"
   },
   {
    "duration": 40,
    "start_time": "2023-01-26T06:53:13.396Z"
   },
   {
    "duration": 44,
    "start_time": "2023-01-26T06:54:16.353Z"
   },
   {
    "duration": 38,
    "start_time": "2023-01-26T06:54:23.621Z"
   },
   {
    "duration": 39,
    "start_time": "2023-01-26T06:55:09.061Z"
   },
   {
    "duration": 40,
    "start_time": "2023-01-26T06:55:14.797Z"
   },
   {
    "duration": 60,
    "start_time": "2023-01-26T06:55:19.189Z"
   },
   {
    "duration": 5,
    "start_time": "2023-01-26T06:59:25.103Z"
   },
   {
    "duration": 4,
    "start_time": "2023-01-26T06:59:32.847Z"
   },
   {
    "duration": 71,
    "start_time": "2023-01-26T07:02:15.005Z"
   },
   {
    "duration": 4,
    "start_time": "2023-01-26T07:02:24.694Z"
   },
   {
    "duration": 55,
    "start_time": "2023-01-26T07:04:23.108Z"
   },
   {
    "duration": 59,
    "start_time": "2023-01-26T07:04:35.100Z"
   },
   {
    "duration": 47,
    "start_time": "2023-01-26T07:05:08.348Z"
   },
   {
    "duration": 50,
    "start_time": "2023-01-26T07:05:17.691Z"
   },
   {
    "duration": 4,
    "start_time": "2023-01-26T07:49:17.238Z"
   },
   {
    "duration": 1550,
    "start_time": "2023-01-26T07:50:54.854Z"
   },
   {
    "duration": 4,
    "start_time": "2023-01-26T07:51:16.167Z"
   },
   {
    "duration": 1220,
    "start_time": "2023-01-26T07:51:17.901Z"
   },
   {
    "duration": 4,
    "start_time": "2023-01-26T07:51:42.558Z"
   },
   {
    "duration": 53,
    "start_time": "2023-01-26T07:51:44.019Z"
   },
   {
    "duration": 4,
    "start_time": "2023-01-26T07:52:00.742Z"
   },
   {
    "duration": 31,
    "start_time": "2023-01-26T07:52:01.767Z"
   },
   {
    "duration": 8,
    "start_time": "2023-01-26T07:52:24.167Z"
   },
   {
    "duration": 1273,
    "start_time": "2023-01-26T07:52:25.121Z"
   },
   {
    "duration": 7,
    "start_time": "2023-01-26T07:53:29.199Z"
   },
   {
    "duration": 5,
    "start_time": "2023-01-26T07:54:42.425Z"
   },
   {
    "duration": 1202,
    "start_time": "2023-01-26T07:54:43.676Z"
   },
   {
    "duration": 1231,
    "start_time": "2023-01-26T07:55:13.724Z"
   },
   {
    "duration": 6736,
    "start_time": "2023-01-26T09:42:53.574Z"
   },
   {
    "duration": 6,
    "start_time": "2023-01-26T09:43:00.313Z"
   },
   {
    "duration": 2151,
    "start_time": "2023-01-26T09:43:00.321Z"
   },
   {
    "duration": 34,
    "start_time": "2023-01-26T09:43:02.475Z"
   },
   {
    "duration": 20,
    "start_time": "2023-01-26T09:43:02.511Z"
   },
   {
    "duration": 27,
    "start_time": "2023-01-26T09:43:02.533Z"
   },
   {
    "duration": 43,
    "start_time": "2023-01-26T09:43:02.562Z"
   },
   {
    "duration": 22,
    "start_time": "2023-01-26T09:43:02.608Z"
   },
   {
    "duration": 21,
    "start_time": "2023-01-26T09:43:02.634Z"
   },
   {
    "duration": 16,
    "start_time": "2023-01-26T09:43:02.658Z"
   },
   {
    "duration": 70,
    "start_time": "2023-01-26T09:43:02.676Z"
   },
   {
    "duration": 57,
    "start_time": "2023-01-26T09:43:02.748Z"
   },
   {
    "duration": 40,
    "start_time": "2023-01-26T09:43:02.808Z"
   },
   {
    "duration": 76,
    "start_time": "2023-01-26T09:43:02.850Z"
   },
   {
    "duration": 80,
    "start_time": "2023-01-26T09:43:02.929Z"
   },
   {
    "duration": 68,
    "start_time": "2023-01-26T09:43:03.012Z"
   },
   {
    "duration": 137,
    "start_time": "2023-01-26T09:43:03.083Z"
   },
   {
    "duration": 99,
    "start_time": "2023-01-26T09:43:03.222Z"
   },
   {
    "duration": 119,
    "start_time": "2023-01-26T09:43:03.324Z"
   },
   {
    "duration": 171,
    "start_time": "2023-01-26T09:43:03.445Z"
   },
   {
    "duration": 53,
    "start_time": "2023-01-26T09:43:03.618Z"
   },
   {
    "duration": 76,
    "start_time": "2023-01-26T09:43:03.673Z"
   },
   {
    "duration": 30,
    "start_time": "2023-01-26T09:43:03.751Z"
   },
   {
    "duration": 67,
    "start_time": "2023-01-26T09:43:03.783Z"
   },
   {
    "duration": 33,
    "start_time": "2023-01-26T09:43:03.851Z"
   },
   {
    "duration": 94,
    "start_time": "2023-01-26T09:43:03.886Z"
   },
   {
    "duration": 4,
    "start_time": "2023-01-26T09:43:03.982Z"
   },
   {
    "duration": 3057,
    "start_time": "2023-01-26T09:43:03.989Z"
   },
   {
    "duration": 6305,
    "start_time": "2023-01-26T16:12:54.547Z"
   },
   {
    "duration": 5,
    "start_time": "2023-01-26T16:13:00.854Z"
   },
   {
    "duration": 1708,
    "start_time": "2023-01-26T16:13:00.861Z"
   },
   {
    "duration": 21,
    "start_time": "2023-01-26T16:13:02.573Z"
   },
   {
    "duration": 27,
    "start_time": "2023-01-26T16:13:02.596Z"
   },
   {
    "duration": 16,
    "start_time": "2023-01-26T16:13:02.625Z"
   },
   {
    "duration": 14,
    "start_time": "2023-01-26T16:13:02.643Z"
   },
   {
    "duration": 15,
    "start_time": "2023-01-26T16:13:02.658Z"
   },
   {
    "duration": 26,
    "start_time": "2023-01-26T16:13:02.675Z"
   },
   {
    "duration": 4,
    "start_time": "2023-01-26T16:13:02.704Z"
   },
   {
    "duration": 65,
    "start_time": "2023-01-26T16:13:02.710Z"
   },
   {
    "duration": 41,
    "start_time": "2023-01-26T16:13:02.776Z"
   },
   {
    "duration": 52,
    "start_time": "2023-01-26T16:13:02.819Z"
   },
   {
    "duration": 87,
    "start_time": "2023-01-26T16:13:02.873Z"
   },
   {
    "duration": 91,
    "start_time": "2023-01-26T16:13:02.961Z"
   },
   {
    "duration": 55,
    "start_time": "2023-01-26T16:13:03.054Z"
   },
   {
    "duration": 72,
    "start_time": "2023-01-26T16:13:03.111Z"
   },
   {
    "duration": 69,
    "start_time": "2023-01-26T16:13:03.185Z"
   },
   {
    "duration": 81,
    "start_time": "2023-01-26T16:13:03.256Z"
   },
   {
    "duration": 56,
    "start_time": "2023-01-26T16:13:03.339Z"
   },
   {
    "duration": 74,
    "start_time": "2023-01-26T16:13:03.397Z"
   },
   {
    "duration": 67,
    "start_time": "2023-01-26T16:13:03.472Z"
   },
   {
    "duration": 35,
    "start_time": "2023-01-26T16:13:03.541Z"
   },
   {
    "duration": 48,
    "start_time": "2023-01-26T16:13:03.578Z"
   },
   {
    "duration": 28,
    "start_time": "2023-01-26T16:13:03.636Z"
   },
   {
    "duration": 93,
    "start_time": "2023-01-26T16:13:03.666Z"
   },
   {
    "duration": 4,
    "start_time": "2023-01-26T16:13:03.761Z"
   },
   {
    "duration": 1475,
    "start_time": "2023-01-26T16:13:03.768Z"
   },
   {
    "duration": 42,
    "start_time": "2023-01-26T16:15:39.892Z"
   },
   {
    "duration": 37,
    "start_time": "2023-01-26T16:15:59.630Z"
   },
   {
    "duration": 40,
    "start_time": "2023-01-26T16:16:20.365Z"
   },
   {
    "duration": 91,
    "start_time": "2023-01-26T16:21:03.426Z"
   },
   {
    "duration": 281,
    "start_time": "2023-01-26T16:21:32.518Z"
   },
   {
    "duration": 41,
    "start_time": "2023-01-26T16:21:37.070Z"
   },
   {
    "duration": 39,
    "start_time": "2023-01-26T16:21:42.863Z"
   },
   {
    "duration": 87,
    "start_time": "2023-01-26T16:22:19.095Z"
   },
   {
    "duration": 1207,
    "start_time": "2023-01-26T16:29:03.349Z"
   },
   {
    "duration": 1161,
    "start_time": "2023-01-26T16:30:32.362Z"
   },
   {
    "duration": 6262,
    "start_time": "2023-01-27T11:56:50.533Z"
   },
   {
    "duration": 5,
    "start_time": "2023-01-27T11:56:56.797Z"
   },
   {
    "duration": 915,
    "start_time": "2023-01-27T11:56:56.803Z"
   },
   {
    "duration": 20,
    "start_time": "2023-01-27T11:56:57.721Z"
   },
   {
    "duration": 14,
    "start_time": "2023-01-27T11:56:57.742Z"
   },
   {
    "duration": 13,
    "start_time": "2023-01-27T11:56:57.758Z"
   },
   {
    "duration": 19,
    "start_time": "2023-01-27T11:56:57.773Z"
   },
   {
    "duration": 16,
    "start_time": "2023-01-27T11:56:57.793Z"
   },
   {
    "duration": 17,
    "start_time": "2023-01-27T11:56:57.840Z"
   },
   {
    "duration": 13,
    "start_time": "2023-01-27T11:56:57.860Z"
   },
   {
    "duration": 70,
    "start_time": "2023-01-27T11:56:57.875Z"
   },
   {
    "duration": 76,
    "start_time": "2023-01-27T11:56:57.947Z"
   },
   {
    "duration": 69,
    "start_time": "2023-01-27T11:56:58.041Z"
   },
   {
    "duration": 89,
    "start_time": "2023-01-27T11:56:58.111Z"
   },
   {
    "duration": 84,
    "start_time": "2023-01-27T11:56:58.202Z"
   },
   {
    "duration": 88,
    "start_time": "2023-01-27T11:56:58.287Z"
   },
   {
    "duration": 49,
    "start_time": "2023-01-27T11:56:58.377Z"
   },
   {
    "duration": 44,
    "start_time": "2023-01-27T11:56:58.440Z"
   },
   {
    "duration": 60,
    "start_time": "2023-01-27T11:56:58.486Z"
   },
   {
    "duration": 31,
    "start_time": "2023-01-27T11:56:58.548Z"
   },
   {
    "duration": 34,
    "start_time": "2023-01-27T11:56:58.580Z"
   },
   {
    "duration": 49,
    "start_time": "2023-01-27T11:56:58.615Z"
   },
   {
    "duration": 75,
    "start_time": "2023-01-27T11:56:58.665Z"
   },
   {
    "duration": 3,
    "start_time": "2023-01-27T11:56:58.742Z"
   },
   {
    "duration": 48,
    "start_time": "2023-01-27T11:56:58.747Z"
   },
   {
    "duration": 52,
    "start_time": "2023-01-27T11:56:58.797Z"
   },
   {
    "duration": 40,
    "start_time": "2023-01-27T11:56:58.851Z"
   },
   {
    "duration": 113,
    "start_time": "2023-01-27T11:56:58.894Z"
   },
   {
    "duration": 1504,
    "start_time": "2023-01-27T11:56:59.009Z"
   },
   {
    "duration": 1670,
    "start_time": "2023-01-27T11:57:00.515Z"
   },
   {
    "duration": 7,
    "start_time": "2023-01-29T23:49:57.146Z"
   },
   {
    "duration": 9085,
    "start_time": "2023-01-30T20:09:05.974Z"
   },
   {
    "duration": 3,
    "start_time": "2023-01-30T20:09:15.061Z"
   },
   {
    "duration": 7,
    "start_time": "2023-01-30T20:09:15.066Z"
   },
   {
    "duration": 5,
    "start_time": "2023-01-30T20:09:15.075Z"
   },
   {
    "duration": 5,
    "start_time": "2023-01-30T20:09:15.082Z"
   },
   {
    "duration": 15,
    "start_time": "2023-01-30T20:09:15.088Z"
   },
   {
    "duration": 12,
    "start_time": "2023-01-30T20:09:15.105Z"
   },
   {
    "duration": 5,
    "start_time": "2023-01-30T20:09:15.119Z"
   },
   {
    "duration": 4,
    "start_time": "2023-01-30T20:09:15.136Z"
   },
   {
    "duration": 5,
    "start_time": "2023-01-30T20:09:15.141Z"
   },
   {
    "duration": 7,
    "start_time": "2023-01-30T20:09:15.147Z"
   },
   {
    "duration": 8,
    "start_time": "2023-01-30T20:09:15.156Z"
   },
   {
    "duration": 2000,
    "start_time": "2023-01-30T20:09:15.166Z"
   },
   {
    "duration": 18,
    "start_time": "2023-01-30T20:09:17.169Z"
   },
   {
    "duration": 20,
    "start_time": "2023-01-30T20:09:17.189Z"
   },
   {
    "duration": 16,
    "start_time": "2023-01-30T20:09:17.211Z"
   },
   {
    "duration": 26,
    "start_time": "2023-01-30T20:09:17.228Z"
   },
   {
    "duration": 23,
    "start_time": "2023-01-30T20:09:17.257Z"
   },
   {
    "duration": 20,
    "start_time": "2023-01-30T20:09:17.282Z"
   },
   {
    "duration": 36,
    "start_time": "2023-01-30T20:09:17.304Z"
   },
   {
    "duration": 98,
    "start_time": "2023-01-30T20:09:17.342Z"
   },
   {
    "duration": 110,
    "start_time": "2023-01-30T20:09:17.443Z"
   },
   {
    "duration": 84,
    "start_time": "2023-01-30T20:09:17.555Z"
   },
   {
    "duration": 73,
    "start_time": "2023-01-30T20:09:17.641Z"
   },
   {
    "duration": 87,
    "start_time": "2023-01-30T20:09:17.716Z"
   },
   {
    "duration": 95,
    "start_time": "2023-01-30T20:09:17.805Z"
   },
   {
    "duration": 69,
    "start_time": "2023-01-30T20:09:17.902Z"
   },
   {
    "duration": 63,
    "start_time": "2023-01-30T20:09:17.973Z"
   },
   {
    "duration": 54,
    "start_time": "2023-01-30T20:09:18.038Z"
   },
   {
    "duration": 52,
    "start_time": "2023-01-30T20:09:18.094Z"
   },
   {
    "duration": 28,
    "start_time": "2023-01-30T20:09:18.148Z"
   },
   {
    "duration": 49,
    "start_time": "2023-01-30T20:09:18.178Z"
   },
   {
    "duration": 109,
    "start_time": "2023-01-30T20:09:18.229Z"
   },
   {
    "duration": 3,
    "start_time": "2023-01-30T20:09:18.341Z"
   },
   {
    "duration": 376,
    "start_time": "2023-01-30T20:09:18.346Z"
   },
   {
    "duration": 52,
    "start_time": "2023-01-30T20:09:18.724Z"
   },
   {
    "duration": 39,
    "start_time": "2023-01-30T20:09:18.778Z"
   },
   {
    "duration": 56,
    "start_time": "2023-01-30T20:09:18.818Z"
   },
   {
    "duration": 186,
    "start_time": "2023-01-30T20:09:18.876Z"
   },
   {
    "duration": 2041,
    "start_time": "2023-01-30T20:09:19.064Z"
   },
   {
    "duration": 1870,
    "start_time": "2023-01-30T20:09:21.112Z"
   },
   {
    "duration": 1752,
    "start_time": "2023-01-30T20:09:22.985Z"
   },
   {
    "duration": 434,
    "start_time": "2023-01-30T20:09:24.740Z"
   },
   {
    "duration": 1382,
    "start_time": "2023-01-30T20:09:25.176Z"
   },
   {
    "duration": 1292,
    "start_time": "2023-01-30T20:09:26.560Z"
   },
   {
    "duration": 9,
    "start_time": "2023-01-30T20:09:27.855Z"
   },
   {
    "duration": 695,
    "start_time": "2023-01-30T20:09:27.866Z"
   },
   {
    "duration": 513,
    "start_time": "2023-01-30T20:09:28.563Z"
   },
   {
    "duration": 406,
    "start_time": "2023-01-30T20:09:29.078Z"
   },
   {
    "duration": 1120,
    "start_time": "2023-01-30T20:09:29.486Z"
   },
   {
    "duration": 1063,
    "start_time": "2023-01-30T20:09:30.608Z"
   },
   {
    "duration": 1158,
    "start_time": "2023-01-30T20:09:31.673Z"
   },
   {
    "duration": 87707,
    "start_time": "2023-01-30T20:09:32.833Z"
   },
   {
    "duration": 15,
    "start_time": "2023-01-30T20:11:00.542Z"
   },
   {
    "duration": 107,
    "start_time": "2023-01-30T20:11:00.637Z"
   },
   {
    "duration": 29,
    "start_time": "2023-01-30T20:11:00.746Z"
   },
   {
    "duration": 38,
    "start_time": "2023-01-30T20:11:00.777Z"
   },
   {
    "duration": 8,
    "start_time": "2023-01-30T20:11:00.817Z"
   },
   {
    "duration": 25,
    "start_time": "2023-01-30T20:11:00.827Z"
   },
   {
    "duration": 724,
    "start_time": "2023-01-30T20:11:00.853Z"
   },
   {
    "duration": 699,
    "start_time": "2023-01-30T20:11:01.579Z"
   },
   {
    "duration": 832,
    "start_time": "2023-01-30T20:11:02.280Z"
   },
   {
    "duration": 625,
    "start_time": "2023-01-30T20:11:03.114Z"
   },
   {
    "duration": 616,
    "start_time": "2023-01-30T20:11:03.741Z"
   },
   {
    "duration": 68,
    "start_time": "2023-01-30T20:11:04.358Z"
   },
   {
    "duration": 7,
    "start_time": "2023-01-30T20:43:33.155Z"
   },
   {
    "duration": 68,
    "start_time": "2023-01-30T20:47:20.091Z"
   },
   {
    "duration": 17229,
    "start_time": "2023-01-31T18:40:56.792Z"
   },
   {
    "duration": 6,
    "start_time": "2023-01-31T18:41:14.023Z"
   },
   {
    "duration": 60,
    "start_time": "2023-01-31T18:41:14.031Z"
   },
   {
    "duration": 36,
    "start_time": "2023-01-31T18:41:14.093Z"
   },
   {
    "duration": 20,
    "start_time": "2023-01-31T18:41:14.132Z"
   },
   {
    "duration": 24,
    "start_time": "2023-01-31T18:41:14.154Z"
   },
   {
    "duration": 34,
    "start_time": "2023-01-31T18:41:14.180Z"
   },
   {
    "duration": 26,
    "start_time": "2023-01-31T18:41:14.216Z"
   },
   {
    "duration": 23,
    "start_time": "2023-01-31T18:41:14.244Z"
   },
   {
    "duration": 21,
    "start_time": "2023-01-31T18:41:14.270Z"
   },
   {
    "duration": 42,
    "start_time": "2023-01-31T18:41:14.292Z"
   },
   {
    "duration": 17,
    "start_time": "2023-01-31T18:41:14.336Z"
   },
   {
    "duration": 9,
    "start_time": "2023-01-31T18:41:14.354Z"
   },
   {
    "duration": 21,
    "start_time": "2023-01-31T18:41:14.365Z"
   },
   {
    "duration": 10,
    "start_time": "2023-01-31T18:41:14.388Z"
   },
   {
    "duration": 1167,
    "start_time": "2023-01-31T18:41:14.400Z"
   },
   {
    "duration": 22,
    "start_time": "2023-01-31T18:41:15.569Z"
   },
   {
    "duration": 18,
    "start_time": "2023-01-31T18:41:15.593Z"
   },
   {
    "duration": 14,
    "start_time": "2023-01-31T18:41:15.613Z"
   },
   {
    "duration": 15,
    "start_time": "2023-01-31T18:41:15.629Z"
   },
   {
    "duration": 14,
    "start_time": "2023-01-31T18:41:15.646Z"
   },
   {
    "duration": 44,
    "start_time": "2023-01-31T18:41:15.662Z"
   },
   {
    "duration": 4,
    "start_time": "2023-01-31T18:41:15.707Z"
   },
   {
    "duration": 77,
    "start_time": "2023-01-31T18:41:15.712Z"
   },
   {
    "duration": 108,
    "start_time": "2023-01-31T18:41:15.800Z"
   },
   {
    "duration": 64,
    "start_time": "2023-01-31T18:41:15.910Z"
   },
   {
    "duration": 90,
    "start_time": "2023-01-31T18:41:15.976Z"
   },
   {
    "duration": 73,
    "start_time": "2023-01-31T18:41:16.069Z"
   },
   {
    "duration": 90,
    "start_time": "2023-01-31T18:41:16.144Z"
   },
   {
    "duration": 50,
    "start_time": "2023-01-31T18:41:16.236Z"
   },
   {
    "duration": 59,
    "start_time": "2023-01-31T18:41:16.287Z"
   },
   {
    "duration": 73,
    "start_time": "2023-01-31T18:41:16.348Z"
   },
   {
    "duration": 27,
    "start_time": "2023-01-31T18:41:16.423Z"
   },
   {
    "duration": 43,
    "start_time": "2023-01-31T18:41:16.452Z"
   },
   {
    "duration": 29,
    "start_time": "2023-01-31T18:41:16.499Z"
   },
   {
    "duration": 80,
    "start_time": "2023-01-31T18:41:16.530Z"
   },
   {
    "duration": 4,
    "start_time": "2023-01-31T18:41:16.612Z"
   },
   {
    "duration": 286,
    "start_time": "2023-01-31T18:41:16.618Z"
   },
   {
    "duration": 37,
    "start_time": "2023-01-31T18:41:16.906Z"
   },
   {
    "duration": 54,
    "start_time": "2023-01-31T18:41:16.945Z"
   },
   {
    "duration": 36,
    "start_time": "2023-01-31T18:41:17.001Z"
   },
   {
    "duration": 177,
    "start_time": "2023-01-31T18:41:17.038Z"
   },
   {
    "duration": 2092,
    "start_time": "2023-01-31T18:41:17.217Z"
   },
   {
    "duration": 1701,
    "start_time": "2023-01-31T18:41:19.311Z"
   },
   {
    "duration": 1639,
    "start_time": "2023-01-31T18:41:21.014Z"
   },
   {
    "duration": 380,
    "start_time": "2023-01-31T18:41:22.656Z"
   },
   {
    "duration": 1358,
    "start_time": "2023-01-31T18:41:23.038Z"
   },
   {
    "duration": 83659,
    "start_time": "2023-01-31T18:41:30.142Z"
   },
   {
    "duration": 97,
    "start_time": "2023-01-31T18:42:53.803Z"
   },
   {
    "duration": 105,
    "start_time": "2023-01-31T18:42:53.903Z"
   },
   {
    "duration": 53,
    "start_time": "2023-01-31T18:42:54.010Z"
   },
   {
    "duration": 19,
    "start_time": "2023-01-31T18:42:54.065Z"
   },
   {
    "duration": 20,
    "start_time": "2023-01-31T18:42:54.085Z"
   },
   {
    "duration": 17,
    "start_time": "2023-01-31T18:42:54.107Z"
   },
   {
    "duration": 35,
    "start_time": "2023-01-31T18:42:54.126Z"
   },
   {
    "duration": 753,
    "start_time": "2023-01-31T18:42:54.163Z"
   },
   {
    "duration": 719,
    "start_time": "2023-01-31T18:42:54.917Z"
   },
   {
    "duration": 730,
    "start_time": "2023-01-31T18:42:55.637Z"
   },
   {
    "duration": 541,
    "start_time": "2023-01-31T18:42:56.368Z"
   }
  ],
  "kernelspec": {
   "display_name": "Python 3 (ipykernel)",
   "language": "python",
   "name": "python3"
  },
  "language_info": {
   "codemirror_mode": {
    "name": "ipython",
    "version": 3
   },
   "file_extension": ".py",
   "mimetype": "text/x-python",
   "name": "python",
   "nbconvert_exporter": "python",
   "pygments_lexer": "ipython3",
   "version": "3.9.5"
  },
  "toc": {
   "base_numbering": 1,
   "nav_menu": {},
   "number_sections": true,
   "sideBar": true,
   "skip_h1_title": true,
   "title_cell": "Table of Contents",
   "title_sidebar": "Contents",
   "toc_cell": false,
   "toc_position": {
    "height": "calc(100% - 180px)",
    "left": "10px",
    "top": "150px",
    "width": "318.188px"
   },
   "toc_section_display": true,
   "toc_window_display": true
  }
 },
 "nbformat": 4,
 "nbformat_minor": 2
}
